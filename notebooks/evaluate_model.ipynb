{
 "cells": [
  {
   "cell_type": "markdown",
   "metadata": {},
   "source": [
    "# Evaluate model\n",
    "Takes a model and creates a pandas file which sumarizes the behavior of the model"
   ]
  },
  {
   "cell_type": "markdown",
   "metadata": {},
   "source": [
    "## Check if Colab"
   ]
  },
  {
   "cell_type": "code",
   "execution_count": 8,
   "metadata": {},
   "outputs": [
    {
     "name": "stdout",
     "output_type": "stream",
     "text": [
      "Is in Colab:  False\n"
     ]
    }
   ],
   "source": [
    "import os\n",
    "try:\n",
    "  import google.colab\n",
    "  IN_COLAB = True\n",
    "except:\n",
    "  IN_COLAB = False\n",
    "\n",
    "print(\"Is in Colab: \", IN_COLAB)\n",
    "if IN_COLAB:\n",
    "    os.system('git clone https://github.com/AllaVinner/JL-ML.git')\n",
    "    os.system('pip install -e JL-ML')\n",
    "    # Needed for colab to find the JL-ML directory\n",
    "    import site\n",
    "    site.main()\n",
    "\n",
    "saved_path   = os.path.join('..','saved-models') if not IN_COLAB else  os.path.join('JL-ML','saved-models')"
   ]
  },
  {
   "cell_type": "code",
   "execution_count": 25,
   "metadata": {},
   "outputs": [],
   "source": [
    "import yaml\n",
    "import os\n",
    "import keras\n",
    "\n",
    "import pandas as pd\n",
    "import numpy as np\n",
    "import tensorflow as tf\n",
    "\n",
    "from os.path import join\n",
    "from sklearn.manifold import TSNE\n",
    "\n",
    "from jlauto.models.variational_autoencoder import VariationalAutoencoder\n",
    "from jlauto.models.autoencoder import Autoencoder\n",
    "from jlauto.models.continuous_bernoulli_loss import continuous_bernoulli_loss\n"
   ]
  },
  {
   "cell_type": "code",
   "execution_count": 10,
   "metadata": {},
   "outputs": [],
   "source": [
    "model_name = 'ae_latent_dim_3'"
   ]
  },
  {
   "cell_type": "code",
   "execution_count": 12,
   "metadata": {},
   "outputs": [],
   "source": [
    "# Get config\n",
    "model_path = join(saved_path, model_name)\n",
    "# Read YAML file\n",
    "with open(join(model_path, 'config.yaml'), 'r') as stream:\n",
    "    config = yaml.safe_load(stream)"
   ]
  },
  {
   "cell_type": "code",
   "execution_count": 21,
   "metadata": {},
   "outputs": [],
   "source": [
    "# Load model\n",
    "if config['model_type'] == \"autoencoder\":\n",
    "    model = keras.models.load_model(model_path, \n",
    "                custom_objects={\"Autoencoder\": Autoencoder,\n",
    "                                 \"continuous_bernoulli_loss\": continuous_bernoulli_loss})\n",
    "elif config['model_type'] == \"variational_autoencoder\":\n",
    "    model = keras.models.load_model(model_path, \n",
    "                custom_objects={\"VariationalAutoencoder\": VariationalAutoencoder,\n",
    "                                \"continuous_bernoulli_loss\":  continuous_bernoulli_loss})\n",
    "  "
   ]
  },
  {
   "cell_type": "markdown",
   "metadata": {},
   "source": [
    "# Get test data"
   ]
  },
  {
   "cell_type": "code",
   "execution_count": 23,
   "metadata": {},
   "outputs": [],
   "source": [
    "(_, _), (test_digits, test_labels) = keras.datasets.mnist.load_data()\n",
    "test_digits = np.expand_dims(test_digits, -1).astype(\"float32\") / 255\n",
    "input_shape = test_digits.shape[1:]\n",
    "num_test = test_labels.shape[0]"
   ]
  },
  {
   "cell_type": "code",
   "execution_count": 26,
   "metadata": {},
   "outputs": [
    {
     "name": "stderr",
     "output_type": "stream",
     "text": [
      "C:\\Users\\joelw\\miniconda3\\envs\\jenv\\lib\\site-packages\\sklearn\\manifold\\_t_sne.py:780: FutureWarning: The default initialization in TSNE will change from 'random' to 'pca' in 1.2.\n",
      "  warnings.warn(\n",
      "C:\\Users\\joelw\\miniconda3\\envs\\jenv\\lib\\site-packages\\sklearn\\manifold\\_t_sne.py:790: FutureWarning: The default learning rate in TSNE will change from 200.0 to 'auto' in 1.2.\n",
      "  warnings.warn(\n",
      "C:\\Users\\joelw\\AppData\\Local\\Temp/ipykernel_8008/241153653.py:30: RuntimeWarning: Mean of empty slice\n",
      "  dim_radius = np.nanmean(code_std, axis = 0)\n"
     ]
    }
   ],
   "source": [
    "# Encode digits\n",
    "if config['model_type'] == \"autoencoder\":\n",
    "        code = model.encoder(test_digits).numpy()\n",
    "        code_std = np.empty(shape = code.shape)*np.nan\n",
    "        \n",
    "elif ['model_type'] == \"variational_autoencoder\":\n",
    "        digit_distribution = model.encoder(test_digits).numpy()\n",
    "        code = digit_distribution[:,0,:]\n",
    "        code_std = np.sqrt(np.exp(digit_distribution[:,1,:]))\n",
    "    \n",
    "# Caclualte latent data\n",
    "latent_distance = np.linalg.norm(code, axis = 1) # code distance from origo\n",
    "latent_radius = np.power(np.prod(code_std, axis = 1),1/config['latent_dim']) # code's average radius \n",
    "latent_loss = tf.reduce_mean(tf.reduce_mean(tf.keras.losses.binary_crossentropy(test_digits, model(test_digits)),axis = -1),axis = -1).numpy()\n",
    "latent_tsne = TSNE(n_components = 2).fit_transform(code)\n",
    "\n",
    "latent_df = pd.DataFrame(data = {\n",
    "    'model_name' : config['name'],\n",
    "    'label' : test_labels,\n",
    "    'loss' : latent_loss,\n",
    "    'distance' : latent_distance,\n",
    "    'radius' : latent_radius,\n",
    "    'tsne_0' : latent_tsne[:,0],\n",
    "    'tsne_1' : latent_tsne[:,1],\n",
    "}) \n",
    "\n",
    "\n",
    "# Calculate dimension_df data\n",
    "dim_std = np.nanstd(code, axis = 0)\n",
    "dim_radius = np.nanmean(code_std, axis = 0)\n",
    "dim_index = np.arange(config['latent_dim'])\n",
    "\n",
    "dimension_df = pd.DataFrame(data = {\n",
    "    'model_name' : config['name'],\n",
    "    'dim_index' : dim_index,\n",
    "    'code_spread' : dim_std,\n",
    "    'mean_radius' : dim_radius,\n",
    "})\n",
    "\n"
   ]
  },
  {
   "cell_type": "code",
   "execution_count": 33,
   "metadata": {},
   "outputs": [
    {
     "data": {
      "text/html": [
       "<div>\n",
       "<style scoped>\n",
       "    .dataframe tbody tr th:only-of-type {\n",
       "        vertical-align: middle;\n",
       "    }\n",
       "\n",
       "    .dataframe tbody tr th {\n",
       "        vertical-align: top;\n",
       "    }\n",
       "\n",
       "    .dataframe thead th {\n",
       "        text-align: right;\n",
       "    }\n",
       "</style>\n",
       "<table border=\"1\" class=\"dataframe\">\n",
       "  <thead>\n",
       "    <tr style=\"text-align: right;\">\n",
       "      <th></th>\n",
       "      <th>model_name</th>\n",
       "      <th>label</th>\n",
       "      <th>loss</th>\n",
       "      <th>distance</th>\n",
       "      <th>radius</th>\n",
       "      <th>tsne_0</th>\n",
       "      <th>tsne_1</th>\n",
       "    </tr>\n",
       "  </thead>\n",
       "  <tbody>\n",
       "    <tr>\n",
       "      <th>0</th>\n",
       "      <td>ae_latent_dim_3</td>\n",
       "      <td>7</td>\n",
       "      <td>0.229921</td>\n",
       "      <td>11.130809</td>\n",
       "      <td>NaN</td>\n",
       "      <td>-34.155605</td>\n",
       "      <td>54.997852</td>\n",
       "    </tr>\n",
       "    <tr>\n",
       "      <th>1</th>\n",
       "      <td>ae_latent_dim_3</td>\n",
       "      <td>2</td>\n",
       "      <td>0.348439</td>\n",
       "      <td>10.334489</td>\n",
       "      <td>NaN</td>\n",
       "      <td>-68.249336</td>\n",
       "      <td>14.420111</td>\n",
       "    </tr>\n",
       "    <tr>\n",
       "      <th>2</th>\n",
       "      <td>ae_latent_dim_3</td>\n",
       "      <td>1</td>\n",
       "      <td>0.153093</td>\n",
       "      <td>14.271111</td>\n",
       "      <td>NaN</td>\n",
       "      <td>80.883606</td>\n",
       "      <td>13.235858</td>\n",
       "    </tr>\n",
       "    <tr>\n",
       "      <th>3</th>\n",
       "      <td>ae_latent_dim_3</td>\n",
       "      <td>0</td>\n",
       "      <td>0.286345</td>\n",
       "      <td>8.028056</td>\n",
       "      <td>NaN</td>\n",
       "      <td>4.561124</td>\n",
       "      <td>-61.365135</td>\n",
       "    </tr>\n",
       "    <tr>\n",
       "      <th>4</th>\n",
       "      <td>ae_latent_dim_3</td>\n",
       "      <td>4</td>\n",
       "      <td>0.232498</td>\n",
       "      <td>8.965589</td>\n",
       "      <td>NaN</td>\n",
       "      <td>-37.893227</td>\n",
       "      <td>-54.385307</td>\n",
       "    </tr>\n",
       "  </tbody>\n",
       "</table>\n",
       "</div>"
      ],
      "text/plain": [
       "        model_name  label      loss   distance  radius     tsne_0     tsne_1\n",
       "0  ae_latent_dim_3      7  0.229921  11.130809     NaN -34.155605  54.997852\n",
       "1  ae_latent_dim_3      2  0.348439  10.334489     NaN -68.249336  14.420111\n",
       "2  ae_latent_dim_3      1  0.153093  14.271111     NaN  80.883606  13.235858\n",
       "3  ae_latent_dim_3      0  0.286345   8.028056     NaN   4.561124 -61.365135\n",
       "4  ae_latent_dim_3      4  0.232498   8.965589     NaN -37.893227 -54.385307"
      ]
     },
     "execution_count": 33,
     "metadata": {},
     "output_type": "execute_result"
    }
   ],
   "source": [
    "latent_df.head()"
   ]
  },
  {
   "cell_type": "code",
   "execution_count": 29,
   "metadata": {},
   "outputs": [
    {
     "data": {
      "text/html": [
       "<div>\n",
       "<style scoped>\n",
       "    .dataframe tbody tr th:only-of-type {\n",
       "        vertical-align: middle;\n",
       "    }\n",
       "\n",
       "    .dataframe tbody tr th {\n",
       "        vertical-align: top;\n",
       "    }\n",
       "\n",
       "    .dataframe thead th {\n",
       "        text-align: right;\n",
       "    }\n",
       "</style>\n",
       "<table border=\"1\" class=\"dataframe\">\n",
       "  <thead>\n",
       "    <tr style=\"text-align: right;\">\n",
       "      <th></th>\n",
       "      <th>model_name</th>\n",
       "      <th>dim_index</th>\n",
       "      <th>coda_std</th>\n",
       "      <th>mean_radius</th>\n",
       "    </tr>\n",
       "  </thead>\n",
       "  <tbody>\n",
       "    <tr>\n",
       "      <th>0</th>\n",
       "      <td>ae_latent_dim_3</td>\n",
       "      <td>0</td>\n",
       "      <td>1.547557</td>\n",
       "      <td>NaN</td>\n",
       "    </tr>\n",
       "    <tr>\n",
       "      <th>1</th>\n",
       "      <td>ae_latent_dim_3</td>\n",
       "      <td>1</td>\n",
       "      <td>1.342508</td>\n",
       "      <td>NaN</td>\n",
       "    </tr>\n",
       "    <tr>\n",
       "      <th>2</th>\n",
       "      <td>ae_latent_dim_3</td>\n",
       "      <td>2</td>\n",
       "      <td>1.874117</td>\n",
       "      <td>NaN</td>\n",
       "    </tr>\n",
       "  </tbody>\n",
       "</table>\n",
       "</div>"
      ],
      "text/plain": [
       "        model_name  dim_index  coda_std  mean_radius\n",
       "0  ae_latent_dim_3          0  1.547557          NaN\n",
       "1  ae_latent_dim_3          1  1.342508          NaN\n",
       "2  ae_latent_dim_3          2  1.874117          NaN"
      ]
     },
     "execution_count": 29,
     "metadata": {},
     "output_type": "execute_result"
    }
   ],
   "source": [
    "dimension_df.head()"
   ]
  },
  {
   "cell_type": "markdown",
   "metadata": {},
   "source": [
    "## Save data frames"
   ]
  },
  {
   "cell_type": "code",
   "execution_count": 31,
   "metadata": {},
   "outputs": [],
   "source": [
    "latent_df.to_csv(join(saved_path,model_name,'latent_df.csv'), index=False)\n",
    "dimension_df.to_csv(join(saved_path,model_name,'dimension_df.csv'), index=False)"
   ]
  }
 ],
 "metadata": {
  "interpreter": {
   "hash": "196293e968144f5642c1d9ffee4d471cc2edffa0ebaedde3b86b762e71f62b8a"
  },
  "kernelspec": {
   "display_name": "Python 3.9.7 64-bit ('jenv': conda)",
   "name": "python3"
  },
  "language_info": {
   "codemirror_mode": {
    "name": "ipython",
    "version": 3
   },
   "file_extension": ".py",
   "mimetype": "text/x-python",
   "name": "python",
   "nbconvert_exporter": "python",
   "pygments_lexer": "ipython3",
   "version": "3.9.7"
  },
  "orig_nbformat": 4
 },
 "nbformat": 4,
 "nbformat_minor": 2
}
