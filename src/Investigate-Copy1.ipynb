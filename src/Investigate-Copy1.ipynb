{
 "cells": [
  {
   "cell_type": "markdown",
   "id": "206861bf",
   "metadata": {},
   "source": [
    "# Variational autoencoder\n",
    "This notebook will investiga"
   ]
  },
  {
   "cell_type": "code",
   "execution_count": 1,
   "id": "af6332ef",
   "metadata": {},
   "outputs": [
    {
     "name": "stdout",
     "output_type": "stream",
     "text": [
      "Using matplotlib backend: Qt5Agg\n"
     ]
    }
   ],
   "source": [
    "%matplotlib\n",
    "import numpy as np\n",
    "import numpy.random as rnd\n",
    "import matplotlib.pyplot as plt\n",
    "import tensorflow as tf\n",
    "from tensorflow import keras\n",
    "\n",
    "import pandas as pd\n",
    "import seaborn as sns\n",
    "from collections import defaultdict\n",
    "\n",
    "from models.variational_autoencoder import VariationalAutoencoder\n",
    "from models.autoencoder import Autoencoder\n",
    "from models.continuous_bernoulli_loss import continuous_bernoulli_loss\n",
    "\n",
    "# For dimension reduction\n",
    "from sklearn.manifold import TSNE\n",
    "from sklearn.decomposition import PCA\n",
    "\n",
    "# for visualization and evaluation\n",
    "from visual.latent_plane_mosaic import LatentPlaneMosaic\n",
    "from visual.latent_interpolation_mosaic import LatentInterpolationMosaic\n",
    "from visual.sample_scatter_gui import SampleScatterGUI"
   ]
  },
  {
   "cell_type": "code",
   "execution_count": 2,
   "id": "90600b03",
   "metadata": {},
   "outputs": [],
   "source": [
    "model_df = pd.DataFrame(data = {\n",
    "    'path' : [\"models\\\\saved\\\\ae\", \"models\\\\saved\\\\vae_10\", \"models\\\\saved\\\\vae_100\" , \"models\\\\saved\\\\vae_1000\"],\n",
    "    'ae_type' : ['ae', 'vae', 'vae', 'vae'],\n",
    "    },\n",
    "    index = ['ae', 'vae_10', 'vae_100', 'vae_1000'],\n",
    ")\n"
   ]
  },
  {
   "cell_type": "code",
   "execution_count": 3,
   "id": "9767b8cf",
   "metadata": {},
   "outputs": [],
   "source": [
    "models = []\n",
    "for name, model in model_df.iterrows():\n",
    "    if model['ae_type'] == \"ae\":\n",
    "        models.append(keras.models.load_model(model['path'], \n",
    "                         custom_objects={\"Autoencoder\": Autoencoder,\n",
    "                                         \"continuous_bernoulli_loss\": continuous_bernoulli_loss}))\n",
    "    elif model['ae_type'] == \"vae\":\n",
    "        models.append(keras.models.load_model(model['path'], \n",
    "                                 custom_objects={\"VariationalAutoencoder\": VariationalAutoencoder,\n",
    "                                                 \"continuous_bernoulli_loss\":  continuous_bernoulli_loss}))\n",
    "model_df['model'] = models    "
   ]
  },
  {
   "cell_type": "code",
   "execution_count": 4,
   "id": "4e13e31e",
   "metadata": {},
   "outputs": [],
   "source": [
    "num_models = model_df.shape[0]\n",
    "latent_dim = 10"
   ]
  },
  {
   "cell_type": "code",
   "execution_count": 5,
   "id": "b5b37ed2",
   "metadata": {},
   "outputs": [
    {
     "data": {
      "text/html": [
       "<div>\n",
       "<style scoped>\n",
       "    .dataframe tbody tr th:only-of-type {\n",
       "        vertical-align: middle;\n",
       "    }\n",
       "\n",
       "    .dataframe tbody tr th {\n",
       "        vertical-align: top;\n",
       "    }\n",
       "\n",
       "    .dataframe thead th {\n",
       "        text-align: right;\n",
       "    }\n",
       "</style>\n",
       "<table border=\"1\" class=\"dataframe\">\n",
       "  <thead>\n",
       "    <tr style=\"text-align: right;\">\n",
       "      <th></th>\n",
       "      <th>path</th>\n",
       "      <th>ae_type</th>\n",
       "      <th>model</th>\n",
       "    </tr>\n",
       "  </thead>\n",
       "  <tbody>\n",
       "    <tr>\n",
       "      <th>ae</th>\n",
       "      <td>models\\saved\\ae</td>\n",
       "      <td>ae</td>\n",
       "      <td>&lt;models.autoencoder.Autoencoder object at 0x00...</td>\n",
       "    </tr>\n",
       "    <tr>\n",
       "      <th>vae_10</th>\n",
       "      <td>models\\saved\\vae_10</td>\n",
       "      <td>vae</td>\n",
       "      <td>&lt;models.variational_autoencoder.VariationalAut...</td>\n",
       "    </tr>\n",
       "    <tr>\n",
       "      <th>vae_100</th>\n",
       "      <td>models\\saved\\vae_100</td>\n",
       "      <td>vae</td>\n",
       "      <td>&lt;models.variational_autoencoder.VariationalAut...</td>\n",
       "    </tr>\n",
       "    <tr>\n",
       "      <th>vae_1000</th>\n",
       "      <td>models\\saved\\vae_1000</td>\n",
       "      <td>vae</td>\n",
       "      <td>&lt;models.variational_autoencoder.VariationalAut...</td>\n",
       "    </tr>\n",
       "  </tbody>\n",
       "</table>\n",
       "</div>"
      ],
      "text/plain": [
       "                           path ae_type  \\\n",
       "ae              models\\saved\\ae      ae   \n",
       "vae_10      models\\saved\\vae_10     vae   \n",
       "vae_100    models\\saved\\vae_100     vae   \n",
       "vae_1000  models\\saved\\vae_1000     vae   \n",
       "\n",
       "                                                      model  \n",
       "ae        <models.autoencoder.Autoencoder object at 0x00...  \n",
       "vae_10    <models.variational_autoencoder.VariationalAut...  \n",
       "vae_100   <models.variational_autoencoder.VariationalAut...  \n",
       "vae_1000  <models.variational_autoencoder.VariationalAut...  "
      ]
     },
     "execution_count": 5,
     "metadata": {},
     "output_type": "execute_result"
    }
   ],
   "source": [
    "model_df.head()"
   ]
  },
  {
   "cell_type": "markdown",
   "id": "b164e02c",
   "metadata": {},
   "source": [
    "## Preprocess data\n"
   ]
  },
  {
   "cell_type": "code",
   "execution_count": 6,
   "id": "1e0a4b30",
   "metadata": {},
   "outputs": [],
   "source": [
    "(_, _), (test_digits, test_labels) = keras.datasets.mnist.load_data()\n",
    "test_digits = np.expand_dims(test_digits, -1).astype(\"float32\") / 255\n",
    "input_shape = test_digits.shape[1:]\n",
    "num_test = test_labels.shape[0]"
   ]
  },
  {
   "cell_type": "code",
   "execution_count": null,
   "id": "519bf5d1",
   "metadata": {},
   "outputs": [],
   "source": []
  },
  {
   "cell_type": "markdown",
   "id": "9e5ce89b",
   "metadata": {},
   "source": [
    "## Load Variational autoencoder"
   ]
  },
  {
   "cell_type": "markdown",
   "id": "60f9fbbe",
   "metadata": {},
   "source": [
    "### Print setup details"
   ]
  },
  {
   "cell_type": "markdown",
   "id": "add049f4",
   "metadata": {},
   "source": []
  },
  {
   "cell_type": "markdown",
   "id": "2b8006d4",
   "metadata": {},
   "source": [
    "## Reconstruct and dimension reductions"
   ]
  },
  {
   "cell_type": "code",
   "execution_count": 9,
   "id": "bd8ae98d",
   "metadata": {},
   "outputs": [],
   "source": [
    "# Fill\n",
    "latent_df_list = []\n",
    "dimension_df_list = []\n",
    "\n",
    "\n",
    "for name, model in model_df.iterrows():\n",
    "    if model['ae_type'] == \"ae\":\n",
    "        code = model['model'].encoder(test_digits).numpy()\n",
    "        code_std = np.empty(shape = code.shape)*np.nan\n",
    "        \n",
    "    elif model['ae_type'] == \"vae\":\n",
    "        digit_distribution = model['model'].encoder(test_digits).numpy()\n",
    "        code = digit_distribution[:,0,:]\n",
    "        code_std = np.sqrt(np.exp(digit_distribution[:,1,:]))\n",
    "    \n",
    "    code_distance = np.linalg.norm(code, axis = 1)\n",
    "    code_radius = np.power(np.prod(code_std, axis = 1),1/latent_dim)\n",
    "    code_loss = tf.reduce_mean(tf.reduce_mean(tf.keras.losses.binary_crossentropy(test_digits, model['model'](test_digits)),axis = -1),axis = -1).numpy()\n",
    "    code_tsne = TSNE(n_components = 2).fit_transform(code)\n",
    "    \n",
    "    _latent_df = pd.DataFrame(data = {\n",
    "        'model_name' : name,\n",
    "        'label' : test_labels,\n",
    "        'loss' : code_loss,\n",
    "        'distance' : code_distance,\n",
    "        'radius' : code_radius,\n",
    "    })\n",
    "    #    'tsne_0' : code_tsne[:,0],\n",
    "    #    'tsne_1' : code_tsne[:,1],\n",
    "    #})\n",
    "    latent_df_list.append(_latent_df)   \n",
    "    \n",
    "    dimension_labels = test_labels.repeat(repeats = latent_dim)\n",
    "    dimension_digit_index = np.arange(num_test).repeat(repeats = latent_dim)\n",
    "    dimension_dim_index = np.tile(np.arange(latent_dim), num_test)\n",
    "    dimension_value = code.reshape(-1)\n",
    "    dimension_std = code_std.reshape(-1)\n",
    "    \n",
    "    _dimension_df = pd.DataFrame(data = {\n",
    "        'model_name' : name,\n",
    "        'label' : dimension_labels,\n",
    "        'digit_index' : dimension_digit_index,\n",
    "        'dim_index' : dimension_dim_index,\n",
    "        'value' : dimension_value,\n",
    "        'std' : dimension_std\n",
    "    })\n",
    "    \n",
    "    dimension_df_list.append(_dimension_df)\n",
    "\n",
    "        \n",
    "latent_df = pd.concat(latent_df_list)\n",
    "dimension_df = pd.concat(dimension_df_list)\n",
    "dimension_mean_df = dimension_df.groupby(by = ['model_name', 'dim_index'],as_index = False).mean()\n",
    "dimension_std_df  = dimension_df.groupby(by = ['model_name', 'dim_index'],as_index = False).std()\n"
   ]
  },
  {
   "cell_type": "markdown",
   "id": "8c8142ca",
   "metadata": {},
   "source": [
    "## Investigation"
   ]
  },
  {
   "cell_type": "markdown",
   "id": "9ba4df8a",
   "metadata": {},
   "source": [
    "### Show reconstructions"
   ]
  },
  {
   "cell_type": "code",
   "execution_count": 10,
   "id": "3b84be09",
   "metadata": {},
   "outputs": [
    {
     "data": {
      "text/html": [
       "<div>\n",
       "<style scoped>\n",
       "    .dataframe tbody tr th:only-of-type {\n",
       "        vertical-align: middle;\n",
       "    }\n",
       "\n",
       "    .dataframe tbody tr th {\n",
       "        vertical-align: top;\n",
       "    }\n",
       "\n",
       "    .dataframe thead th {\n",
       "        text-align: right;\n",
       "    }\n",
       "</style>\n",
       "<table border=\"1\" class=\"dataframe\">\n",
       "  <thead>\n",
       "    <tr style=\"text-align: right;\">\n",
       "      <th></th>\n",
       "      <th>model_name</th>\n",
       "      <th>label</th>\n",
       "      <th>loss</th>\n",
       "      <th>distance</th>\n",
       "      <th>radius</th>\n",
       "    </tr>\n",
       "  </thead>\n",
       "  <tbody>\n",
       "    <tr>\n",
       "      <th>0</th>\n",
       "      <td>ae</td>\n",
       "      <td>7</td>\n",
       "      <td>0.070490</td>\n",
       "      <td>15.820858</td>\n",
       "      <td>NaN</td>\n",
       "    </tr>\n",
       "    <tr>\n",
       "      <th>1</th>\n",
       "      <td>ae</td>\n",
       "      <td>2</td>\n",
       "      <td>0.117689</td>\n",
       "      <td>9.960896</td>\n",
       "      <td>NaN</td>\n",
       "    </tr>\n",
       "    <tr>\n",
       "      <th>2</th>\n",
       "      <td>ae</td>\n",
       "      <td>1</td>\n",
       "      <td>0.038200</td>\n",
       "      <td>24.145765</td>\n",
       "      <td>NaN</td>\n",
       "    </tr>\n",
       "    <tr>\n",
       "      <th>3</th>\n",
       "      <td>ae</td>\n",
       "      <td>0</td>\n",
       "      <td>0.096915</td>\n",
       "      <td>8.166095</td>\n",
       "      <td>NaN</td>\n",
       "    </tr>\n",
       "    <tr>\n",
       "      <th>4</th>\n",
       "      <td>ae</td>\n",
       "      <td>4</td>\n",
       "      <td>0.084998</td>\n",
       "      <td>14.815680</td>\n",
       "      <td>NaN</td>\n",
       "    </tr>\n",
       "  </tbody>\n",
       "</table>\n",
       "</div>"
      ],
      "text/plain": [
       "  model_name  label      loss   distance  radius\n",
       "0         ae      7  0.070490  15.820858     NaN\n",
       "1         ae      2  0.117689   9.960896     NaN\n",
       "2         ae      1  0.038200  24.145765     NaN\n",
       "3         ae      0  0.096915   8.166095     NaN\n",
       "4         ae      4  0.084998  14.815680     NaN"
      ]
     },
     "execution_count": 10,
     "metadata": {},
     "output_type": "execute_result"
    }
   ],
   "source": [
    "latent_df.head()"
   ]
  },
  {
   "cell_type": "code",
   "execution_count": 11,
   "id": "ea23e98e",
   "metadata": {},
   "outputs": [
    {
     "data": {
      "text/html": [
       "<div>\n",
       "<style scoped>\n",
       "    .dataframe tbody tr th:only-of-type {\n",
       "        vertical-align: middle;\n",
       "    }\n",
       "\n",
       "    .dataframe tbody tr th {\n",
       "        vertical-align: top;\n",
       "    }\n",
       "\n",
       "    .dataframe thead th {\n",
       "        text-align: right;\n",
       "    }\n",
       "</style>\n",
       "<table border=\"1\" class=\"dataframe\">\n",
       "  <thead>\n",
       "    <tr style=\"text-align: right;\">\n",
       "      <th></th>\n",
       "      <th>model_name</th>\n",
       "      <th>label</th>\n",
       "      <th>digit_index</th>\n",
       "      <th>dim_index</th>\n",
       "      <th>value</th>\n",
       "      <th>std</th>\n",
       "    </tr>\n",
       "  </thead>\n",
       "  <tbody>\n",
       "    <tr>\n",
       "      <th>0</th>\n",
       "      <td>ae</td>\n",
       "      <td>7</td>\n",
       "      <td>0</td>\n",
       "      <td>0</td>\n",
       "      <td>8.920861</td>\n",
       "      <td>NaN</td>\n",
       "    </tr>\n",
       "    <tr>\n",
       "      <th>1</th>\n",
       "      <td>ae</td>\n",
       "      <td>7</td>\n",
       "      <td>0</td>\n",
       "      <td>1</td>\n",
       "      <td>2.935239</td>\n",
       "      <td>NaN</td>\n",
       "    </tr>\n",
       "    <tr>\n",
       "      <th>2</th>\n",
       "      <td>ae</td>\n",
       "      <td>7</td>\n",
       "      <td>0</td>\n",
       "      <td>2</td>\n",
       "      <td>0.101040</td>\n",
       "      <td>NaN</td>\n",
       "    </tr>\n",
       "    <tr>\n",
       "      <th>3</th>\n",
       "      <td>ae</td>\n",
       "      <td>7</td>\n",
       "      <td>0</td>\n",
       "      <td>3</td>\n",
       "      <td>3.835251</td>\n",
       "      <td>NaN</td>\n",
       "    </tr>\n",
       "    <tr>\n",
       "      <th>4</th>\n",
       "      <td>ae</td>\n",
       "      <td>7</td>\n",
       "      <td>0</td>\n",
       "      <td>4</td>\n",
       "      <td>5.167331</td>\n",
       "      <td>NaN</td>\n",
       "    </tr>\n",
       "  </tbody>\n",
       "</table>\n",
       "</div>"
      ],
      "text/plain": [
       "  model_name  label  digit_index  dim_index     value  std\n",
       "0         ae      7            0          0  8.920861  NaN\n",
       "1         ae      7            0          1  2.935239  NaN\n",
       "2         ae      7            0          2  0.101040  NaN\n",
       "3         ae      7            0          3  3.835251  NaN\n",
       "4         ae      7            0          4  5.167331  NaN"
      ]
     },
     "execution_count": 11,
     "metadata": {},
     "output_type": "execute_result"
    }
   ],
   "source": [
    "dimension_df.head()"
   ]
  },
  {
   "cell_type": "code",
   "execution_count": 12,
   "id": "61a4e8c6",
   "metadata": {},
   "outputs": [
    {
     "data": {
      "text/html": [
       "<div>\n",
       "<style scoped>\n",
       "    .dataframe tbody tr th:only-of-type {\n",
       "        vertical-align: middle;\n",
       "    }\n",
       "\n",
       "    .dataframe tbody tr th {\n",
       "        vertical-align: top;\n",
       "    }\n",
       "\n",
       "    .dataframe thead th {\n",
       "        text-align: right;\n",
       "    }\n",
       "</style>\n",
       "<table border=\"1\" class=\"dataframe\">\n",
       "  <thead>\n",
       "    <tr style=\"text-align: right;\">\n",
       "      <th></th>\n",
       "      <th>model_name</th>\n",
       "      <th>dim_index</th>\n",
       "      <th>label</th>\n",
       "      <th>digit_index</th>\n",
       "      <th>value</th>\n",
       "      <th>std</th>\n",
       "    </tr>\n",
       "  </thead>\n",
       "  <tbody>\n",
       "    <tr>\n",
       "      <th>0</th>\n",
       "      <td>ae</td>\n",
       "      <td>0</td>\n",
       "      <td>4.4434</td>\n",
       "      <td>4999.5</td>\n",
       "      <td>-1.309089</td>\n",
       "      <td>NaN</td>\n",
       "    </tr>\n",
       "    <tr>\n",
       "      <th>1</th>\n",
       "      <td>ae</td>\n",
       "      <td>1</td>\n",
       "      <td>4.4434</td>\n",
       "      <td>4999.5</td>\n",
       "      <td>0.659992</td>\n",
       "      <td>NaN</td>\n",
       "    </tr>\n",
       "    <tr>\n",
       "      <th>2</th>\n",
       "      <td>ae</td>\n",
       "      <td>2</td>\n",
       "      <td>4.4434</td>\n",
       "      <td>4999.5</td>\n",
       "      <td>1.053212</td>\n",
       "      <td>NaN</td>\n",
       "    </tr>\n",
       "    <tr>\n",
       "      <th>3</th>\n",
       "      <td>ae</td>\n",
       "      <td>3</td>\n",
       "      <td>4.4434</td>\n",
       "      <td>4999.5</td>\n",
       "      <td>3.870928</td>\n",
       "      <td>NaN</td>\n",
       "    </tr>\n",
       "    <tr>\n",
       "      <th>4</th>\n",
       "      <td>ae</td>\n",
       "      <td>4</td>\n",
       "      <td>4.4434</td>\n",
       "      <td>4999.5</td>\n",
       "      <td>2.164852</td>\n",
       "      <td>NaN</td>\n",
       "    </tr>\n",
       "  </tbody>\n",
       "</table>\n",
       "</div>"
      ],
      "text/plain": [
       "  model_name  dim_index   label  digit_index     value  std\n",
       "0         ae          0  4.4434       4999.5 -1.309089  NaN\n",
       "1         ae          1  4.4434       4999.5  0.659992  NaN\n",
       "2         ae          2  4.4434       4999.5  1.053212  NaN\n",
       "3         ae          3  4.4434       4999.5  3.870928  NaN\n",
       "4         ae          4  4.4434       4999.5  2.164852  NaN"
      ]
     },
     "execution_count": 12,
     "metadata": {},
     "output_type": "execute_result"
    }
   ],
   "source": [
    "dimension_mean_df.head()"
   ]
  },
  {
   "cell_type": "code",
   "execution_count": 13,
   "id": "06d085e0",
   "metadata": {},
   "outputs": [
    {
     "data": {
      "text/html": [
       "<div>\n",
       "<style scoped>\n",
       "    .dataframe tbody tr th:only-of-type {\n",
       "        vertical-align: middle;\n",
       "    }\n",
       "\n",
       "    .dataframe tbody tr th {\n",
       "        vertical-align: top;\n",
       "    }\n",
       "\n",
       "    .dataframe thead th {\n",
       "        text-align: right;\n",
       "    }\n",
       "</style>\n",
       "<table border=\"1\" class=\"dataframe\">\n",
       "  <thead>\n",
       "    <tr style=\"text-align: right;\">\n",
       "      <th></th>\n",
       "      <th>model_name</th>\n",
       "      <th>dim_index</th>\n",
       "      <th>label</th>\n",
       "      <th>digit_index</th>\n",
       "      <th>value</th>\n",
       "      <th>std</th>\n",
       "    </tr>\n",
       "  </thead>\n",
       "  <tbody>\n",
       "    <tr>\n",
       "      <th>0</th>\n",
       "      <td>ae</td>\n",
       "      <td>0</td>\n",
       "      <td>2.895865</td>\n",
       "      <td>2886.89568</td>\n",
       "      <td>3.059542</td>\n",
       "      <td>NaN</td>\n",
       "    </tr>\n",
       "    <tr>\n",
       "      <th>1</th>\n",
       "      <td>ae</td>\n",
       "      <td>1</td>\n",
       "      <td>2.895865</td>\n",
       "      <td>2886.89568</td>\n",
       "      <td>3.437961</td>\n",
       "      <td>NaN</td>\n",
       "    </tr>\n",
       "    <tr>\n",
       "      <th>2</th>\n",
       "      <td>ae</td>\n",
       "      <td>2</td>\n",
       "      <td>2.895865</td>\n",
       "      <td>2886.89568</td>\n",
       "      <td>2.503023</td>\n",
       "      <td>NaN</td>\n",
       "    </tr>\n",
       "    <tr>\n",
       "      <th>3</th>\n",
       "      <td>ae</td>\n",
       "      <td>3</td>\n",
       "      <td>2.895865</td>\n",
       "      <td>2886.89568</td>\n",
       "      <td>2.846906</td>\n",
       "      <td>NaN</td>\n",
       "    </tr>\n",
       "    <tr>\n",
       "      <th>4</th>\n",
       "      <td>ae</td>\n",
       "      <td>4</td>\n",
       "      <td>2.895865</td>\n",
       "      <td>2886.89568</td>\n",
       "      <td>2.707609</td>\n",
       "      <td>NaN</td>\n",
       "    </tr>\n",
       "  </tbody>\n",
       "</table>\n",
       "</div>"
      ],
      "text/plain": [
       "  model_name  dim_index     label  digit_index     value  std\n",
       "0         ae          0  2.895865   2886.89568  3.059542  NaN\n",
       "1         ae          1  2.895865   2886.89568  3.437961  NaN\n",
       "2         ae          2  2.895865   2886.89568  2.503023  NaN\n",
       "3         ae          3  2.895865   2886.89568  2.846906  NaN\n",
       "4         ae          4  2.895865   2886.89568  2.707609  NaN"
      ]
     },
     "execution_count": 13,
     "metadata": {},
     "output_type": "execute_result"
    }
   ],
   "source": [
    "dimension_std_df.head()"
   ]
  },
  {
   "cell_type": "code",
   "execution_count": 103,
   "id": "e796e6a4",
   "metadata": {},
   "outputs": [],
   "source": [
    "num_col = 4\n",
    "num_row = 3\n",
    "num_img = num_row*num_col\n",
    "rec_index = rnd.randint(num_test,size =(num_row*num_col,) )\n",
    "digits = test_digits\n",
    "digits = digits[rec_index]"
   ]
  },
  {
   "cell_type": "code",
   "execution_count": 104,
   "id": "7e6dd264",
   "metadata": {},
   "outputs": [
    {
     "data": {
      "text/plain": [
       "<AxesSubplot:>"
      ]
     },
     "execution_count": 104,
     "metadata": {},
     "output_type": "execute_result"
    }
   ],
   "source": [
    "\n",
    "model = model_df.loc['ae','model']\n",
    "\n",
    "reconstructions = model(digits)\n",
    "i = 0\n",
    "for col in range(num_col):\n",
    "    for row in range(num_row): \n",
    "        pair = np.concatenate((digits[i], reconstructions[i]), axis = 1)\n",
    "        if row == 0: \n",
    "            ver_img = pair\n",
    "        else:\n",
    "            ver_img = np.concatenate((ver_img,\n",
    "                                 pair), axis = 0)\n",
    "        i = i + 1\n",
    "    if col == 0:\n",
    "        img = ver_img\n",
    "    else: \n",
    "        img = np.concatenate((img,\n",
    "                              ver_img), axis = 1)\n",
    "\n",
    "sns.heatmap(img[:,:,0], vmin=0, vmax = 1)"
   ]
  },
  {
   "cell_type": "code",
   "execution_count": 105,
   "id": "b2ef13fe",
   "metadata": {},
   "outputs": [
    {
     "data": {
      "text/plain": [
       "<AxesSubplot:>"
      ]
     },
     "execution_count": 105,
     "metadata": {},
     "output_type": "execute_result"
    }
   ],
   "source": [
    "\n",
    "num_dig = 14\n",
    "rec_index = rnd.randint(num_test,size =(num_dig,) )\n",
    "digits = test_digits\n",
    "digits = digits[rec_index]\n",
    "\n",
    "reconstructions = []\n",
    "for name, model in model_df.iterrows():\n",
    "    reconstructions.append(model['model'](digits))\n",
    "\n",
    "for dig_i in range(num_dig):\n",
    "    rec_im = digits[dig_i]\n",
    "    model_i = 0\n",
    "    for name, model in model_df.iterrows():\n",
    "        \n",
    "        rec_im = np.concatenate((rec_im,\n",
    "                         reconstructions[model_i][dig_i]),\n",
    "                         axis = 0)\n",
    "        model_i = model_i + 1\n",
    "    if dig_i == 0:\n",
    "        im = rec_im\n",
    "    else:\n",
    "        im = np.concatenate((im, rec_im), axis = 1)\n",
    "    \n",
    "sns.heatmap(im[:,:,0], vmin=0, vmax = 1)"
   ]
  },
  {
   "cell_type": "code",
   "execution_count": null,
   "id": "5847f013",
   "metadata": {},
   "outputs": [],
   "source": []
  },
  {
   "cell_type": "markdown",
   "id": "48f36a17",
   "metadata": {},
   "source": [
    "### Latent"
   ]
  },
  {
   "cell_type": "code",
   "execution_count": 106,
   "id": "754dcaaa",
   "metadata": {},
   "outputs": [],
   "source": [
    "\n",
    "indeces = rnd.randint(num_test,size = (3,))\n",
    "indeces = [1,2,3]\n",
    "ul = test_digits[indeces[0]]\n",
    "ur = test_digits[indeces[1]]\n",
    "dl = test_digits[indeces[2]]\n",
    "z =  np.zeros(dl.shape)\n",
    "corner_image = np.concatenate( (np.concatenate((ul,ur),axis = 1),\n",
    "                                np.concatenate((dl,z ),axis = 1)), axis = 0)\n"
   ]
  },
  {
   "cell_type": "code",
   "execution_count": 107,
   "id": "4b8d0f48",
   "metadata": {},
   "outputs": [
    {
     "data": {
      "text/plain": [
       "<AxesSubplot:>"
      ]
     },
     "execution_count": 107,
     "metadata": {},
     "output_type": "execute_result"
    }
   ],
   "source": [
    "\n",
    "model = model_df.loc['vae_10','model']\n",
    "mosaic = LatentInterpolationMosaic(\n",
    "                          model.encode,\n",
    "                          model.decoder,\n",
    "                          test_digits,\n",
    "                          indeces,\n",
    "                          num_row = 15,\n",
    "                          num_col = 15).mosaic\n",
    "\n",
    "\n",
    "\n",
    "sns.heatmap(mosaic[:,:,0], vmin = 0, vmax = 1)"
   ]
  },
  {
   "cell_type": "markdown",
   "id": "a6ff05cf",
   "metadata": {},
   "source": [
    "### Scatter"
   ]
  },
  {
   "cell_type": "code",
   "execution_count": 108,
   "id": "ffef7aa0",
   "metadata": {},
   "outputs": [
    {
     "data": {
      "text/plain": [
       "<visual.sample_scatter_gui.SampleScatterGUI at 0x20aeecf4850>"
      ]
     },
     "execution_count": 108,
     "metadata": {},
     "output_type": "execute_result"
    }
   ],
   "source": [
    "model_name = 'vae_1000'\n",
    "scatter = latent_df[latent_df['model_name']==model_name][['tsne_0', 'tsne_1']].to_numpy()\n",
    "SampleScatterGUI(scatter, test_labels, test_digits)\n"
   ]
  },
  {
   "cell_type": "code",
   "execution_count": 109,
   "id": "72cedd2b",
   "metadata": {},
   "outputs": [
    {
     "data": {
      "text/plain": [
       "<seaborn.axisgrid.JointGrid at 0x20af4d108b0>"
      ]
     },
     "execution_count": 109,
     "metadata": {},
     "output_type": "execute_result"
    }
   ],
   "source": [
    "model_name = \"vae_1000\"\n",
    "sns.jointplot(data = latent_df[latent_df['model_name'] == model_name ], x = 'tsne_0', y = 'tsne_1',\n",
    "              hue = 'label',\n",
    "              palette = 'colorblind')"
   ]
  },
  {
   "cell_type": "code",
   "execution_count": 110,
   "id": "75a55e57",
   "metadata": {},
   "outputs": [
    {
     "data": {
      "text/plain": [
       "<seaborn.axisgrid.FacetGrid at 0x20ae3fbfa00>"
      ]
     },
     "execution_count": 110,
     "metadata": {},
     "output_type": "execute_result"
    }
   ],
   "source": [
    "model_name = \"vae_1000\"\n",
    "sns.relplot(data = latent_df[latent_df['model_name'] == model_name ], x = 'tsne_0', y = 'tsne_1',\n",
    "              hue = 'label',\n",
    "              palette = 'colorblind',\n",
    "           kind = 'scatter')"
   ]
  },
  {
   "cell_type": "markdown",
   "id": "701d4959",
   "metadata": {},
   "source": [
    "### Spread"
   ]
  },
  {
   "cell_type": "markdown",
   "id": "7e77fa67",
   "metadata": {},
   "source": [
    "Here we have that the first 6 principal axises are almost one and the remaining 4 are almost zero (e-3). This is combination with that the cross covariance seem to be super much zero (e-15), indicates that we have a six dimesnioal sphere in this ten dimesional latent space. Interesting to see is also if you create a latent vector in the pca-vector space. Then comparing the latent value in each dimension times the spread in each dimension, gives you the importance of that dimension in that latent point. A low importance will not have an effect on the output (kind of like a low derivative...), while a hight value will give a big difference."
   ]
  },
  {
   "cell_type": "code",
   "execution_count": 111,
   "id": "fa4675c5",
   "metadata": {},
   "outputs": [],
   "source": [
    "axis_index = [0,-1]\n",
    "scaling_factors = np.array([2,2])"
   ]
  },
  {
   "cell_type": "code",
   "execution_count": 112,
   "id": "55542952",
   "metadata": {},
   "outputs": [
    {
     "ename": "KeyError",
     "evalue": "'latent_base'",
     "output_type": "error",
     "traceback": [
      "\u001b[1;31m---------------------------------------------------------------------------\u001b[0m",
      "\u001b[1;31mKeyError\u001b[0m                                  Traceback (most recent call last)",
      "\u001b[1;32m~\\anaconda3\\lib\\site-packages\\pandas\\core\\indexes\\base.py\u001b[0m in \u001b[0;36mget_loc\u001b[1;34m(self, key, method, tolerance)\u001b[0m\n\u001b[0;32m   3079\u001b[0m             \u001b[1;32mtry\u001b[0m\u001b[1;33m:\u001b[0m\u001b[1;33m\u001b[0m\u001b[1;33m\u001b[0m\u001b[0m\n\u001b[1;32m-> 3080\u001b[1;33m                 \u001b[1;32mreturn\u001b[0m \u001b[0mself\u001b[0m\u001b[1;33m.\u001b[0m\u001b[0m_engine\u001b[0m\u001b[1;33m.\u001b[0m\u001b[0mget_loc\u001b[0m\u001b[1;33m(\u001b[0m\u001b[0mcasted_key\u001b[0m\u001b[1;33m)\u001b[0m\u001b[1;33m\u001b[0m\u001b[1;33m\u001b[0m\u001b[0m\n\u001b[0m\u001b[0;32m   3081\u001b[0m             \u001b[1;32mexcept\u001b[0m \u001b[0mKeyError\u001b[0m \u001b[1;32mas\u001b[0m \u001b[0merr\u001b[0m\u001b[1;33m:\u001b[0m\u001b[1;33m\u001b[0m\u001b[1;33m\u001b[0m\u001b[0m\n",
      "\u001b[1;32mpandas\\_libs\\index.pyx\u001b[0m in \u001b[0;36mpandas._libs.index.IndexEngine.get_loc\u001b[1;34m()\u001b[0m\n",
      "\u001b[1;32mpandas\\_libs\\index.pyx\u001b[0m in \u001b[0;36mpandas._libs.index.IndexEngine.get_loc\u001b[1;34m()\u001b[0m\n",
      "\u001b[1;32mpandas\\_libs\\hashtable_class_helper.pxi\u001b[0m in \u001b[0;36mpandas._libs.hashtable.PyObjectHashTable.get_item\u001b[1;34m()\u001b[0m\n",
      "\u001b[1;32mpandas\\_libs\\hashtable_class_helper.pxi\u001b[0m in \u001b[0;36mpandas._libs.hashtable.PyObjectHashTable.get_item\u001b[1;34m()\u001b[0m\n",
      "\u001b[1;31mKeyError\u001b[0m: 'latent_base'",
      "\nThe above exception was the direct cause of the following exception:\n",
      "\u001b[1;31mKeyError\u001b[0m                                  Traceback (most recent call last)",
      "\u001b[1;32m<ipython-input-112-23c2605c136b>\u001b[0m in \u001b[0;36m<module>\u001b[1;34m\u001b[0m\n\u001b[0;32m      1\u001b[0m \u001b[0mmodel_name\u001b[0m \u001b[1;33m=\u001b[0m \u001b[1;34m'ae'\u001b[0m\u001b[1;33m\u001b[0m\u001b[1;33m\u001b[0m\u001b[0m\n\u001b[0;32m      2\u001b[0m \u001b[0mmodel\u001b[0m \u001b[1;33m=\u001b[0m \u001b[0mmodel_df\u001b[0m\u001b[1;33m.\u001b[0m\u001b[0mloc\u001b[0m\u001b[1;33m[\u001b[0m\u001b[0mmodel_name\u001b[0m\u001b[1;33m,\u001b[0m \u001b[1;34m'model'\u001b[0m\u001b[1;33m]\u001b[0m\u001b[1;33m\u001b[0m\u001b[1;33m\u001b[0m\u001b[0m\n\u001b[1;32m----> 3\u001b[1;33m \u001b[0mlatent_vectors\u001b[0m \u001b[1;33m=\u001b[0m \u001b[0mmodel_df\u001b[0m\u001b[1;33m.\u001b[0m\u001b[0mloc\u001b[0m\u001b[1;33m[\u001b[0m\u001b[0mmodel_name\u001b[0m\u001b[1;33m,\u001b[0m \u001b[1;34m'latent_base'\u001b[0m\u001b[1;33m]\u001b[0m\u001b[1;33m[\u001b[0m\u001b[0maxis_index\u001b[0m\u001b[1;33m]\u001b[0m\u001b[1;33m\u001b[0m\u001b[1;33m\u001b[0m\u001b[0m\n\u001b[0m\u001b[0;32m      4\u001b[0m \u001b[0mlatent_origin\u001b[0m  \u001b[1;33m=\u001b[0m \u001b[0mmodel_df\u001b[0m\u001b[1;33m.\u001b[0m\u001b[0mloc\u001b[0m\u001b[1;33m[\u001b[0m\u001b[0mmodel_name\u001b[0m\u001b[1;33m,\u001b[0m \u001b[1;34m'latent_mean'\u001b[0m\u001b[1;33m]\u001b[0m\u001b[1;33m\u001b[0m\u001b[1;33m\u001b[0m\u001b[0m\n\u001b[0;32m      5\u001b[0m mosaic = LatentPlaneMosaic(model.decoder,\n",
      "\u001b[1;32m~\\anaconda3\\lib\\site-packages\\pandas\\core\\indexing.py\u001b[0m in \u001b[0;36m__getitem__\u001b[1;34m(self, key)\u001b[0m\n\u001b[0;32m    887\u001b[0m                     \u001b[1;31m# AttributeError for IntervalTree get_value\u001b[0m\u001b[1;33m\u001b[0m\u001b[1;33m\u001b[0m\u001b[1;33m\u001b[0m\u001b[0m\n\u001b[0;32m    888\u001b[0m                     \u001b[1;32mreturn\u001b[0m \u001b[0mself\u001b[0m\u001b[1;33m.\u001b[0m\u001b[0mobj\u001b[0m\u001b[1;33m.\u001b[0m\u001b[0m_get_value\u001b[0m\u001b[1;33m(\u001b[0m\u001b[1;33m*\u001b[0m\u001b[0mkey\u001b[0m\u001b[1;33m,\u001b[0m \u001b[0mtakeable\u001b[0m\u001b[1;33m=\u001b[0m\u001b[0mself\u001b[0m\u001b[1;33m.\u001b[0m\u001b[0m_takeable\u001b[0m\u001b[1;33m)\u001b[0m\u001b[1;33m\u001b[0m\u001b[1;33m\u001b[0m\u001b[0m\n\u001b[1;32m--> 889\u001b[1;33m             \u001b[1;32mreturn\u001b[0m \u001b[0mself\u001b[0m\u001b[1;33m.\u001b[0m\u001b[0m_getitem_tuple\u001b[0m\u001b[1;33m(\u001b[0m\u001b[0mkey\u001b[0m\u001b[1;33m)\u001b[0m\u001b[1;33m\u001b[0m\u001b[1;33m\u001b[0m\u001b[0m\n\u001b[0m\u001b[0;32m    890\u001b[0m         \u001b[1;32melse\u001b[0m\u001b[1;33m:\u001b[0m\u001b[1;33m\u001b[0m\u001b[1;33m\u001b[0m\u001b[0m\n\u001b[0;32m    891\u001b[0m             \u001b[1;31m# we by definition only have the 0th axis\u001b[0m\u001b[1;33m\u001b[0m\u001b[1;33m\u001b[0m\u001b[1;33m\u001b[0m\u001b[0m\n",
      "\u001b[1;32m~\\anaconda3\\lib\\site-packages\\pandas\\core\\indexing.py\u001b[0m in \u001b[0;36m_getitem_tuple\u001b[1;34m(self, tup)\u001b[0m\n\u001b[0;32m   1058\u001b[0m     \u001b[1;32mdef\u001b[0m \u001b[0m_getitem_tuple\u001b[0m\u001b[1;33m(\u001b[0m\u001b[0mself\u001b[0m\u001b[1;33m,\u001b[0m \u001b[0mtup\u001b[0m\u001b[1;33m:\u001b[0m \u001b[0mTuple\u001b[0m\u001b[1;33m)\u001b[0m\u001b[1;33m:\u001b[0m\u001b[1;33m\u001b[0m\u001b[1;33m\u001b[0m\u001b[0m\n\u001b[0;32m   1059\u001b[0m         \u001b[1;32mwith\u001b[0m \u001b[0msuppress\u001b[0m\u001b[1;33m(\u001b[0m\u001b[0mIndexingError\u001b[0m\u001b[1;33m)\u001b[0m\u001b[1;33m:\u001b[0m\u001b[1;33m\u001b[0m\u001b[1;33m\u001b[0m\u001b[0m\n\u001b[1;32m-> 1060\u001b[1;33m             \u001b[1;32mreturn\u001b[0m \u001b[0mself\u001b[0m\u001b[1;33m.\u001b[0m\u001b[0m_getitem_lowerdim\u001b[0m\u001b[1;33m(\u001b[0m\u001b[0mtup\u001b[0m\u001b[1;33m)\u001b[0m\u001b[1;33m\u001b[0m\u001b[1;33m\u001b[0m\u001b[0m\n\u001b[0m\u001b[0;32m   1061\u001b[0m \u001b[1;33m\u001b[0m\u001b[0m\n\u001b[0;32m   1062\u001b[0m         \u001b[1;31m# no multi-index, so validate all of the indexers\u001b[0m\u001b[1;33m\u001b[0m\u001b[1;33m\u001b[0m\u001b[1;33m\u001b[0m\u001b[0m\n",
      "\u001b[1;32m~\\anaconda3\\lib\\site-packages\\pandas\\core\\indexing.py\u001b[0m in \u001b[0;36m_getitem_lowerdim\u001b[1;34m(self, tup)\u001b[0m\n\u001b[0;32m    829\u001b[0m                     \u001b[1;32mreturn\u001b[0m \u001b[0msection\u001b[0m\u001b[1;33m\u001b[0m\u001b[1;33m\u001b[0m\u001b[0m\n\u001b[0;32m    830\u001b[0m                 \u001b[1;31m# This is an elided recursive call to iloc/loc\u001b[0m\u001b[1;33m\u001b[0m\u001b[1;33m\u001b[0m\u001b[1;33m\u001b[0m\u001b[0m\n\u001b[1;32m--> 831\u001b[1;33m                 \u001b[1;32mreturn\u001b[0m \u001b[0mgetattr\u001b[0m\u001b[1;33m(\u001b[0m\u001b[0msection\u001b[0m\u001b[1;33m,\u001b[0m \u001b[0mself\u001b[0m\u001b[1;33m.\u001b[0m\u001b[0mname\u001b[0m\u001b[1;33m)\u001b[0m\u001b[1;33m[\u001b[0m\u001b[0mnew_key\u001b[0m\u001b[1;33m]\u001b[0m\u001b[1;33m\u001b[0m\u001b[1;33m\u001b[0m\u001b[0m\n\u001b[0m\u001b[0;32m    832\u001b[0m \u001b[1;33m\u001b[0m\u001b[0m\n\u001b[0;32m    833\u001b[0m         \u001b[1;32mraise\u001b[0m \u001b[0mIndexingError\u001b[0m\u001b[1;33m(\u001b[0m\u001b[1;34m\"not applicable\"\u001b[0m\u001b[1;33m)\u001b[0m\u001b[1;33m\u001b[0m\u001b[1;33m\u001b[0m\u001b[0m\n",
      "\u001b[1;32m~\\anaconda3\\lib\\site-packages\\pandas\\core\\indexing.py\u001b[0m in \u001b[0;36m__getitem__\u001b[1;34m(self, key)\u001b[0m\n\u001b[0;32m    893\u001b[0m \u001b[1;33m\u001b[0m\u001b[0m\n\u001b[0;32m    894\u001b[0m             \u001b[0mmaybe_callable\u001b[0m \u001b[1;33m=\u001b[0m \u001b[0mcom\u001b[0m\u001b[1;33m.\u001b[0m\u001b[0mapply_if_callable\u001b[0m\u001b[1;33m(\u001b[0m\u001b[0mkey\u001b[0m\u001b[1;33m,\u001b[0m \u001b[0mself\u001b[0m\u001b[1;33m.\u001b[0m\u001b[0mobj\u001b[0m\u001b[1;33m)\u001b[0m\u001b[1;33m\u001b[0m\u001b[1;33m\u001b[0m\u001b[0m\n\u001b[1;32m--> 895\u001b[1;33m             \u001b[1;32mreturn\u001b[0m \u001b[0mself\u001b[0m\u001b[1;33m.\u001b[0m\u001b[0m_getitem_axis\u001b[0m\u001b[1;33m(\u001b[0m\u001b[0mmaybe_callable\u001b[0m\u001b[1;33m,\u001b[0m \u001b[0maxis\u001b[0m\u001b[1;33m=\u001b[0m\u001b[0maxis\u001b[0m\u001b[1;33m)\u001b[0m\u001b[1;33m\u001b[0m\u001b[1;33m\u001b[0m\u001b[0m\n\u001b[0m\u001b[0;32m    896\u001b[0m \u001b[1;33m\u001b[0m\u001b[0m\n\u001b[0;32m    897\u001b[0m     \u001b[1;32mdef\u001b[0m \u001b[0m_is_scalar_access\u001b[0m\u001b[1;33m(\u001b[0m\u001b[0mself\u001b[0m\u001b[1;33m,\u001b[0m \u001b[0mkey\u001b[0m\u001b[1;33m:\u001b[0m \u001b[0mTuple\u001b[0m\u001b[1;33m)\u001b[0m\u001b[1;33m:\u001b[0m\u001b[1;33m\u001b[0m\u001b[1;33m\u001b[0m\u001b[0m\n",
      "\u001b[1;32m~\\anaconda3\\lib\\site-packages\\pandas\\core\\indexing.py\u001b[0m in \u001b[0;36m_getitem_axis\u001b[1;34m(self, key, axis)\u001b[0m\n\u001b[0;32m   1122\u001b[0m         \u001b[1;31m# fall thru to straight lookup\u001b[0m\u001b[1;33m\u001b[0m\u001b[1;33m\u001b[0m\u001b[1;33m\u001b[0m\u001b[0m\n\u001b[0;32m   1123\u001b[0m         \u001b[0mself\u001b[0m\u001b[1;33m.\u001b[0m\u001b[0m_validate_key\u001b[0m\u001b[1;33m(\u001b[0m\u001b[0mkey\u001b[0m\u001b[1;33m,\u001b[0m \u001b[0maxis\u001b[0m\u001b[1;33m)\u001b[0m\u001b[1;33m\u001b[0m\u001b[1;33m\u001b[0m\u001b[0m\n\u001b[1;32m-> 1124\u001b[1;33m         \u001b[1;32mreturn\u001b[0m \u001b[0mself\u001b[0m\u001b[1;33m.\u001b[0m\u001b[0m_get_label\u001b[0m\u001b[1;33m(\u001b[0m\u001b[0mkey\u001b[0m\u001b[1;33m,\u001b[0m \u001b[0maxis\u001b[0m\u001b[1;33m=\u001b[0m\u001b[0maxis\u001b[0m\u001b[1;33m)\u001b[0m\u001b[1;33m\u001b[0m\u001b[1;33m\u001b[0m\u001b[0m\n\u001b[0m\u001b[0;32m   1125\u001b[0m \u001b[1;33m\u001b[0m\u001b[0m\n\u001b[0;32m   1126\u001b[0m     \u001b[1;32mdef\u001b[0m \u001b[0m_get_slice_axis\u001b[0m\u001b[1;33m(\u001b[0m\u001b[0mself\u001b[0m\u001b[1;33m,\u001b[0m \u001b[0mslice_obj\u001b[0m\u001b[1;33m:\u001b[0m \u001b[0mslice\u001b[0m\u001b[1;33m,\u001b[0m \u001b[0maxis\u001b[0m\u001b[1;33m:\u001b[0m \u001b[0mint\u001b[0m\u001b[1;33m)\u001b[0m\u001b[1;33m:\u001b[0m\u001b[1;33m\u001b[0m\u001b[1;33m\u001b[0m\u001b[0m\n",
      "\u001b[1;32m~\\anaconda3\\lib\\site-packages\\pandas\\core\\indexing.py\u001b[0m in \u001b[0;36m_get_label\u001b[1;34m(self, label, axis)\u001b[0m\n\u001b[0;32m   1071\u001b[0m     \u001b[1;32mdef\u001b[0m \u001b[0m_get_label\u001b[0m\u001b[1;33m(\u001b[0m\u001b[0mself\u001b[0m\u001b[1;33m,\u001b[0m \u001b[0mlabel\u001b[0m\u001b[1;33m,\u001b[0m \u001b[0maxis\u001b[0m\u001b[1;33m:\u001b[0m \u001b[0mint\u001b[0m\u001b[1;33m)\u001b[0m\u001b[1;33m:\u001b[0m\u001b[1;33m\u001b[0m\u001b[1;33m\u001b[0m\u001b[0m\n\u001b[0;32m   1072\u001b[0m         \u001b[1;31m# GH#5667 this will fail if the label is not present in the axis.\u001b[0m\u001b[1;33m\u001b[0m\u001b[1;33m\u001b[0m\u001b[1;33m\u001b[0m\u001b[0m\n\u001b[1;32m-> 1073\u001b[1;33m         \u001b[1;32mreturn\u001b[0m \u001b[0mself\u001b[0m\u001b[1;33m.\u001b[0m\u001b[0mobj\u001b[0m\u001b[1;33m.\u001b[0m\u001b[0mxs\u001b[0m\u001b[1;33m(\u001b[0m\u001b[0mlabel\u001b[0m\u001b[1;33m,\u001b[0m \u001b[0maxis\u001b[0m\u001b[1;33m=\u001b[0m\u001b[0maxis\u001b[0m\u001b[1;33m)\u001b[0m\u001b[1;33m\u001b[0m\u001b[1;33m\u001b[0m\u001b[0m\n\u001b[0m\u001b[0;32m   1074\u001b[0m \u001b[1;33m\u001b[0m\u001b[0m\n\u001b[0;32m   1075\u001b[0m     \u001b[1;32mdef\u001b[0m \u001b[0m_handle_lowerdim_multi_index_axis0\u001b[0m\u001b[1;33m(\u001b[0m\u001b[0mself\u001b[0m\u001b[1;33m,\u001b[0m \u001b[0mtup\u001b[0m\u001b[1;33m:\u001b[0m \u001b[0mTuple\u001b[0m\u001b[1;33m)\u001b[0m\u001b[1;33m:\u001b[0m\u001b[1;33m\u001b[0m\u001b[1;33m\u001b[0m\u001b[0m\n",
      "\u001b[1;32m~\\anaconda3\\lib\\site-packages\\pandas\\core\\generic.py\u001b[0m in \u001b[0;36mxs\u001b[1;34m(self, key, axis, level, drop_level)\u001b[0m\n\u001b[0;32m   3737\u001b[0m                 \u001b[1;32mraise\u001b[0m \u001b[0mTypeError\u001b[0m\u001b[1;33m(\u001b[0m\u001b[1;34mf\"Expected label or tuple of labels, got {key}\"\u001b[0m\u001b[1;33m)\u001b[0m \u001b[1;32mfrom\u001b[0m \u001b[0me\u001b[0m\u001b[1;33m\u001b[0m\u001b[1;33m\u001b[0m\u001b[0m\n\u001b[0;32m   3738\u001b[0m         \u001b[1;32melse\u001b[0m\u001b[1;33m:\u001b[0m\u001b[1;33m\u001b[0m\u001b[1;33m\u001b[0m\u001b[0m\n\u001b[1;32m-> 3739\u001b[1;33m             \u001b[0mloc\u001b[0m \u001b[1;33m=\u001b[0m \u001b[0mindex\u001b[0m\u001b[1;33m.\u001b[0m\u001b[0mget_loc\u001b[0m\u001b[1;33m(\u001b[0m\u001b[0mkey\u001b[0m\u001b[1;33m)\u001b[0m\u001b[1;33m\u001b[0m\u001b[1;33m\u001b[0m\u001b[0m\n\u001b[0m\u001b[0;32m   3740\u001b[0m \u001b[1;33m\u001b[0m\u001b[0m\n\u001b[0;32m   3741\u001b[0m             \u001b[1;32mif\u001b[0m \u001b[0misinstance\u001b[0m\u001b[1;33m(\u001b[0m\u001b[0mloc\u001b[0m\u001b[1;33m,\u001b[0m \u001b[0mnp\u001b[0m\u001b[1;33m.\u001b[0m\u001b[0mndarray\u001b[0m\u001b[1;33m)\u001b[0m\u001b[1;33m:\u001b[0m\u001b[1;33m\u001b[0m\u001b[1;33m\u001b[0m\u001b[0m\n",
      "\u001b[1;32m~\\anaconda3\\lib\\site-packages\\pandas\\core\\indexes\\base.py\u001b[0m in \u001b[0;36mget_loc\u001b[1;34m(self, key, method, tolerance)\u001b[0m\n\u001b[0;32m   3080\u001b[0m                 \u001b[1;32mreturn\u001b[0m \u001b[0mself\u001b[0m\u001b[1;33m.\u001b[0m\u001b[0m_engine\u001b[0m\u001b[1;33m.\u001b[0m\u001b[0mget_loc\u001b[0m\u001b[1;33m(\u001b[0m\u001b[0mcasted_key\u001b[0m\u001b[1;33m)\u001b[0m\u001b[1;33m\u001b[0m\u001b[1;33m\u001b[0m\u001b[0m\n\u001b[0;32m   3081\u001b[0m             \u001b[1;32mexcept\u001b[0m \u001b[0mKeyError\u001b[0m \u001b[1;32mas\u001b[0m \u001b[0merr\u001b[0m\u001b[1;33m:\u001b[0m\u001b[1;33m\u001b[0m\u001b[1;33m\u001b[0m\u001b[0m\n\u001b[1;32m-> 3082\u001b[1;33m                 \u001b[1;32mraise\u001b[0m \u001b[0mKeyError\u001b[0m\u001b[1;33m(\u001b[0m\u001b[0mkey\u001b[0m\u001b[1;33m)\u001b[0m \u001b[1;32mfrom\u001b[0m \u001b[0merr\u001b[0m\u001b[1;33m\u001b[0m\u001b[1;33m\u001b[0m\u001b[0m\n\u001b[0m\u001b[0;32m   3083\u001b[0m \u001b[1;33m\u001b[0m\u001b[0m\n\u001b[0;32m   3084\u001b[0m         \u001b[1;32mif\u001b[0m \u001b[0mtolerance\u001b[0m \u001b[1;32mis\u001b[0m \u001b[1;32mnot\u001b[0m \u001b[1;32mNone\u001b[0m\u001b[1;33m:\u001b[0m\u001b[1;33m\u001b[0m\u001b[1;33m\u001b[0m\u001b[0m\n",
      "\u001b[1;31mKeyError\u001b[0m: 'latent_base'"
     ]
    }
   ],
   "source": [
    "model_name = 'ae'\n",
    "model = model_df.loc[model_name, 'model']\n",
    "latent_vectors = model_df.loc[model_name, 'latent_base'][axis_index]\n",
    "latent_origin  = model_df.loc[model_name, 'latent_mean']\n",
    "mosaic = LatentPlaneMosaic(model.decoder,\n",
    "                  latent_vectors = (scaling_factors*latent_vectors.T).T,\n",
    "                  latent_origin = latent_origin,\n",
    "                  num_row = 20,\n",
    "                  num_col = 20).mosaic\n",
    "\n",
    "#fig,ax = plt.subplots(1,1)\n",
    "#ax.imshow(mosaic)\n",
    "sns.heatmap(mosaic[:,:,0], vmin = 0, vmax = 1)"
   ]
  },
  {
   "cell_type": "markdown",
   "id": "2adbb3ba",
   "metadata": {},
   "source": [
    "## Spred "
   ]
  },
  {
   "cell_type": "code",
   "execution_count": null,
   "id": "8a84e300",
   "metadata": {},
   "outputs": [],
   "source": []
  },
  {
   "cell_type": "code",
   "execution_count": 14,
   "id": "1b395ca8",
   "metadata": {},
   "outputs": [
    {
     "data": {
      "text/plain": [
       "<seaborn.axisgrid.FacetGrid at 0x23322930f10>"
      ]
     },
     "execution_count": 14,
     "metadata": {},
     "output_type": "execute_result"
    }
   ],
   "source": [
    "sns.displot(data = latent_df, x = 'loss', hue = 'model_name', kind = 'kde')"
   ]
  },
  {
   "cell_type": "code",
   "execution_count": 15,
   "id": "ce94417e",
   "metadata": {},
   "outputs": [
    {
     "data": {
      "text/plain": [
       "<seaborn.axisgrid.FacetGrid at 0x23333f71f40>"
      ]
     },
     "execution_count": 15,
     "metadata": {},
     "output_type": "execute_result"
    }
   ],
   "source": [
    "sns.displot(data = latent_df, x = 'distance',hue = 'model_name', kind = 'kde')"
   ]
  },
  {
   "cell_type": "code",
   "execution_count": 18,
   "id": "1f7cd7b0",
   "metadata": {},
   "outputs": [
    {
     "name": "stderr",
     "output_type": "stream",
     "text": [
      "C:\\Users\\joelw\\anaconda3\\lib\\site-packages\\seaborn\\distributions.py:306: UserWarning: Dataset has 0 variance; skipping density estimate.\n",
      "  warnings.warn(msg, UserWarning)\n"
     ]
    },
    {
     "data": {
      "text/plain": [
       "<seaborn.axisgrid.FacetGrid at 0x233446cad60>"
      ]
     },
     "execution_count": 18,
     "metadata": {},
     "output_type": "execute_result"
    }
   ],
   "source": [
    "sns.displot(data = latent_df, x = 'radius',hue = 'model_name', kind = 'kde')"
   ]
  },
  {
   "cell_type": "code",
   "execution_count": 17,
   "id": "c88f140f",
   "metadata": {},
   "outputs": [
    {
     "data": {
      "text/plain": [
       "<seaborn.axisgrid.FacetGrid at 0x233446b9910>"
      ]
     },
     "execution_count": 17,
     "metadata": {},
     "output_type": "execute_result"
    }
   ],
   "source": [
    "######### IMPORTANT ########\n",
    "sns.relplot(x = dimension_mean_df['std'], y = dimension_std_df['value'], hue = dimension_mean_df['model_name'])"
   ]
  },
  {
   "cell_type": "code",
   "execution_count": 61,
   "id": "1b3517bf",
   "metadata": {},
   "outputs": [
    {
     "data": {
      "text/plain": [
       "<seaborn.axisgrid.FacetGrid at 0x21ac7467700>"
      ]
     },
     "execution_count": 61,
     "metadata": {},
     "output_type": "execute_result"
    }
   ],
   "source": [
    "sns.relplot(data = dimension_df,\n",
    "           x = 'value',\n",
    "           y = 'std',\n",
    "           col = 'dim_index',\n",
    "           col_wrap = 4,\n",
    "           hue = 'model_name')"
   ]
  },
  {
   "cell_type": "markdown",
   "id": "30b96962",
   "metadata": {},
   "source": [
    "## Generative power"
   ]
  },
  {
   "cell_type": "code",
   "execution_count": 66,
   "id": "83927f5c",
   "metadata": {},
   "outputs": [],
   "source": [
    "model_name = 'ae'\n",
    "mean = np.zeros(latent_dim)\n",
    "mean = model_df.loc[model_name,'latent_mean']\n",
    "cov  = 1*np.eye(latent_dim)\n",
    "num_col = 15\n",
    "num_row = 10\n",
    "num_img = num_row*num_col\n",
    "latent_points = rnd.multivariate_normal(mean, cov, size = (num_img))\n",
    "\n"
   ]
  },
  {
   "cell_type": "code",
   "execution_count": 67,
   "id": "736b6983",
   "metadata": {},
   "outputs": [
    {
     "data": {
      "text/plain": [
       "<AxesSubplot:>"
      ]
     },
     "execution_count": 67,
     "metadata": {},
     "output_type": "execute_result"
    }
   ],
   "source": [
    "model = model_df.loc[model_name, 'model']\n",
    "title = \"Reconstruction with autoencoder\"\n",
    "fig, ax = plt.subplots()\n",
    "reconstructions = model.decoder(latent_points)\n",
    "i = 0\n",
    "for col in range(num_col):\n",
    "    for row in range(num_row): \n",
    "        if row == 0: \n",
    "            ver_img = reconstructions[i]\n",
    "        else:\n",
    "            ver_img = np.concatenate((ver_img,\n",
    "                                 reconstructions[i]), axis = 0)\n",
    "        i = i + 1\n",
    "    if col == 0:\n",
    "        img = ver_img\n",
    "    else: \n",
    "        img = np.concatenate((img,\n",
    "                              ver_img), axis = 1)\n",
    "sns.heatmap(img[:,:,0])\n",
    "\n"
   ]
  },
  {
   "cell_type": "code",
   "execution_count": null,
   "id": "56a9b089",
   "metadata": {},
   "outputs": [],
   "source": []
  },
  {
   "cell_type": "code",
   "execution_count": 68,
   "id": "02252f24",
   "metadata": {},
   "outputs": [],
   "source": [
    "mean = np.zeros(latent_dim)\n",
    "cov  = 1*np.eye(latent_dim)\n",
    "num_dig = 5\n",
    "latent_points = rnd.multivariate_normal(mean, cov, size = (num_dig))\n",
    "\n",
    "reconstructions = []\n",
    "for name, model in model_df.iterrows():\n",
    "    reconstructions.append(model['model'].decoder(latent_points))\n",
    "    \n",
    "fig, axs = plt.subplots(num_models, num_dig, sharex = True, sharey = True)\n",
    "for model_i in range(num_models):\n",
    "    for dig_i in range(num_dig):\n",
    "        ax = axs[model_i, dig_i]\n",
    "        sns.heatmap(reconstructions[model_i][dig_i][:,:,0], ax = ax)\n",
    "\n"
   ]
  },
  {
   "cell_type": "code",
   "execution_count": 71,
   "id": "858d3be4",
   "metadata": {},
   "outputs": [
    {
     "data": {
      "text/plain": [
       "array([ 0.04270896, -0.02646526, -0.01551382,  0.00895875,  0.00756909,\n",
       "       -0.00550758, -0.01186571,  0.00023721, -0.0082873 ,  0.0526603 ],\n",
       "      dtype=float32)"
      ]
     },
     "execution_count": 71,
     "metadata": {},
     "output_type": "execute_result"
    }
   ],
   "source": []
  },
  {
   "cell_type": "code",
   "execution_count": null,
   "id": "b90cafab",
   "metadata": {},
   "outputs": [],
   "source": []
  },
  {
   "cell_type": "code",
   "execution_count": null,
   "id": "e56308a1",
   "metadata": {},
   "outputs": [],
   "source": []
  },
  {
   "cell_type": "code",
   "execution_count": null,
   "id": "5c8a796b",
   "metadata": {},
   "outputs": [],
   "source": []
  },
  {
   "cell_type": "code",
   "execution_count": null,
   "id": "911d5aaa",
   "metadata": {},
   "outputs": [],
   "source": []
  },
  {
   "cell_type": "code",
   "execution_count": null,
   "id": "d57a45ed",
   "metadata": {},
   "outputs": [],
   "source": []
  },
  {
   "cell_type": "code",
   "execution_count": null,
   "id": "ac5cb679",
   "metadata": {},
   "outputs": [],
   "source": []
  },
  {
   "cell_type": "code",
   "execution_count": null,
   "id": "2a99817d",
   "metadata": {},
   "outputs": [],
   "source": []
  },
  {
   "cell_type": "code",
   "execution_count": null,
   "id": "eea2c3ed",
   "metadata": {},
   "outputs": [],
   "source": []
  }
 ],
 "metadata": {
  "kernelspec": {
   "display_name": "Python 3",
   "language": "python",
   "name": "python3"
  },
  "language_info": {
   "codemirror_mode": {
    "name": "ipython",
    "version": 3
   },
   "file_extension": ".py",
   "mimetype": "text/x-python",
   "name": "python",
   "nbconvert_exporter": "python",
   "pygments_lexer": "ipython3",
   "version": "3.8.8"
  }
 },
 "nbformat": 4,
 "nbformat_minor": 5
}
