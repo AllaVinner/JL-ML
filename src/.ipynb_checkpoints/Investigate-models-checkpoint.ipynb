{
 "cells": [
  {
   "cell_type": "markdown",
   "id": "206861bf",
   "metadata": {},
   "source": [
    "# Variational autoencoder\n",
    "This notebook will investiga"
   ]
  },
  {
   "cell_type": "code",
   "execution_count": 1,
   "id": "af6332ef",
   "metadata": {},
   "outputs": [
    {
     "name": "stdout",
     "output_type": "stream",
     "text": [
      "Using matplotlib backend: Qt5Agg\n"
     ]
    }
   ],
   "source": [
    "%matplotlib\n",
    "import numpy as np\n",
    "import numpy.random as rnd\n",
    "import matplotlib.pyplot as plt\n",
    "import tensorflow as tf\n",
    "from tensorflow import keras\n",
    "\n",
    "import pandas as pd\n",
    "import seaborn as sns\n",
    "from collections import defaultdict\n",
    "\n",
    "from models.variational_autoencoder import VariationalAutoencoder\n",
    "from models.autoencoder import Autoencoder\n",
    "from models.continuous_bernoulli_loss import continuous_bernoulli_loss\n",
    "\n",
    "# For dimension reduction\n",
    "from sklearn.manifold import TSNE\n",
    "from sklearn.decomposition import PCA\n",
    "\n",
    "# for visualization and evaluation\n",
    "from visual.latent_plane_mosaic import LatentPlaneMosaic\n",
    "from visual.latent_interpolation_mosaic import LatentInterpolationMosaic\n",
    "from visual.sample_scatter_gui import SampleScatterGUI"
   ]
  },
  {
   "cell_type": "code",
   "execution_count": 2,
   "id": "90600b03",
   "metadata": {},
   "outputs": [],
   "source": [
    "model_df = pd.DataFrame(data = {\n",
    "    'path' : [\"models\\\\saved\\\\vae_10\", \"models\\\\saved\\\\vae_21\", \"models\\\\saved\\\\vae_46\" ,\n",
    "              \"models\\\\saved\\\\vae_100\", \"models\\\\saved\\\\vae_215\", \"models\\\\saved\\\\vae_464\",\n",
    "             \"models\\\\saved\\\\vae_1000\"],\n",
    "    'ae_type' : ['vae', 'vae', 'vae', 'vae', 'vae', 'vae', 'vae'],\n",
    "    },\n",
    "    index = ['vae_10', 'vae_21', 'vae_46', 'vae_100', 'vae_215', 'vae_464', 'vae_1000'],\n",
    ")\n"
   ]
  },
  {
   "cell_type": "code",
   "execution_count": 3,
   "id": "9767b8cf",
   "metadata": {},
   "outputs": [],
   "source": [
    "models = []\n",
    "for name, model in model_df.iterrows():\n",
    "    if model['ae_type'] == \"ae\":\n",
    "        models.append(keras.models.load_model(model['path'], \n",
    "                         custom_objects={\"Autoencoder\": Autoencoder,\n",
    "                                         \"continuous_bernoulli_loss\": continuous_bernoulli_loss}))\n",
    "    elif model['ae_type'] == \"vae\":\n",
    "        models.append(keras.models.load_model(model['path'], \n",
    "                                 custom_objects={\"VariationalAutoencoder\": VariationalAutoencoder,\n",
    "                                                 \"continuous_bernoulli_loss\":  continuous_bernoulli_loss}))\n",
    "model_df['model'] = models    "
   ]
  },
  {
   "cell_type": "code",
   "execution_count": 11,
   "id": "4e13e31e",
   "metadata": {},
   "outputs": [],
   "source": [
    "num_models = model_df.shape[0]\n",
    "latent_dim = 2"
   ]
  },
  {
   "cell_type": "code",
   "execution_count": 5,
   "id": "b5b37ed2",
   "metadata": {},
   "outputs": [
    {
     "data": {
      "text/html": [
       "<div>\n",
       "<style scoped>\n",
       "    .dataframe tbody tr th:only-of-type {\n",
       "        vertical-align: middle;\n",
       "    }\n",
       "\n",
       "    .dataframe tbody tr th {\n",
       "        vertical-align: top;\n",
       "    }\n",
       "\n",
       "    .dataframe thead th {\n",
       "        text-align: right;\n",
       "    }\n",
       "</style>\n",
       "<table border=\"1\" class=\"dataframe\">\n",
       "  <thead>\n",
       "    <tr style=\"text-align: right;\">\n",
       "      <th></th>\n",
       "      <th>path</th>\n",
       "      <th>ae_type</th>\n",
       "      <th>model</th>\n",
       "    </tr>\n",
       "  </thead>\n",
       "  <tbody>\n",
       "    <tr>\n",
       "      <th>vae_10</th>\n",
       "      <td>models\\saved\\vae_10</td>\n",
       "      <td>vae</td>\n",
       "      <td>&lt;models.variational_autoencoder.VariationalAut...</td>\n",
       "    </tr>\n",
       "    <tr>\n",
       "      <th>vae_21</th>\n",
       "      <td>models\\saved\\vae_21</td>\n",
       "      <td>vae</td>\n",
       "      <td>&lt;models.variational_autoencoder.VariationalAut...</td>\n",
       "    </tr>\n",
       "    <tr>\n",
       "      <th>vae_46</th>\n",
       "      <td>models\\saved\\vae_46</td>\n",
       "      <td>vae</td>\n",
       "      <td>&lt;models.variational_autoencoder.VariationalAut...</td>\n",
       "    </tr>\n",
       "    <tr>\n",
       "      <th>vae_100</th>\n",
       "      <td>models\\saved\\vae_100</td>\n",
       "      <td>vae</td>\n",
       "      <td>&lt;models.variational_autoencoder.VariationalAut...</td>\n",
       "    </tr>\n",
       "    <tr>\n",
       "      <th>vae_215</th>\n",
       "      <td>models\\saved\\vae_215</td>\n",
       "      <td>vae</td>\n",
       "      <td>&lt;models.variational_autoencoder.VariationalAut...</td>\n",
       "    </tr>\n",
       "  </tbody>\n",
       "</table>\n",
       "</div>"
      ],
      "text/plain": [
       "                         path ae_type  \\\n",
       "vae_10    models\\saved\\vae_10     vae   \n",
       "vae_21    models\\saved\\vae_21     vae   \n",
       "vae_46    models\\saved\\vae_46     vae   \n",
       "vae_100  models\\saved\\vae_100     vae   \n",
       "vae_215  models\\saved\\vae_215     vae   \n",
       "\n",
       "                                                     model  \n",
       "vae_10   <models.variational_autoencoder.VariationalAut...  \n",
       "vae_21   <models.variational_autoencoder.VariationalAut...  \n",
       "vae_46   <models.variational_autoencoder.VariationalAut...  \n",
       "vae_100  <models.variational_autoencoder.VariationalAut...  \n",
       "vae_215  <models.variational_autoencoder.VariationalAut...  "
      ]
     },
     "execution_count": 5,
     "metadata": {},
     "output_type": "execute_result"
    }
   ],
   "source": [
    "model_df.head()"
   ]
  },
  {
   "cell_type": "markdown",
   "id": "b164e02c",
   "metadata": {},
   "source": [
    "## Preprocess data\n"
   ]
  },
  {
   "cell_type": "code",
   "execution_count": 6,
   "id": "1e0a4b30",
   "metadata": {},
   "outputs": [],
   "source": [
    "(_, _), (test_digits, test_labels) = keras.datasets.mnist.load_data()\n",
    "test_digits = np.expand_dims(test_digits, -1).astype(\"float32\") / 255\n",
    "input_shape = test_digits.shape[1:]\n",
    "num_test = test_labels.shape[0]"
   ]
  },
  {
   "cell_type": "code",
   "execution_count": null,
   "id": "519bf5d1",
   "metadata": {},
   "outputs": [],
   "source": []
  },
  {
   "cell_type": "markdown",
   "id": "9e5ce89b",
   "metadata": {},
   "source": [
    "## Load Variational autoencoder"
   ]
  },
  {
   "cell_type": "markdown",
   "id": "60f9fbbe",
   "metadata": {},
   "source": [
    "### Print setup details"
   ]
  },
  {
   "cell_type": "markdown",
   "id": "add049f4",
   "metadata": {},
   "source": []
  },
  {
   "cell_type": "markdown",
   "id": "2b8006d4",
   "metadata": {},
   "source": [
    "## Reconstruct and dimension reductions"
   ]
  },
  {
   "cell_type": "code",
   "execution_count": 12,
   "id": "bd8ae98d",
   "metadata": {},
   "outputs": [
    {
     "name": "stdout",
     "output_type": "stream",
     "text": [
      "(2,) (2,) (2,) (10000, 2) (10000, 2)\n",
      "(2,) (2,) (2,) (10000, 2) (10000, 2)\n",
      "(2,) (2,) (2,) (10000, 2) (10000, 2)\n",
      "(2,) (2,) (2,) (10000, 2) (10000, 2)\n",
      "(2,) (2,) (2,) (10000, 2) (10000, 2)\n",
      "(2,) (2,) (2,) (10000, 2) (10000, 2)\n",
      "(2,) (2,) (2,) (10000, 2) (10000, 2)\n"
     ]
    },
    {
     "ename": "ValueError",
     "evalue": "No objects to concatenate",
     "output_type": "error",
     "traceback": [
      "\u001b[1;31m---------------------------------------------------------------------------\u001b[0m",
      "\u001b[1;31mValueError\u001b[0m                                Traceback (most recent call last)",
      "\u001b[1;32m<ipython-input-12-e85be3e010f9>\u001b[0m in \u001b[0;36m<module>\u001b[1;34m\u001b[0m\n\u001b[0;32m     67\u001b[0m \u001b[1;33m\u001b[0m\u001b[0m\n\u001b[0;32m     68\u001b[0m \u001b[1;33m\u001b[0m\u001b[0m\n\u001b[1;32m---> 69\u001b[1;33m \u001b[0mdigit_df\u001b[0m \u001b[1;33m=\u001b[0m \u001b[0mpd\u001b[0m\u001b[1;33m.\u001b[0m\u001b[0mconcat\u001b[0m\u001b[1;33m(\u001b[0m\u001b[0mdigit_df_list\u001b[0m\u001b[1;33m)\u001b[0m\u001b[1;33m\u001b[0m\u001b[1;33m\u001b[0m\u001b[0m\n\u001b[0m\u001b[0;32m     70\u001b[0m \u001b[0mdimension_df\u001b[0m \u001b[1;33m=\u001b[0m \u001b[0mpd\u001b[0m\u001b[1;33m.\u001b[0m\u001b[0mconcat\u001b[0m\u001b[1;33m(\u001b[0m\u001b[0mdimension_df_list\u001b[0m\u001b[1;33m)\u001b[0m\u001b[1;33m\u001b[0m\u001b[1;33m\u001b[0m\u001b[0m\n\u001b[0;32m     71\u001b[0m \u001b[1;31m#latent_df = pd.concat(latent_df_list)\u001b[0m\u001b[1;33m\u001b[0m\u001b[1;33m\u001b[0m\u001b[1;33m\u001b[0m\u001b[0m\n",
      "\u001b[1;32m~\\anaconda3\\lib\\site-packages\\pandas\\core\\reshape\\concat.py\u001b[0m in \u001b[0;36mconcat\u001b[1;34m(objs, axis, join, ignore_index, keys, levels, names, verify_integrity, sort, copy)\u001b[0m\n\u001b[0;32m    283\u001b[0m     \u001b[0mValueError\u001b[0m\u001b[1;33m:\u001b[0m \u001b[0mIndexes\u001b[0m \u001b[0mhave\u001b[0m \u001b[0moverlapping\u001b[0m \u001b[0mvalues\u001b[0m\u001b[1;33m:\u001b[0m \u001b[1;33m[\u001b[0m\u001b[1;34m'a'\u001b[0m\u001b[1;33m]\u001b[0m\u001b[1;33m\u001b[0m\u001b[1;33m\u001b[0m\u001b[0m\n\u001b[0;32m    284\u001b[0m     \"\"\"\n\u001b[1;32m--> 285\u001b[1;33m     op = _Concatenator(\n\u001b[0m\u001b[0;32m    286\u001b[0m         \u001b[0mobjs\u001b[0m\u001b[1;33m,\u001b[0m\u001b[1;33m\u001b[0m\u001b[1;33m\u001b[0m\u001b[0m\n\u001b[0;32m    287\u001b[0m         \u001b[0maxis\u001b[0m\u001b[1;33m=\u001b[0m\u001b[0maxis\u001b[0m\u001b[1;33m,\u001b[0m\u001b[1;33m\u001b[0m\u001b[1;33m\u001b[0m\u001b[0m\n",
      "\u001b[1;32m~\\anaconda3\\lib\\site-packages\\pandas\\core\\reshape\\concat.py\u001b[0m in \u001b[0;36m__init__\u001b[1;34m(self, objs, axis, join, keys, levels, names, ignore_index, verify_integrity, copy, sort)\u001b[0m\n\u001b[0;32m    340\u001b[0m \u001b[1;33m\u001b[0m\u001b[0m\n\u001b[0;32m    341\u001b[0m         \u001b[1;32mif\u001b[0m \u001b[0mlen\u001b[0m\u001b[1;33m(\u001b[0m\u001b[0mobjs\u001b[0m\u001b[1;33m)\u001b[0m \u001b[1;33m==\u001b[0m \u001b[1;36m0\u001b[0m\u001b[1;33m:\u001b[0m\u001b[1;33m\u001b[0m\u001b[1;33m\u001b[0m\u001b[0m\n\u001b[1;32m--> 342\u001b[1;33m             \u001b[1;32mraise\u001b[0m \u001b[0mValueError\u001b[0m\u001b[1;33m(\u001b[0m\u001b[1;34m\"No objects to concatenate\"\u001b[0m\u001b[1;33m)\u001b[0m\u001b[1;33m\u001b[0m\u001b[1;33m\u001b[0m\u001b[0m\n\u001b[0m\u001b[0;32m    343\u001b[0m \u001b[1;33m\u001b[0m\u001b[0m\n\u001b[0;32m    344\u001b[0m         \u001b[1;32mif\u001b[0m \u001b[0mkeys\u001b[0m \u001b[1;32mis\u001b[0m \u001b[1;32mNone\u001b[0m\u001b[1;33m:\u001b[0m\u001b[1;33m\u001b[0m\u001b[1;33m\u001b[0m\u001b[0m\n",
      "\u001b[1;31mValueError\u001b[0m: No objects to concatenate"
     ]
    }
   ],
   "source": [
    "# Fill\n",
    "digit_df_list = []\n",
    "dimension_df_list = []\n",
    "#latent_df_list = []\n",
    "\n",
    "\n",
    "for name, model in model_df.iterrows():\n",
    "    print(name)\n",
    "    if model['ae_type'] == \"ae\":\n",
    "        code = model['model'].encoder(test_digits).numpy()\n",
    "        code_std = np.empty(shape = code.shape)*np.nan\n",
    "        \n",
    "    elif model['ae_type'] == \"vae\":\n",
    "        digit_distribution = model['model'].encoder(test_digits).numpy()\n",
    "        code = digit_distribution[:,0,:]\n",
    "        code_std = np.sqrt(np.exp(digit_distribution[:,1,:]))\n",
    "    \n",
    "    # Caclualte digit_df data\n",
    "    digit_distance = np.linalg.norm(code, axis = 1)\n",
    "    digit_radius = np.power(np.prod(code_std, axis = 1),1/latent_dim)\n",
    "    digit_loss = tf.reduce_mean(tf.reduce_mean(tf.keras.losses.binary_crossentropy(test_digits, model['model'](test_digits)),axis = -1),axis = -1).numpy()\n",
    "    digit_tsne = TSNE(n_components = 2).fit_transform(code)\n",
    "    \n",
    "    _digit_df = pd.DataFrame(data = {\n",
    "        'model_name' : name,\n",
    "        'label' : test_labels,\n",
    "        'loss' : digit_loss,\n",
    "        'distance' : digit_distance,\n",
    "        'radius' : digit_radius,\n",
    "        'tsne_0' : digit_tsne[:,0],\n",
    "        'tsne_1' : digit_tsne[:,1],\n",
    "    })\n",
    "    digit_df_list.append(_digit_df)   \n",
    "    \n",
    "    \n",
    "    # Calculate dimension_df data\n",
    "    value_spread = np.nanstd(code, axis = 0)\n",
    "    spread_mean = np.nanmean(code_std, axis = 0)\n",
    "    dim_index = np.arange(latent_dim)\n",
    "    \n",
    "    _dimension_df = pd.DataFrame(data = {\n",
    "        'model_name' : name,\n",
    "        'dim_index' : dim_index,\n",
    "        'value_spread' : value_spread,\n",
    "        'spread_mean' : spread_mean,\n",
    "    })\n",
    "    \n",
    "    dimension_df_list.append(_dimension_df)\n",
    "    \"\"\"\n",
    "    # Calculate latent_df data\n",
    "    latent_labels = test_labels.repeat(repeats = latent_dim)\n",
    "    latent_digit_index = np.arange(num_test).repeat(repeats = latent_dim)\n",
    "    latent_dim_index = np.tile(np.arange(latent_dim), num_test)\n",
    "    latent_value = code.reshape(-1)\n",
    "    latent_spread = code_std.reshape(-1)\n",
    "    \n",
    "    _latent_df = pd.DataFrame(data = {\n",
    "        'model_name' : name,\n",
    "        'label' : latent_labels,\n",
    "        'digit_index' : latent_digit_index,\n",
    "        'dim_index' : latent_dim_index,\n",
    "        'value' : latent_value,\n",
    "        'spread' : latent_spread\n",
    "    })\n",
    "    \n",
    "    latent_df_list.append(_latent_df)\n",
    "    \"\"\"\n",
    "    \n",
    "        \n",
    "digit_df = pd.concat(digit_df_list)\n",
    "dimension_df = pd.concat(dimension_df_list)\n",
    "#latent_df = pd.concat(latent_df_list)"
   ]
  },
  {
   "cell_type": "code",
   "execution_count": 15,
   "id": "9e83f4b8",
   "metadata": {},
   "outputs": [
    {
     "name": "stderr",
     "output_type": "stream",
     "text": [
      "<ipython-input-15-f7eddffb12ed>:15: RuntimeWarning: Mean of empty slice\n",
      "  spread_mean = np.nanmean(code_std, axis = 0)\n"
     ]
    }
   ],
   "source": [
    "# Fill\n",
    "summary_df_list = []\n",
    "\n",
    "for name, model in model_df.iterrows():\n",
    "    if model['ae_type'] == \"ae\":\n",
    "        code = model['model'].encoder(test_digits).numpy()\n",
    "        code_std = np.empty(shape = code.shape)*np.nan\n",
    "        \n",
    "    elif model['ae_type'] == \"vae\":\n",
    "        digit_distribution = model['model'].encoder(test_digits).numpy()\n",
    "        code = digit_distribution[:,0,:]\n",
    "        code_std = np.sqrt(np.exp(digit_distribution[:,1,:]))\n",
    "\n",
    "    value_spread = np.nanstd(code, axis = 0)\n",
    "    spread_mean = np.nanmean(code_std, axis = 0)\n",
    "    dim_index = np.arange(latent_dim)\n",
    "    \n",
    "    _summary_df = pd.DataFrame(data = {\n",
    "        'model_name' : name,\n",
    "        'dim_index' : dim_index,\n",
    "        'value_spread' : value_spread,\n",
    "        'spread_mean' : spread_mean,\n",
    "    })\n",
    "    \n",
    "    summary_df_list.append(_summary_df)\n",
    "    \n",
    "    \n",
    "    \n",
    "summary_df = pd.concat(summary_df_list)       \n"
   ]
  },
  {
   "cell_type": "markdown",
   "id": "8c8142ca",
   "metadata": {},
   "source": [
    "## Investigation"
   ]
  },
  {
   "cell_type": "code",
   "execution_count": 8,
   "id": "e7e448a8",
   "metadata": {},
   "outputs": [
    {
     "data": {
      "text/html": [
       "<div>\n",
       "<style scoped>\n",
       "    .dataframe tbody tr th:only-of-type {\n",
       "        vertical-align: middle;\n",
       "    }\n",
       "\n",
       "    .dataframe tbody tr th {\n",
       "        vertical-align: top;\n",
       "    }\n",
       "\n",
       "    .dataframe thead th {\n",
       "        text-align: right;\n",
       "    }\n",
       "</style>\n",
       "<table border=\"1\" class=\"dataframe\">\n",
       "  <thead>\n",
       "    <tr style=\"text-align: right;\">\n",
       "      <th></th>\n",
       "      <th>path</th>\n",
       "      <th>ae_type</th>\n",
       "      <th>model</th>\n",
       "    </tr>\n",
       "  </thead>\n",
       "  <tbody>\n",
       "    <tr>\n",
       "      <th>ae</th>\n",
       "      <td>models\\saved\\ae</td>\n",
       "      <td>ae</td>\n",
       "      <td>&lt;models.autoencoder.Autoencoder object at 0x00...</td>\n",
       "    </tr>\n",
       "    <tr>\n",
       "      <th>vae_10</th>\n",
       "      <td>models\\saved\\vae_10</td>\n",
       "      <td>vae</td>\n",
       "      <td>&lt;models.variational_autoencoder.VariationalAut...</td>\n",
       "    </tr>\n",
       "    <tr>\n",
       "      <th>vae_100</th>\n",
       "      <td>models\\saved\\vae_100</td>\n",
       "      <td>vae</td>\n",
       "      <td>&lt;models.variational_autoencoder.VariationalAut...</td>\n",
       "    </tr>\n",
       "    <tr>\n",
       "      <th>vae_1000</th>\n",
       "      <td>models\\saved\\vae_1000</td>\n",
       "      <td>vae</td>\n",
       "      <td>&lt;models.variational_autoencoder.VariationalAut...</td>\n",
       "    </tr>\n",
       "  </tbody>\n",
       "</table>\n",
       "</div>"
      ],
      "text/plain": [
       "                           path ae_type  \\\n",
       "ae              models\\saved\\ae      ae   \n",
       "vae_10      models\\saved\\vae_10     vae   \n",
       "vae_100    models\\saved\\vae_100     vae   \n",
       "vae_1000  models\\saved\\vae_1000     vae   \n",
       "\n",
       "                                                      model  \n",
       "ae        <models.autoencoder.Autoencoder object at 0x00...  \n",
       "vae_10    <models.variational_autoencoder.VariationalAut...  \n",
       "vae_100   <models.variational_autoencoder.VariationalAut...  \n",
       "vae_1000  <models.variational_autoencoder.VariationalAut...  "
      ]
     },
     "execution_count": 8,
     "metadata": {},
     "output_type": "execute_result"
    }
   ],
   "source": [
    "model_df.head()"
   ]
  },
  {
   "cell_type": "markdown",
   "id": "9ba4df8a",
   "metadata": {},
   "source": [
    "### Show reconstructions"
   ]
  },
  {
   "cell_type": "code",
   "execution_count": 10,
   "id": "3b84be09",
   "metadata": {},
   "outputs": [
    {
     "data": {
      "text/html": [
       "<div>\n",
       "<style scoped>\n",
       "    .dataframe tbody tr th:only-of-type {\n",
       "        vertical-align: middle;\n",
       "    }\n",
       "\n",
       "    .dataframe tbody tr th {\n",
       "        vertical-align: top;\n",
       "    }\n",
       "\n",
       "    .dataframe thead th {\n",
       "        text-align: right;\n",
       "    }\n",
       "</style>\n",
       "<table border=\"1\" class=\"dataframe\">\n",
       "  <thead>\n",
       "    <tr style=\"text-align: right;\">\n",
       "      <th></th>\n",
       "      <th>model_name</th>\n",
       "      <th>label</th>\n",
       "      <th>loss</th>\n",
       "      <th>distance</th>\n",
       "      <th>radius</th>\n",
       "      <th>tsne_0</th>\n",
       "      <th>tsne_1</th>\n",
       "    </tr>\n",
       "  </thead>\n",
       "  <tbody>\n",
       "    <tr>\n",
       "      <th>0</th>\n",
       "      <td>ae</td>\n",
       "      <td>7</td>\n",
       "      <td>0.070490</td>\n",
       "      <td>15.820858</td>\n",
       "      <td>NaN</td>\n",
       "      <td>-28.667141</td>\n",
       "      <td>-63.954178</td>\n",
       "    </tr>\n",
       "    <tr>\n",
       "      <th>1</th>\n",
       "      <td>ae</td>\n",
       "      <td>2</td>\n",
       "      <td>0.117689</td>\n",
       "      <td>9.960896</td>\n",
       "      <td>NaN</td>\n",
       "      <td>30.137865</td>\n",
       "      <td>-0.884450</td>\n",
       "    </tr>\n",
       "    <tr>\n",
       "      <th>2</th>\n",
       "      <td>ae</td>\n",
       "      <td>1</td>\n",
       "      <td>0.038200</td>\n",
       "      <td>24.145765</td>\n",
       "      <td>NaN</td>\n",
       "      <td>15.647351</td>\n",
       "      <td>90.323151</td>\n",
       "    </tr>\n",
       "    <tr>\n",
       "      <th>3</th>\n",
       "      <td>ae</td>\n",
       "      <td>0</td>\n",
       "      <td>0.096915</td>\n",
       "      <td>8.166095</td>\n",
       "      <td>NaN</td>\n",
       "      <td>-42.469177</td>\n",
       "      <td>41.560150</td>\n",
       "    </tr>\n",
       "    <tr>\n",
       "      <th>4</th>\n",
       "      <td>ae</td>\n",
       "      <td>4</td>\n",
       "      <td>0.084998</td>\n",
       "      <td>14.815680</td>\n",
       "      <td>NaN</td>\n",
       "      <td>50.866463</td>\n",
       "      <td>-50.951992</td>\n",
       "    </tr>\n",
       "  </tbody>\n",
       "</table>\n",
       "</div>"
      ],
      "text/plain": [
       "  model_name  label      loss   distance  radius     tsne_0     tsne_1\n",
       "0         ae      7  0.070490  15.820858     NaN -28.667141 -63.954178\n",
       "1         ae      2  0.117689   9.960896     NaN  30.137865  -0.884450\n",
       "2         ae      1  0.038200  24.145765     NaN  15.647351  90.323151\n",
       "3         ae      0  0.096915   8.166095     NaN -42.469177  41.560150\n",
       "4         ae      4  0.084998  14.815680     NaN  50.866463 -50.951992"
      ]
     },
     "execution_count": 10,
     "metadata": {},
     "output_type": "execute_result"
    }
   ],
   "source": [
    "digit_df.head()"
   ]
  },
  {
   "cell_type": "code",
   "execution_count": 14,
   "id": "96e191bc",
   "metadata": {},
   "outputs": [
    {
     "data": {
      "text/html": [
       "<div>\n",
       "<style scoped>\n",
       "    .dataframe tbody tr th:only-of-type {\n",
       "        vertical-align: middle;\n",
       "    }\n",
       "\n",
       "    .dataframe tbody tr th {\n",
       "        vertical-align: top;\n",
       "    }\n",
       "\n",
       "    .dataframe thead th {\n",
       "        text-align: right;\n",
       "    }\n",
       "</style>\n",
       "<table border=\"1\" class=\"dataframe\">\n",
       "  <thead>\n",
       "    <tr style=\"text-align: right;\">\n",
       "      <th></th>\n",
       "      <th>model_name</th>\n",
       "      <th>dim_index</th>\n",
       "      <th>value_spread</th>\n",
       "      <th>spread_mean</th>\n",
       "    </tr>\n",
       "  </thead>\n",
       "  <tbody>\n",
       "    <tr>\n",
       "      <th>0</th>\n",
       "      <td>vae_10</td>\n",
       "      <td>0</td>\n",
       "      <td>0.001527</td>\n",
       "      <td>0.999866</td>\n",
       "    </tr>\n",
       "    <tr>\n",
       "      <th>1</th>\n",
       "      <td>vae_10</td>\n",
       "      <td>1</td>\n",
       "      <td>0.002135</td>\n",
       "      <td>0.999811</td>\n",
       "    </tr>\n",
       "    <tr>\n",
       "      <th>0</th>\n",
       "      <td>vae_21</td>\n",
       "      <td>0</td>\n",
       "      <td>0.766351</td>\n",
       "      <td>0.626590</td>\n",
       "    </tr>\n",
       "    <tr>\n",
       "      <th>1</th>\n",
       "      <td>vae_21</td>\n",
       "      <td>1</td>\n",
       "      <td>0.612333</td>\n",
       "      <td>0.778895</td>\n",
       "    </tr>\n",
       "    <tr>\n",
       "      <th>0</th>\n",
       "      <td>vae_46</td>\n",
       "      <td>0</td>\n",
       "      <td>1.013069</td>\n",
       "      <td>0.272481</td>\n",
       "    </tr>\n",
       "  </tbody>\n",
       "</table>\n",
       "</div>"
      ],
      "text/plain": [
       "  model_name  dim_index  value_spread  spread_mean\n",
       "0     vae_10          0      0.001527     0.999866\n",
       "1     vae_10          1      0.002135     0.999811\n",
       "0     vae_21          0      0.766351     0.626590\n",
       "1     vae_21          1      0.612333     0.778895\n",
       "0     vae_46          0      1.013069     0.272481"
      ]
     },
     "execution_count": 14,
     "metadata": {},
     "output_type": "execute_result"
    }
   ],
   "source": [
    "dimension_df.head()"
   ]
  },
  {
   "cell_type": "code",
   "execution_count": 12,
   "id": "f46c5379",
   "metadata": {},
   "outputs": [
    {
     "data": {
      "text/html": [
       "<div>\n",
       "<style scoped>\n",
       "    .dataframe tbody tr th:only-of-type {\n",
       "        vertical-align: middle;\n",
       "    }\n",
       "\n",
       "    .dataframe tbody tr th {\n",
       "        vertical-align: top;\n",
       "    }\n",
       "\n",
       "    .dataframe thead th {\n",
       "        text-align: right;\n",
       "    }\n",
       "</style>\n",
       "<table border=\"1\" class=\"dataframe\">\n",
       "  <thead>\n",
       "    <tr style=\"text-align: right;\">\n",
       "      <th></th>\n",
       "      <th>model_name</th>\n",
       "      <th>label</th>\n",
       "      <th>digit_index</th>\n",
       "      <th>dim_index</th>\n",
       "      <th>value</th>\n",
       "      <th>spread</th>\n",
       "    </tr>\n",
       "  </thead>\n",
       "  <tbody>\n",
       "    <tr>\n",
       "      <th>0</th>\n",
       "      <td>ae</td>\n",
       "      <td>7</td>\n",
       "      <td>0</td>\n",
       "      <td>0</td>\n",
       "      <td>8.920861</td>\n",
       "      <td>NaN</td>\n",
       "    </tr>\n",
       "    <tr>\n",
       "      <th>1</th>\n",
       "      <td>ae</td>\n",
       "      <td>7</td>\n",
       "      <td>0</td>\n",
       "      <td>1</td>\n",
       "      <td>2.935239</td>\n",
       "      <td>NaN</td>\n",
       "    </tr>\n",
       "    <tr>\n",
       "      <th>2</th>\n",
       "      <td>ae</td>\n",
       "      <td>7</td>\n",
       "      <td>0</td>\n",
       "      <td>2</td>\n",
       "      <td>0.101040</td>\n",
       "      <td>NaN</td>\n",
       "    </tr>\n",
       "    <tr>\n",
       "      <th>3</th>\n",
       "      <td>ae</td>\n",
       "      <td>7</td>\n",
       "      <td>0</td>\n",
       "      <td>3</td>\n",
       "      <td>3.835251</td>\n",
       "      <td>NaN</td>\n",
       "    </tr>\n",
       "    <tr>\n",
       "      <th>4</th>\n",
       "      <td>ae</td>\n",
       "      <td>7</td>\n",
       "      <td>0</td>\n",
       "      <td>4</td>\n",
       "      <td>5.167331</td>\n",
       "      <td>NaN</td>\n",
       "    </tr>\n",
       "  </tbody>\n",
       "</table>\n",
       "</div>"
      ],
      "text/plain": [
       "  model_name  label  digit_index  dim_index     value  spread\n",
       "0         ae      7            0          0  8.920861     NaN\n",
       "1         ae      7            0          1  2.935239     NaN\n",
       "2         ae      7            0          2  0.101040     NaN\n",
       "3         ae      7            0          3  3.835251     NaN\n",
       "4         ae      7            0          4  5.167331     NaN"
      ]
     },
     "execution_count": 12,
     "metadata": {},
     "output_type": "execute_result"
    }
   ],
   "source": [
    "latent_df.head()"
   ]
  },
  {
   "cell_type": "code",
   "execution_count": 13,
   "id": "d32949c2",
   "metadata": {},
   "outputs": [],
   "source": []
  },
  {
   "cell_type": "code",
   "execution_count": 31,
   "id": "e796e6a4",
   "metadata": {},
   "outputs": [],
   "source": [
    "num_col = 4\n",
    "num_row = 3\n",
    "num_img = num_row*num_col\n",
    "rec_index = rnd.randint(num_test,size =(num_row*num_col,) )\n",
    "digits = test_digits\n",
    "digits = digits[rec_index]"
   ]
  },
  {
   "cell_type": "code",
   "execution_count": 32,
   "id": "7e6dd264",
   "metadata": {},
   "outputs": [
    {
     "data": {
      "text/plain": [
       "<AxesSubplot:>"
      ]
     },
     "execution_count": 32,
     "metadata": {},
     "output_type": "execute_result"
    }
   ],
   "source": [
    "\n",
    "model = model_df.loc['ae','model']\n",
    "\n",
    "reconstructions = model(digits)\n",
    "i = 0\n",
    "for col in range(num_col):\n",
    "    for row in range(num_row): \n",
    "        pair = np.concatenate((digits[i], reconstructions[i]), axis = 1)\n",
    "        if row == 0: \n",
    "            ver_img = pair\n",
    "        else:\n",
    "            ver_img = np.concatenate((ver_img,\n",
    "                                 pair), axis = 0)\n",
    "        i = i + 1\n",
    "    if col == 0:\n",
    "        img = ver_img\n",
    "    else: \n",
    "        img = np.concatenate((img,\n",
    "                              ver_img), axis = 1)\n",
    "\n",
    "sns.heatmap(img[:,:,0], vmin=0, vmax = 1)"
   ]
  },
  {
   "cell_type": "code",
   "execution_count": 33,
   "id": "b2ef13fe",
   "metadata": {},
   "outputs": [
    {
     "data": {
      "text/plain": [
       "<AxesSubplot:>"
      ]
     },
     "execution_count": 33,
     "metadata": {},
     "output_type": "execute_result"
    }
   ],
   "source": [
    "\n",
    "num_dig = 14\n",
    "rec_index = rnd.randint(num_test,size =(num_dig,) )\n",
    "digits = test_digits\n",
    "digits = digits[rec_index]\n",
    "\n",
    "reconstructions = []\n",
    "for name, model in model_df.iterrows():\n",
    "    reconstructions.append(model['model'](digits))\n",
    "\n",
    "for dig_i in range(num_dig):\n",
    "    rec_im = digits[dig_i]\n",
    "    model_i = 0\n",
    "    for name, model in model_df.iterrows():\n",
    "        \n",
    "        rec_im = np.concatenate((rec_im,\n",
    "                         reconstructions[model_i][dig_i]),\n",
    "                         axis = 0)\n",
    "        model_i = model_i + 1\n",
    "    if dig_i == 0:\n",
    "        im = rec_im\n",
    "    else:\n",
    "        im = np.concatenate((im, rec_im), axis = 1)\n",
    "    \n",
    "sns.heatmap(im[:,:,0], vmin=0, vmax = 1)"
   ]
  },
  {
   "cell_type": "code",
   "execution_count": null,
   "id": "5847f013",
   "metadata": {},
   "outputs": [],
   "source": []
  },
  {
   "cell_type": "markdown",
   "id": "48f36a17",
   "metadata": {},
   "source": [
    "### Latent"
   ]
  },
  {
   "cell_type": "code",
   "execution_count": 34,
   "id": "754dcaaa",
   "metadata": {},
   "outputs": [],
   "source": [
    "\n",
    "indeces = rnd.randint(num_test,size = (3,))\n",
    "indeces = [1,2,3]\n",
    "ul = test_digits[indeces[0]]\n",
    "ur = test_digits[indeces[1]]\n",
    "dl = test_digits[indeces[2]]\n",
    "z =  np.zeros(dl.shape)\n",
    "corner_image = np.concatenate( (np.concatenate((ul,ur),axis = 1),\n",
    "                                np.concatenate((dl,z ),axis = 1)), axis = 0)\n"
   ]
  },
  {
   "cell_type": "code",
   "execution_count": 35,
   "id": "4b8d0f48",
   "metadata": {},
   "outputs": [
    {
     "data": {
      "text/plain": [
       "<AxesSubplot:>"
      ]
     },
     "execution_count": 35,
     "metadata": {},
     "output_type": "execute_result"
    }
   ],
   "source": [
    "\n",
    "model = model_df.loc['vae_10','model']\n",
    "mosaic = LatentInterpolationMosaic(\n",
    "                          model.encode,\n",
    "                          model.decoder,\n",
    "                          test_digits,\n",
    "                          indeces,\n",
    "                          num_row = 15,\n",
    "                          num_col = 15).mosaic\n",
    "\n",
    "\n",
    "\n",
    "sns.heatmap(mosaic[:,:,0], vmin = 0, vmax = 1)"
   ]
  },
  {
   "cell_type": "markdown",
   "id": "a6ff05cf",
   "metadata": {},
   "source": [
    "### Scatter"
   ]
  },
  {
   "cell_type": "code",
   "execution_count": 108,
   "id": "ffef7aa0",
   "metadata": {},
   "outputs": [
    {
     "data": {
      "text/plain": [
       "<visual.sample_scatter_gui.SampleScatterGUI at 0x20aeecf4850>"
      ]
     },
     "execution_count": 108,
     "metadata": {},
     "output_type": "execute_result"
    }
   ],
   "source": [
    "model_name = 'vae_1000'\n",
    "scatter = latent_df[latent_df['model_name']==model_name][['tsne_0', 'tsne_1']].to_numpy()\n",
    "SampleScatterGUI(scatter, test_labels, test_digits)\n"
   ]
  },
  {
   "cell_type": "code",
   "execution_count": 36,
   "id": "72cedd2b",
   "metadata": {},
   "outputs": [
    {
     "ename": "ValueError",
     "evalue": "Could not interpret value `tsne_0` for parameter `x`",
     "output_type": "error",
     "traceback": [
      "\u001b[1;31m---------------------------------------------------------------------------\u001b[0m",
      "\u001b[1;31mValueError\u001b[0m                                Traceback (most recent call last)",
      "\u001b[1;32m<ipython-input-36-1d0e45f70276>\u001b[0m in \u001b[0;36m<module>\u001b[1;34m\u001b[0m\n\u001b[0;32m      1\u001b[0m \u001b[0mmodel_name\u001b[0m \u001b[1;33m=\u001b[0m \u001b[1;34m\"vae_1000\"\u001b[0m\u001b[1;33m\u001b[0m\u001b[1;33m\u001b[0m\u001b[0m\n\u001b[1;32m----> 2\u001b[1;33m sns.jointplot(data = latent_df[latent_df['model_name'] == model_name ], x = 'tsne_0', y = 'tsne_1',\n\u001b[0m\u001b[0;32m      3\u001b[0m               \u001b[0mhue\u001b[0m \u001b[1;33m=\u001b[0m \u001b[1;34m'label'\u001b[0m\u001b[1;33m,\u001b[0m\u001b[1;33m\u001b[0m\u001b[1;33m\u001b[0m\u001b[0m\n\u001b[0;32m      4\u001b[0m               palette = 'colorblind')\n",
      "\u001b[1;32m~\\anaconda3\\lib\\site-packages\\seaborn\\_decorators.py\u001b[0m in \u001b[0;36minner_f\u001b[1;34m(*args, **kwargs)\u001b[0m\n\u001b[0;32m     44\u001b[0m             )\n\u001b[0;32m     45\u001b[0m         \u001b[0mkwargs\u001b[0m\u001b[1;33m.\u001b[0m\u001b[0mupdate\u001b[0m\u001b[1;33m(\u001b[0m\u001b[1;33m{\u001b[0m\u001b[0mk\u001b[0m\u001b[1;33m:\u001b[0m \u001b[0marg\u001b[0m \u001b[1;32mfor\u001b[0m \u001b[0mk\u001b[0m\u001b[1;33m,\u001b[0m \u001b[0marg\u001b[0m \u001b[1;32min\u001b[0m \u001b[0mzip\u001b[0m\u001b[1;33m(\u001b[0m\u001b[0msig\u001b[0m\u001b[1;33m.\u001b[0m\u001b[0mparameters\u001b[0m\u001b[1;33m,\u001b[0m \u001b[0margs\u001b[0m\u001b[1;33m)\u001b[0m\u001b[1;33m}\u001b[0m\u001b[1;33m)\u001b[0m\u001b[1;33m\u001b[0m\u001b[1;33m\u001b[0m\u001b[0m\n\u001b[1;32m---> 46\u001b[1;33m         \u001b[1;32mreturn\u001b[0m \u001b[0mf\u001b[0m\u001b[1;33m(\u001b[0m\u001b[1;33m**\u001b[0m\u001b[0mkwargs\u001b[0m\u001b[1;33m)\u001b[0m\u001b[1;33m\u001b[0m\u001b[1;33m\u001b[0m\u001b[0m\n\u001b[0m\u001b[0;32m     47\u001b[0m     \u001b[1;32mreturn\u001b[0m \u001b[0minner_f\u001b[0m\u001b[1;33m\u001b[0m\u001b[1;33m\u001b[0m\u001b[0m\n\u001b[0;32m     48\u001b[0m \u001b[1;33m\u001b[0m\u001b[0m\n",
      "\u001b[1;32m~\\anaconda3\\lib\\site-packages\\seaborn\\axisgrid.py\u001b[0m in \u001b[0;36mjointplot\u001b[1;34m(x, y, data, kind, color, height, ratio, space, dropna, xlim, ylim, marginal_ticks, joint_kws, marginal_kws, hue, palette, hue_order, hue_norm, **kwargs)\u001b[0m\n\u001b[0;32m   2119\u001b[0m \u001b[1;33m\u001b[0m\u001b[0m\n\u001b[0;32m   2120\u001b[0m     \u001b[1;31m# Initialize the JointGrid object\u001b[0m\u001b[1;33m\u001b[0m\u001b[1;33m\u001b[0m\u001b[1;33m\u001b[0m\u001b[0m\n\u001b[1;32m-> 2121\u001b[1;33m     grid = JointGrid(\n\u001b[0m\u001b[0;32m   2122\u001b[0m         \u001b[0mdata\u001b[0m\u001b[1;33m=\u001b[0m\u001b[0mdata\u001b[0m\u001b[1;33m,\u001b[0m \u001b[0mx\u001b[0m\u001b[1;33m=\u001b[0m\u001b[0mx\u001b[0m\u001b[1;33m,\u001b[0m \u001b[0my\u001b[0m\u001b[1;33m=\u001b[0m\u001b[0my\u001b[0m\u001b[1;33m,\u001b[0m \u001b[0mhue\u001b[0m\u001b[1;33m=\u001b[0m\u001b[0mhue\u001b[0m\u001b[1;33m,\u001b[0m\u001b[1;33m\u001b[0m\u001b[1;33m\u001b[0m\u001b[0m\n\u001b[0;32m   2123\u001b[0m         \u001b[0mpalette\u001b[0m\u001b[1;33m=\u001b[0m\u001b[0mpalette\u001b[0m\u001b[1;33m,\u001b[0m \u001b[0mhue_order\u001b[0m\u001b[1;33m=\u001b[0m\u001b[0mhue_order\u001b[0m\u001b[1;33m,\u001b[0m \u001b[0mhue_norm\u001b[0m\u001b[1;33m=\u001b[0m\u001b[0mhue_norm\u001b[0m\u001b[1;33m,\u001b[0m\u001b[1;33m\u001b[0m\u001b[1;33m\u001b[0m\u001b[0m\n",
      "\u001b[1;32m~\\anaconda3\\lib\\site-packages\\seaborn\\_decorators.py\u001b[0m in \u001b[0;36minner_f\u001b[1;34m(*args, **kwargs)\u001b[0m\n\u001b[0;32m     44\u001b[0m             )\n\u001b[0;32m     45\u001b[0m         \u001b[0mkwargs\u001b[0m\u001b[1;33m.\u001b[0m\u001b[0mupdate\u001b[0m\u001b[1;33m(\u001b[0m\u001b[1;33m{\u001b[0m\u001b[0mk\u001b[0m\u001b[1;33m:\u001b[0m \u001b[0marg\u001b[0m \u001b[1;32mfor\u001b[0m \u001b[0mk\u001b[0m\u001b[1;33m,\u001b[0m \u001b[0marg\u001b[0m \u001b[1;32min\u001b[0m \u001b[0mzip\u001b[0m\u001b[1;33m(\u001b[0m\u001b[0msig\u001b[0m\u001b[1;33m.\u001b[0m\u001b[0mparameters\u001b[0m\u001b[1;33m,\u001b[0m \u001b[0margs\u001b[0m\u001b[1;33m)\u001b[0m\u001b[1;33m}\u001b[0m\u001b[1;33m)\u001b[0m\u001b[1;33m\u001b[0m\u001b[1;33m\u001b[0m\u001b[0m\n\u001b[1;32m---> 46\u001b[1;33m         \u001b[1;32mreturn\u001b[0m \u001b[0mf\u001b[0m\u001b[1;33m(\u001b[0m\u001b[1;33m**\u001b[0m\u001b[0mkwargs\u001b[0m\u001b[1;33m)\u001b[0m\u001b[1;33m\u001b[0m\u001b[1;33m\u001b[0m\u001b[0m\n\u001b[0m\u001b[0;32m     47\u001b[0m     \u001b[1;32mreturn\u001b[0m \u001b[0minner_f\u001b[0m\u001b[1;33m\u001b[0m\u001b[1;33m\u001b[0m\u001b[0m\n\u001b[0;32m     48\u001b[0m \u001b[1;33m\u001b[0m\u001b[0m\n",
      "\u001b[1;32m~\\anaconda3\\lib\\site-packages\\seaborn\\axisgrid.py\u001b[0m in \u001b[0;36m__init__\u001b[1;34m(self, x, y, data, height, ratio, space, dropna, xlim, ylim, size, marginal_ticks, hue, palette, hue_order, hue_norm)\u001b[0m\n\u001b[0;32m   1628\u001b[0m \u001b[1;33m\u001b[0m\u001b[0m\n\u001b[0;32m   1629\u001b[0m         \u001b[1;31m# Process the input variables\u001b[0m\u001b[1;33m\u001b[0m\u001b[1;33m\u001b[0m\u001b[1;33m\u001b[0m\u001b[0m\n\u001b[1;32m-> 1630\u001b[1;33m         \u001b[0mp\u001b[0m \u001b[1;33m=\u001b[0m \u001b[0mVectorPlotter\u001b[0m\u001b[1;33m(\u001b[0m\u001b[0mdata\u001b[0m\u001b[1;33m=\u001b[0m\u001b[0mdata\u001b[0m\u001b[1;33m,\u001b[0m \u001b[0mvariables\u001b[0m\u001b[1;33m=\u001b[0m\u001b[0mdict\u001b[0m\u001b[1;33m(\u001b[0m\u001b[0mx\u001b[0m\u001b[1;33m=\u001b[0m\u001b[0mx\u001b[0m\u001b[1;33m,\u001b[0m \u001b[0my\u001b[0m\u001b[1;33m=\u001b[0m\u001b[0my\u001b[0m\u001b[1;33m,\u001b[0m \u001b[0mhue\u001b[0m\u001b[1;33m=\u001b[0m\u001b[0mhue\u001b[0m\u001b[1;33m)\u001b[0m\u001b[1;33m)\u001b[0m\u001b[1;33m\u001b[0m\u001b[1;33m\u001b[0m\u001b[0m\n\u001b[0m\u001b[0;32m   1631\u001b[0m         \u001b[0mplot_data\u001b[0m \u001b[1;33m=\u001b[0m \u001b[0mp\u001b[0m\u001b[1;33m.\u001b[0m\u001b[0mplot_data\u001b[0m\u001b[1;33m.\u001b[0m\u001b[0mloc\u001b[0m\u001b[1;33m[\u001b[0m\u001b[1;33m:\u001b[0m\u001b[1;33m,\u001b[0m \u001b[0mp\u001b[0m\u001b[1;33m.\u001b[0m\u001b[0mplot_data\u001b[0m\u001b[1;33m.\u001b[0m\u001b[0mnotna\u001b[0m\u001b[1;33m(\u001b[0m\u001b[1;33m)\u001b[0m\u001b[1;33m.\u001b[0m\u001b[0many\u001b[0m\u001b[1;33m(\u001b[0m\u001b[1;33m)\u001b[0m\u001b[1;33m]\u001b[0m\u001b[1;33m\u001b[0m\u001b[1;33m\u001b[0m\u001b[0m\n\u001b[0;32m   1632\u001b[0m \u001b[1;33m\u001b[0m\u001b[0m\n",
      "\u001b[1;32m~\\anaconda3\\lib\\site-packages\\seaborn\\_core.py\u001b[0m in \u001b[0;36m__init__\u001b[1;34m(self, data, variables)\u001b[0m\n\u001b[0;32m    602\u001b[0m     \u001b[1;32mdef\u001b[0m \u001b[0m__init__\u001b[0m\u001b[1;33m(\u001b[0m\u001b[0mself\u001b[0m\u001b[1;33m,\u001b[0m \u001b[0mdata\u001b[0m\u001b[1;33m=\u001b[0m\u001b[1;32mNone\u001b[0m\u001b[1;33m,\u001b[0m \u001b[0mvariables\u001b[0m\u001b[1;33m=\u001b[0m\u001b[1;33m{\u001b[0m\u001b[1;33m}\u001b[0m\u001b[1;33m)\u001b[0m\u001b[1;33m:\u001b[0m\u001b[1;33m\u001b[0m\u001b[1;33m\u001b[0m\u001b[0m\n\u001b[0;32m    603\u001b[0m \u001b[1;33m\u001b[0m\u001b[0m\n\u001b[1;32m--> 604\u001b[1;33m         \u001b[0mself\u001b[0m\u001b[1;33m.\u001b[0m\u001b[0massign_variables\u001b[0m\u001b[1;33m(\u001b[0m\u001b[0mdata\u001b[0m\u001b[1;33m,\u001b[0m \u001b[0mvariables\u001b[0m\u001b[1;33m)\u001b[0m\u001b[1;33m\u001b[0m\u001b[1;33m\u001b[0m\u001b[0m\n\u001b[0m\u001b[0;32m    605\u001b[0m \u001b[1;33m\u001b[0m\u001b[0m\n\u001b[0;32m    606\u001b[0m         \u001b[1;32mfor\u001b[0m \u001b[0mvar\u001b[0m\u001b[1;33m,\u001b[0m \u001b[0mcls\u001b[0m \u001b[1;32min\u001b[0m \u001b[0mself\u001b[0m\u001b[1;33m.\u001b[0m\u001b[0m_semantic_mappings\u001b[0m\u001b[1;33m.\u001b[0m\u001b[0mitems\u001b[0m\u001b[1;33m(\u001b[0m\u001b[1;33m)\u001b[0m\u001b[1;33m:\u001b[0m\u001b[1;33m\u001b[0m\u001b[1;33m\u001b[0m\u001b[0m\n",
      "\u001b[1;32m~\\anaconda3\\lib\\site-packages\\seaborn\\_core.py\u001b[0m in \u001b[0;36massign_variables\u001b[1;34m(self, data, variables)\u001b[0m\n\u001b[0;32m    665\u001b[0m         \u001b[1;32melse\u001b[0m\u001b[1;33m:\u001b[0m\u001b[1;33m\u001b[0m\u001b[1;33m\u001b[0m\u001b[0m\n\u001b[0;32m    666\u001b[0m             \u001b[0mself\u001b[0m\u001b[1;33m.\u001b[0m\u001b[0minput_format\u001b[0m \u001b[1;33m=\u001b[0m \u001b[1;34m\"long\"\u001b[0m\u001b[1;33m\u001b[0m\u001b[1;33m\u001b[0m\u001b[0m\n\u001b[1;32m--> 667\u001b[1;33m             plot_data, variables = self._assign_variables_longform(\n\u001b[0m\u001b[0;32m    668\u001b[0m                 \u001b[0mdata\u001b[0m\u001b[1;33m,\u001b[0m \u001b[1;33m**\u001b[0m\u001b[0mvariables\u001b[0m\u001b[1;33m,\u001b[0m\u001b[1;33m\u001b[0m\u001b[1;33m\u001b[0m\u001b[0m\n\u001b[0;32m    669\u001b[0m             )\n",
      "\u001b[1;32m~\\anaconda3\\lib\\site-packages\\seaborn\\_core.py\u001b[0m in \u001b[0;36m_assign_variables_longform\u001b[1;34m(self, data, **kwargs)\u001b[0m\n\u001b[0;32m    900\u001b[0m \u001b[1;33m\u001b[0m\u001b[0m\n\u001b[0;32m    901\u001b[0m                 \u001b[0merr\u001b[0m \u001b[1;33m=\u001b[0m \u001b[1;34mf\"Could not interpret value `{val}` for parameter `{key}`\"\u001b[0m\u001b[1;33m\u001b[0m\u001b[1;33m\u001b[0m\u001b[0m\n\u001b[1;32m--> 902\u001b[1;33m                 \u001b[1;32mraise\u001b[0m \u001b[0mValueError\u001b[0m\u001b[1;33m(\u001b[0m\u001b[0merr\u001b[0m\u001b[1;33m)\u001b[0m\u001b[1;33m\u001b[0m\u001b[1;33m\u001b[0m\u001b[0m\n\u001b[0m\u001b[0;32m    903\u001b[0m \u001b[1;33m\u001b[0m\u001b[0m\n\u001b[0;32m    904\u001b[0m             \u001b[1;32melse\u001b[0m\u001b[1;33m:\u001b[0m\u001b[1;33m\u001b[0m\u001b[1;33m\u001b[0m\u001b[0m\n",
      "\u001b[1;31mValueError\u001b[0m: Could not interpret value `tsne_0` for parameter `x`"
     ]
    }
   ],
   "source": [
    "model_name = \"vae_1000\"\n",
    "sns.jointplot(data = latent_df[latent_df['model_name'] == model_name ], x = 'tsne_0', y = 'tsne_1',\n",
    "              hue = 'label',\n",
    "              palette = 'colorblind')"
   ]
  },
  {
   "cell_type": "code",
   "execution_count": 110,
   "id": "75a55e57",
   "metadata": {},
   "outputs": [
    {
     "data": {
      "text/plain": [
       "<seaborn.axisgrid.FacetGrid at 0x20ae3fbfa00>"
      ]
     },
     "execution_count": 110,
     "metadata": {},
     "output_type": "execute_result"
    }
   ],
   "source": [
    "model_name = \"vae_1000\"\n",
    "sns.relplot(data = latent_df[latent_df['model_name'] == model_name ], x = 'tsne_0', y = 'tsne_1',\n",
    "              hue = 'label',\n",
    "              palette = 'colorblind',\n",
    "           kind = 'scatter')"
   ]
  },
  {
   "cell_type": "markdown",
   "id": "701d4959",
   "metadata": {},
   "source": [
    "### Spread"
   ]
  },
  {
   "cell_type": "markdown",
   "id": "7e77fa67",
   "metadata": {},
   "source": [
    "Here we have that the first 6 principal axises are almost one and the remaining 4 are almost zero (e-3). This is combination with that the cross covariance seem to be super much zero (e-15), indicates that we have a six dimesnioal sphere in this ten dimesional latent space. Interesting to see is also if you create a latent vector in the pca-vector space. Then comparing the latent value in each dimension times the spread in each dimension, gives you the importance of that dimension in that latent point. A low importance will not have an effect on the output (kind of like a low derivative...), while a hight value will give a big difference."
   ]
  },
  {
   "cell_type": "code",
   "execution_count": 111,
   "id": "fa4675c5",
   "metadata": {},
   "outputs": [],
   "source": [
    "axis_index = [0,-1]\n",
    "scaling_factors = np.array([2,2])"
   ]
  },
  {
   "cell_type": "code",
   "execution_count": 112,
   "id": "55542952",
   "metadata": {},
   "outputs": [
    {
     "ename": "KeyError",
     "evalue": "'latent_base'",
     "output_type": "error",
     "traceback": [
      "\u001b[1;31m---------------------------------------------------------------------------\u001b[0m",
      "\u001b[1;31mKeyError\u001b[0m                                  Traceback (most recent call last)",
      "\u001b[1;32m~\\anaconda3\\lib\\site-packages\\pandas\\core\\indexes\\base.py\u001b[0m in \u001b[0;36mget_loc\u001b[1;34m(self, key, method, tolerance)\u001b[0m\n\u001b[0;32m   3079\u001b[0m             \u001b[1;32mtry\u001b[0m\u001b[1;33m:\u001b[0m\u001b[1;33m\u001b[0m\u001b[1;33m\u001b[0m\u001b[0m\n\u001b[1;32m-> 3080\u001b[1;33m                 \u001b[1;32mreturn\u001b[0m \u001b[0mself\u001b[0m\u001b[1;33m.\u001b[0m\u001b[0m_engine\u001b[0m\u001b[1;33m.\u001b[0m\u001b[0mget_loc\u001b[0m\u001b[1;33m(\u001b[0m\u001b[0mcasted_key\u001b[0m\u001b[1;33m)\u001b[0m\u001b[1;33m\u001b[0m\u001b[1;33m\u001b[0m\u001b[0m\n\u001b[0m\u001b[0;32m   3081\u001b[0m             \u001b[1;32mexcept\u001b[0m \u001b[0mKeyError\u001b[0m \u001b[1;32mas\u001b[0m \u001b[0merr\u001b[0m\u001b[1;33m:\u001b[0m\u001b[1;33m\u001b[0m\u001b[1;33m\u001b[0m\u001b[0m\n",
      "\u001b[1;32mpandas\\_libs\\index.pyx\u001b[0m in \u001b[0;36mpandas._libs.index.IndexEngine.get_loc\u001b[1;34m()\u001b[0m\n",
      "\u001b[1;32mpandas\\_libs\\index.pyx\u001b[0m in \u001b[0;36mpandas._libs.index.IndexEngine.get_loc\u001b[1;34m()\u001b[0m\n",
      "\u001b[1;32mpandas\\_libs\\hashtable_class_helper.pxi\u001b[0m in \u001b[0;36mpandas._libs.hashtable.PyObjectHashTable.get_item\u001b[1;34m()\u001b[0m\n",
      "\u001b[1;32mpandas\\_libs\\hashtable_class_helper.pxi\u001b[0m in \u001b[0;36mpandas._libs.hashtable.PyObjectHashTable.get_item\u001b[1;34m()\u001b[0m\n",
      "\u001b[1;31mKeyError\u001b[0m: 'latent_base'",
      "\nThe above exception was the direct cause of the following exception:\n",
      "\u001b[1;31mKeyError\u001b[0m                                  Traceback (most recent call last)",
      "\u001b[1;32m<ipython-input-112-23c2605c136b>\u001b[0m in \u001b[0;36m<module>\u001b[1;34m\u001b[0m\n\u001b[0;32m      1\u001b[0m \u001b[0mmodel_name\u001b[0m \u001b[1;33m=\u001b[0m \u001b[1;34m'ae'\u001b[0m\u001b[1;33m\u001b[0m\u001b[1;33m\u001b[0m\u001b[0m\n\u001b[0;32m      2\u001b[0m \u001b[0mmodel\u001b[0m \u001b[1;33m=\u001b[0m \u001b[0mmodel_df\u001b[0m\u001b[1;33m.\u001b[0m\u001b[0mloc\u001b[0m\u001b[1;33m[\u001b[0m\u001b[0mmodel_name\u001b[0m\u001b[1;33m,\u001b[0m \u001b[1;34m'model'\u001b[0m\u001b[1;33m]\u001b[0m\u001b[1;33m\u001b[0m\u001b[1;33m\u001b[0m\u001b[0m\n\u001b[1;32m----> 3\u001b[1;33m \u001b[0mlatent_vectors\u001b[0m \u001b[1;33m=\u001b[0m \u001b[0mmodel_df\u001b[0m\u001b[1;33m.\u001b[0m\u001b[0mloc\u001b[0m\u001b[1;33m[\u001b[0m\u001b[0mmodel_name\u001b[0m\u001b[1;33m,\u001b[0m \u001b[1;34m'latent_base'\u001b[0m\u001b[1;33m]\u001b[0m\u001b[1;33m[\u001b[0m\u001b[0maxis_index\u001b[0m\u001b[1;33m]\u001b[0m\u001b[1;33m\u001b[0m\u001b[1;33m\u001b[0m\u001b[0m\n\u001b[0m\u001b[0;32m      4\u001b[0m \u001b[0mlatent_origin\u001b[0m  \u001b[1;33m=\u001b[0m \u001b[0mmodel_df\u001b[0m\u001b[1;33m.\u001b[0m\u001b[0mloc\u001b[0m\u001b[1;33m[\u001b[0m\u001b[0mmodel_name\u001b[0m\u001b[1;33m,\u001b[0m \u001b[1;34m'latent_mean'\u001b[0m\u001b[1;33m]\u001b[0m\u001b[1;33m\u001b[0m\u001b[1;33m\u001b[0m\u001b[0m\n\u001b[0;32m      5\u001b[0m mosaic = LatentPlaneMosaic(model.decoder,\n",
      "\u001b[1;32m~\\anaconda3\\lib\\site-packages\\pandas\\core\\indexing.py\u001b[0m in \u001b[0;36m__getitem__\u001b[1;34m(self, key)\u001b[0m\n\u001b[0;32m    887\u001b[0m                     \u001b[1;31m# AttributeError for IntervalTree get_value\u001b[0m\u001b[1;33m\u001b[0m\u001b[1;33m\u001b[0m\u001b[1;33m\u001b[0m\u001b[0m\n\u001b[0;32m    888\u001b[0m                     \u001b[1;32mreturn\u001b[0m \u001b[0mself\u001b[0m\u001b[1;33m.\u001b[0m\u001b[0mobj\u001b[0m\u001b[1;33m.\u001b[0m\u001b[0m_get_value\u001b[0m\u001b[1;33m(\u001b[0m\u001b[1;33m*\u001b[0m\u001b[0mkey\u001b[0m\u001b[1;33m,\u001b[0m \u001b[0mtakeable\u001b[0m\u001b[1;33m=\u001b[0m\u001b[0mself\u001b[0m\u001b[1;33m.\u001b[0m\u001b[0m_takeable\u001b[0m\u001b[1;33m)\u001b[0m\u001b[1;33m\u001b[0m\u001b[1;33m\u001b[0m\u001b[0m\n\u001b[1;32m--> 889\u001b[1;33m             \u001b[1;32mreturn\u001b[0m \u001b[0mself\u001b[0m\u001b[1;33m.\u001b[0m\u001b[0m_getitem_tuple\u001b[0m\u001b[1;33m(\u001b[0m\u001b[0mkey\u001b[0m\u001b[1;33m)\u001b[0m\u001b[1;33m\u001b[0m\u001b[1;33m\u001b[0m\u001b[0m\n\u001b[0m\u001b[0;32m    890\u001b[0m         \u001b[1;32melse\u001b[0m\u001b[1;33m:\u001b[0m\u001b[1;33m\u001b[0m\u001b[1;33m\u001b[0m\u001b[0m\n\u001b[0;32m    891\u001b[0m             \u001b[1;31m# we by definition only have the 0th axis\u001b[0m\u001b[1;33m\u001b[0m\u001b[1;33m\u001b[0m\u001b[1;33m\u001b[0m\u001b[0m\n",
      "\u001b[1;32m~\\anaconda3\\lib\\site-packages\\pandas\\core\\indexing.py\u001b[0m in \u001b[0;36m_getitem_tuple\u001b[1;34m(self, tup)\u001b[0m\n\u001b[0;32m   1058\u001b[0m     \u001b[1;32mdef\u001b[0m \u001b[0m_getitem_tuple\u001b[0m\u001b[1;33m(\u001b[0m\u001b[0mself\u001b[0m\u001b[1;33m,\u001b[0m \u001b[0mtup\u001b[0m\u001b[1;33m:\u001b[0m \u001b[0mTuple\u001b[0m\u001b[1;33m)\u001b[0m\u001b[1;33m:\u001b[0m\u001b[1;33m\u001b[0m\u001b[1;33m\u001b[0m\u001b[0m\n\u001b[0;32m   1059\u001b[0m         \u001b[1;32mwith\u001b[0m \u001b[0msuppress\u001b[0m\u001b[1;33m(\u001b[0m\u001b[0mIndexingError\u001b[0m\u001b[1;33m)\u001b[0m\u001b[1;33m:\u001b[0m\u001b[1;33m\u001b[0m\u001b[1;33m\u001b[0m\u001b[0m\n\u001b[1;32m-> 1060\u001b[1;33m             \u001b[1;32mreturn\u001b[0m \u001b[0mself\u001b[0m\u001b[1;33m.\u001b[0m\u001b[0m_getitem_lowerdim\u001b[0m\u001b[1;33m(\u001b[0m\u001b[0mtup\u001b[0m\u001b[1;33m)\u001b[0m\u001b[1;33m\u001b[0m\u001b[1;33m\u001b[0m\u001b[0m\n\u001b[0m\u001b[0;32m   1061\u001b[0m \u001b[1;33m\u001b[0m\u001b[0m\n\u001b[0;32m   1062\u001b[0m         \u001b[1;31m# no multi-index, so validate all of the indexers\u001b[0m\u001b[1;33m\u001b[0m\u001b[1;33m\u001b[0m\u001b[1;33m\u001b[0m\u001b[0m\n",
      "\u001b[1;32m~\\anaconda3\\lib\\site-packages\\pandas\\core\\indexing.py\u001b[0m in \u001b[0;36m_getitem_lowerdim\u001b[1;34m(self, tup)\u001b[0m\n\u001b[0;32m    829\u001b[0m                     \u001b[1;32mreturn\u001b[0m \u001b[0msection\u001b[0m\u001b[1;33m\u001b[0m\u001b[1;33m\u001b[0m\u001b[0m\n\u001b[0;32m    830\u001b[0m                 \u001b[1;31m# This is an elided recursive call to iloc/loc\u001b[0m\u001b[1;33m\u001b[0m\u001b[1;33m\u001b[0m\u001b[1;33m\u001b[0m\u001b[0m\n\u001b[1;32m--> 831\u001b[1;33m                 \u001b[1;32mreturn\u001b[0m \u001b[0mgetattr\u001b[0m\u001b[1;33m(\u001b[0m\u001b[0msection\u001b[0m\u001b[1;33m,\u001b[0m \u001b[0mself\u001b[0m\u001b[1;33m.\u001b[0m\u001b[0mname\u001b[0m\u001b[1;33m)\u001b[0m\u001b[1;33m[\u001b[0m\u001b[0mnew_key\u001b[0m\u001b[1;33m]\u001b[0m\u001b[1;33m\u001b[0m\u001b[1;33m\u001b[0m\u001b[0m\n\u001b[0m\u001b[0;32m    832\u001b[0m \u001b[1;33m\u001b[0m\u001b[0m\n\u001b[0;32m    833\u001b[0m         \u001b[1;32mraise\u001b[0m \u001b[0mIndexingError\u001b[0m\u001b[1;33m(\u001b[0m\u001b[1;34m\"not applicable\"\u001b[0m\u001b[1;33m)\u001b[0m\u001b[1;33m\u001b[0m\u001b[1;33m\u001b[0m\u001b[0m\n",
      "\u001b[1;32m~\\anaconda3\\lib\\site-packages\\pandas\\core\\indexing.py\u001b[0m in \u001b[0;36m__getitem__\u001b[1;34m(self, key)\u001b[0m\n\u001b[0;32m    893\u001b[0m \u001b[1;33m\u001b[0m\u001b[0m\n\u001b[0;32m    894\u001b[0m             \u001b[0mmaybe_callable\u001b[0m \u001b[1;33m=\u001b[0m \u001b[0mcom\u001b[0m\u001b[1;33m.\u001b[0m\u001b[0mapply_if_callable\u001b[0m\u001b[1;33m(\u001b[0m\u001b[0mkey\u001b[0m\u001b[1;33m,\u001b[0m \u001b[0mself\u001b[0m\u001b[1;33m.\u001b[0m\u001b[0mobj\u001b[0m\u001b[1;33m)\u001b[0m\u001b[1;33m\u001b[0m\u001b[1;33m\u001b[0m\u001b[0m\n\u001b[1;32m--> 895\u001b[1;33m             \u001b[1;32mreturn\u001b[0m \u001b[0mself\u001b[0m\u001b[1;33m.\u001b[0m\u001b[0m_getitem_axis\u001b[0m\u001b[1;33m(\u001b[0m\u001b[0mmaybe_callable\u001b[0m\u001b[1;33m,\u001b[0m \u001b[0maxis\u001b[0m\u001b[1;33m=\u001b[0m\u001b[0maxis\u001b[0m\u001b[1;33m)\u001b[0m\u001b[1;33m\u001b[0m\u001b[1;33m\u001b[0m\u001b[0m\n\u001b[0m\u001b[0;32m    896\u001b[0m \u001b[1;33m\u001b[0m\u001b[0m\n\u001b[0;32m    897\u001b[0m     \u001b[1;32mdef\u001b[0m \u001b[0m_is_scalar_access\u001b[0m\u001b[1;33m(\u001b[0m\u001b[0mself\u001b[0m\u001b[1;33m,\u001b[0m \u001b[0mkey\u001b[0m\u001b[1;33m:\u001b[0m \u001b[0mTuple\u001b[0m\u001b[1;33m)\u001b[0m\u001b[1;33m:\u001b[0m\u001b[1;33m\u001b[0m\u001b[1;33m\u001b[0m\u001b[0m\n",
      "\u001b[1;32m~\\anaconda3\\lib\\site-packages\\pandas\\core\\indexing.py\u001b[0m in \u001b[0;36m_getitem_axis\u001b[1;34m(self, key, axis)\u001b[0m\n\u001b[0;32m   1122\u001b[0m         \u001b[1;31m# fall thru to straight lookup\u001b[0m\u001b[1;33m\u001b[0m\u001b[1;33m\u001b[0m\u001b[1;33m\u001b[0m\u001b[0m\n\u001b[0;32m   1123\u001b[0m         \u001b[0mself\u001b[0m\u001b[1;33m.\u001b[0m\u001b[0m_validate_key\u001b[0m\u001b[1;33m(\u001b[0m\u001b[0mkey\u001b[0m\u001b[1;33m,\u001b[0m \u001b[0maxis\u001b[0m\u001b[1;33m)\u001b[0m\u001b[1;33m\u001b[0m\u001b[1;33m\u001b[0m\u001b[0m\n\u001b[1;32m-> 1124\u001b[1;33m         \u001b[1;32mreturn\u001b[0m \u001b[0mself\u001b[0m\u001b[1;33m.\u001b[0m\u001b[0m_get_label\u001b[0m\u001b[1;33m(\u001b[0m\u001b[0mkey\u001b[0m\u001b[1;33m,\u001b[0m \u001b[0maxis\u001b[0m\u001b[1;33m=\u001b[0m\u001b[0maxis\u001b[0m\u001b[1;33m)\u001b[0m\u001b[1;33m\u001b[0m\u001b[1;33m\u001b[0m\u001b[0m\n\u001b[0m\u001b[0;32m   1125\u001b[0m \u001b[1;33m\u001b[0m\u001b[0m\n\u001b[0;32m   1126\u001b[0m     \u001b[1;32mdef\u001b[0m \u001b[0m_get_slice_axis\u001b[0m\u001b[1;33m(\u001b[0m\u001b[0mself\u001b[0m\u001b[1;33m,\u001b[0m \u001b[0mslice_obj\u001b[0m\u001b[1;33m:\u001b[0m \u001b[0mslice\u001b[0m\u001b[1;33m,\u001b[0m \u001b[0maxis\u001b[0m\u001b[1;33m:\u001b[0m \u001b[0mint\u001b[0m\u001b[1;33m)\u001b[0m\u001b[1;33m:\u001b[0m\u001b[1;33m\u001b[0m\u001b[1;33m\u001b[0m\u001b[0m\n",
      "\u001b[1;32m~\\anaconda3\\lib\\site-packages\\pandas\\core\\indexing.py\u001b[0m in \u001b[0;36m_get_label\u001b[1;34m(self, label, axis)\u001b[0m\n\u001b[0;32m   1071\u001b[0m     \u001b[1;32mdef\u001b[0m \u001b[0m_get_label\u001b[0m\u001b[1;33m(\u001b[0m\u001b[0mself\u001b[0m\u001b[1;33m,\u001b[0m \u001b[0mlabel\u001b[0m\u001b[1;33m,\u001b[0m \u001b[0maxis\u001b[0m\u001b[1;33m:\u001b[0m \u001b[0mint\u001b[0m\u001b[1;33m)\u001b[0m\u001b[1;33m:\u001b[0m\u001b[1;33m\u001b[0m\u001b[1;33m\u001b[0m\u001b[0m\n\u001b[0;32m   1072\u001b[0m         \u001b[1;31m# GH#5667 this will fail if the label is not present in the axis.\u001b[0m\u001b[1;33m\u001b[0m\u001b[1;33m\u001b[0m\u001b[1;33m\u001b[0m\u001b[0m\n\u001b[1;32m-> 1073\u001b[1;33m         \u001b[1;32mreturn\u001b[0m \u001b[0mself\u001b[0m\u001b[1;33m.\u001b[0m\u001b[0mobj\u001b[0m\u001b[1;33m.\u001b[0m\u001b[0mxs\u001b[0m\u001b[1;33m(\u001b[0m\u001b[0mlabel\u001b[0m\u001b[1;33m,\u001b[0m \u001b[0maxis\u001b[0m\u001b[1;33m=\u001b[0m\u001b[0maxis\u001b[0m\u001b[1;33m)\u001b[0m\u001b[1;33m\u001b[0m\u001b[1;33m\u001b[0m\u001b[0m\n\u001b[0m\u001b[0;32m   1074\u001b[0m \u001b[1;33m\u001b[0m\u001b[0m\n\u001b[0;32m   1075\u001b[0m     \u001b[1;32mdef\u001b[0m \u001b[0m_handle_lowerdim_multi_index_axis0\u001b[0m\u001b[1;33m(\u001b[0m\u001b[0mself\u001b[0m\u001b[1;33m,\u001b[0m \u001b[0mtup\u001b[0m\u001b[1;33m:\u001b[0m \u001b[0mTuple\u001b[0m\u001b[1;33m)\u001b[0m\u001b[1;33m:\u001b[0m\u001b[1;33m\u001b[0m\u001b[1;33m\u001b[0m\u001b[0m\n",
      "\u001b[1;32m~\\anaconda3\\lib\\site-packages\\pandas\\core\\generic.py\u001b[0m in \u001b[0;36mxs\u001b[1;34m(self, key, axis, level, drop_level)\u001b[0m\n\u001b[0;32m   3737\u001b[0m                 \u001b[1;32mraise\u001b[0m \u001b[0mTypeError\u001b[0m\u001b[1;33m(\u001b[0m\u001b[1;34mf\"Expected label or tuple of labels, got {key}\"\u001b[0m\u001b[1;33m)\u001b[0m \u001b[1;32mfrom\u001b[0m \u001b[0me\u001b[0m\u001b[1;33m\u001b[0m\u001b[1;33m\u001b[0m\u001b[0m\n\u001b[0;32m   3738\u001b[0m         \u001b[1;32melse\u001b[0m\u001b[1;33m:\u001b[0m\u001b[1;33m\u001b[0m\u001b[1;33m\u001b[0m\u001b[0m\n\u001b[1;32m-> 3739\u001b[1;33m             \u001b[0mloc\u001b[0m \u001b[1;33m=\u001b[0m \u001b[0mindex\u001b[0m\u001b[1;33m.\u001b[0m\u001b[0mget_loc\u001b[0m\u001b[1;33m(\u001b[0m\u001b[0mkey\u001b[0m\u001b[1;33m)\u001b[0m\u001b[1;33m\u001b[0m\u001b[1;33m\u001b[0m\u001b[0m\n\u001b[0m\u001b[0;32m   3740\u001b[0m \u001b[1;33m\u001b[0m\u001b[0m\n\u001b[0;32m   3741\u001b[0m             \u001b[1;32mif\u001b[0m \u001b[0misinstance\u001b[0m\u001b[1;33m(\u001b[0m\u001b[0mloc\u001b[0m\u001b[1;33m,\u001b[0m \u001b[0mnp\u001b[0m\u001b[1;33m.\u001b[0m\u001b[0mndarray\u001b[0m\u001b[1;33m)\u001b[0m\u001b[1;33m:\u001b[0m\u001b[1;33m\u001b[0m\u001b[1;33m\u001b[0m\u001b[0m\n",
      "\u001b[1;32m~\\anaconda3\\lib\\site-packages\\pandas\\core\\indexes\\base.py\u001b[0m in \u001b[0;36mget_loc\u001b[1;34m(self, key, method, tolerance)\u001b[0m\n\u001b[0;32m   3080\u001b[0m                 \u001b[1;32mreturn\u001b[0m \u001b[0mself\u001b[0m\u001b[1;33m.\u001b[0m\u001b[0m_engine\u001b[0m\u001b[1;33m.\u001b[0m\u001b[0mget_loc\u001b[0m\u001b[1;33m(\u001b[0m\u001b[0mcasted_key\u001b[0m\u001b[1;33m)\u001b[0m\u001b[1;33m\u001b[0m\u001b[1;33m\u001b[0m\u001b[0m\n\u001b[0;32m   3081\u001b[0m             \u001b[1;32mexcept\u001b[0m \u001b[0mKeyError\u001b[0m \u001b[1;32mas\u001b[0m \u001b[0merr\u001b[0m\u001b[1;33m:\u001b[0m\u001b[1;33m\u001b[0m\u001b[1;33m\u001b[0m\u001b[0m\n\u001b[1;32m-> 3082\u001b[1;33m                 \u001b[1;32mraise\u001b[0m \u001b[0mKeyError\u001b[0m\u001b[1;33m(\u001b[0m\u001b[0mkey\u001b[0m\u001b[1;33m)\u001b[0m \u001b[1;32mfrom\u001b[0m \u001b[0merr\u001b[0m\u001b[1;33m\u001b[0m\u001b[1;33m\u001b[0m\u001b[0m\n\u001b[0m\u001b[0;32m   3083\u001b[0m \u001b[1;33m\u001b[0m\u001b[0m\n\u001b[0;32m   3084\u001b[0m         \u001b[1;32mif\u001b[0m \u001b[0mtolerance\u001b[0m \u001b[1;32mis\u001b[0m \u001b[1;32mnot\u001b[0m \u001b[1;32mNone\u001b[0m\u001b[1;33m:\u001b[0m\u001b[1;33m\u001b[0m\u001b[1;33m\u001b[0m\u001b[0m\n",
      "\u001b[1;31mKeyError\u001b[0m: 'latent_base'"
     ]
    }
   ],
   "source": [
    "model_name = 'ae'\n",
    "model = model_df.loc[model_name, 'model']\n",
    "latent_vectors = model_df.loc[model_name, 'latent_base'][axis_index]\n",
    "latent_origin  = model_df.loc[model_name, 'latent_mean']\n",
    "mosaic = LatentPlaneMosaic(model.decoder,\n",
    "                  latent_vectors = (scaling_factors*latent_vectors.T).T,\n",
    "                  latent_origin = latent_origin,\n",
    "                  num_row = 20,\n",
    "                  num_col = 20).mosaic\n",
    "\n",
    "#fig,ax = plt.subplots(1,1)\n",
    "#ax.imshow(mosaic)\n",
    "sns.heatmap(mosaic[:,:,0], vmin = 0, vmax = 1)"
   ]
  },
  {
   "cell_type": "markdown",
   "id": "2adbb3ba",
   "metadata": {},
   "source": [
    "## Spred "
   ]
  },
  {
   "cell_type": "markdown",
   "id": "01c025eb",
   "metadata": {},
   "source": [
    "### Latent dataframe stats"
   ]
  },
  {
   "cell_type": "code",
   "execution_count": 13,
   "id": "1b395ca8",
   "metadata": {},
   "outputs": [
    {
     "data": {
      "text/plain": [
       "<seaborn.axisgrid.FacetGrid at 0x20123514400>"
      ]
     },
     "execution_count": 13,
     "metadata": {},
     "output_type": "execute_result"
    }
   ],
   "source": [
    "sns.displot(data = digit_df, x = 'loss', hue = 'model_name', kind = 'kde')"
   ]
  },
  {
   "cell_type": "code",
   "execution_count": 14,
   "id": "84a22927",
   "metadata": {},
   "outputs": [
    {
     "data": {
      "text/plain": [
       "<seaborn.axisgrid.FacetGrid at 0x2011c1bf5e0>"
      ]
     },
     "execution_count": 14,
     "metadata": {},
     "output_type": "execute_result"
    }
   ],
   "source": [
    "sns.displot(data = digit_df, x = 'distance',hue = 'model_name', kind = 'kde')"
   ]
  },
  {
   "cell_type": "code",
   "execution_count": 15,
   "id": "0cb670cd",
   "metadata": {},
   "outputs": [
    {
     "name": "stderr",
     "output_type": "stream",
     "text": [
      "C:\\Users\\joelw\\anaconda3\\lib\\site-packages\\seaborn\\distributions.py:306: UserWarning: Dataset has 0 variance; skipping density estimate.\n",
      "  warnings.warn(msg, UserWarning)\n"
     ]
    },
    {
     "data": {
      "text/plain": [
       "<seaborn.axisgrid.FacetGrid at 0x20123013670>"
      ]
     },
     "execution_count": 15,
     "metadata": {},
     "output_type": "execute_result"
    }
   ],
   "source": [
    "sns.displot(data = digit_df, x = 'radius',hue = 'model_name', kind = 'kde')"
   ]
  },
  {
   "cell_type": "markdown",
   "id": "6fa6e18c",
   "metadata": {},
   "source": [
    "### Summary dataframe plot"
   ]
  },
  {
   "cell_type": "code",
   "execution_count": 15,
   "id": "567d9f49",
   "metadata": {},
   "outputs": [
    {
     "data": {
      "text/plain": [
       "<seaborn.axisgrid.FacetGrid at 0x24318e6a940>"
      ]
     },
     "execution_count": 15,
     "metadata": {},
     "output_type": "execute_result"
    }
   ],
   "source": [
    "######### IMPORTANT ########\n",
    "sns.relplot(data = dimension_df, x = 'value_spread',\n",
    "            y = 'spread_mean',\n",
    "            hue = 'model_name')"
   ]
  },
  {
   "cell_type": "markdown",
   "id": "0dd4c292",
   "metadata": {},
   "source": [
    "### dimension dataframe plots"
   ]
  },
  {
   "cell_type": "code",
   "execution_count": 18,
   "id": "5ce7abf5",
   "metadata": {},
   "outputs": [
    {
     "data": {
      "text/plain": [
       "<seaborn.axisgrid.FacetGrid at 0x20135416850>"
      ]
     },
     "execution_count": 18,
     "metadata": {},
     "output_type": "execute_result"
    }
   ],
   "source": [
    "sns.relplot(data = latent_df,\n",
    "           x = 'value',\n",
    "           y = 'spread',\n",
    "           col = 'dim_index',\n",
    "           col_wrap = 4,\n",
    "           hue = 'model_name')"
   ]
  },
  {
   "cell_type": "markdown",
   "id": "30b96962",
   "metadata": {},
   "source": [
    "## Generative power"
   ]
  },
  {
   "cell_type": "code",
   "execution_count": 66,
   "id": "83927f5c",
   "metadata": {},
   "outputs": [],
   "source": [
    "model_name = 'ae'\n",
    "mean = np.zeros(latent_dim)\n",
    "mean = model_df.loc[model_name,'latent_mean']\n",
    "cov  = 1*np.eye(latent_dim)\n",
    "num_col = 15\n",
    "num_row = 10\n",
    "num_img = num_row*num_col\n",
    "latent_points = rnd.multivariate_normal(mean, cov, size = (num_img))\n",
    "\n"
   ]
  },
  {
   "cell_type": "code",
   "execution_count": 67,
   "id": "736b6983",
   "metadata": {},
   "outputs": [
    {
     "data": {
      "text/plain": [
       "<AxesSubplot:>"
      ]
     },
     "execution_count": 67,
     "metadata": {},
     "output_type": "execute_result"
    }
   ],
   "source": [
    "model = model_df.loc[model_name, 'model']\n",
    "title = \"Reconstruction with autoencoder\"\n",
    "fig, ax = plt.subplots()\n",
    "reconstructions = model.decoder(latent_points)\n",
    "i = 0\n",
    "for col in range(num_col):\n",
    "    for row in range(num_row): \n",
    "        if row == 0: \n",
    "            ver_img = reconstructions[i]\n",
    "        else:\n",
    "            ver_img = np.concatenate((ver_img,\n",
    "                                 reconstructions[i]), axis = 0)\n",
    "        i = i + 1\n",
    "    if col == 0:\n",
    "        img = ver_img\n",
    "    else: \n",
    "        img = np.concatenate((img,\n",
    "                              ver_img), axis = 1)\n",
    "sns.heatmap(img[:,:,0])\n",
    "\n"
   ]
  },
  {
   "cell_type": "code",
   "execution_count": null,
   "id": "56a9b089",
   "metadata": {},
   "outputs": [],
   "source": []
  },
  {
   "cell_type": "code",
   "execution_count": 68,
   "id": "02252f24",
   "metadata": {},
   "outputs": [],
   "source": [
    "mean = np.zeros(latent_dim)\n",
    "cov  = 1*np.eye(latent_dim)\n",
    "num_dig = 5\n",
    "latent_points = rnd.multivariate_normal(mean, cov, size = (num_dig))\n",
    "\n",
    "reconstructions = []\n",
    "for name, model in model_df.iterrows():\n",
    "    reconstructions.append(model['model'].decoder(latent_points))\n",
    "    \n",
    "fig, axs = plt.subplots(num_models, num_dig, sharex = True, sharey = True)\n",
    "for model_i in range(num_models):\n",
    "    for dig_i in range(num_dig):\n",
    "        ax = axs[model_i, dig_i]\n",
    "        sns.heatmap(reconstructions[model_i][dig_i][:,:,0], ax = ax)\n",
    "\n"
   ]
  },
  {
   "cell_type": "code",
   "execution_count": 71,
   "id": "858d3be4",
   "metadata": {},
   "outputs": [
    {
     "data": {
      "text/plain": [
       "array([ 0.04270896, -0.02646526, -0.01551382,  0.00895875,  0.00756909,\n",
       "       -0.00550758, -0.01186571,  0.00023721, -0.0082873 ,  0.0526603 ],\n",
       "      dtype=float32)"
      ]
     },
     "execution_count": 71,
     "metadata": {},
     "output_type": "execute_result"
    }
   ],
   "source": []
  },
  {
   "cell_type": "code",
   "execution_count": null,
   "id": "b90cafab",
   "metadata": {},
   "outputs": [],
   "source": []
  },
  {
   "cell_type": "code",
   "execution_count": 23,
   "id": "e56308a1",
   "metadata": {},
   "outputs": [
    {
     "data": {
      "text/html": [
       "<div>\n",
       "<style scoped>\n",
       "    .dataframe tbody tr th:only-of-type {\n",
       "        vertical-align: middle;\n",
       "    }\n",
       "\n",
       "    .dataframe tbody tr th {\n",
       "        vertical-align: top;\n",
       "    }\n",
       "\n",
       "    .dataframe thead th {\n",
       "        text-align: right;\n",
       "    }\n",
       "</style>\n",
       "<table border=\"1\" class=\"dataframe\">\n",
       "  <thead>\n",
       "    <tr style=\"text-align: right;\">\n",
       "      <th></th>\n",
       "      <th>path</th>\n",
       "      <th>ae_type</th>\n",
       "      <th>model</th>\n",
       "    </tr>\n",
       "  </thead>\n",
       "  <tbody>\n",
       "    <tr>\n",
       "      <th>ae</th>\n",
       "      <td>models\\saved\\ae</td>\n",
       "      <td>ae</td>\n",
       "      <td>&lt;models.autoencoder.Autoencoder object at 0x00...</td>\n",
       "    </tr>\n",
       "    <tr>\n",
       "      <th>vae_10</th>\n",
       "      <td>models\\saved\\vae_10</td>\n",
       "      <td>vae</td>\n",
       "      <td>&lt;models.variational_autoencoder.VariationalAut...</td>\n",
       "    </tr>\n",
       "    <tr>\n",
       "      <th>vae_100</th>\n",
       "      <td>models\\saved\\vae_100</td>\n",
       "      <td>vae</td>\n",
       "      <td>&lt;models.variational_autoencoder.VariationalAut...</td>\n",
       "    </tr>\n",
       "    <tr>\n",
       "      <th>vae_1000</th>\n",
       "      <td>models\\saved\\vae_1000</td>\n",
       "      <td>vae</td>\n",
       "      <td>&lt;models.variational_autoencoder.VariationalAut...</td>\n",
       "    </tr>\n",
       "  </tbody>\n",
       "</table>\n",
       "</div>"
      ],
      "text/plain": [
       "                           path ae_type  \\\n",
       "ae              models\\saved\\ae      ae   \n",
       "vae_10      models\\saved\\vae_10     vae   \n",
       "vae_100    models\\saved\\vae_100     vae   \n",
       "vae_1000  models\\saved\\vae_1000     vae   \n",
       "\n",
       "                                                      model  \n",
       "ae        <models.autoencoder.Autoencoder object at 0x00...  \n",
       "vae_10    <models.variational_autoencoder.VariationalAut...  \n",
       "vae_100   <models.variational_autoencoder.VariationalAut...  \n",
       "vae_1000  <models.variational_autoencoder.VariationalAut...  "
      ]
     },
     "execution_count": 23,
     "metadata": {},
     "output_type": "execute_result"
    }
   ],
   "source": [
    "model_df.head()"
   ]
  },
  {
   "cell_type": "code",
   "execution_count": 24,
   "id": "5c8a796b",
   "metadata": {},
   "outputs": [
    {
     "data": {
      "text/html": [
       "<div>\n",
       "<style scoped>\n",
       "    .dataframe tbody tr th:only-of-type {\n",
       "        vertical-align: middle;\n",
       "    }\n",
       "\n",
       "    .dataframe tbody tr th {\n",
       "        vertical-align: top;\n",
       "    }\n",
       "\n",
       "    .dataframe thead th {\n",
       "        text-align: right;\n",
       "    }\n",
       "</style>\n",
       "<table border=\"1\" class=\"dataframe\">\n",
       "  <thead>\n",
       "    <tr style=\"text-align: right;\">\n",
       "      <th></th>\n",
       "      <th>model_name</th>\n",
       "      <th>label</th>\n",
       "      <th>loss</th>\n",
       "      <th>distance</th>\n",
       "      <th>radius</th>\n",
       "    </tr>\n",
       "  </thead>\n",
       "  <tbody>\n",
       "    <tr>\n",
       "      <th>0</th>\n",
       "      <td>ae</td>\n",
       "      <td>7</td>\n",
       "      <td>0.070490</td>\n",
       "      <td>15.820858</td>\n",
       "      <td>NaN</td>\n",
       "    </tr>\n",
       "    <tr>\n",
       "      <th>1</th>\n",
       "      <td>ae</td>\n",
       "      <td>2</td>\n",
       "      <td>0.117689</td>\n",
       "      <td>9.960896</td>\n",
       "      <td>NaN</td>\n",
       "    </tr>\n",
       "    <tr>\n",
       "      <th>2</th>\n",
       "      <td>ae</td>\n",
       "      <td>1</td>\n",
       "      <td>0.038200</td>\n",
       "      <td>24.145765</td>\n",
       "      <td>NaN</td>\n",
       "    </tr>\n",
       "    <tr>\n",
       "      <th>3</th>\n",
       "      <td>ae</td>\n",
       "      <td>0</td>\n",
       "      <td>0.096915</td>\n",
       "      <td>8.166095</td>\n",
       "      <td>NaN</td>\n",
       "    </tr>\n",
       "    <tr>\n",
       "      <th>4</th>\n",
       "      <td>ae</td>\n",
       "      <td>4</td>\n",
       "      <td>0.084998</td>\n",
       "      <td>14.815680</td>\n",
       "      <td>NaN</td>\n",
       "    </tr>\n",
       "  </tbody>\n",
       "</table>\n",
       "</div>"
      ],
      "text/plain": [
       "  model_name  label      loss   distance  radius\n",
       "0         ae      7  0.070490  15.820858     NaN\n",
       "1         ae      2  0.117689   9.960896     NaN\n",
       "2         ae      1  0.038200  24.145765     NaN\n",
       "3         ae      0  0.096915   8.166095     NaN\n",
       "4         ae      4  0.084998  14.815680     NaN"
      ]
     },
     "execution_count": 24,
     "metadata": {},
     "output_type": "execute_result"
    }
   ],
   "source": [
    "latent_df.head()"
   ]
  },
  {
   "cell_type": "code",
   "execution_count": 25,
   "id": "911d5aaa",
   "metadata": {},
   "outputs": [
    {
     "data": {
      "text/html": [
       "<div>\n",
       "<style scoped>\n",
       "    .dataframe tbody tr th:only-of-type {\n",
       "        vertical-align: middle;\n",
       "    }\n",
       "\n",
       "    .dataframe tbody tr th {\n",
       "        vertical-align: top;\n",
       "    }\n",
       "\n",
       "    .dataframe thead th {\n",
       "        text-align: right;\n",
       "    }\n",
       "</style>\n",
       "<table border=\"1\" class=\"dataframe\">\n",
       "  <thead>\n",
       "    <tr style=\"text-align: right;\">\n",
       "      <th></th>\n",
       "      <th>model_name</th>\n",
       "      <th>label</th>\n",
       "      <th>digit_index</th>\n",
       "      <th>dim_index</th>\n",
       "      <th>value</th>\n",
       "      <th>std</th>\n",
       "    </tr>\n",
       "  </thead>\n",
       "  <tbody>\n",
       "    <tr>\n",
       "      <th>0</th>\n",
       "      <td>ae</td>\n",
       "      <td>7</td>\n",
       "      <td>0</td>\n",
       "      <td>0</td>\n",
       "      <td>8.920861</td>\n",
       "      <td>NaN</td>\n",
       "    </tr>\n",
       "    <tr>\n",
       "      <th>1</th>\n",
       "      <td>ae</td>\n",
       "      <td>7</td>\n",
       "      <td>0</td>\n",
       "      <td>1</td>\n",
       "      <td>2.935239</td>\n",
       "      <td>NaN</td>\n",
       "    </tr>\n",
       "    <tr>\n",
       "      <th>2</th>\n",
       "      <td>ae</td>\n",
       "      <td>7</td>\n",
       "      <td>0</td>\n",
       "      <td>2</td>\n",
       "      <td>0.101040</td>\n",
       "      <td>NaN</td>\n",
       "    </tr>\n",
       "    <tr>\n",
       "      <th>3</th>\n",
       "      <td>ae</td>\n",
       "      <td>7</td>\n",
       "      <td>0</td>\n",
       "      <td>3</td>\n",
       "      <td>3.835251</td>\n",
       "      <td>NaN</td>\n",
       "    </tr>\n",
       "    <tr>\n",
       "      <th>4</th>\n",
       "      <td>ae</td>\n",
       "      <td>7</td>\n",
       "      <td>0</td>\n",
       "      <td>4</td>\n",
       "      <td>5.167331</td>\n",
       "      <td>NaN</td>\n",
       "    </tr>\n",
       "  </tbody>\n",
       "</table>\n",
       "</div>"
      ],
      "text/plain": [
       "  model_name  label  digit_index  dim_index     value  std\n",
       "0         ae      7            0          0  8.920861  NaN\n",
       "1         ae      7            0          1  2.935239  NaN\n",
       "2         ae      7            0          2  0.101040  NaN\n",
       "3         ae      7            0          3  3.835251  NaN\n",
       "4         ae      7            0          4  5.167331  NaN"
      ]
     },
     "execution_count": 25,
     "metadata": {},
     "output_type": "execute_result"
    }
   ],
   "source": [
    "dimension_df.head()"
   ]
  },
  {
   "cell_type": "code",
   "execution_count": 26,
   "id": "d57a45ed",
   "metadata": {},
   "outputs": [
    {
     "data": {
      "text/html": [
       "<div>\n",
       "<style scoped>\n",
       "    .dataframe tbody tr th:only-of-type {\n",
       "        vertical-align: middle;\n",
       "    }\n",
       "\n",
       "    .dataframe tbody tr th {\n",
       "        vertical-align: top;\n",
       "    }\n",
       "\n",
       "    .dataframe thead th {\n",
       "        text-align: right;\n",
       "    }\n",
       "</style>\n",
       "<table border=\"1\" class=\"dataframe\">\n",
       "  <thead>\n",
       "    <tr style=\"text-align: right;\">\n",
       "      <th></th>\n",
       "      <th>model_name</th>\n",
       "      <th>dim_index</th>\n",
       "      <th>value_spread</th>\n",
       "      <th>spread_mean</th>\n",
       "    </tr>\n",
       "  </thead>\n",
       "  <tbody>\n",
       "    <tr>\n",
       "      <th>0</th>\n",
       "      <td>ae</td>\n",
       "      <td>0</td>\n",
       "      <td>3.059391</td>\n",
       "      <td>NaN</td>\n",
       "    </tr>\n",
       "    <tr>\n",
       "      <th>1</th>\n",
       "      <td>ae</td>\n",
       "      <td>1</td>\n",
       "      <td>3.437786</td>\n",
       "      <td>NaN</td>\n",
       "    </tr>\n",
       "    <tr>\n",
       "      <th>2</th>\n",
       "      <td>ae</td>\n",
       "      <td>2</td>\n",
       "      <td>2.502900</td>\n",
       "      <td>NaN</td>\n",
       "    </tr>\n",
       "    <tr>\n",
       "      <th>3</th>\n",
       "      <td>ae</td>\n",
       "      <td>3</td>\n",
       "      <td>2.846762</td>\n",
       "      <td>NaN</td>\n",
       "    </tr>\n",
       "    <tr>\n",
       "      <th>4</th>\n",
       "      <td>ae</td>\n",
       "      <td>4</td>\n",
       "      <td>2.707471</td>\n",
       "      <td>NaN</td>\n",
       "    </tr>\n",
       "  </tbody>\n",
       "</table>\n",
       "</div>"
      ],
      "text/plain": [
       "  model_name  dim_index  value_spread  spread_mean\n",
       "0         ae          0      3.059391          NaN\n",
       "1         ae          1      3.437786          NaN\n",
       "2         ae          2      2.502900          NaN\n",
       "3         ae          3      2.846762          NaN\n",
       "4         ae          4      2.707471          NaN"
      ]
     },
     "execution_count": 26,
     "metadata": {},
     "output_type": "execute_result"
    }
   ],
   "source": [
    "summary_df.head()"
   ]
  },
  {
   "cell_type": "code",
   "execution_count": null,
   "id": "ac5cb679",
   "metadata": {},
   "outputs": [],
   "source": []
  },
  {
   "cell_type": "code",
   "execution_count": null,
   "id": "2a99817d",
   "metadata": {},
   "outputs": [],
   "source": []
  },
  {
   "cell_type": "code",
   "execution_count": null,
   "id": "eea2c3ed",
   "metadata": {},
   "outputs": [],
   "source": []
  }
 ],
 "metadata": {
  "kernelspec": {
   "display_name": "Python 3",
   "language": "python",
   "name": "python3"
  },
  "language_info": {
   "codemirror_mode": {
    "name": "ipython",
    "version": 3
   },
   "file_extension": ".py",
   "mimetype": "text/x-python",
   "name": "python",
   "nbconvert_exporter": "python",
   "pygments_lexer": "ipython3",
   "version": "3.8.8"
  }
 },
 "nbformat": 4,
 "nbformat_minor": 5
}
