{
 "cells": [
  {
   "cell_type": "code",
   "execution_count": 1,
   "source": [
    "from models.load_premade import load_premade_model\r\n",
    "import tensorflow as tf\r\n",
    "\r\n",
    "autoencoder_mse = load_premade_model(model_type='variational_autoencoder', model_name='mnist_cnn_shallow', input_shape=(28, 28, 1), latent_dim=2)\r\n",
    "autoencoder_mse.compile(optimizer='adam', loss=tf.keras.losses.mean_squared_error)"
   ],
   "outputs": [
    {
     "output_type": "stream",
     "name": "stderr",
     "text": [
      "c:\\Users\\Lukas\\Desktop\\VSCode Project\\JL-ML\\JL-ML\\src\\models\\variational_autoencoder.py:60: UserWarning: The 'loss' parameter has been used, which is not supported and will have no effect on training. Use 'reconstruction_loss' instead\n",
      "  warnings.warn(\"The 'loss' parameter has been used, which is not supported and will have no effect on training. Use 'reconstruction_loss' instead\")\n"
     ]
    }
   ],
   "metadata": {}
  }
 ],
 "metadata": {
  "orig_nbformat": 4,
  "language_info": {
   "name": "python",
   "version": "3.8.10",
   "mimetype": "text/x-python",
   "codemirror_mode": {
    "name": "ipython",
    "version": 3
   },
   "pygments_lexer": "ipython3",
   "nbconvert_exporter": "python",
   "file_extension": ".py"
  },
  "kernelspec": {
   "name": "python3",
   "display_name": "Python 3.8.10 64-bit ('JL-ML': conda)"
  },
  "interpreter": {
   "hash": "10c6c8cad202d7ee51bc7961bfc37945821ae3549d3f348bb253c9e77d2d1763"
  }
 },
 "nbformat": 4,
 "nbformat_minor": 2
}