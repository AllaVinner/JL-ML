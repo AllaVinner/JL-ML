{
 "cells": [
  {
   "cell_type": "markdown",
   "id": "206861bf",
   "metadata": {},
   "source": [
    "# Variational autoencoder\n",
    "This notebook will investiga"
   ]
  },
  {
   "cell_type": "code",
   "execution_count": 1,
   "id": "af6332ef",
   "metadata": {},
   "outputs": [
    {
     "name": "stdout",
     "output_type": "stream",
     "text": [
      "Using matplotlib backend: Qt5Agg\n"
     ]
    }
   ],
   "source": [
    "%matplotlib\n",
    "import numpy as np\n",
    "import numpy.random as rnd\n",
    "import matplotlib.pyplot as plt\n",
    "import tensorflow as tf\n",
    "from tensorflow import keras\n",
    "import pandas as pd\n",
    "import seaborn as sns\n",
    "from variational_autoencoder import VariationalAutoencoder\n",
    "from autoencoder import Autoencoder\n",
    "from cont_bern_loss import cont_bern_loss\n",
    "\n",
    "# For dimension reduction\n",
    "from sklearn.manifold import TSNE\n",
    "from sklearn.decomposition import PCA\n",
    "\n",
    "# for visualization and evaluation\n",
    "from latent_plane_mosaic import LatentPlaneMosaic\n",
    "from latent_interpolation_mosaic import LatentInterpolationMosaic\n",
    "from sample_scatter_gui import SampleScatterGUI"
   ]
  },
  {
   "cell_type": "code",
   "execution_count": 2,
   "id": "90600b03",
   "metadata": {},
   "outputs": [],
   "source": [
    "model_df = pd.DataFrame(data = {\n",
    "    'path'    : [\"models\\\\ae\", \"models\\\\vae_10\", \"models\\\\vae_100\" , \"models\\\\vae_1000\"],\n",
    "    'ae_type' : ['ae', 'vae', 'vae', 'vae'],\n",
    "    },\n",
    "    index = ['ae', 'vae_10', 'vae_100', 'vae_1000'],\n",
    ")\n"
   ]
  },
  {
   "cell_type": "code",
   "execution_count": 3,
   "id": "9767b8cf",
   "metadata": {},
   "outputs": [],
   "source": [
    "models = []\n",
    "for name, model in model_df.iterrows():\n",
    "    if model['ae_type'] == \"ae\":\n",
    "        models.append(keras.models.load_model(model['path'], \n",
    "                         custom_objects={\"Autoencoder\": Autoencoder,\n",
    "                                         \"cont_bern_loss\":  cont_bern_loss}))\n",
    "    elif model['ae_type'] == \"vae\":\n",
    "        models.append(keras.models.load_model(model['path'], \n",
    "                                 custom_objects={\"VariationalAutoencoder\": VariationalAutoencoder,\n",
    "                                                 \"cont_bern_loss\":  cont_bern_loss}))\n",
    "model_df['model'] = models    "
   ]
  },
  {
   "cell_type": "code",
   "execution_count": 4,
   "id": "4e13e31e",
   "metadata": {},
   "outputs": [],
   "source": [
    "num_models = model_df.shape[0]\n",
    "latent_dim = 10"
   ]
  },
  {
   "cell_type": "code",
   "execution_count": 5,
   "id": "b5b37ed2",
   "metadata": {},
   "outputs": [],
   "source": [
    "# Global settings\n",
    "np.set_printoptions(precision=0)"
   ]
  },
  {
   "cell_type": "markdown",
   "id": "b164e02c",
   "metadata": {},
   "source": [
    "## Preprocess data\n"
   ]
  },
  {
   "cell_type": "code",
   "execution_count": 6,
   "id": "1e0a4b30",
   "metadata": {},
   "outputs": [],
   "source": [
    "num_samples = 10000\n",
    "(train_digits, train_labels), (test_digits, test_labels) = keras.datasets.mnist.load_data()\n",
    "train_digits = np.expand_dims(train_digits, -1).astype(\"float32\") / 255\n",
    "test_digits = np.expand_dims(test_digits, -1).astype(\"float32\") / 255\n",
    "input_shape = train_digits.shape[1:]\n",
    "num_digits = len(train_labels)\n",
    "sample_index = rnd.randint(0, num_digits, size = (num_samples,))\n",
    "train_digits = train_digits[sample_index]\n",
    "train_labels = train_labels[sample_index]\n",
    "num_train = train_labels.shape[0]\n",
    "num_test = test_labels.shape[0]\n",
    "# Here we get the pure data\n",
    "# train_digits\n",
    "# test_digits\n",
    "# train_labels\n",
    "# test_labels"
   ]
  },
  {
   "cell_type": "code",
   "execution_count": null,
   "id": "519bf5d1",
   "metadata": {},
   "outputs": [],
   "source": []
  },
  {
   "cell_type": "markdown",
   "id": "9e5ce89b",
   "metadata": {},
   "source": [
    "## Load Variational autoencoder"
   ]
  },
  {
   "cell_type": "markdown",
   "id": "60f9fbbe",
   "metadata": {},
   "source": [
    "### Print setup details"
   ]
  },
  {
   "cell_type": "markdown",
   "id": "add049f4",
   "metadata": {},
   "source": []
  },
  {
   "cell_type": "markdown",
   "id": "2b8006d4",
   "metadata": {},
   "source": [
    "## Reconstruct and dimension reductions"
   ]
  },
  {
   "cell_type": "code",
   "execution_count": 7,
   "id": "bd8ae98d",
   "metadata": {},
   "outputs": [],
   "source": [
    "# Fill\n",
    "df_list = []\n",
    "latent_mean_list = []\n",
    "latent_std_list =[]\n",
    "latent_base_list = []\n",
    "\n",
    "for name, model in model_df.iterrows():\n",
    "    if model['ae_type'] == \"ae\":\n",
    "        code = model['model'].encoder(test_digits).numpy()\n",
    "        code_std = np.empty(shape = code.shape)*np.nan\n",
    "        \n",
    "    elif model['ae_type'] == \"vae\":\n",
    "        digit_distribution = model['model'].encoder(test_digits).numpy()\n",
    "        code = digit_distribution[:,0,:]\n",
    "        code_std = np.sqrt(np.exp(digit_distribution[:,1,:]))\n",
    "        \n",
    "    latent_mean = np.mean(code)\n",
    "    mean_distance = np.linalg.norm(code-latent_mean, axis = 1)\n",
    "    code_tsne = TSNE(n_components = 2).fit_transform(code)\n",
    "    \n",
    "    temp_df = pd.DataFrame(data = name, columns = [\"model_name\"], index = range(num_test))\n",
    "    temp_df['label'] = test_labels\n",
    "    temp_df['distance'] = mean_distance\n",
    "    temp_df[[\"latent_\"+str(i) for i in range(latent_dim)]] = code\n",
    "    temp_df[[\"latent_std_\"+str(i) for i in range(latent_dim)]] = code_std\n",
    "    temp_df[['tsne_0', 'tsne_1']] = code_tsne\n",
    "    df_list.append(temp_df)\n",
    "    \n",
    "    # Calculate global code information\n",
    "    pca = PCA().fit(code)\n",
    "    latent_mean_list.append(pca.mean_)\n",
    "    latent_std_list.append(np.sqrt(pca.explained_variance_))\n",
    "    latent_base_list.append(pca.components_)\n",
    "        \n",
    "latent_df = pd.concat(df_list)\n",
    "model_df['latent_mean'] = latent_mean_list\n",
    "model_df['latent_std'] = latent_std_list\n",
    "model_df['latent_base'] = latent_base_list\n"
   ]
  },
  {
   "cell_type": "markdown",
   "id": "8c8142ca",
   "metadata": {},
   "source": [
    "## Investigation"
   ]
  },
  {
   "cell_type": "markdown",
   "id": "9ba4df8a",
   "metadata": {},
   "source": [
    "### Show reconstructions"
   ]
  },
  {
   "cell_type": "code",
   "execution_count": null,
   "id": "3b84be09",
   "metadata": {},
   "outputs": [],
   "source": []
  },
  {
   "cell_type": "code",
   "execution_count": 47,
   "id": "e796e6a4",
   "metadata": {},
   "outputs": [],
   "source": [
    "num_col = 4\n",
    "num_row = 3\n",
    "num_img = num_row*num_col\n",
    "rec_index = rnd.randint(num_samples,size =(num_row*num_col,) )\n",
    "digits = test_digits\n",
    "digits = digits[rec_index]"
   ]
  },
  {
   "cell_type": "code",
   "execution_count": 48,
   "id": "7e6dd264",
   "metadata": {},
   "outputs": [
    {
     "data": {
      "text/plain": [
       "<AxesSubplot:>"
      ]
     },
     "execution_count": 48,
     "metadata": {},
     "output_type": "execute_result"
    }
   ],
   "source": [
    "\n",
    "model = model_df.loc['ae','model']\n",
    "\n",
    "reconstructions = model(digits)\n",
    "i = 0\n",
    "for col in range(num_col):\n",
    "    for row in range(num_row): \n",
    "        pair = np.concatenate((digits[i], reconstructions[i]), axis = 1)\n",
    "        if row == 0: \n",
    "            ver_img = pair\n",
    "        else:\n",
    "            ver_img = np.concatenate((ver_img,\n",
    "                                 pair), axis = 0)\n",
    "        i = i + 1\n",
    "    if col == 0:\n",
    "        img = ver_img\n",
    "    else: \n",
    "        img = np.concatenate((img,\n",
    "                              ver_img), axis = 1)\n",
    "\n",
    "sns.heatmap(img[:,:,0], vmin=0, vmax = 1)"
   ]
  },
  {
   "cell_type": "code",
   "execution_count": 51,
   "id": "b2ef13fe",
   "metadata": {},
   "outputs": [
    {
     "data": {
      "text/plain": [
       "<AxesSubplot:>"
      ]
     },
     "execution_count": 51,
     "metadata": {},
     "output_type": "execute_result"
    }
   ],
   "source": [
    "\n",
    "num_dig = 14\n",
    "rec_index = rnd.randint(num_test,size =(num_dig,) )\n",
    "digits = test_digits\n",
    "digits = digits[rec_index]\n",
    "\n",
    "reconstructions = []\n",
    "for name, model in model_df.iterrows():\n",
    "    reconstructions.append(model['model'](digits))\n",
    "\n",
    "for dig_i in range(num_dig):\n",
    "    rec_im = digits[dig_i]\n",
    "    model_i = 0\n",
    "    for name, model in model_df.iterrows():\n",
    "        \n",
    "        rec_im = np.concatenate((rec_im,\n",
    "                         reconstructions[model_i][dig_i]),\n",
    "                         axis = 0)\n",
    "        model_i = model_i + 1\n",
    "    if dig_i == 0:\n",
    "        im = rec_im\n",
    "    else:\n",
    "        im = np.concatenate((im, rec_im), axis = 1)\n",
    "    \n",
    "sns.heatmap(im[:,:,0], vmin=0, vmax = 1)"
   ]
  },
  {
   "cell_type": "code",
   "execution_count": 119,
   "id": "5847f013",
   "metadata": {},
   "outputs": [
    {
     "data": {
      "text/plain": [
       "(1, 28, 28, 1)"
      ]
     },
     "execution_count": 119,
     "metadata": {},
     "output_type": "execute_result"
    }
   ],
   "source": []
  },
  {
   "cell_type": "markdown",
   "id": "48f36a17",
   "metadata": {},
   "source": [
    "### Latent"
   ]
  },
  {
   "cell_type": "code",
   "execution_count": 52,
   "id": "754dcaaa",
   "metadata": {},
   "outputs": [],
   "source": [
    "\n",
    "indeces = rnd.randint(num_samples,size = (3,))\n",
    "indeces = [1,2,3]\n",
    "ul = test_digits[indeces[0]]\n",
    "ur = test_digits[indeces[1]]\n",
    "dl = test_digits[indeces[2]]\n",
    "z =  np.zeros(dl.shape)\n",
    "corner_image = np.concatenate( (np.concatenate((ul,ur),axis = 1),\n",
    "                                np.concatenate((dl,z ),axis = 1)), axis = 0)\n"
   ]
  },
  {
   "cell_type": "code",
   "execution_count": 54,
   "id": "4b8d0f48",
   "metadata": {},
   "outputs": [
    {
     "data": {
      "text/plain": [
       "<AxesSubplot:>"
      ]
     },
     "execution_count": 54,
     "metadata": {},
     "output_type": "execute_result"
    }
   ],
   "source": [
    "\n",
    "model = model_df.loc['vae_10','model']\n",
    "mosaic = LatentInterpolationMosaic(\n",
    "                          model.encode,\n",
    "                          model.decoder,\n",
    "                          test_digits,\n",
    "                          indeces,\n",
    "                          num_row = 15,\n",
    "                          num_col = 15).mosaic\n",
    "\n",
    "\n",
    "\n",
    "sns.heatmap(mosaic[:,:,0], vmin = 0, vmax = 1)"
   ]
  },
  {
   "cell_type": "markdown",
   "id": "a6ff05cf",
   "metadata": {},
   "source": [
    "### Scatter"
   ]
  },
  {
   "cell_type": "code",
   "execution_count": 34,
   "id": "ffef7aa0",
   "metadata": {},
   "outputs": [
    {
     "data": {
      "text/plain": [
       "<sample_scatter_gui.SampleScatterGUI at 0x149c4e2ba90>"
      ]
     },
     "execution_count": 34,
     "metadata": {},
     "output_type": "execute_result"
    }
   ],
   "source": [
    "model_name = 'vae_1000'\n",
    "scatter = latent_df[latent_df['model_name']==model_name][['tsne_0', 'tsne_1']].to_numpy()\n",
    "SampleScatterGUI(scatter, test_labels, test_digits)\n"
   ]
  },
  {
   "cell_type": "code",
   "execution_count": 56,
   "id": "72cedd2b",
   "metadata": {},
   "outputs": [
    {
     "data": {
      "text/plain": [
       "<seaborn.axisgrid.JointGrid at 0x149e964e9a0>"
      ]
     },
     "execution_count": 56,
     "metadata": {},
     "output_type": "execute_result"
    }
   ],
   "source": [
    "model_name = \"vae_1000\"\n",
    "sns.jointplot(data = latent_df[latent_df['model_name'] == model_name ], x = 'tsne_0', y = 'tsne_1',\n",
    "              hue = 'label',\n",
    "              palette = 'colorblind')"
   ]
  },
  {
   "cell_type": "code",
   "execution_count": 57,
   "id": "75a55e57",
   "metadata": {},
   "outputs": [
    {
     "data": {
      "text/plain": [
       "<seaborn.axisgrid.FacetGrid at 0x149f2ca4460>"
      ]
     },
     "execution_count": 57,
     "metadata": {},
     "output_type": "execute_result"
    }
   ],
   "source": [
    "model_name = \"vae_1000\"\n",
    "sns.relplot(data = latent_df[latent_df['model_name'] == model_name ], x = 'tsne_0', y = 'tsne_1',\n",
    "              hue = 'label',\n",
    "              palette = 'colorblind',\n",
    "           kind = 'scatter')"
   ]
  },
  {
   "cell_type": "markdown",
   "id": "701d4959",
   "metadata": {},
   "source": [
    "### Spread"
   ]
  },
  {
   "cell_type": "markdown",
   "id": "7e77fa67",
   "metadata": {},
   "source": [
    "Here we have that the first 6 principal axises are almost one and the remaining 4 are almost zero (e-3). This is combination with that the cross covariance seem to be super much zero (e-15), indicates that we have a six dimesnioal sphere in this ten dimesional latent space. Interesting to see is also if you create a latent vector in the pca-vector space. Then comparing the latent value in each dimension times the spread in each dimension, gives you the importance of that dimension in that latent point. A low importance will not have an effect on the output (kind of like a low derivative...), while a hight value will give a big difference."
   ]
  },
  {
   "cell_type": "code",
   "execution_count": 58,
   "id": "fa4675c5",
   "metadata": {},
   "outputs": [],
   "source": [
    "axis_index = [0,-1]\n",
    "scaling_factors = np.array([5,5])"
   ]
  },
  {
   "cell_type": "code",
   "execution_count": 59,
   "id": "55542952",
   "metadata": {},
   "outputs": [
    {
     "data": {
      "text/plain": [
       "<AxesSubplot:>"
      ]
     },
     "execution_count": 59,
     "metadata": {},
     "output_type": "execute_result"
    }
   ],
   "source": [
    "model_name = 'ae'\n",
    "model = model_df.loc[model_name, 'model']\n",
    "latent_vectors = model_df.loc[model_name, 'latent_base'][axis_index]\n",
    "latent_origin  = model_df.loc[model_name, 'latent_mean']\n",
    "mosaic = LatentPlaneMosaic(model.decoder,\n",
    "                  latent_vectors = (scaling_factors*latent_vectors.T).T,\n",
    "                  latent_origin = latent_origin,\n",
    "                  num_row = 20,\n",
    "                  num_col = 20).mosaic\n",
    "\n",
    "#fig,ax = plt.subplots(1,1)\n",
    "#ax.imshow(mosaic)\n",
    "sns.heatmap(mosaic[:,:,0], vmin = 0, vmax = 1)"
   ]
  },
  {
   "cell_type": "markdown",
   "id": "2adbb3ba",
   "metadata": {},
   "source": [
    "## Spred "
   ]
  },
  {
   "cell_type": "code",
   "execution_count": 23,
   "id": "46c5256a",
   "metadata": {},
   "outputs": [],
   "source": [
    "## TODO\n",
    "# Make a grid work with seaborn to plot the things nice\n",
    "# Maybe do a pca on the "
   ]
  },
  {
   "cell_type": "code",
   "execution_count": 41,
   "id": "4292b466",
   "metadata": {},
   "outputs": [
    {
     "data": {
      "text/html": [
       "<div>\n",
       "<style scoped>\n",
       "    .dataframe tbody tr th:only-of-type {\n",
       "        vertical-align: middle;\n",
       "    }\n",
       "\n",
       "    .dataframe tbody tr th {\n",
       "        vertical-align: top;\n",
       "    }\n",
       "\n",
       "    .dataframe thead th {\n",
       "        text-align: right;\n",
       "    }\n",
       "</style>\n",
       "<table border=\"1\" class=\"dataframe\">\n",
       "  <thead>\n",
       "    <tr style=\"text-align: right;\">\n",
       "      <th></th>\n",
       "      <th>model_name</th>\n",
       "      <th>label</th>\n",
       "      <th>distance</th>\n",
       "      <th>latent_0</th>\n",
       "      <th>latent_1</th>\n",
       "      <th>latent_2</th>\n",
       "      <th>latent_3</th>\n",
       "      <th>latent_4</th>\n",
       "      <th>latent_5</th>\n",
       "      <th>latent_6</th>\n",
       "      <th>...</th>\n",
       "      <th>latent_std_2</th>\n",
       "      <th>latent_std_3</th>\n",
       "      <th>latent_std_4</th>\n",
       "      <th>latent_std_5</th>\n",
       "      <th>latent_std_6</th>\n",
       "      <th>latent_std_7</th>\n",
       "      <th>latent_std_8</th>\n",
       "      <th>latent_std_9</th>\n",
       "      <th>tsne_0</th>\n",
       "      <th>tsne_1</th>\n",
       "    </tr>\n",
       "  </thead>\n",
       "  <tbody>\n",
       "    <tr>\n",
       "      <th>0</th>\n",
       "      <td>ae</td>\n",
       "      <td>7</td>\n",
       "      <td>16.084698</td>\n",
       "      <td>8.920861</td>\n",
       "      <td>2.935239</td>\n",
       "      <td>0.101040</td>\n",
       "      <td>3.835251</td>\n",
       "      <td>5.167331</td>\n",
       "      <td>0.044287</td>\n",
       "      <td>-0.737711</td>\n",
       "      <td>...</td>\n",
       "      <td>NaN</td>\n",
       "      <td>NaN</td>\n",
       "      <td>NaN</td>\n",
       "      <td>NaN</td>\n",
       "      <td>NaN</td>\n",
       "      <td>NaN</td>\n",
       "      <td>NaN</td>\n",
       "      <td>NaN</td>\n",
       "      <td>60.183018</td>\n",
       "      <td>2.488432</td>\n",
       "    </tr>\n",
       "    <tr>\n",
       "      <th>1</th>\n",
       "      <td>ae</td>\n",
       "      <td>2</td>\n",
       "      <td>9.284235</td>\n",
       "      <td>-4.630370</td>\n",
       "      <td>0.333097</td>\n",
       "      <td>0.051023</td>\n",
       "      <td>1.970570</td>\n",
       "      <td>-0.373991</td>\n",
       "      <td>-7.604153</td>\n",
       "      <td>-2.687356</td>\n",
       "      <td>...</td>\n",
       "      <td>NaN</td>\n",
       "      <td>NaN</td>\n",
       "      <td>NaN</td>\n",
       "      <td>NaN</td>\n",
       "      <td>NaN</td>\n",
       "      <td>NaN</td>\n",
       "      <td>NaN</td>\n",
       "      <td>NaN</td>\n",
       "      <td>1.227274</td>\n",
       "      <td>34.697578</td>\n",
       "    </tr>\n",
       "    <tr>\n",
       "      <th>2</th>\n",
       "      <td>ae</td>\n",
       "      <td>1</td>\n",
       "      <td>24.278584</td>\n",
       "      <td>-5.574288</td>\n",
       "      <td>9.404783</td>\n",
       "      <td>10.561562</td>\n",
       "      <td>3.208399</td>\n",
       "      <td>4.680079</td>\n",
       "      <td>-1.272882</td>\n",
       "      <td>-8.597842</td>\n",
       "      <td>...</td>\n",
       "      <td>NaN</td>\n",
       "      <td>NaN</td>\n",
       "      <td>NaN</td>\n",
       "      <td>NaN</td>\n",
       "      <td>NaN</td>\n",
       "      <td>NaN</td>\n",
       "      <td>NaN</td>\n",
       "      <td>NaN</td>\n",
       "      <td>49.863174</td>\n",
       "      <td>62.129429</td>\n",
       "    </tr>\n",
       "    <tr>\n",
       "      <th>3</th>\n",
       "      <td>ae</td>\n",
       "      <td>0</td>\n",
       "      <td>7.559016</td>\n",
       "      <td>-1.396393</td>\n",
       "      <td>-3.778943</td>\n",
       "      <td>-0.890940</td>\n",
       "      <td>1.304242</td>\n",
       "      <td>2.891060</td>\n",
       "      <td>-0.907814</td>\n",
       "      <td>-5.144459</td>\n",
       "      <td>...</td>\n",
       "      <td>NaN</td>\n",
       "      <td>NaN</td>\n",
       "      <td>NaN</td>\n",
       "      <td>NaN</td>\n",
       "      <td>NaN</td>\n",
       "      <td>NaN</td>\n",
       "      <td>NaN</td>\n",
       "      <td>NaN</td>\n",
       "      <td>-59.530056</td>\n",
       "      <td>-11.259049</td>\n",
       "    </tr>\n",
       "    <tr>\n",
       "      <th>4</th>\n",
       "      <td>ae</td>\n",
       "      <td>4</td>\n",
       "      <td>14.996903</td>\n",
       "      <td>0.393196</td>\n",
       "      <td>3.453920</td>\n",
       "      <td>1.677722</td>\n",
       "      <td>10.656785</td>\n",
       "      <td>-0.166942</td>\n",
       "      <td>-2.436691</td>\n",
       "      <td>-7.303797</td>\n",
       "      <td>...</td>\n",
       "      <td>NaN</td>\n",
       "      <td>NaN</td>\n",
       "      <td>NaN</td>\n",
       "      <td>NaN</td>\n",
       "      <td>NaN</td>\n",
       "      <td>NaN</td>\n",
       "      <td>NaN</td>\n",
       "      <td>NaN</td>\n",
       "      <td>25.870169</td>\n",
       "      <td>-68.021873</td>\n",
       "    </tr>\n",
       "  </tbody>\n",
       "</table>\n",
       "<p>5 rows × 25 columns</p>\n",
       "</div>"
      ],
      "text/plain": [
       "  model_name  label   distance  latent_0  latent_1   latent_2   latent_3  \\\n",
       "0         ae      7  16.084698  8.920861  2.935239   0.101040   3.835251   \n",
       "1         ae      2   9.284235 -4.630370  0.333097   0.051023   1.970570   \n",
       "2         ae      1  24.278584 -5.574288  9.404783  10.561562   3.208399   \n",
       "3         ae      0   7.559016 -1.396393 -3.778943  -0.890940   1.304242   \n",
       "4         ae      4  14.996903  0.393196  3.453920   1.677722  10.656785   \n",
       "\n",
       "   latent_4  latent_5  latent_6  ...  latent_std_2  latent_std_3  \\\n",
       "0  5.167331  0.044287 -0.737711  ...           NaN           NaN   \n",
       "1 -0.373991 -7.604153 -2.687356  ...           NaN           NaN   \n",
       "2  4.680079 -1.272882 -8.597842  ...           NaN           NaN   \n",
       "3  2.891060 -0.907814 -5.144459  ...           NaN           NaN   \n",
       "4 -0.166942 -2.436691 -7.303797  ...           NaN           NaN   \n",
       "\n",
       "   latent_std_4  latent_std_5  latent_std_6  latent_std_7  latent_std_8  \\\n",
       "0           NaN           NaN           NaN           NaN           NaN   \n",
       "1           NaN           NaN           NaN           NaN           NaN   \n",
       "2           NaN           NaN           NaN           NaN           NaN   \n",
       "3           NaN           NaN           NaN           NaN           NaN   \n",
       "4           NaN           NaN           NaN           NaN           NaN   \n",
       "\n",
       "   latent_std_9     tsne_0     tsne_1  \n",
       "0           NaN  60.183018   2.488432  \n",
       "1           NaN   1.227274  34.697578  \n",
       "2           NaN  49.863174  62.129429  \n",
       "3           NaN -59.530056 -11.259049  \n",
       "4           NaN  25.870169 -68.021873  \n",
       "\n",
       "[5 rows x 25 columns]"
      ]
     },
     "execution_count": 41,
     "metadata": {},
     "output_type": "execute_result"
    }
   ],
   "source": [
    "latent_df.head()"
   ]
  },
  {
   "cell_type": "code",
   "execution_count": 40,
   "id": "46e4ca7d",
   "metadata": {},
   "outputs": [
    {
     "data": {
      "text/plain": [
       "<seaborn.axisgrid.FacetGrid at 0x149a1bc3be0>"
      ]
     },
     "execution_count": 40,
     "metadata": {},
     "output_type": "execute_result"
    }
   ],
   "source": [
    "sns.catplot(data = latent_df.query(\"model_name != 'ae'\"), x = 'label',y = 'distance', col = 'model_name', kind = 'violin' )"
   ]
  },
  {
   "cell_type": "code",
   "execution_count": 61,
   "id": "98a135a3",
   "metadata": {},
   "outputs": [
    {
     "data": {
      "text/plain": [
       "<seaborn.axisgrid.FacetGrid at 0x149f29db370>"
      ]
     },
     "execution_count": 61,
     "metadata": {},
     "output_type": "execute_result"
    }
   ],
   "source": [
    "sns.catplot(data= latent_df,\n",
    "            x = \"model_name\", y = 'distance',\n",
    "            kind =  'violin')"
   ]
  },
  {
   "cell_type": "code",
   "execution_count": 73,
   "id": "bf8c54dc",
   "metadata": {},
   "outputs": [
    {
     "data": {
      "text/plain": [
       "<seaborn.axisgrid.FacetGrid at 0x14a07e83460>"
      ]
     },
     "execution_count": 73,
     "metadata": {},
     "output_type": "execute_result"
    }
   ],
   "source": [
    "sns.relplot(data = latent_df,\n",
    "            x = 'latent_8',\n",
    "            y = 'latent_std_8',\n",
    "           hue = 'model_name')"
   ]
  },
  {
   "cell_type": "code",
   "execution_count": 62,
   "id": "7bac9298",
   "metadata": {},
   "outputs": [
    {
     "data": {
      "text/plain": [
       "<seaborn.axisgrid.PairGrid at 0x149fa5dfca0>"
      ]
     },
     "execution_count": 62,
     "metadata": {},
     "output_type": "execute_result"
    }
   ],
   "source": [
    "x_vars = ['latent_' + str(i) for i in range(0,3)]\n",
    "y_vars = ['latent_std_' + str(i) for i in range(0,1)]\n",
    "sns.pairplot(data = latent_df,\n",
    "             x_vars = x_vars,\n",
    "            kind  = 'hist',\n",
    "            )"
   ]
  },
  {
   "cell_type": "code",
   "execution_count": 75,
   "id": "38f6ed0a",
   "metadata": {},
   "outputs": [
    {
     "data": {
      "text/html": [
       "<div>\n",
       "<style scoped>\n",
       "    .dataframe tbody tr th:only-of-type {\n",
       "        vertical-align: middle;\n",
       "    }\n",
       "\n",
       "    .dataframe tbody tr th {\n",
       "        vertical-align: top;\n",
       "    }\n",
       "\n",
       "    .dataframe thead th {\n",
       "        text-align: right;\n",
       "    }\n",
       "</style>\n",
       "<table border=\"1\" class=\"dataframe\">\n",
       "  <thead>\n",
       "    <tr style=\"text-align: right;\">\n",
       "      <th></th>\n",
       "      <th>model_name</th>\n",
       "      <th>label</th>\n",
       "      <th>distance</th>\n",
       "      <th>latent_0</th>\n",
       "      <th>latent_1</th>\n",
       "      <th>latent_2</th>\n",
       "      <th>latent_3</th>\n",
       "      <th>latent_4</th>\n",
       "      <th>latent_5</th>\n",
       "      <th>latent_6</th>\n",
       "      <th>...</th>\n",
       "      <th>latent_std_2</th>\n",
       "      <th>latent_std_3</th>\n",
       "      <th>latent_std_4</th>\n",
       "      <th>latent_std_5</th>\n",
       "      <th>latent_std_6</th>\n",
       "      <th>latent_std_7</th>\n",
       "      <th>latent_std_8</th>\n",
       "      <th>latent_std_9</th>\n",
       "      <th>tsne_0</th>\n",
       "      <th>tsne_1</th>\n",
       "    </tr>\n",
       "  </thead>\n",
       "  <tbody>\n",
       "    <tr>\n",
       "      <th>0</th>\n",
       "      <td>ae</td>\n",
       "      <td>7</td>\n",
       "      <td>16.084698</td>\n",
       "      <td>8.920861</td>\n",
       "      <td>2.935239</td>\n",
       "      <td>0.101040</td>\n",
       "      <td>3.835251</td>\n",
       "      <td>5.167331</td>\n",
       "      <td>0.044287</td>\n",
       "      <td>-0.737711</td>\n",
       "      <td>...</td>\n",
       "      <td>NaN</td>\n",
       "      <td>NaN</td>\n",
       "      <td>NaN</td>\n",
       "      <td>NaN</td>\n",
       "      <td>NaN</td>\n",
       "      <td>NaN</td>\n",
       "      <td>NaN</td>\n",
       "      <td>NaN</td>\n",
       "      <td>60.183018</td>\n",
       "      <td>2.488432</td>\n",
       "    </tr>\n",
       "    <tr>\n",
       "      <th>1</th>\n",
       "      <td>ae</td>\n",
       "      <td>2</td>\n",
       "      <td>9.284235</td>\n",
       "      <td>-4.630370</td>\n",
       "      <td>0.333097</td>\n",
       "      <td>0.051023</td>\n",
       "      <td>1.970570</td>\n",
       "      <td>-0.373991</td>\n",
       "      <td>-7.604153</td>\n",
       "      <td>-2.687356</td>\n",
       "      <td>...</td>\n",
       "      <td>NaN</td>\n",
       "      <td>NaN</td>\n",
       "      <td>NaN</td>\n",
       "      <td>NaN</td>\n",
       "      <td>NaN</td>\n",
       "      <td>NaN</td>\n",
       "      <td>NaN</td>\n",
       "      <td>NaN</td>\n",
       "      <td>1.227274</td>\n",
       "      <td>34.697578</td>\n",
       "    </tr>\n",
       "    <tr>\n",
       "      <th>2</th>\n",
       "      <td>ae</td>\n",
       "      <td>1</td>\n",
       "      <td>24.278584</td>\n",
       "      <td>-5.574288</td>\n",
       "      <td>9.404783</td>\n",
       "      <td>10.561562</td>\n",
       "      <td>3.208399</td>\n",
       "      <td>4.680079</td>\n",
       "      <td>-1.272882</td>\n",
       "      <td>-8.597842</td>\n",
       "      <td>...</td>\n",
       "      <td>NaN</td>\n",
       "      <td>NaN</td>\n",
       "      <td>NaN</td>\n",
       "      <td>NaN</td>\n",
       "      <td>NaN</td>\n",
       "      <td>NaN</td>\n",
       "      <td>NaN</td>\n",
       "      <td>NaN</td>\n",
       "      <td>49.863174</td>\n",
       "      <td>62.129429</td>\n",
       "    </tr>\n",
       "    <tr>\n",
       "      <th>3</th>\n",
       "      <td>ae</td>\n",
       "      <td>0</td>\n",
       "      <td>7.559016</td>\n",
       "      <td>-1.396393</td>\n",
       "      <td>-3.778943</td>\n",
       "      <td>-0.890940</td>\n",
       "      <td>1.304242</td>\n",
       "      <td>2.891060</td>\n",
       "      <td>-0.907814</td>\n",
       "      <td>-5.144459</td>\n",
       "      <td>...</td>\n",
       "      <td>NaN</td>\n",
       "      <td>NaN</td>\n",
       "      <td>NaN</td>\n",
       "      <td>NaN</td>\n",
       "      <td>NaN</td>\n",
       "      <td>NaN</td>\n",
       "      <td>NaN</td>\n",
       "      <td>NaN</td>\n",
       "      <td>-59.530056</td>\n",
       "      <td>-11.259049</td>\n",
       "    </tr>\n",
       "    <tr>\n",
       "      <th>4</th>\n",
       "      <td>ae</td>\n",
       "      <td>4</td>\n",
       "      <td>14.996903</td>\n",
       "      <td>0.393196</td>\n",
       "      <td>3.453920</td>\n",
       "      <td>1.677722</td>\n",
       "      <td>10.656785</td>\n",
       "      <td>-0.166942</td>\n",
       "      <td>-2.436691</td>\n",
       "      <td>-7.303797</td>\n",
       "      <td>...</td>\n",
       "      <td>NaN</td>\n",
       "      <td>NaN</td>\n",
       "      <td>NaN</td>\n",
       "      <td>NaN</td>\n",
       "      <td>NaN</td>\n",
       "      <td>NaN</td>\n",
       "      <td>NaN</td>\n",
       "      <td>NaN</td>\n",
       "      <td>25.870169</td>\n",
       "      <td>-68.021873</td>\n",
       "    </tr>\n",
       "  </tbody>\n",
       "</table>\n",
       "<p>5 rows × 25 columns</p>\n",
       "</div>"
      ],
      "text/plain": [
       "  model_name  label   distance  latent_0  latent_1   latent_2   latent_3  \\\n",
       "0         ae      7  16.084698  8.920861  2.935239   0.101040   3.835251   \n",
       "1         ae      2   9.284235 -4.630370  0.333097   0.051023   1.970570   \n",
       "2         ae      1  24.278584 -5.574288  9.404783  10.561562   3.208399   \n",
       "3         ae      0   7.559016 -1.396393 -3.778943  -0.890940   1.304242   \n",
       "4         ae      4  14.996903  0.393196  3.453920   1.677722  10.656785   \n",
       "\n",
       "   latent_4  latent_5  latent_6  ...  latent_std_2  latent_std_3  \\\n",
       "0  5.167331  0.044287 -0.737711  ...           NaN           NaN   \n",
       "1 -0.373991 -7.604153 -2.687356  ...           NaN           NaN   \n",
       "2  4.680079 -1.272882 -8.597842  ...           NaN           NaN   \n",
       "3  2.891060 -0.907814 -5.144459  ...           NaN           NaN   \n",
       "4 -0.166942 -2.436691 -7.303797  ...           NaN           NaN   \n",
       "\n",
       "   latent_std_4  latent_std_5  latent_std_6  latent_std_7  latent_std_8  \\\n",
       "0           NaN           NaN           NaN           NaN           NaN   \n",
       "1           NaN           NaN           NaN           NaN           NaN   \n",
       "2           NaN           NaN           NaN           NaN           NaN   \n",
       "3           NaN           NaN           NaN           NaN           NaN   \n",
       "4           NaN           NaN           NaN           NaN           NaN   \n",
       "\n",
       "   latent_std_9     tsne_0     tsne_1  \n",
       "0           NaN  60.183018   2.488432  \n",
       "1           NaN   1.227274  34.697578  \n",
       "2           NaN  49.863174  62.129429  \n",
       "3           NaN -59.530056 -11.259049  \n",
       "4           NaN  25.870169 -68.021873  \n",
       "\n",
       "[5 rows x 25 columns]"
      ]
     },
     "execution_count": 75,
     "metadata": {},
     "output_type": "execute_result"
    }
   ],
   "source": [
    "latent_df.head()"
   ]
  },
  {
   "cell_type": "code",
   "execution_count": 32,
   "id": "af350a6d",
   "metadata": {},
   "outputs": [],
   "source": [
    "sns.set()\n",
    "values = ['latent_std_'+str(i) for i in range(5,10)]\n",
    "rows = len(values)\n",
    "fig, axs = plt.subplots(rows,4, sharey = False, sharex = False)\n",
    "fig.suptitle(\"Best title\")\n",
    "for row in range(rows):\n",
    "    col = 0\n",
    "    for name, model in model_df.iterrows():\n",
    "        ax = axs[row,col]\n",
    "        col = col+1\n",
    "        sns.histplot(latent_df[latent_df['model_name']== name], x=values[row],\n",
    "                     ax = ax,\n",
    "                     binrange = (0,1.1))"
   ]
  },
  {
   "cell_type": "code",
   "execution_count": 33,
   "id": "953f6b26",
   "metadata": {},
   "outputs": [],
   "source": [
    "sns.set()\n",
    "values = ['latent_'+str(i) for i in range(5,10)]\n",
    "rows = len(values)\n",
    "fig, axs = plt.subplots(rows,4, sharey = False, sharex = False)\n",
    "fig.suptitle(\"Best title\")\n",
    "for row in range(rows):\n",
    "    col = 0\n",
    "    for name, model in model_df.iterrows():\n",
    "        ax = axs[row,col]\n",
    "        col = col+1\n",
    "        sns.histplot(latent_df[latent_df['model_name']== name], x=values[row], ax = ax)"
   ]
  },
  {
   "cell_type": "code",
   "execution_count": 20,
   "id": "1bb46b1d",
   "metadata": {},
   "outputs": [],
   "source": [
    "for i in range(4,10):\n",
    "    sns.pairplot(\n",
    "        latent_df,\n",
    "        x_vars=[\"latent_\"+str(i)],\n",
    "        y_vars=['latent_std_'+str(i)],\n",
    "        hue = 'model_name',\n",
    "    )"
   ]
  },
  {
   "cell_type": "code",
   "execution_count": 11,
   "id": "b450bca0",
   "metadata": {},
   "outputs": [
    {
     "data": {
      "text/plain": [
       "<AxesSubplot:xlabel='distance', ylabel='Count'>"
      ]
     },
     "execution_count": 11,
     "metadata": {},
     "output_type": "execute_result"
    }
   ],
   "source": [
    "sns.histplot(latent_df, x='distance', hue = 'model_name')"
   ]
  },
  {
   "cell_type": "markdown",
   "id": "30b96962",
   "metadata": {},
   "source": [
    "## Generative power"
   ]
  },
  {
   "cell_type": "code",
   "execution_count": 12,
   "id": "83927f5c",
   "metadata": {},
   "outputs": [],
   "source": [
    "model_name = 'ae'\n",
    "mean = np.zeros(latent_dim)\n",
    "mean = model_df.loc[model_name,'latent_mean']\n",
    "cov  = 1*np.eye(latent_dim)\n",
    "num_col = 15\n",
    "num_row = 10\n",
    "num_img = num_row*num_col\n",
    "latent_points = rnd.multivariate_normal(mean, cov, size = (num_img))\n",
    "\n"
   ]
  },
  {
   "cell_type": "code",
   "execution_count": 14,
   "id": "736b6983",
   "metadata": {},
   "outputs": [
    {
     "data": {
      "text/plain": [
       "<AxesSubplot:>"
      ]
     },
     "execution_count": 14,
     "metadata": {},
     "output_type": "execute_result"
    }
   ],
   "source": [
    "model = model_df.loc[model_name, 'model']\n",
    "title = \"Reconstruction with autoencoder\"\n",
    "fig, ax = plt.subplots()\n",
    "reconstructions = model.decoder(latent_points)\n",
    "i = 0\n",
    "for col in range(num_col):\n",
    "    for row in range(num_row): \n",
    "        if row == 0: \n",
    "            ver_img = reconstructions[i]\n",
    "        else:\n",
    "            ver_img = np.concatenate((ver_img,\n",
    "                                 reconstructions[i]), axis = 0)\n",
    "        i = i + 1\n",
    "    if col == 0:\n",
    "        img = ver_img\n",
    "    else: \n",
    "        img = np.concatenate((img,\n",
    "                              ver_img), axis = 1)\n",
    "sns.heatmap(img[:,:,0])\n",
    "\n"
   ]
  },
  {
   "cell_type": "code",
   "execution_count": 24,
   "id": "56a9b089",
   "metadata": {},
   "outputs": [
    {
     "data": {
      "text/html": [
       "<div>\n",
       "<style scoped>\n",
       "    .dataframe tbody tr th:only-of-type {\n",
       "        vertical-align: middle;\n",
       "    }\n",
       "\n",
       "    .dataframe tbody tr th {\n",
       "        vertical-align: top;\n",
       "    }\n",
       "\n",
       "    .dataframe thead th {\n",
       "        text-align: right;\n",
       "    }\n",
       "</style>\n",
       "<table border=\"1\" class=\"dataframe\">\n",
       "  <thead>\n",
       "    <tr style=\"text-align: right;\">\n",
       "      <th></th>\n",
       "      <th>label</th>\n",
       "      <th>distance</th>\n",
       "      <th>latent_0</th>\n",
       "      <th>latent_1</th>\n",
       "      <th>latent_2</th>\n",
       "      <th>latent_3</th>\n",
       "      <th>latent_4</th>\n",
       "      <th>latent_5</th>\n",
       "      <th>latent_6</th>\n",
       "      <th>latent_7</th>\n",
       "      <th>...</th>\n",
       "      <th>latent_std_2</th>\n",
       "      <th>latent_std_3</th>\n",
       "      <th>latent_std_4</th>\n",
       "      <th>latent_std_5</th>\n",
       "      <th>latent_std_6</th>\n",
       "      <th>latent_std_7</th>\n",
       "      <th>latent_std_8</th>\n",
       "      <th>latent_std_9</th>\n",
       "      <th>tsne_0</th>\n",
       "      <th>tsne_1</th>\n",
       "    </tr>\n",
       "    <tr>\n",
       "      <th>model_name</th>\n",
       "      <th></th>\n",
       "      <th></th>\n",
       "      <th></th>\n",
       "      <th></th>\n",
       "      <th></th>\n",
       "      <th></th>\n",
       "      <th></th>\n",
       "      <th></th>\n",
       "      <th></th>\n",
       "      <th></th>\n",
       "      <th></th>\n",
       "      <th></th>\n",
       "      <th></th>\n",
       "      <th></th>\n",
       "      <th></th>\n",
       "      <th></th>\n",
       "      <th></th>\n",
       "      <th></th>\n",
       "      <th></th>\n",
       "      <th></th>\n",
       "      <th></th>\n",
       "    </tr>\n",
       "  </thead>\n",
       "  <tbody>\n",
       "    <tr>\n",
       "      <th>ae</th>\n",
       "      <td>2.895865</td>\n",
       "      <td>4.616839</td>\n",
       "      <td>3.059542</td>\n",
       "      <td>3.437961</td>\n",
       "      <td>2.503023</td>\n",
       "      <td>2.846906</td>\n",
       "      <td>2.707609</td>\n",
       "      <td>3.406957</td>\n",
       "      <td>2.828791</td>\n",
       "      <td>3.319199</td>\n",
       "      <td>...</td>\n",
       "      <td>NaN</td>\n",
       "      <td>NaN</td>\n",
       "      <td>NaN</td>\n",
       "      <td>NaN</td>\n",
       "      <td>NaN</td>\n",
       "      <td>NaN</td>\n",
       "      <td>NaN</td>\n",
       "      <td>NaN</td>\n",
       "      <td>41.793837</td>\n",
       "      <td>36.973040</td>\n",
       "    </tr>\n",
       "    <tr>\n",
       "      <th>vae_10</th>\n",
       "      <td>2.895865</td>\n",
       "      <td>0.584376</td>\n",
       "      <td>0.950227</td>\n",
       "      <td>0.917103</td>\n",
       "      <td>0.033998</td>\n",
       "      <td>0.027231</td>\n",
       "      <td>0.019836</td>\n",
       "      <td>0.041320</td>\n",
       "      <td>0.020561</td>\n",
       "      <td>0.022091</td>\n",
       "      <td>...</td>\n",
       "      <td>0.011546</td>\n",
       "      <td>0.018479</td>\n",
       "      <td>0.012477</td>\n",
       "      <td>0.011973</td>\n",
       "      <td>0.015912</td>\n",
       "      <td>0.014269</td>\n",
       "      <td>0.012981</td>\n",
       "      <td>0.062115</td>\n",
       "      <td>39.707425</td>\n",
       "      <td>43.493389</td>\n",
       "    </tr>\n",
       "    <tr>\n",
       "      <th>vae_100</th>\n",
       "      <td>2.895865</td>\n",
       "      <td>0.608067</td>\n",
       "      <td>0.402621</td>\n",
       "      <td>1.019700</td>\n",
       "      <td>1.003607</td>\n",
       "      <td>0.997669</td>\n",
       "      <td>0.961496</td>\n",
       "      <td>0.219146</td>\n",
       "      <td>0.139178</td>\n",
       "      <td>0.122261</td>\n",
       "      <td>...</td>\n",
       "      <td>0.016091</td>\n",
       "      <td>0.022199</td>\n",
       "      <td>0.051068</td>\n",
       "      <td>0.036448</td>\n",
       "      <td>0.038823</td>\n",
       "      <td>0.037790</td>\n",
       "      <td>0.061752</td>\n",
       "      <td>0.021849</td>\n",
       "      <td>41.366605</td>\n",
       "      <td>38.618522</td>\n",
       "    </tr>\n",
       "    <tr>\n",
       "      <th>vae_1000</th>\n",
       "      <td>2.895865</td>\n",
       "      <td>0.704744</td>\n",
       "      <td>1.261804</td>\n",
       "      <td>0.908298</td>\n",
       "      <td>0.652684</td>\n",
       "      <td>0.910759</td>\n",
       "      <td>0.858636</td>\n",
       "      <td>0.903943</td>\n",
       "      <td>1.185087</td>\n",
       "      <td>1.365042</td>\n",
       "      <td>...</td>\n",
       "      <td>0.014704</td>\n",
       "      <td>0.016647</td>\n",
       "      <td>0.011964</td>\n",
       "      <td>0.014934</td>\n",
       "      <td>0.013046</td>\n",
       "      <td>0.011084</td>\n",
       "      <td>0.011746</td>\n",
       "      <td>0.010003</td>\n",
       "      <td>36.963504</td>\n",
       "      <td>42.377751</td>\n",
       "    </tr>\n",
       "  </tbody>\n",
       "</table>\n",
       "<p>4 rows × 24 columns</p>\n",
       "</div>"
      ],
      "text/plain": [
       "               label  distance  latent_0  latent_1  latent_2  latent_3  \\\n",
       "model_name                                                               \n",
       "ae          2.895865  4.616839  3.059542  3.437961  2.503023  2.846906   \n",
       "vae_10      2.895865  0.584376  0.950227  0.917103  0.033998  0.027231   \n",
       "vae_100     2.895865  0.608067  0.402621  1.019700  1.003607  0.997669   \n",
       "vae_1000    2.895865  0.704744  1.261804  0.908298  0.652684  0.910759   \n",
       "\n",
       "            latent_4  latent_5  latent_6  latent_7  ...  latent_std_2  \\\n",
       "model_name                                          ...                 \n",
       "ae          2.707609  3.406957  2.828791  3.319199  ...           NaN   \n",
       "vae_10      0.019836  0.041320  0.020561  0.022091  ...      0.011546   \n",
       "vae_100     0.961496  0.219146  0.139178  0.122261  ...      0.016091   \n",
       "vae_1000    0.858636  0.903943  1.185087  1.365042  ...      0.014704   \n",
       "\n",
       "            latent_std_3  latent_std_4  latent_std_5  latent_std_6  \\\n",
       "model_name                                                           \n",
       "ae                   NaN           NaN           NaN           NaN   \n",
       "vae_10          0.018479      0.012477      0.011973      0.015912   \n",
       "vae_100         0.022199      0.051068      0.036448      0.038823   \n",
       "vae_1000        0.016647      0.011964      0.014934      0.013046   \n",
       "\n",
       "            latent_std_7  latent_std_8  latent_std_9     tsne_0     tsne_1  \n",
       "model_name                                                                  \n",
       "ae                   NaN           NaN           NaN  41.793837  36.973040  \n",
       "vae_10          0.014269      0.012981      0.062115  39.707425  43.493389  \n",
       "vae_100         0.037790      0.061752      0.021849  41.366605  38.618522  \n",
       "vae_1000        0.011084      0.011746      0.010003  36.963504  42.377751  \n",
       "\n",
       "[4 rows x 24 columns]"
      ]
     },
     "execution_count": 24,
     "metadata": {},
     "output_type": "execute_result"
    }
   ],
   "source": [
    "gb = latent_df.groupby('model_name')\n",
    "gb.std()"
   ]
  },
  {
   "cell_type": "code",
   "execution_count": 12,
   "id": "02252f24",
   "metadata": {},
   "outputs": [],
   "source": [
    "mean = np.zeros(latent_dim)\n",
    "cov  = 1*np.eye(latent_dim)\n",
    "num_dig = 5\n",
    "latent_points = rnd.multivariate_normal(mean, cov, size = (num_dig))\n",
    "\n",
    "reconstructions = []\n",
    "for name, model in model_df.iterrows():\n",
    "    reconstructions.append(model['model'].decoder(latent_points))\n",
    "    \n",
    "fig, axs = plt.subplots(num_models, num_dig, sharex = True, sharey = True)\n",
    "for model_i in range(num_models):\n",
    "    for dig_i in range(num_dig):\n",
    "        ax = axs[model_i, dig_i]\n",
    "        sns.heatmap(reconstructions[model_i][dig_i][:,:,0], ax = ax)\n",
    "\n"
   ]
  },
  {
   "cell_type": "code",
   "execution_count": 82,
   "id": "858d3be4",
   "metadata": {},
   "outputs": [],
   "source": []
  },
  {
   "cell_type": "code",
   "execution_count": 83,
   "id": "b90cafab",
   "metadata": {},
   "outputs": [],
   "source": []
  },
  {
   "cell_type": "code",
   "execution_count": 26,
   "id": "e56308a1",
   "metadata": {},
   "outputs": [
    {
     "data": {
      "text/html": [
       "<div>\n",
       "<style scoped>\n",
       "    .dataframe tbody tr th:only-of-type {\n",
       "        vertical-align: middle;\n",
       "    }\n",
       "\n",
       "    .dataframe tbody tr th {\n",
       "        vertical-align: top;\n",
       "    }\n",
       "\n",
       "    .dataframe thead th {\n",
       "        text-align: right;\n",
       "    }\n",
       "</style>\n",
       "<table border=\"1\" class=\"dataframe\">\n",
       "  <thead>\n",
       "    <tr style=\"text-align: right;\">\n",
       "      <th></th>\n",
       "      <th>total_bill</th>\n",
       "      <th>tip</th>\n",
       "      <th>sex</th>\n",
       "      <th>smoker</th>\n",
       "      <th>day</th>\n",
       "      <th>time</th>\n",
       "      <th>size</th>\n",
       "    </tr>\n",
       "  </thead>\n",
       "  <tbody>\n",
       "    <tr>\n",
       "      <th>0</th>\n",
       "      <td>16.99</td>\n",
       "      <td>1.01</td>\n",
       "      <td>Female</td>\n",
       "      <td>No</td>\n",
       "      <td>Sun</td>\n",
       "      <td>Dinner</td>\n",
       "      <td>2</td>\n",
       "    </tr>\n",
       "    <tr>\n",
       "      <th>1</th>\n",
       "      <td>10.34</td>\n",
       "      <td>1.66</td>\n",
       "      <td>Male</td>\n",
       "      <td>No</td>\n",
       "      <td>Sun</td>\n",
       "      <td>Dinner</td>\n",
       "      <td>3</td>\n",
       "    </tr>\n",
       "    <tr>\n",
       "      <th>2</th>\n",
       "      <td>21.01</td>\n",
       "      <td>3.50</td>\n",
       "      <td>Male</td>\n",
       "      <td>No</td>\n",
       "      <td>Sun</td>\n",
       "      <td>Dinner</td>\n",
       "      <td>3</td>\n",
       "    </tr>\n",
       "    <tr>\n",
       "      <th>3</th>\n",
       "      <td>23.68</td>\n",
       "      <td>3.31</td>\n",
       "      <td>Male</td>\n",
       "      <td>No</td>\n",
       "      <td>Sun</td>\n",
       "      <td>Dinner</td>\n",
       "      <td>2</td>\n",
       "    </tr>\n",
       "    <tr>\n",
       "      <th>4</th>\n",
       "      <td>24.59</td>\n",
       "      <td>3.61</td>\n",
       "      <td>Female</td>\n",
       "      <td>No</td>\n",
       "      <td>Sun</td>\n",
       "      <td>Dinner</td>\n",
       "      <td>4</td>\n",
       "    </tr>\n",
       "  </tbody>\n",
       "</table>\n",
       "</div>"
      ],
      "text/plain": [
       "   total_bill   tip     sex smoker  day    time  size\n",
       "0       16.99  1.01  Female     No  Sun  Dinner     2\n",
       "1       10.34  1.66    Male     No  Sun  Dinner     3\n",
       "2       21.01  3.50    Male     No  Sun  Dinner     3\n",
       "3       23.68  3.31    Male     No  Sun  Dinner     2\n",
       "4       24.59  3.61  Female     No  Sun  Dinner     4"
      ]
     },
     "execution_count": 26,
     "metadata": {},
     "output_type": "execute_result"
    }
   ],
   "source": [
    "tips = sns.load_dataset(\"tips\")\n",
    "tips.head()"
   ]
  },
  {
   "cell_type": "code",
   "execution_count": 30,
   "id": "5c8a796b",
   "metadata": {},
   "outputs": [
    {
     "data": {
      "text/plain": [
       "<seaborn.axisgrid.FacetGrid at 0x149c4bbf7f0>"
      ]
     },
     "execution_count": 30,
     "metadata": {},
     "output_type": "execute_result"
    }
   ],
   "source": [
    "sns.relplot(data = tips, x = \"total_bill\", y = \"sex\",\n",
    "            units =\"day\")"
   ]
  },
  {
   "cell_type": "code",
   "execution_count": 31,
   "id": "3d65ad45",
   "metadata": {},
   "outputs": [],
   "source": [
    "ax = sns.swarmplot(x=\"day\", y=\"total_bill\", hue=\"smoker\",\n",
    "\n",
    "                   data=tips, palette=\"Set2\", dodge=True)"
   ]
  },
  {
   "cell_type": "code",
   "execution_count": 32,
   "id": "3797f566",
   "metadata": {},
   "outputs": [
    {
     "data": {
      "text/plain": [
       "<AxesSubplot:xlabel='day', ylabel='total_bill'>"
      ]
     },
     "execution_count": 32,
     "metadata": {},
     "output_type": "execute_result"
    }
   ],
   "source": [
    "ax"
   ]
  },
  {
   "cell_type": "code",
   "execution_count": null,
   "id": "56081c0d",
   "metadata": {},
   "outputs": [],
   "source": []
  },
  {
   "cell_type": "code",
   "execution_count": null,
   "id": "e4d4583a",
   "metadata": {},
   "outputs": [],
   "source": []
  },
  {
   "cell_type": "code",
   "execution_count": null,
   "id": "827d3d24",
   "metadata": {},
   "outputs": [],
   "source": []
  }
 ],
 "metadata": {
  "kernelspec": {
   "display_name": "Python 3",
   "language": "python",
   "name": "python3"
  },
  "language_info": {
   "codemirror_mode": {
    "name": "ipython",
    "version": 3
   },
   "file_extension": ".py",
   "mimetype": "text/x-python",
   "name": "python",
   "nbconvert_exporter": "python",
   "pygments_lexer": "ipython3",
   "version": "3.8.8"
  }
 },
 "nbformat": 4,
 "nbformat_minor": 5
}
