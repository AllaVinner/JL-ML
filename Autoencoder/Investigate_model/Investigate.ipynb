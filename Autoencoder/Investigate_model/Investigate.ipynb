{
 "cells": [
  {
   "cell_type": "markdown",
   "id": "206861bf",
   "metadata": {},
   "source": [
    "# Variational autoencoder\n",
    "This notebook will investiga"
   ]
  },
  {
   "cell_type": "code",
   "execution_count": 1,
   "id": "af6332ef",
   "metadata": {},
   "outputs": [
    {
     "name": "stdout",
     "output_type": "stream",
     "text": [
      "Using matplotlib backend: Qt5Agg\n"
     ]
    }
   ],
   "source": [
    "%matplotlib\n",
    "import numpy as np\n",
    "import numpy.random as rnd\n",
    "import matplotlib.pyplot as plt\n",
    "import tensorflow as tf\n",
    "from tensorflow import keras\n",
    "from variational_autoencoder import VariationalAutoencoder\n",
    "from autoencoder import Autoencoder\n",
    "from cont_bern_loss import cont_bern_loss\n",
    "\n",
    "# For dimension reduction\n",
    "from sklearn.manifold import TSNE\n",
    "from sklearn.decomposition import PCA\n",
    "\n",
    "# for visualization and evaluation\n",
    "from latent_plane_mosaic import LatentPlaneMosaic\n",
    "from latent_interpolation_mosaic import LatentInterpolationMosaic\n",
    "from sample_scatter_gui import SampleScatterGUI"
   ]
  },
  {
   "cell_type": "code",
   "execution_count": 10,
   "id": "b5b37ed2",
   "metadata": {},
   "outputs": [],
   "source": [
    "# Global settings\n",
    "model_path = [\"models\\\\ae\", \"models\\\\vae_10\", \"models\\\\vae_100\" , \"models\\\\vae_1000\"]\n",
    "model_type = [\"ae\", \"vae\", \"vae\", \"vae\"]\n",
    "num_samples = 10000\n",
    "num_models = len(model_path)\n",
    "\n",
    "\n",
    "np.set_printoptions(precision=0)"
   ]
  },
  {
   "cell_type": "markdown",
   "id": "b164e02c",
   "metadata": {},
   "source": [
    "## Preprocess data\n"
   ]
  },
  {
   "cell_type": "code",
   "execution_count": 11,
   "id": "1e0a4b30",
   "metadata": {},
   "outputs": [],
   "source": [
    "(mnist_digits, mnist_labels), (test_digits, test_labels) = keras.datasets.mnist.load_data()\n",
    "mnist_digits = np.expand_dims(mnist_digits, -1).astype(\"float32\") / 255\n",
    "test_digits = np.expand_dims(test_digits, -1).astype(\"float32\") / 255\n",
    "input_shape = mnist_digits.shape[1:]\n",
    "num_digits = len(mnist_labels)\n",
    "sample_index = rnd.randint(0, num_digits, size = (num_samples,))\n",
    "mnist_digits = mnist_digits[sample_index]\n",
    "mnist_labels = mnist_labels[sample_index]"
   ]
  },
  {
   "cell_type": "markdown",
   "id": "9e5ce89b",
   "metadata": {},
   "source": [
    "## Load Variational autoencoder"
   ]
  },
  {
   "cell_type": "code",
   "execution_count": 13,
   "id": "4d0b711d",
   "metadata": {},
   "outputs": [],
   "source": [
    "models = []\n",
    "for i in range(num_models):\n",
    "    if model_type[i] == \"ae\":\n",
    "        models.append(keras.models.load_model(model_path[i], \n",
    "                         custom_objects={\"Autoencoder\": Autoencoder,\n",
    "                                         \"cont_bern_loss\":  cont_bern_loss}))\n",
    "    elif model_type[i] == \"vae\":\n",
    "        models.append(keras.models.load_model(model_path[i], \n",
    "                                 custom_objects={\"VariationalAutoencoder\": VariationalAutoencoder,\n",
    "                                                 \"cont_bern_loss\":  cont_bern_loss})) "
   ]
  },
  {
   "cell_type": "code",
   "execution_count": 14,
   "id": "fb36c478",
   "metadata": {},
   "outputs": [
    {
     "data": {
      "text/plain": [
       "[<autoencoder.Autoencoder at 0x25db9c80a60>,\n",
       " <variational_autoencoder.VariationalAutoencoder at 0x25dc0c350d0>,\n",
       " <variational_autoencoder.VariationalAutoencoder at 0x25dbb1b0910>,\n",
       " <variational_autoencoder.VariationalAutoencoder at 0x25dbaed6130>]"
      ]
     },
     "execution_count": 14,
     "metadata": {},
     "output_type": "execute_result"
    }
   ],
   "source": [
    "models"
   ]
  },
  {
   "cell_type": "markdown",
   "id": "60f9fbbe",
   "metadata": {},
   "source": [
    "### Print setup details"
   ]
  },
  {
   "cell_type": "code",
   "execution_count": 16,
   "id": "9a615180",
   "metadata": {},
   "outputs": [
    {
     "name": "stdout",
     "output_type": "stream",
     "text": [
      "Input shape:  (28, 28, 1)\n",
      "Latent dim:  10\n"
     ]
    }
   ],
   "source": [
    "print(\"Input shape: \", input_shape)\n",
    "print(\"Latent dim: \",  models[0].latent_dim)\n"
   ]
  },
  {
   "cell_type": "markdown",
   "id": "add049f4",
   "metadata": {},
   "source": []
  },
  {
   "cell_type": "markdown",
   "id": "2b8006d4",
   "metadata": {},
   "source": [
    "## Reconstruct and dimension reductions"
   ]
  },
  {
   "cell_type": "code",
   "execution_count": 18,
   "id": "bd8ae98d",
   "metadata": {},
   "outputs": [],
   "source": [
    "# Reconstructions\n",
    "  = []\n",
    "digit_encoded = []\n",
    "digit_log_var = []\n",
    "\n",
    "for i in range(num_models):\n",
    "    if model_type[i] == \"ae\":\n",
    "        digit_encoded.append(models[i].encoder(mnist_digits).numpy())\n",
    "        digit_distribution.append(None)\n",
    "        digit_log_var.append(None)\n",
    "    elif model_type[i] == \"vae\":\n",
    "        digit_distribution.append(models[i].encoder(mnist_digits).numpy())\n",
    "        digit_encoded.append(digit_distribution[i][:,0,:])\n",
    "        digit_log_var.append(digit_distribution[i][:,1,:])\n"
   ]
  },
  {
   "cell_type": "code",
   "execution_count": 19,
   "id": "9dffd5a7",
   "metadata": {},
   "outputs": [],
   "source": [
    "# t-SNE\n",
    "digit_tsne = []\n",
    "for i in range(num_models):\n",
    "    digit_tsne.append(TSNE(n_components = 2).fit_transform(digit_encoded[i]))"
   ]
  },
  {
   "cell_type": "code",
   "execution_count": 21,
   "id": "3e7b3f4a",
   "metadata": {},
   "outputs": [],
   "source": [
    "#pca\n",
    "latent_mean = []\n",
    "latent_std = []\n",
    "latent_axis = []\n",
    "for i in range(num_models):\n",
    "    pca = PCA().fit(digit_encoded[i])\n",
    "    latent_std.append(np.sqrt(pca.explained_variance_))\n",
    "    latent_mean.append(pca.mean_)\n",
    "    latent_axis.append(pca.components_)\n"
   ]
  },
  {
   "cell_type": "code",
   "execution_count": 72,
   "id": "9b20be03",
   "metadata": {},
   "outputs": [],
   "source": [
    "digit_dist = []\n",
    "digit_std = []\n",
    "for i in range(num_models):\n",
    "    digit_dist.append(np.linalg.norm(digit_encoded[i]-latent_mean[i], axis = 1))\n",
    "    if model_type[i] == \"ae\":\n",
    "        digit_std.append(None)\n",
    "    elif model_type[i] == \"vae\":\n",
    "        digit_std.append(np.sqrt(np.exp(digit_log_var[i].flatten())))\n"
   ]
  },
  {
   "cell_type": "markdown",
   "id": "8c8142ca",
   "metadata": {},
   "source": [
    "## Investigation"
   ]
  },
  {
   "cell_type": "markdown",
   "id": "9ba4df8a",
   "metadata": {},
   "source": [
    "### Show reconstructions"
   ]
  },
  {
   "cell_type": "code",
   "execution_count": 22,
   "id": "3b84be09",
   "metadata": {},
   "outputs": [],
   "source": [
    "\n",
    "plt.rc('font', family ='Courier New')  \n"
   ]
  },
  {
   "cell_type": "code",
   "execution_count": 23,
   "id": "e796e6a4",
   "metadata": {},
   "outputs": [],
   "source": [
    "num_col = 4\n",
    "num_row = 3\n",
    "num_img = num_row*num_col\n",
    "rec_index = rnd.randint(num_samples,size =(num_row*num_col,) )\n",
    "digits = test_digits\n",
    "digits = digits[rec_index]"
   ]
  },
  {
   "cell_type": "code",
   "execution_count": 86,
   "id": "7e6dd264",
   "metadata": {},
   "outputs": [
    {
     "data": {
      "text/plain": [
       "<AxesSubplot:>"
      ]
     },
     "execution_count": 86,
     "metadata": {},
     "output_type": "execute_result"
    }
   ],
   "source": [
    "model_i = 0\n",
    "model = models[model_i]\n",
    "\n",
    "reconstructions = model(digits)\n",
    "i = 0\n",
    "for col in range(num_col):\n",
    "    for row in range(num_row): \n",
    "        pair = np.concatenate((digits[i], reconstructions[i]), axis = 1)\n",
    "        if row == 0: \n",
    "            ver_img = pair\n",
    "        else:\n",
    "            ver_img = np.concatenate((ver_img,\n",
    "                                 pair), axis = 0)\n",
    "        i = i + 1\n",
    "    if col == 0:\n",
    "        img = ver_img\n",
    "    else: \n",
    "        img = np.concatenate((img,\n",
    "                              ver_img), axis = 1)\n",
    "\n",
    "sns.heatmap(img[:,:,0], vmin=0, vmax = 1)"
   ]
  },
  {
   "cell_type": "code",
   "execution_count": 46,
   "id": "b2ef13fe",
   "metadata": {},
   "outputs": [
    {
     "data": {
      "text/plain": [
       "<AxesSubplot:>"
      ]
     },
     "execution_count": 46,
     "metadata": {},
     "output_type": "execute_result"
    }
   ],
   "source": [
    "num_dig = 14\n",
    "rec_index = rnd.randint(num_samples,size =(num_dig,) )\n",
    "digits = mnist_digits\n",
    "digits = digits[rec_index]\n",
    "\n",
    "reconstructions = []\n",
    "for model_i in range(num_models):\n",
    "    reconstructions.append(models[model_i](digits))\n",
    "    \n",
    "i = 0\n",
    "\n",
    "for dig_i in range(num_dig):\n",
    "    rec_im = digits[dig_i]\n",
    "    for model_i in range(num_models):\n",
    "        \n",
    "        rec_im = np.concatenate((rec_im,\n",
    "                         reconstructions[model_i][dig_i]),\n",
    "                         axis = 0)\n",
    "    if dig_i == 0:\n",
    "        im = rec_im\n",
    "    else:\n",
    "        im = np.concatenate((im, rec_im), axis = 1)\n",
    "    \n",
    "sns.heatmap(img[:,:,0], vmin=0, vmax = 1)"
   ]
  },
  {
   "cell_type": "code",
   "execution_count": 119,
   "id": "5847f013",
   "metadata": {},
   "outputs": [
    {
     "data": {
      "text/plain": [
       "(1, 28, 28, 1)"
      ]
     },
     "execution_count": 119,
     "metadata": {},
     "output_type": "execute_result"
    }
   ],
   "source": [
    "x_train = mnist_digits\n",
    "indeces = [1,2,3]\n",
    "im = x_train[indeces[0:1],:]\n",
    "im.shape"
   ]
  },
  {
   "cell_type": "markdown",
   "id": "48f36a17",
   "metadata": {},
   "source": [
    "### Latent"
   ]
  },
  {
   "cell_type": "code",
   "execution_count": 108,
   "id": "754dcaaa",
   "metadata": {},
   "outputs": [],
   "source": [
    "\n",
    "indeces = rnd.randint(num_samples,size = (3,))\n",
    "indeces = [1,2,3]\n",
    "ul = mnist_digits[indeces[0]]\n",
    "ur = mnist_digits[indeces[1]]\n",
    "dl = mnist_digits[indeces[2]]\n",
    "z =  np.zeros(dl.shape)\n",
    "corner_image = np.concatenate( (np.concatenate((ul,ur),axis = 1),\n",
    "                                np.concatenate((dl,z ),axis = 1)), axis = 0)\n"
   ]
  },
  {
   "cell_type": "code",
   "execution_count": 109,
   "id": "4b8d0f48",
   "metadata": {},
   "outputs": [
    {
     "data": {
      "text/plain": [
       "<AxesSubplot:>"
      ]
     },
     "execution_count": 109,
     "metadata": {},
     "output_type": "execute_result"
    }
   ],
   "source": [
    "model_i = 0\n",
    "model = models[model_i]\n",
    "mosaic = LatentInterpolationMosaic(\n",
    "                          model.encode,\n",
    "                          model.decoder,\n",
    "                          mnist_digits,\n",
    "                          indeces,\n",
    "                          num_row = 15,\n",
    "                          num_col = 15).mosaic\n",
    "\n",
    "\n",
    "\n",
    "sns.heatmap(mosaic[:,:,0], vmin = 0, vmax = 1)"
   ]
  },
  {
   "cell_type": "markdown",
   "id": "a6ff05cf",
   "metadata": {},
   "source": [
    "### Scatter"
   ]
  },
  {
   "cell_type": "code",
   "execution_count": 35,
   "id": "ffef7aa0",
   "metadata": {},
   "outputs": [
    {
     "data": {
      "text/plain": [
       "<sample_scatter_gui.SampleScatterGUI at 0x25dc0d93a60>"
      ]
     },
     "execution_count": 35,
     "metadata": {},
     "output_type": "execute_result"
    }
   ],
   "source": [
    "model_i = 2\n",
    "scatter = digit_tsne[model_i]\n",
    "SampleScatterGUI(scatter, mnist_labels, mnist_digits)\n"
   ]
  },
  {
   "cell_type": "code",
   "execution_count": 100,
   "id": "72cedd2b",
   "metadata": {},
   "outputs": [
    {
     "data": {
      "text/plain": [
       "<variational_autoencoder.NormalSamplingLayer at 0x25dc0c29eb0>"
      ]
     },
     "execution_count": 100,
     "metadata": {},
     "output_type": "execute_result"
    }
   ],
   "source": [
    "models[1].sampler\n"
   ]
  },
  {
   "cell_type": "code",
   "execution_count": 50,
   "id": "75a55e57",
   "metadata": {},
   "outputs": [
    {
     "data": {
      "text/plain": [
       "<AxesSubplot:>"
      ]
     },
     "execution_count": 50,
     "metadata": {},
     "output_type": "execute_result"
    }
   ],
   "source": [
    "model_i = 2\n",
    "scatter = digit_tsne[model_i]\n",
    "sns.scatterplot(x = scatter[:,0], y = scatter[:,1], hue = mnist_labels)"
   ]
  },
  {
   "cell_type": "markdown",
   "id": "701d4959",
   "metadata": {},
   "source": [
    "### Spread"
   ]
  },
  {
   "cell_type": "code",
   "execution_count": 107,
   "id": "833c5958",
   "metadata": {},
   "outputs": [
    {
     "data": {
      "text/plain": [
       "array([1])"
      ]
     },
     "execution_count": 107,
     "metadata": {},
     "output_type": "execute_result"
    }
   ],
   "source": [
    "a = np.array([1,2,3])\n",
    "a[0:1]"
   ]
  },
  {
   "cell_type": "code",
   "execution_count": 61,
   "id": "c496675d",
   "metadata": {},
   "outputs": [
    {
     "data": {
      "text/plain": [
       "<AxesSubplot:>"
      ]
     },
     "execution_count": 61,
     "metadata": {},
     "output_type": "execute_result"
    }
   ],
   "source": [
    "sns.lineplot(data = latent_std)"
   ]
  },
  {
   "cell_type": "code",
   "execution_count": 80,
   "id": "99bd0920",
   "metadata": {},
   "outputs": [
    {
     "data": {
      "text/plain": [
       "[array([ 8.,  9.,  8., ..., 10., 10.,  6.], dtype=float32),\n",
       " array([1., 0., 1., ..., 2., 1., 2.], dtype=float32),\n",
       " array([2., 2., 2., ..., 2., 3., 2.], dtype=float32),\n",
       " array([3., 3., 3., ..., 4., 4., 2.], dtype=float32)]"
      ]
     },
     "execution_count": 80,
     "metadata": {},
     "output_type": "execute_result"
    }
   ],
   "source": [
    "\n"
   ]
  },
  {
   "cell_type": "markdown",
   "id": "7e77fa67",
   "metadata": {},
   "source": [
    "Here we have that the first 6 principal axises are almost one and the remaining 4 are almost zero (e-3). This is combination with that the cross covariance seem to be super much zero (e-15), indicates that we have a six dimesnioal sphere in this ten dimesional latent space. Interesting to see is also if you create a latent vector in the pca-vector space. Then comparing the latent value in each dimension times the spread in each dimension, gives you the importance of that dimension in that latent point. A low importance will not have an effect on the output (kind of like a low derivative...), while a hight value will give a big difference."
   ]
  },
  {
   "cell_type": "code",
   "execution_count": 63,
   "id": "fa4675c5",
   "metadata": {},
   "outputs": [],
   "source": [
    "axis_index = [0,-1]\n",
    "scaling_factors = np.array([5,5])"
   ]
  },
  {
   "cell_type": "code",
   "execution_count": 67,
   "id": "55542952",
   "metadata": {},
   "outputs": [
    {
     "data": {
      "text/plain": [
       "<AxesSubplot:>"
      ]
     },
     "execution_count": 67,
     "metadata": {},
     "output_type": "execute_result"
    }
   ],
   "source": [
    "model_i = 1\n",
    "model = models[model_i]\n",
    "latent_vectors = latent_axis[model_i][axis_index]\n",
    "latent_origin = latent_mean[model_i]\n",
    "\n",
    "mosaic = LatentPlaneMosaic(model.decoder,\n",
    "                  latent_vectors = (scaling_factors*latent_vectors.T).T,\n",
    "                  latent_origin = latent_origin,\n",
    "                  num_row = 20,\n",
    "                  num_col = 20).mosaic\n",
    "\n",
    "#fig,ax = plt.subplots(1,1)\n",
    "#ax.imshow(mosaic)\n",
    "sns.heatmap(mosaic[:,:,0], vmin = 0, vmax = 1)"
   ]
  },
  {
   "cell_type": "markdown",
   "id": "2adbb3ba",
   "metadata": {},
   "source": [
    "## Spred "
   ]
  },
  {
   "cell_type": "code",
   "execution_count": 85,
   "id": "46c5256a",
   "metadata": {},
   "outputs": [
    {
     "ename": "TypeError",
     "evalue": "unhashable type: 'numpy.ndarray'",
     "output_type": "error",
     "traceback": [
      "\u001b[1;31m---------------------------------------------------------------------------\u001b[0m",
      "\u001b[1;31mAttributeError\u001b[0m                            Traceback (most recent call last)",
      "\u001b[1;32m~\\anaconda3\\lib\\site-packages\\seaborn\\_core.py\u001b[0m in \u001b[0;36mcategorical_order\u001b[1;34m(vector, order)\u001b[0m\n\u001b[0;32m   1471\u001b[0m             \u001b[1;32mtry\u001b[0m\u001b[1;33m:\u001b[0m\u001b[1;33m\u001b[0m\u001b[1;33m\u001b[0m\u001b[0m\n\u001b[1;32m-> 1472\u001b[1;33m                 \u001b[0morder\u001b[0m \u001b[1;33m=\u001b[0m \u001b[0mvector\u001b[0m\u001b[1;33m.\u001b[0m\u001b[0mcat\u001b[0m\u001b[1;33m.\u001b[0m\u001b[0mcategories\u001b[0m\u001b[1;33m\u001b[0m\u001b[1;33m\u001b[0m\u001b[0m\n\u001b[0m\u001b[0;32m   1473\u001b[0m             \u001b[1;32mexcept\u001b[0m \u001b[1;33m(\u001b[0m\u001b[0mTypeError\u001b[0m\u001b[1;33m,\u001b[0m \u001b[0mAttributeError\u001b[0m\u001b[1;33m)\u001b[0m\u001b[1;33m:\u001b[0m\u001b[1;33m\u001b[0m\u001b[1;33m\u001b[0m\u001b[0m\n",
      "\u001b[1;32m~\\anaconda3\\lib\\site-packages\\pandas\\core\\generic.py\u001b[0m in \u001b[0;36m__getattr__\u001b[1;34m(self, name)\u001b[0m\n\u001b[0;32m   5460\u001b[0m         ):\n\u001b[1;32m-> 5461\u001b[1;33m             \u001b[1;32mreturn\u001b[0m \u001b[0mobject\u001b[0m\u001b[1;33m.\u001b[0m\u001b[0m__getattribute__\u001b[0m\u001b[1;33m(\u001b[0m\u001b[0mself\u001b[0m\u001b[1;33m,\u001b[0m \u001b[0mname\u001b[0m\u001b[1;33m)\u001b[0m\u001b[1;33m\u001b[0m\u001b[1;33m\u001b[0m\u001b[0m\n\u001b[0m\u001b[0;32m   5462\u001b[0m         \u001b[1;32melse\u001b[0m\u001b[1;33m:\u001b[0m\u001b[1;33m\u001b[0m\u001b[1;33m\u001b[0m\u001b[0m\n",
      "\u001b[1;32m~\\anaconda3\\lib\\site-packages\\pandas\\core\\accessor.py\u001b[0m in \u001b[0;36m__get__\u001b[1;34m(self, obj, cls)\u001b[0m\n\u001b[0;32m    179\u001b[0m             \u001b[1;32mreturn\u001b[0m \u001b[0mself\u001b[0m\u001b[1;33m.\u001b[0m\u001b[0m_accessor\u001b[0m\u001b[1;33m\u001b[0m\u001b[1;33m\u001b[0m\u001b[0m\n\u001b[1;32m--> 180\u001b[1;33m         \u001b[0maccessor_obj\u001b[0m \u001b[1;33m=\u001b[0m \u001b[0mself\u001b[0m\u001b[1;33m.\u001b[0m\u001b[0m_accessor\u001b[0m\u001b[1;33m(\u001b[0m\u001b[0mobj\u001b[0m\u001b[1;33m)\u001b[0m\u001b[1;33m\u001b[0m\u001b[1;33m\u001b[0m\u001b[0m\n\u001b[0m\u001b[0;32m    181\u001b[0m         \u001b[1;31m# Replace the property with the accessor object. Inspired by:\u001b[0m\u001b[1;33m\u001b[0m\u001b[1;33m\u001b[0m\u001b[1;33m\u001b[0m\u001b[0m\n",
      "\u001b[1;32m~\\anaconda3\\lib\\site-packages\\pandas\\core\\arrays\\categorical.py\u001b[0m in \u001b[0;36m__init__\u001b[1;34m(self, data)\u001b[0m\n\u001b[0;32m   2456\u001b[0m     \u001b[1;32mdef\u001b[0m \u001b[0m__init__\u001b[0m\u001b[1;33m(\u001b[0m\u001b[0mself\u001b[0m\u001b[1;33m,\u001b[0m \u001b[0mdata\u001b[0m\u001b[1;33m)\u001b[0m\u001b[1;33m:\u001b[0m\u001b[1;33m\u001b[0m\u001b[1;33m\u001b[0m\u001b[0m\n\u001b[1;32m-> 2457\u001b[1;33m         \u001b[0mself\u001b[0m\u001b[1;33m.\u001b[0m\u001b[0m_validate\u001b[0m\u001b[1;33m(\u001b[0m\u001b[0mdata\u001b[0m\u001b[1;33m)\u001b[0m\u001b[1;33m\u001b[0m\u001b[1;33m\u001b[0m\u001b[0m\n\u001b[0m\u001b[0;32m   2458\u001b[0m         \u001b[0mself\u001b[0m\u001b[1;33m.\u001b[0m\u001b[0m_parent\u001b[0m \u001b[1;33m=\u001b[0m \u001b[0mdata\u001b[0m\u001b[1;33m.\u001b[0m\u001b[0mvalues\u001b[0m\u001b[1;33m\u001b[0m\u001b[1;33m\u001b[0m\u001b[0m\n",
      "\u001b[1;32m~\\anaconda3\\lib\\site-packages\\pandas\\core\\arrays\\categorical.py\u001b[0m in \u001b[0;36m_validate\u001b[1;34m(data)\u001b[0m\n\u001b[0;32m   2465\u001b[0m         \u001b[1;32mif\u001b[0m \u001b[1;32mnot\u001b[0m \u001b[0mis_categorical_dtype\u001b[0m\u001b[1;33m(\u001b[0m\u001b[0mdata\u001b[0m\u001b[1;33m.\u001b[0m\u001b[0mdtype\u001b[0m\u001b[1;33m)\u001b[0m\u001b[1;33m:\u001b[0m\u001b[1;33m\u001b[0m\u001b[1;33m\u001b[0m\u001b[0m\n\u001b[1;32m-> 2466\u001b[1;33m             \u001b[1;32mraise\u001b[0m \u001b[0mAttributeError\u001b[0m\u001b[1;33m(\u001b[0m\u001b[1;34m\"Can only use .cat accessor with a 'category' dtype\"\u001b[0m\u001b[1;33m)\u001b[0m\u001b[1;33m\u001b[0m\u001b[1;33m\u001b[0m\u001b[0m\n\u001b[0m\u001b[0;32m   2467\u001b[0m \u001b[1;33m\u001b[0m\u001b[0m\n",
      "\u001b[1;31mAttributeError\u001b[0m: Can only use .cat accessor with a 'category' dtype",
      "\nDuring handling of the above exception, another exception occurred:\n",
      "\u001b[1;31mTypeError\u001b[0m                                 Traceback (most recent call last)",
      "\u001b[1;32m<ipython-input-85-ce20a812a960>\u001b[0m in \u001b[0;36m<module>\u001b[1;34m\u001b[0m\n\u001b[1;32m----> 1\u001b[1;33m \u001b[0mg\u001b[0m \u001b[1;33m=\u001b[0m \u001b[0msns\u001b[0m\u001b[1;33m.\u001b[0m\u001b[0mFacetGrid\u001b[0m\u001b[1;33m(\u001b[0m \u001b[0mdata\u001b[0m \u001b[1;33m=\u001b[0m \u001b[0mdf\u001b[0m\u001b[1;33m,\u001b[0m \u001b[0mcol\u001b[0m \u001b[1;33m=\u001b[0m \u001b[1;34m\"digit_dist\"\u001b[0m\u001b[1;33m)\u001b[0m\u001b[1;33m\u001b[0m\u001b[1;33m\u001b[0m\u001b[0m\n\u001b[0m\u001b[0;32m      2\u001b[0m \u001b[0mg\u001b[0m\u001b[1;33m.\u001b[0m\u001b[0mmap\u001b[0m\u001b[1;33m(\u001b[0m\u001b[0msns\u001b[0m\u001b[1;33m.\u001b[0m\u001b[0mdisplot\u001b[0m\u001b[1;33m)\u001b[0m\u001b[1;33m\u001b[0m\u001b[1;33m\u001b[0m\u001b[0m\n",
      "\u001b[1;32m~\\anaconda3\\lib\\site-packages\\seaborn\\_decorators.py\u001b[0m in \u001b[0;36minner_f\u001b[1;34m(*args, **kwargs)\u001b[0m\n\u001b[0;32m     44\u001b[0m             )\n\u001b[0;32m     45\u001b[0m         \u001b[0mkwargs\u001b[0m\u001b[1;33m.\u001b[0m\u001b[0mupdate\u001b[0m\u001b[1;33m(\u001b[0m\u001b[1;33m{\u001b[0m\u001b[0mk\u001b[0m\u001b[1;33m:\u001b[0m \u001b[0marg\u001b[0m \u001b[1;32mfor\u001b[0m \u001b[0mk\u001b[0m\u001b[1;33m,\u001b[0m \u001b[0marg\u001b[0m \u001b[1;32min\u001b[0m \u001b[0mzip\u001b[0m\u001b[1;33m(\u001b[0m\u001b[0msig\u001b[0m\u001b[1;33m.\u001b[0m\u001b[0mparameters\u001b[0m\u001b[1;33m,\u001b[0m \u001b[0margs\u001b[0m\u001b[1;33m)\u001b[0m\u001b[1;33m}\u001b[0m\u001b[1;33m)\u001b[0m\u001b[1;33m\u001b[0m\u001b[1;33m\u001b[0m\u001b[0m\n\u001b[1;32m---> 46\u001b[1;33m         \u001b[1;32mreturn\u001b[0m \u001b[0mf\u001b[0m\u001b[1;33m(\u001b[0m\u001b[1;33m**\u001b[0m\u001b[0mkwargs\u001b[0m\u001b[1;33m)\u001b[0m\u001b[1;33m\u001b[0m\u001b[1;33m\u001b[0m\u001b[0m\n\u001b[0m\u001b[0;32m     47\u001b[0m     \u001b[1;32mreturn\u001b[0m \u001b[0minner_f\u001b[0m\u001b[1;33m\u001b[0m\u001b[1;33m\u001b[0m\u001b[0m\n\u001b[0;32m     48\u001b[0m \u001b[1;33m\u001b[0m\u001b[0m\n",
      "\u001b[1;32m~\\anaconda3\\lib\\site-packages\\seaborn\\axisgrid.py\u001b[0m in \u001b[0;36m__init__\u001b[1;34m(self, data, row, col, hue, col_wrap, sharex, sharey, height, aspect, palette, row_order, col_order, hue_order, hue_kws, dropna, legend_out, despine, margin_titles, xlim, ylim, subplot_kws, gridspec_kws, size)\u001b[0m\n\u001b[0;32m    334\u001b[0m             \u001b[0mcol_names\u001b[0m \u001b[1;33m=\u001b[0m \u001b[1;33m[\u001b[0m\u001b[1;33m]\u001b[0m\u001b[1;33m\u001b[0m\u001b[1;33m\u001b[0m\u001b[0m\n\u001b[0;32m    335\u001b[0m         \u001b[1;32melse\u001b[0m\u001b[1;33m:\u001b[0m\u001b[1;33m\u001b[0m\u001b[1;33m\u001b[0m\u001b[0m\n\u001b[1;32m--> 336\u001b[1;33m             \u001b[0mcol_names\u001b[0m \u001b[1;33m=\u001b[0m \u001b[0mcategorical_order\u001b[0m\u001b[1;33m(\u001b[0m\u001b[0mdata\u001b[0m\u001b[1;33m[\u001b[0m\u001b[0mcol\u001b[0m\u001b[1;33m]\u001b[0m\u001b[1;33m,\u001b[0m \u001b[0mcol_order\u001b[0m\u001b[1;33m)\u001b[0m\u001b[1;33m\u001b[0m\u001b[1;33m\u001b[0m\u001b[0m\n\u001b[0m\u001b[0;32m    337\u001b[0m \u001b[1;33m\u001b[0m\u001b[0m\n\u001b[0;32m    338\u001b[0m         \u001b[1;31m# Additional dict of kwarg -> list of values for mapping the hue var\u001b[0m\u001b[1;33m\u001b[0m\u001b[1;33m\u001b[0m\u001b[1;33m\u001b[0m\u001b[0m\n",
      "\u001b[1;32m~\\anaconda3\\lib\\site-packages\\seaborn\\_core.py\u001b[0m in \u001b[0;36mcategorical_order\u001b[1;34m(vector, order)\u001b[0m\n\u001b[0;32m   1474\u001b[0m \u001b[1;33m\u001b[0m\u001b[0m\n\u001b[0;32m   1475\u001b[0m                 \u001b[1;32mtry\u001b[0m\u001b[1;33m:\u001b[0m\u001b[1;33m\u001b[0m\u001b[1;33m\u001b[0m\u001b[0m\n\u001b[1;32m-> 1476\u001b[1;33m                     \u001b[0morder\u001b[0m \u001b[1;33m=\u001b[0m \u001b[0mvector\u001b[0m\u001b[1;33m.\u001b[0m\u001b[0munique\u001b[0m\u001b[1;33m(\u001b[0m\u001b[1;33m)\u001b[0m\u001b[1;33m\u001b[0m\u001b[1;33m\u001b[0m\u001b[0m\n\u001b[0m\u001b[0;32m   1477\u001b[0m                 \u001b[1;32mexcept\u001b[0m \u001b[0mAttributeError\u001b[0m\u001b[1;33m:\u001b[0m\u001b[1;33m\u001b[0m\u001b[1;33m\u001b[0m\u001b[0m\n\u001b[0;32m   1478\u001b[0m                     \u001b[0morder\u001b[0m \u001b[1;33m=\u001b[0m \u001b[0mpd\u001b[0m\u001b[1;33m.\u001b[0m\u001b[0munique\u001b[0m\u001b[1;33m(\u001b[0m\u001b[0mvector\u001b[0m\u001b[1;33m)\u001b[0m\u001b[1;33m\u001b[0m\u001b[1;33m\u001b[0m\u001b[0m\n",
      "\u001b[1;32m~\\anaconda3\\lib\\site-packages\\pandas\\core\\series.py\u001b[0m in \u001b[0;36munique\u001b[1;34m(self)\u001b[0m\n\u001b[0;32m   1870\u001b[0m         \u001b[0mCategories\u001b[0m \u001b[1;33m(\u001b[0m\u001b[1;36m3\u001b[0m\u001b[1;33m,\u001b[0m \u001b[0mobject\u001b[0m\u001b[1;33m)\u001b[0m\u001b[1;33m:\u001b[0m \u001b[1;33m[\u001b[0m\u001b[1;34m'a'\u001b[0m \u001b[1;33m<\u001b[0m \u001b[1;34m'b'\u001b[0m \u001b[1;33m<\u001b[0m \u001b[1;34m'c'\u001b[0m\u001b[1;33m]\u001b[0m\u001b[1;33m\u001b[0m\u001b[1;33m\u001b[0m\u001b[0m\n\u001b[0;32m   1871\u001b[0m         \"\"\"\n\u001b[1;32m-> 1872\u001b[1;33m         \u001b[0mresult\u001b[0m \u001b[1;33m=\u001b[0m \u001b[0msuper\u001b[0m\u001b[1;33m(\u001b[0m\u001b[1;33m)\u001b[0m\u001b[1;33m.\u001b[0m\u001b[0munique\u001b[0m\u001b[1;33m(\u001b[0m\u001b[1;33m)\u001b[0m\u001b[1;33m\u001b[0m\u001b[1;33m\u001b[0m\u001b[0m\n\u001b[0m\u001b[0;32m   1873\u001b[0m         \u001b[1;32mreturn\u001b[0m \u001b[0mresult\u001b[0m\u001b[1;33m\u001b[0m\u001b[1;33m\u001b[0m\u001b[0m\n\u001b[0;32m   1874\u001b[0m \u001b[1;33m\u001b[0m\u001b[0m\n",
      "\u001b[1;32m~\\anaconda3\\lib\\site-packages\\pandas\\core\\base.py\u001b[0m in \u001b[0;36munique\u001b[1;34m(self)\u001b[0m\n\u001b[0;32m   1045\u001b[0m                     \u001b[0mresult\u001b[0m \u001b[1;33m=\u001b[0m \u001b[0mnp\u001b[0m\u001b[1;33m.\u001b[0m\u001b[0masarray\u001b[0m\u001b[1;33m(\u001b[0m\u001b[0mresult\u001b[0m\u001b[1;33m)\u001b[0m\u001b[1;33m\u001b[0m\u001b[1;33m\u001b[0m\u001b[0m\n\u001b[0;32m   1046\u001b[0m         \u001b[1;32melse\u001b[0m\u001b[1;33m:\u001b[0m\u001b[1;33m\u001b[0m\u001b[1;33m\u001b[0m\u001b[0m\n\u001b[1;32m-> 1047\u001b[1;33m             \u001b[0mresult\u001b[0m \u001b[1;33m=\u001b[0m \u001b[0munique1d\u001b[0m\u001b[1;33m(\u001b[0m\u001b[0mvalues\u001b[0m\u001b[1;33m)\u001b[0m\u001b[1;33m\u001b[0m\u001b[1;33m\u001b[0m\u001b[0m\n\u001b[0m\u001b[0;32m   1048\u001b[0m \u001b[1;33m\u001b[0m\u001b[0m\n\u001b[0;32m   1049\u001b[0m         \u001b[1;32mreturn\u001b[0m \u001b[0mresult\u001b[0m\u001b[1;33m\u001b[0m\u001b[1;33m\u001b[0m\u001b[0m\n",
      "\u001b[1;32m~\\anaconda3\\lib\\site-packages\\pandas\\core\\algorithms.py\u001b[0m in \u001b[0;36munique\u001b[1;34m(values)\u001b[0m\n\u001b[0;32m    405\u001b[0m \u001b[1;33m\u001b[0m\u001b[0m\n\u001b[0;32m    406\u001b[0m     \u001b[0mtable\u001b[0m \u001b[1;33m=\u001b[0m \u001b[0mhtable\u001b[0m\u001b[1;33m(\u001b[0m\u001b[0mlen\u001b[0m\u001b[1;33m(\u001b[0m\u001b[0mvalues\u001b[0m\u001b[1;33m)\u001b[0m\u001b[1;33m)\u001b[0m\u001b[1;33m\u001b[0m\u001b[1;33m\u001b[0m\u001b[0m\n\u001b[1;32m--> 407\u001b[1;33m     \u001b[0muniques\u001b[0m \u001b[1;33m=\u001b[0m \u001b[0mtable\u001b[0m\u001b[1;33m.\u001b[0m\u001b[0munique\u001b[0m\u001b[1;33m(\u001b[0m\u001b[0mvalues\u001b[0m\u001b[1;33m)\u001b[0m\u001b[1;33m\u001b[0m\u001b[1;33m\u001b[0m\u001b[0m\n\u001b[0m\u001b[0;32m    408\u001b[0m     \u001b[0muniques\u001b[0m \u001b[1;33m=\u001b[0m \u001b[0m_reconstruct_data\u001b[0m\u001b[1;33m(\u001b[0m\u001b[0muniques\u001b[0m\u001b[1;33m,\u001b[0m \u001b[0moriginal\u001b[0m\u001b[1;33m.\u001b[0m\u001b[0mdtype\u001b[0m\u001b[1;33m,\u001b[0m \u001b[0moriginal\u001b[0m\u001b[1;33m)\u001b[0m\u001b[1;33m\u001b[0m\u001b[1;33m\u001b[0m\u001b[0m\n\u001b[0;32m    409\u001b[0m     \u001b[1;32mreturn\u001b[0m \u001b[0muniques\u001b[0m\u001b[1;33m\u001b[0m\u001b[1;33m\u001b[0m\u001b[0m\n",
      "\u001b[1;32mpandas\\_libs\\hashtable_class_helper.pxi\u001b[0m in \u001b[0;36mpandas._libs.hashtable.PyObjectHashTable.unique\u001b[1;34m()\u001b[0m\n",
      "\u001b[1;32mpandas\\_libs\\hashtable_class_helper.pxi\u001b[0m in \u001b[0;36mpandas._libs.hashtable.PyObjectHashTable._unique\u001b[1;34m()\u001b[0m\n",
      "\u001b[1;31mTypeError\u001b[0m: unhashable type: 'numpy.ndarray'"
     ]
    }
   ],
   "source": [
    "g = sns.FacetGrid( data = df, col = \"digit_dist\")\n",
    "g.map(sns.displot)"
   ]
  },
  {
   "cell_type": "code",
   "execution_count": 76,
   "id": "38f6ed0a",
   "metadata": {},
   "outputs": [
    {
     "data": {
      "text/plain": [
       "<seaborn.axisgrid.FacetGrid at 0x25dc0a6be80>"
      ]
     },
     "execution_count": 76,
     "metadata": {},
     "output_type": "execute_result"
    }
   ],
   "source": [
    "sns.displot(digit_dist[1])"
   ]
  },
  {
   "cell_type": "code",
   "execution_count": 264,
   "id": "953f6b26",
   "metadata": {},
   "outputs": [
    {
     "data": {
      "text/plain": [
       "[<matplotlib.lines.Line2D at 0x2af8886ecd0>]"
      ]
     },
     "execution_count": 264,
     "metadata": {},
     "output_type": "execute_result"
    }
   ],
   "source": [
    "\n",
    "fig, axs = plt.subplots(3,4)\n",
    "axs[0,0].hist(dist_0, nbins, density = False)\n",
    "axs[2,0].plot(density_x_0, density_0)\n",
    "\n",
    "\n",
    "axs[0,1].hist(dist_1, nbins, density = False)\n",
    "axs[1,1].hist(std_1, nbins,range = (0,1.1), density = True)\n",
    "axs[2,1].plot(density_x_1, density_1)\n",
    "\n",
    "axs[0,2].hist(dist_2, nbins, density = False)\n",
    "axs[1,2].hist(std_2, nbins,range = (0,1.1), density = False)\n",
    "axs[2,2].plot(density_x_2, density_2)\n",
    "\n",
    "axs[0,3].hist(dist_3, nbins, density = False)\n",
    "axs[1,3].hist(std_3, nbins,range = (0,1.1), density = False)\n",
    "axs[2,3].plot(density_x_3, density_3)"
   ]
  },
  {
   "cell_type": "markdown",
   "id": "30b96962",
   "metadata": {},
   "source": [
    "## Generative power"
   ]
  },
  {
   "cell_type": "code",
   "execution_count": 265,
   "id": "83927f5c",
   "metadata": {},
   "outputs": [],
   "source": [
    "mean = np.zeros(latent_dim)\n",
    "mean = latent_mean_0\n",
    "cov  = 1*np.eye(latent_dim)\n",
    "num_col = 15\n",
    "num_row = 10\n",
    "num_img = num_row*num_col\n",
    "latent_points = rnd.multivariate_normal(mean, cov, size = (num_img))\n",
    "\n"
   ]
  },
  {
   "cell_type": "code",
   "execution_count": 218,
   "id": "736b6983",
   "metadata": {},
   "outputs": [
    {
     "data": {
      "text/plain": [
       "Text(0.5, 1.0, 'Reconstruction with autoencoder')"
      ]
     },
     "execution_count": 218,
     "metadata": {},
     "output_type": "execute_result"
    }
   ],
   "source": [
    "model = model_0\n",
    "title = \"Reconstruction with autoencoder\"\n",
    "fig, ax = plt.subplots()\n",
    "reconstructions = model.decoder(latent_points)\n",
    "i = 0\n",
    "for col in range(num_col):\n",
    "    for row in range(num_row): \n",
    "        if row == 0: \n",
    "            ver_img = reconstructions[i]\n",
    "        else:\n",
    "            ver_img = np.concatenate((ver_img,\n",
    "                                 reconstructions[i]), axis = 0)\n",
    "        i = i + 1\n",
    "    if col == 0:\n",
    "        img = ver_img\n",
    "    else: \n",
    "        img = np.concatenate((img,\n",
    "                              ver_img), axis = 1)\n",
    "ax.imshow(img)\n",
    "ax.set_title(title)\n"
   ]
  },
  {
   "cell_type": "code",
   "execution_count": 266,
   "id": "56a9b089",
   "metadata": {},
   "outputs": [],
   "source": [
    "title = \"Progression of models (Org, AE, AE_cb, VAE100,VAE100_cb)\"\n",
    "fig, axs = plt.subplots(num_row, num_col)\n",
    "rec0 = model_0.decoder(latent_points)\n",
    "rec1 = model_1.decoder(latent_points)\n",
    "rec2 = model_2.decoder(latent_points)\n",
    "rec3 = model_3.decoder(latent_points)\n",
    "\n",
    "i = 0\n",
    "for col in range(num_col):\n",
    "    for row in range(num_row): \n",
    "        ax = axs[row, col]\n",
    "        im = np.concatenate((rec0[i],\n",
    "                             rec1[i],\n",
    "                             rec2[i],\n",
    "                             rec3[i]),\n",
    "                             axis = 1)\n",
    "        ax.imshow(im)\n",
    "        ax.set_title(title)\n",
    "        i = i +1"
   ]
  },
  {
   "cell_type": "code",
   "execution_count": 274,
   "id": "02252f24",
   "metadata": {},
   "outputs": [
    {
     "data": {
      "text/plain": [
       "Text(0.5, 1.0, 'Progression of models (Org, AE, AE_cb, VAE100,VAE100_cb)')"
      ]
     },
     "execution_count": 274,
     "metadata": {},
     "output_type": "execute_result"
    }
   ],
   "source": [
    "mean = np.zeros(latent_dim)\n",
    "cov  = 1*np.eye(latent_dim)\n",
    "num_dig = 14\n",
    "latent_points = rnd.multivariate_normal(mean, cov, size = (num_dig))\n",
    "\n",
    "fig, ax = plt.subplots()\n",
    "title = \"Progression of models (Org, AE, AE_cb, VAE100,VAE100_cb)\"\n",
    "rec0 = model_0.decoder(latent_points)\n",
    "rec1 = model_1.decoder(latent_points)\n",
    "rec2 = model_2.decoder(latent_points)\n",
    "rec3 = model_3.decoder(latent_points)\n",
    "\n",
    "\n",
    "i = 0\n",
    "for i in range(num_dig): \n",
    "    rec_im = np.concatenate((rec0[i],\n",
    "                         rec1[i],\n",
    "                         rec2[i],\n",
    "                         rec3[i]),\n",
    "                         axis = 0)\n",
    "    if i == 0:\n",
    "        im = rec_im\n",
    "    else:\n",
    "        im = np.concatenate((im, rec_im), axis=1)\n",
    "    i = i+1\n",
    "    \n",
    "ax.imshow(im)\n",
    "ax.set_title(title)"
   ]
  },
  {
   "cell_type": "code",
   "execution_count": 82,
   "id": "858d3be4",
   "metadata": {},
   "outputs": [],
   "source": [
    "import pandas as pd\n"
   ]
  },
  {
   "cell_type": "code",
   "execution_count": 83,
   "id": "b90cafab",
   "metadata": {},
   "outputs": [],
   "source": [
    "df = pd.DataFrame({\n",
    "    \"digit_dist\" : digit_dist,\n",
    "    \"digit_std\" : digit_std\n",
    "})"
   ]
  },
  {
   "cell_type": "code",
   "execution_count": 84,
   "id": "e56308a1",
   "metadata": {},
   "outputs": [
    {
     "data": {
      "text/html": [
       "<div>\n",
       "<style scoped>\n",
       "    .dataframe tbody tr th:only-of-type {\n",
       "        vertical-align: middle;\n",
       "    }\n",
       "\n",
       "    .dataframe tbody tr th {\n",
       "        vertical-align: top;\n",
       "    }\n",
       "\n",
       "    .dataframe thead th {\n",
       "        text-align: right;\n",
       "    }\n",
       "</style>\n",
       "<table border=\"1\" class=\"dataframe\">\n",
       "  <thead>\n",
       "    <tr style=\"text-align: right;\">\n",
       "      <th></th>\n",
       "      <th>digit_dist</th>\n",
       "      <th>digit_std</th>\n",
       "    </tr>\n",
       "  </thead>\n",
       "  <tbody>\n",
       "    <tr>\n",
       "      <th>0</th>\n",
       "      <td>[8.222564, 9.192295, 7.5260377, 7.5173655, 11....</td>\n",
       "      <td>None</td>\n",
       "    </tr>\n",
       "    <tr>\n",
       "      <th>1</th>\n",
       "      <td>[0.66744155, 0.2013679, 1.3767942, 1.0412824, ...</td>\n",
       "      <td>[0.35392433, 0.2852933, 1.0034171, 1.0030283, ...</td>\n",
       "    </tr>\n",
       "    <tr>\n",
       "      <th>2</th>\n",
       "      <td>[2.1573875, 2.1830826, 2.2218325, 2.290831, 2....</td>\n",
       "      <td>[0.8652521, 0.042920884, 0.099526055, 0.103524...</td>\n",
       "    </tr>\n",
       "    <tr>\n",
       "      <th>3</th>\n",
       "      <td>[2.886057, 2.5140355, 2.768398, 2.8142986, 4.2...</td>\n",
       "      <td>[0.018387135, 0.024138493, 0.02755069, 0.02764...</td>\n",
       "    </tr>\n",
       "  </tbody>\n",
       "</table>\n",
       "</div>"
      ],
      "text/plain": [
       "                                          digit_dist  \\\n",
       "0  [8.222564, 9.192295, 7.5260377, 7.5173655, 11....   \n",
       "1  [0.66744155, 0.2013679, 1.3767942, 1.0412824, ...   \n",
       "2  [2.1573875, 2.1830826, 2.2218325, 2.290831, 2....   \n",
       "3  [2.886057, 2.5140355, 2.768398, 2.8142986, 4.2...   \n",
       "\n",
       "                                           digit_std  \n",
       "0                                               None  \n",
       "1  [0.35392433, 0.2852933, 1.0034171, 1.0030283, ...  \n",
       "2  [0.8652521, 0.042920884, 0.099526055, 0.103524...  \n",
       "3  [0.018387135, 0.024138493, 0.02755069, 0.02764...  "
      ]
     },
     "execution_count": 84,
     "metadata": {},
     "output_type": "execute_result"
    }
   ],
   "source": [
    "df.head()"
   ]
  },
  {
   "cell_type": "code",
   "execution_count": null,
   "id": "5c8a796b",
   "metadata": {},
   "outputs": [],
   "source": []
  }
 ],
 "metadata": {
  "kernelspec": {
   "display_name": "Python 3",
   "language": "python",
   "name": "python3"
  },
  "language_info": {
   "codemirror_mode": {
    "name": "ipython",
    "version": 3
   },
   "file_extension": ".py",
   "mimetype": "text/x-python",
   "name": "python",
   "nbconvert_exporter": "python",
   "pygments_lexer": "ipython3",
   "version": "3.8.8"
  }
 },
 "nbformat": 4,
 "nbformat_minor": 5
}
