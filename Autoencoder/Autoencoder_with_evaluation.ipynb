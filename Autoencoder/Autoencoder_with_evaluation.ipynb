{
 "cells": [
  {
   "cell_type": "markdown",
   "id": "36310a6f",
   "metadata": {},
   "source": [
    "# Initial investigation of MNIST data using openCV\n",
    "This notebook contains the initial exploration of the MNIST-dataset using open CV\n"
   ]
  },
  {
   "cell_type": "markdown",
   "id": "e7405365",
   "metadata": {},
   "source": [
    "## Load data\n",
    "The first step is simply to load the data and extract parameters surrounding the data"
   ]
  },
  {
   "cell_type": "code",
   "execution_count": 2,
   "id": "99a31610",
   "metadata": {},
   "outputs": [
    {
     "name": "stdout",
     "output_type": "stream",
     "text": [
      "Using matplotlib backend: Qt5Agg\n"
     ]
    }
   ],
   "source": [
    "%matplotlib\n",
    "import cv2 as cv\n",
    "import sys\n",
    "import matplotlib.pyplot as plt\n",
    "import tensorflow as tf\n",
    "import tensorflow.keras as keras\n",
    "import tensorflow.keras.datasets.mnist as mnist\n",
    "import numpy as np\n",
    "import numpy.random as rnd"
   ]
  },
  {
   "cell_type": "code",
   "execution_count": 5,
   "id": "12e76c2b",
   "metadata": {},
   "outputs": [],
   "source": [
    "(x_train, y_train),(x_test, y_test) = mnist.load_data()\n",
    "num_train = x_train.shape[0]\n",
    "num_test = x_test.shape[0]\n",
    "img_width = x_train.shape[1]\n",
    "img_height = x_train.shape[2]"
   ]
  },
  {
   "cell_type": "markdown",
   "id": "99d1ca03",
   "metadata": {},
   "source": [
    "## Inspect data\n",
    "Just take a random image and display it\n"
   ]
  },
  {
   "cell_type": "code",
   "execution_count": 6,
   "id": "1234540e",
   "metadata": {},
   "outputs": [],
   "source": [
    "N = 4\n",
    "rnd_i = rnd.permutation(num_train)[0:N]\n",
    "fig, axs = plt.subplots(1, N)\n",
    "for i in range(N):\n",
    "    axs[i].imshow(x_train[rnd_i[i]])\n",
    "    axs[i].set_title(\"Number is \" + str(y_train[rnd_i[i]]))\n"
   ]
  },
  {
   "cell_type": "markdown",
   "id": "6d36d74f",
   "metadata": {},
   "source": [
    "## Preprocess the data\n",
    "\n"
   ]
  },
  {
   "cell_type": "code",
   "execution_count": 7,
   "id": "d791ebe4",
   "metadata": {},
   "outputs": [],
   "source": [
    "digit = 5\n",
    "X = keras.utils.normalize(x_train[y_train == digit,:], axis=1)\n",
    "Y = y_train[y_train == digit]\n",
    "\n",
    "X = keras.utils.normalize(x_train, axis=1)\n",
    "Y = y_train"
   ]
  },
  {
   "cell_type": "markdown",
   "id": "22e48ef7",
   "metadata": {},
   "source": [
    "## Set up models"
   ]
  },
  {
   "cell_type": "code",
   "execution_count": null,
   "id": "3fac45f2",
   "metadata": {},
   "outputs": [],
   "source": [
    " "
   ]
  },
  {
   "cell_type": "code",
   "execution_count": 8,
   "id": "28b841e6",
   "metadata": {},
   "outputs": [
    {
     "name": "stdout",
     "output_type": "stream",
     "text": [
      "Model: \"model\"\n",
      "_________________________________________________________________\n",
      "Layer (type)                 Output Shape              Param #   \n",
      "=================================================================\n",
      "input_1 (InputLayer)         [(None, 28, 28)]          0         \n",
      "_________________________________________________________________\n",
      "reshape (Reshape)            (None, 28, 28, 1)         0         \n",
      "_________________________________________________________________\n",
      "conv2d (Conv2D)              (None, 26, 26, 8)         80        \n",
      "_________________________________________________________________\n",
      "max_pooling2d (MaxPooling2D) (None, 13, 13, 8)         0         \n",
      "_________________________________________________________________\n",
      "conv2d_1 (Conv2D)            (None, 11, 11, 16)        1168      \n",
      "_________________________________________________________________\n",
      "max_pooling2d_1 (MaxPooling2 (None, 6, 6, 16)          0         \n",
      "_________________________________________________________________\n",
      "conv2d_2 (Conv2D)            (None, 4, 4, 32)          4640      \n",
      "_________________________________________________________________\n",
      "max_pooling2d_2 (MaxPooling2 (None, 2, 2, 32)          0         \n",
      "_________________________________________________________________\n",
      "flatten (Flatten)            (None, 128)               0         \n",
      "=================================================================\n",
      "Total params: 5,888\n",
      "Trainable params: 5,888\n",
      "Non-trainable params: 0\n",
      "_________________________________________________________________\n",
      "Model: \"model_1\"\n",
      "_________________________________________________________________\n",
      "Layer (type)                 Output Shape              Param #   \n",
      "=================================================================\n",
      "input_2 (InputLayer)         [(None, 128)]             0         \n",
      "_________________________________________________________________\n",
      "reshape_1 (Reshape)          (None, 2, 2, 32)          0         \n",
      "_________________________________________________________________\n",
      "conv2d_3 (Conv2D)            (None, 2, 2, 16)          4624      \n",
      "_________________________________________________________________\n",
      "up_sampling2d (UpSampling2D) (None, 4, 4, 16)          0         \n",
      "_________________________________________________________________\n",
      "conv2d_4 (Conv2D)            (None, 4, 4, 8)           1160      \n",
      "_________________________________________________________________\n",
      "up_sampling2d_1 (UpSampling2 (None, 8, 8, 8)           0         \n",
      "_________________________________________________________________\n",
      "conv2d_5 (Conv2D)            (None, 8, 8, 4)           292       \n",
      "_________________________________________________________________\n",
      "up_sampling2d_2 (UpSampling2 (None, 16, 16, 4)         0         \n",
      "_________________________________________________________________\n",
      "conv2d_6 (Conv2D)            (None, 14, 14, 2)         74        \n",
      "_________________________________________________________________\n",
      "up_sampling2d_3 (UpSampling2 (None, 28, 28, 2)         0         \n",
      "_________________________________________________________________\n",
      "conv2d_7 (Conv2D)            (None, 28, 28, 1)         19        \n",
      "=================================================================\n",
      "Total params: 6,169\n",
      "Trainable params: 6,169\n",
      "Non-trainable params: 0\n",
      "_________________________________________________________________\n",
      "Model: \"model_2\"\n",
      "_________________________________________________________________\n",
      "Layer (type)                 Output Shape              Param #   \n",
      "=================================================================\n",
      "input_3 (InputLayer)         [(None, 28, 28)]          0         \n",
      "_________________________________________________________________\n",
      "model (Functional)           (None, 128)               5888      \n",
      "_________________________________________________________________\n",
      "model_1 (Functional)         (None, 28, 28, 1)         6169      \n",
      "=================================================================\n",
      "Total params: 12,057\n",
      "Trainable params: 12,057\n",
      "Non-trainable params: 0\n",
      "_________________________________________________________________\n"
     ]
    }
   ],
   "source": [
    "\n",
    "\n",
    "\"\"\" Setup encoder\"\"\"\n",
    "encoder_input = keras.layers.Input((img_width, img_height))\n",
    "net = keras.layers.Reshape((img_width, img_height,1))(encoder_input)\n",
    "net = keras.layers.Conv2D(8, (3, 3), activation='relu')(net)\n",
    "net = keras.layers.MaxPooling2D((2, 2), padding='same')(net)\n",
    "net = keras.layers.Conv2D(16, (3, 3), activation='relu')(net)\n",
    "net = keras.layers.MaxPooling2D((2, 2), padding='same')(net)\n",
    "net = keras.layers.Conv2D(32, (3, 3), activation='relu')(net)\n",
    "net = keras.layers.MaxPooling2D((2, 2), padding='same')(net)\n",
    "encoder_output = keras.layers.Flatten()(net)\n",
    "encoder = keras.Model(encoder_input, encoder_output)\n",
    "encoder.summary()\n",
    "\n",
    "\"\"\" Setup decoder\"\"\"\n",
    "decoder_input =keras.layers.Input(encoder.output.shape[1:])\n",
    "net = keras.layers.Dense(512,activation = tf.nn.relu)(decoder_input)\n",
    "net = keras.layers.Dense(512,activation = tf.nn.relu)(net)\n",
    "net = keras.layers.Dense(img_width*img_height, activation = tf.nn.sigmoid)(net)\n",
    "\n",
    "net = keras.layers.Reshape((2,2,32))(decoder_input)\n",
    "net = keras.layers.Conv2D(16, (3, 3), activation='relu', padding='same')(net)\n",
    "net = keras.layers.UpSampling2D((2, 2))(net)\n",
    "net = keras.layers.Conv2D(8, (3, 3), activation='relu', padding='same')(net)\n",
    "net = keras.layers.UpSampling2D((2, 2))(net)\n",
    "net = keras.layers.Conv2D(4, (3, 3), activation='relu', padding='same')(net)\n",
    "net = keras.layers.UpSampling2D((2, 2))(net)\n",
    "net = keras.layers.Conv2D(2, (3, 3), activation='relu')(net)\n",
    "net = keras.layers.UpSampling2D((2, 2))(net)\n",
    "decoder_output = keras.layers.Conv2D(1, (3, 3), activation='sigmoid', padding='same')(net)\n",
    "#decoder_output = keras.layers.Reshape((img_width, img_height), input_shape=(img_width*img_height,))(net)\n",
    "\n",
    "decoder = keras.Model(decoder_input, decoder_output)\n",
    "decoder.summary()\n",
    "\"\"\" Setup autocoder\"\"\"\n",
    "\n",
    "image_input = keras.layers.Input((img_width, img_height))\n",
    "encoded = encoder(image_input)\n",
    "decoded = decoder(encoded)\n",
    "autocoder = keras.Model(image_input, decoded)\n",
    "\n",
    "\n",
    "autocoder.compile(optimizer = 'adam', loss = 'binary_crossentropy')\n",
    "autocoder.summary()"
   ]
  },
  {
   "cell_type": "code",
   "execution_count": null,
   "id": "2090b71e",
   "metadata": {},
   "outputs": [],
   "source": []
  },
  {
   "cell_type": "code",
   "execution_count": 9,
   "id": "0282662f",
   "metadata": {},
   "outputs": [
    {
     "name": "stdout",
     "output_type": "stream",
     "text": [
      "Epoch 1/2\n",
      "1875/1875 [==============================] - 59s 30ms/step - loss: 0.5417\n",
      "Epoch 2/2\n",
      "1875/1875 [==============================] - 63s 33ms/step - loss: 0.2622\n"
     ]
    },
    {
     "data": {
      "text/plain": [
       "<tensorflow.python.keras.callbacks.History at 0x262167f0070>"
      ]
     },
     "execution_count": 9,
     "metadata": {},
     "output_type": "execute_result"
    }
   ],
   "source": [
    "autocoder.fit(X,X, epochs = 2)"
   ]
  },
  {
   "cell_type": "code",
   "execution_count": null,
   "id": "d7b40fcb",
   "metadata": {},
   "outputs": [],
   "source": []
  },
  {
   "cell_type": "code",
   "execution_count": null,
   "id": "2280bef3",
   "metadata": {},
   "outputs": [],
   "source": []
  },
  {
   "cell_type": "code",
   "execution_count": null,
   "id": "375abbd6",
   "metadata": {},
   "outputs": [],
   "source": []
  },
  {
   "cell_type": "markdown",
   "id": "bc9bfa4e",
   "metadata": {},
   "source": [
    "## Evaluate model"
   ]
  },
  {
   "cell_type": "code",
   "execution_count": 7,
   "id": "dd1fb5a3",
   "metadata": {},
   "outputs": [],
   "source": [
    "X_hat = autocoder.predict(X)\n"
   ]
  },
  {
   "cell_type": "code",
   "execution_count": 12,
   "id": "b4a375ca",
   "metadata": {},
   "outputs": [
    {
     "name": "stdout",
     "output_type": "stream",
     "text": [
      "(3, 3, 1, 8)\n",
      "(8,)\n"
     ]
    },
    {
     "ename": "TypeError",
     "evalue": "Invalid shape (3, 3, 1, 8) for image data",
     "output_type": "error",
     "traceback": [
      "\u001b[1;31m---------------------------------------------------------------------------\u001b[0m",
      "\u001b[1;31mTypeError\u001b[0m                                 Traceback (most recent call last)",
      "\u001b[1;32m<ipython-input-12-1afd6afe209a>\u001b[0m in \u001b[0;36m<module>\u001b[1;34m\u001b[0m\n\u001b[0;32m      7\u001b[0m \u001b[1;33m\u001b[0m\u001b[0m\n\u001b[0;32m      8\u001b[0m \u001b[0mfig\u001b[0m\u001b[1;33m,\u001b[0m\u001b[0maxs\u001b[0m \u001b[1;33m=\u001b[0m \u001b[0mplt\u001b[0m\u001b[1;33m.\u001b[0m\u001b[0msubplots\u001b[0m\u001b[1;33m(\u001b[0m\u001b[1;36m2\u001b[0m\u001b[1;33m,\u001b[0m\u001b[1;36m2\u001b[0m\u001b[1;33m)\u001b[0m\u001b[1;33m\u001b[0m\u001b[1;33m\u001b[0m\u001b[0m\n\u001b[1;32m----> 9\u001b[1;33m \u001b[0maxs\u001b[0m\u001b[1;33m[\u001b[0m\u001b[1;36m0\u001b[0m\u001b[1;33m,\u001b[0m\u001b[1;36m0\u001b[0m\u001b[1;33m]\u001b[0m\u001b[1;33m.\u001b[0m\u001b[0mimshow\u001b[0m\u001b[1;33m(\u001b[0m\u001b[0mM\u001b[0m\u001b[1;33m[\u001b[0m\u001b[1;36m0\u001b[0m\u001b[1;33m]\u001b[0m\u001b[1;33m)\u001b[0m\u001b[1;33m\u001b[0m\u001b[1;33m\u001b[0m\u001b[0m\n\u001b[0m\u001b[0;32m     10\u001b[0m \u001b[0maxs\u001b[0m\u001b[1;33m[\u001b[0m\u001b[1;36m0\u001b[0m\u001b[1;33m,\u001b[0m\u001b[1;36m1\u001b[0m\u001b[1;33m]\u001b[0m\u001b[1;33m.\u001b[0m\u001b[0mimshow\u001b[0m\u001b[1;33m(\u001b[0m\u001b[0mnp\u001b[0m\u001b[1;33m.\u001b[0m\u001b[0mtile\u001b[0m\u001b[1;33m(\u001b[0m\u001b[0mM\u001b[0m\u001b[1;33m[\u001b[0m\u001b[1;36m1\u001b[0m\u001b[1;33m]\u001b[0m\u001b[1;33m,\u001b[0m\u001b[1;33m(\u001b[0m\u001b[1;36m200\u001b[0m\u001b[1;33m,\u001b[0m\u001b[1;36m1\u001b[0m\u001b[1;33m)\u001b[0m\u001b[1;33m)\u001b[0m\u001b[1;33m)\u001b[0m\u001b[1;33m\u001b[0m\u001b[1;33m\u001b[0m\u001b[0m\n\u001b[0;32m     11\u001b[0m \u001b[0maxs\u001b[0m\u001b[1;33m[\u001b[0m\u001b[1;36m1\u001b[0m\u001b[1;33m,\u001b[0m\u001b[1;36m0\u001b[0m\u001b[1;33m]\u001b[0m\u001b[1;33m.\u001b[0m\u001b[0mimshow\u001b[0m\u001b[1;33m(\u001b[0m\u001b[0mN\u001b[0m\u001b[1;33m[\u001b[0m\u001b[1;36m0\u001b[0m\u001b[1;33m]\u001b[0m\u001b[1;33m)\u001b[0m\u001b[1;33m\u001b[0m\u001b[1;33m\u001b[0m\u001b[0m\n",
      "\u001b[1;32m~\\anaconda3\\lib\\site-packages\\matplotlib\\__init__.py\u001b[0m in \u001b[0;36minner\u001b[1;34m(ax, data, *args, **kwargs)\u001b[0m\n\u001b[0;32m   1445\u001b[0m     \u001b[1;32mdef\u001b[0m \u001b[0minner\u001b[0m\u001b[1;33m(\u001b[0m\u001b[0max\u001b[0m\u001b[1;33m,\u001b[0m \u001b[1;33m*\u001b[0m\u001b[0margs\u001b[0m\u001b[1;33m,\u001b[0m \u001b[0mdata\u001b[0m\u001b[1;33m=\u001b[0m\u001b[1;32mNone\u001b[0m\u001b[1;33m,\u001b[0m \u001b[1;33m**\u001b[0m\u001b[0mkwargs\u001b[0m\u001b[1;33m)\u001b[0m\u001b[1;33m:\u001b[0m\u001b[1;33m\u001b[0m\u001b[1;33m\u001b[0m\u001b[0m\n\u001b[0;32m   1446\u001b[0m         \u001b[1;32mif\u001b[0m \u001b[0mdata\u001b[0m \u001b[1;32mis\u001b[0m \u001b[1;32mNone\u001b[0m\u001b[1;33m:\u001b[0m\u001b[1;33m\u001b[0m\u001b[1;33m\u001b[0m\u001b[0m\n\u001b[1;32m-> 1447\u001b[1;33m             \u001b[1;32mreturn\u001b[0m \u001b[0mfunc\u001b[0m\u001b[1;33m(\u001b[0m\u001b[0max\u001b[0m\u001b[1;33m,\u001b[0m \u001b[1;33m*\u001b[0m\u001b[0mmap\u001b[0m\u001b[1;33m(\u001b[0m\u001b[0msanitize_sequence\u001b[0m\u001b[1;33m,\u001b[0m \u001b[0margs\u001b[0m\u001b[1;33m)\u001b[0m\u001b[1;33m,\u001b[0m \u001b[1;33m**\u001b[0m\u001b[0mkwargs\u001b[0m\u001b[1;33m)\u001b[0m\u001b[1;33m\u001b[0m\u001b[1;33m\u001b[0m\u001b[0m\n\u001b[0m\u001b[0;32m   1448\u001b[0m \u001b[1;33m\u001b[0m\u001b[0m\n\u001b[0;32m   1449\u001b[0m         \u001b[0mbound\u001b[0m \u001b[1;33m=\u001b[0m \u001b[0mnew_sig\u001b[0m\u001b[1;33m.\u001b[0m\u001b[0mbind\u001b[0m\u001b[1;33m(\u001b[0m\u001b[0max\u001b[0m\u001b[1;33m,\u001b[0m \u001b[1;33m*\u001b[0m\u001b[0margs\u001b[0m\u001b[1;33m,\u001b[0m \u001b[1;33m**\u001b[0m\u001b[0mkwargs\u001b[0m\u001b[1;33m)\u001b[0m\u001b[1;33m\u001b[0m\u001b[1;33m\u001b[0m\u001b[0m\n",
      "\u001b[1;32m~\\anaconda3\\lib\\site-packages\\matplotlib\\axes\\_axes.py\u001b[0m in \u001b[0;36mimshow\u001b[1;34m(self, X, cmap, norm, aspect, interpolation, alpha, vmin, vmax, origin, extent, filternorm, filterrad, resample, url, **kwargs)\u001b[0m\n\u001b[0;32m   5521\u001b[0m                               resample=resample, **kwargs)\n\u001b[0;32m   5522\u001b[0m \u001b[1;33m\u001b[0m\u001b[0m\n\u001b[1;32m-> 5523\u001b[1;33m         \u001b[0mim\u001b[0m\u001b[1;33m.\u001b[0m\u001b[0mset_data\u001b[0m\u001b[1;33m(\u001b[0m\u001b[0mX\u001b[0m\u001b[1;33m)\u001b[0m\u001b[1;33m\u001b[0m\u001b[1;33m\u001b[0m\u001b[0m\n\u001b[0m\u001b[0;32m   5524\u001b[0m         \u001b[0mim\u001b[0m\u001b[1;33m.\u001b[0m\u001b[0mset_alpha\u001b[0m\u001b[1;33m(\u001b[0m\u001b[0malpha\u001b[0m\u001b[1;33m)\u001b[0m\u001b[1;33m\u001b[0m\u001b[1;33m\u001b[0m\u001b[0m\n\u001b[0;32m   5525\u001b[0m         \u001b[1;32mif\u001b[0m \u001b[0mim\u001b[0m\u001b[1;33m.\u001b[0m\u001b[0mget_clip_path\u001b[0m\u001b[1;33m(\u001b[0m\u001b[1;33m)\u001b[0m \u001b[1;32mis\u001b[0m \u001b[1;32mNone\u001b[0m\u001b[1;33m:\u001b[0m\u001b[1;33m\u001b[0m\u001b[1;33m\u001b[0m\u001b[0m\n",
      "\u001b[1;32m~\\anaconda3\\lib\\site-packages\\matplotlib\\image.py\u001b[0m in \u001b[0;36mset_data\u001b[1;34m(self, A)\u001b[0m\n\u001b[0;32m    709\u001b[0m         if not (self._A.ndim == 2\n\u001b[0;32m    710\u001b[0m                 or self._A.ndim == 3 and self._A.shape[-1] in [3, 4]):\n\u001b[1;32m--> 711\u001b[1;33m             raise TypeError(\"Invalid shape {} for image data\"\n\u001b[0m\u001b[0;32m    712\u001b[0m                             .format(self._A.shape))\n\u001b[0;32m    713\u001b[0m \u001b[1;33m\u001b[0m\u001b[0m\n",
      "\u001b[1;31mTypeError\u001b[0m: Invalid shape (3, 3, 1, 8) for image data"
     ]
    }
   ],
   "source": [
    "M = encoder.layers[2].get_weights()\n",
    "N = decoder.layers[1].get_weights()\n",
    "\n",
    "print(M[0].shape)\n",
    "print(M[1].shape)\n",
    "\n",
    "\n",
    "fig,axs = plt.subplots(2,2)\n",
    "axs[0,0].imshow(M[0])\n",
    "axs[0,1].imshow(np.tile(M[1],(200,1)))\n",
    "axs[1,0].imshow(N[0])\n",
    "axs[1,1].imshow(np.tile(N[1],(200,1)))"
   ]
  },
  {
   "cell_type": "code",
   "execution_count": 74,
   "id": "118d7293",
   "metadata": {},
   "outputs": [
    {
     "data": {
      "text/plain": [
       "<matplotlib.colorbar.Colorbar at 0x2b8ab4883a0>"
      ]
     },
     "execution_count": 74,
     "metadata": {},
     "output_type": "execute_result"
    }
   ],
   "source": [
    "b = N[0]@M[1]+N[1]\n",
    "fig,axs = plt.subplots(1,4)\n",
    "\n",
    "gr0 = axs[0].imshow(np.reshape(M[1],(28,28)))\n",
    "plt.colorbar(gr0, ax = axs[0])\n",
    "gr1 = axs[1].imshow(np.reshape(N[1],(28,28)))\n",
    "plt.colorbar(gr1, ax = axs[1])\n",
    "gr2 = axs[2].imshow(np.reshape(b,(28,28)))\n",
    "plt.colorbar(gr2, ax = axs[2])\n",
    "gr3 = axs[3].imshow(N[0]@M[0])\n",
    "plt.colorbar(gr3, ax = axs[3])\n"
   ]
  },
  {
   "cell_type": "code",
   "execution_count": 9,
   "id": "a29599b4",
   "metadata": {},
   "outputs": [],
   "source": [
    "N = 4\n",
    "rnd_i = rnd.permutation(X.shape[0])[0:N]\n",
    "fig, axs = plt.subplots(2, N)\n",
    "for i in range(N):\n",
    "    axs[0,i].imshow(X_hat[rnd_i[i]],vmin = 0, vmax = 1.0)\n",
    "    axs[0,i].set_title(\"Number is \" + str(Y[rnd_i[i]]))\n",
    "    axs[1,i].imshow(X[rnd_i[i]],vmin = 0, vmax = 1.0)\n",
    "    axs[1,i].set_title(\"Number is \" + str(Y[rnd_i[i]]))\n",
    "    \n"
   ]
  },
  {
   "cell_type": "markdown",
   "id": "b282d98d",
   "metadata": {},
   "source": [
    "## Setup latentspace\n"
   ]
  },
  {
   "cell_type": "code",
   "execution_count": 118,
   "id": "f30f349e",
   "metadata": {},
   "outputs": [],
   "source": [
    "class LatentDigit:\n",
    "    def __init__(self, model, fig,\n",
    "                              latent_boundary = (0.0, 1.0, 0.0, 1.0)):\n",
    "        self.point = np.array([0.1,  0.5])\n",
    "        self.model = model\n",
    "        self.image = self.model.predict(np.array([self.point]))[0]\n",
    "        \n",
    "        self.fig = fig\n",
    "        self.fig.subplots(1,2)\n",
    "        self.latent_boundary = latent_boundary\n",
    "        self.setup_latent_space()\n",
    "        \n",
    "        self.click_tol = 0.05\n",
    "        self.draw()\n",
    "        self.fig.canvas.mpl_connect('button_press_event', self.button_press_callback)\n",
    "        self.fig.canvas.mpl_connect('motion_notify_event',self.motion_notify_callback)\n",
    "        self.fig.canvas.mpl_connect('button_release_event', self.button_release_callback)\n",
    "        self.fig.canvas.mpl_connect('key_press_event', self.key_press_callback)\n",
    "\n",
    "        self.point_selected = False        \n",
    "    \n",
    "    def setup_latent_space(self):\n",
    "        self.fig.axes[0].set_xlim(self.latent_boundary[0], self.latent_boundary[1])\n",
    "        self.fig.axes[0].set_ylim(self.latent_boundary[2], self.latent_boundary[3])       \n",
    "        \n",
    "    \n",
    "    def draw(self):\n",
    "        self.fig.axes[0].cla()\n",
    "        self.setup_latent_space()\n",
    "        self.fig.axes[0].scatter(self.point[0], self.point[1])\n",
    "        self.fig.axes[1].imshow(self.image,vmin = 0, vmax = 1.0)\n",
    "        self.fig.canvas.draw_idle()\n",
    "    \n",
    "    def button_press_callback(self, event):\n",
    "        self.update_point_select(event)\n",
    "    \n",
    "    def update_point_select(self, event):\n",
    "        click = np.array([event.xdata, event.ydata])\n",
    "        dist = np.linalg.norm(click-self.point)\n",
    "        self.point_selected =  dist < self.click_tol\n",
    "    \n",
    "    def motion_notify_callback(self, event):\n",
    "        if not self.point_selected: return\n",
    "        self.update_point(event)\n",
    "        self.update_digit()\n",
    "        self.draw()\n",
    "    \n",
    "    def button_release_callback(self, event):\n",
    "        self.point_selected = False\n",
    "    \n",
    "    def update_point(self, event):\n",
    "        self.point = np.array([event.xdata, event.ydata])\n",
    "\n",
    "    def update_digit(self):\n",
    "        self.image = self.model.predict(np.array([self.point]))[0]\n",
    "    \n",
    "    def key_press_callback(self, event):\n",
    "        if not event.key == \" \": return\n",
    "        self.update_point(event)\n",
    "        self.update_digit()\n",
    "        self.draw()\n"
   ]
  },
  {
   "cell_type": "code",
   "execution_count": 119,
   "id": "e1eb341a",
   "metadata": {},
   "outputs": [
    {
     "name": "stderr",
     "output_type": "stream",
     "text": [
      "Traceback (most recent call last):\n",
      "  File \"C:\\Users\\joelw\\anaconda3\\lib\\site-packages\\matplotlib\\cbook\\__init__.py\", line 224, in process\n",
      "    func(*args, **kwargs)\n",
      "  File \"<ipython-input-118-c0a6d211a3ff>\", line 60, in key_press_callback\n",
      "    self.update_digit()\n",
      "  File \"<ipython-input-118-c0a6d211a3ff>\", line 55, in update_digit\n",
      "    self.image = self.model.predict(np.array([self.point]))[0]\n",
      "  File \"C:\\Users\\joelw\\anaconda3\\lib\\site-packages\\tensorflow\\python\\keras\\engine\\training.py\", line 1598, in predict\n",
      "    data_handler = data_adapter.DataHandler(\n",
      "  File \"C:\\Users\\joelw\\anaconda3\\lib\\site-packages\\tensorflow\\python\\keras\\engine\\data_adapter.py\", line 1100, in __init__\n",
      "    self._adapter = adapter_cls(\n",
      "  File \"C:\\Users\\joelw\\anaconda3\\lib\\site-packages\\tensorflow\\python\\keras\\engine\\data_adapter.py\", line 263, in __init__\n",
      "    x, y, sample_weights = _process_tensorlike((x, y, sample_weights))\n",
      "  File \"C:\\Users\\joelw\\anaconda3\\lib\\site-packages\\tensorflow\\python\\keras\\engine\\data_adapter.py\", line 1016, in _process_tensorlike\n",
      "    inputs = nest.map_structure(_convert_numpy_and_scipy, inputs)\n",
      "  File \"C:\\Users\\joelw\\anaconda3\\lib\\site-packages\\tensorflow\\python\\util\\nest.py\", line 659, in map_structure\n",
      "    structure[0], [func(*x) for x in entries],\n",
      "  File \"C:\\Users\\joelw\\anaconda3\\lib\\site-packages\\tensorflow\\python\\util\\nest.py\", line 659, in <listcomp>\n",
      "    structure[0], [func(*x) for x in entries],\n",
      "  File \"C:\\Users\\joelw\\anaconda3\\lib\\site-packages\\tensorflow\\python\\keras\\engine\\data_adapter.py\", line 1011, in _convert_numpy_and_scipy\n",
      "    return ops.convert_to_tensor_v2_with_dispatch(x, dtype=dtype)\n",
      "  File \"C:\\Users\\joelw\\anaconda3\\lib\\site-packages\\tensorflow\\python\\util\\dispatch.py\", line 201, in wrapper\n",
      "    return target(*args, **kwargs)\n",
      "  File \"C:\\Users\\joelw\\anaconda3\\lib\\site-packages\\tensorflow\\python\\framework\\ops.py\", line 1404, in convert_to_tensor_v2_with_dispatch\n",
      "    return convert_to_tensor_v2(\n",
      "  File \"C:\\Users\\joelw\\anaconda3\\lib\\site-packages\\tensorflow\\python\\framework\\ops.py\", line 1410, in convert_to_tensor_v2\n",
      "    return convert_to_tensor(\n",
      "  File \"C:\\Users\\joelw\\anaconda3\\lib\\site-packages\\tensorflow\\python\\profiler\\trace.py\", line 163, in wrapped\n",
      "    return func(*args, **kwargs)\n",
      "  File \"C:\\Users\\joelw\\anaconda3\\lib\\site-packages\\tensorflow\\python\\framework\\ops.py\", line 1540, in convert_to_tensor\n",
      "    ret = conversion_func(value, dtype=dtype, name=name, as_ref=as_ref)\n",
      "  File \"C:\\Users\\joelw\\anaconda3\\lib\\site-packages\\tensorflow\\python\\framework\\tensor_conversion_registry.py\", line 52, in _default_conversion_function\n",
      "    return constant_op.constant(value, dtype, name=name)\n",
      "  File \"C:\\Users\\joelw\\anaconda3\\lib\\site-packages\\tensorflow\\python\\framework\\constant_op.py\", line 264, in constant\n",
      "    return _constant_impl(value, dtype, shape, name, verify_shape=False,\n",
      "  File \"C:\\Users\\joelw\\anaconda3\\lib\\site-packages\\tensorflow\\python\\framework\\constant_op.py\", line 276, in _constant_impl\n",
      "    return _constant_eager_impl(ctx, value, dtype, shape, verify_shape)\n",
      "  File \"C:\\Users\\joelw\\anaconda3\\lib\\site-packages\\tensorflow\\python\\framework\\constant_op.py\", line 301, in _constant_eager_impl\n",
      "    t = convert_to_eager_tensor(value, ctx, dtype)\n",
      "  File \"C:\\Users\\joelw\\anaconda3\\lib\\site-packages\\tensorflow\\python\\framework\\constant_op.py\", line 98, in convert_to_eager_tensor\n",
      "    return ops.EagerTensor(value, ctx.device_name, dtype)\n",
      "ValueError: Failed to convert a NumPy array to a Tensor (Unsupported object type NoneType).\n"
     ]
    }
   ],
   "source": [
    "\n",
    "ld = LatentDigit(decoder, plt.figure())\n",
    "plt.show()"
   ]
  },
  {
   "cell_type": "code",
   "execution_count": 96,
   "id": "809e0450",
   "metadata": {},
   "outputs": [],
   "source": [
    "plt.ion()"
   ]
  },
  {
   "cell_type": "code",
   "execution_count": 98,
   "id": "87174c99",
   "metadata": {},
   "outputs": [
    {
     "name": "stdout",
     "output_type": "stream",
     "text": [
      "Using matplotlib backend: Qt5Agg\n"
     ]
    }
   ],
   "source": [
    "%matplotlib"
   ]
  },
  {
   "cell_type": "code",
   "execution_count": 148,
   "id": "3a43fcf1",
   "metadata": {},
   "outputs": [],
   "source": [
    "a = encoder.predict(X)"
   ]
  },
  {
   "cell_type": "code",
   "execution_count": 149,
   "id": "85e29922",
   "metadata": {
    "scrolled": true
   },
   "outputs": [
    {
     "data": {
      "text/plain": [
       "array([0.51041174, 0.        , 2.0535278 , 0.        , 4.0009913 ,\n",
       "       3.1634362 , 3.9954054 , 6.0741687 , 3.7251441 , 3.414531  ,\n",
       "       0.        , 0.        , 2.9472818 , 3.9040203 , 0.        ,\n",
       "       0.        , 4.5115004 , 3.5715692 , 2.9985487 , 3.830607  ,\n",
       "       3.5655587 , 3.325972  , 4.3161545 , 2.698904  , 2.9865131 ,\n",
       "       2.8435328 , 3.3138041 , 0.        , 0.        , 4.095569  ,\n",
       "       0.        , 0.        , 0.        , 0.        , 2.36571   ,\n",
       "       0.        , 3.402308  , 2.9761605 , 3.241924  , 5.81714   ,\n",
       "       3.7589602 , 3.6362002 , 0.        , 0.        , 3.6715107 ,\n",
       "       3.8807273 , 0.        , 0.        , 4.5231676 , 3.6050918 ,\n",
       "       3.480691  , 3.2945178 , 3.1012812 , 2.9289844 , 3.2878728 ,\n",
       "       2.5218225 , 3.7343628 , 2.6464753 , 3.5201762 , 0.        ,\n",
       "       0.        , 3.4910457 , 0.        , 0.        , 0.45053518,\n",
       "       0.        , 2.0028694 , 0.        , 3.8637674 , 3.0550897 ,\n",
       "       3.8196774 , 6.1125956 , 3.7323954 , 3.3793654 , 0.        ,\n",
       "       0.        , 3.0300753 , 3.7386823 , 0.        , 0.        ,\n",
       "       4.3002033 , 3.5243025 , 3.0108113 , 3.845966  , 3.534419  ,\n",
       "       3.1858182 , 4.226923  , 2.5937865 , 3.0060222 , 2.6528203 ,\n",
       "       3.3442528 , 0.        , 0.        , 4.0373735 , 0.        ,\n",
       "       0.        , 0.        , 0.        , 2.2139316 , 0.        ,\n",
       "       3.0954864 , 2.81503   , 3.0627055 , 5.529257  , 3.6831388 ,\n",
       "       3.285117  , 0.        , 0.        , 3.4848204 , 3.7738168 ,\n",
       "       0.        , 0.        , 4.084198  , 3.438321  , 3.284383  ,\n",
       "       2.9842148 , 2.9172094 , 2.67889   , 3.0410519 , 2.4300253 ,\n",
       "       3.6045852 , 2.381947  , 3.4576037 , 0.        , 0.        ,\n",
       "       3.1800265 , 0.        , 0.        ], dtype=float32)"
      ]
     },
     "execution_count": 149,
     "metadata": {},
     "output_type": "execute_result"
    }
   ],
   "source": [
    "a[1240]"
   ]
  },
  {
   "cell_type": "code",
   "execution_count": 112,
   "id": "cdb22077",
   "metadata": {},
   "outputs": [
    {
     "data": {
      "text/plain": [
       "(2, 4)"
      ]
     },
     "execution_count": 112,
     "metadata": {},
     "output_type": "execute_result"
    }
   ],
   "source": [
    "axs.shape\n"
   ]
  },
  {
   "cell_type": "code",
   "execution_count": 133,
   "id": "90688090",
   "metadata": {},
   "outputs": [
    {
     "data": {
      "text/plain": [
       "TensorShape([128])"
      ]
     },
     "execution_count": 133,
     "metadata": {},
     "output_type": "execute_result"
    }
   ],
   "source": [
    "encoder.output.shape[1:]"
   ]
  },
  {
   "cell_type": "code",
   "execution_count": 134,
   "id": "b2ff4378",
   "metadata": {},
   "outputs": [
    {
     "data": {
      "text/plain": [
       "32.0"
      ]
     },
     "execution_count": 134,
     "metadata": {},
     "output_type": "execute_result"
    }
   ],
   "source": [
    "128/4\n"
   ]
  },
  {
   "cell_type": "code",
   "execution_count": null,
   "id": "0bcfaa06",
   "metadata": {},
   "outputs": [],
   "source": []
  }
 ],
 "metadata": {
  "kernelspec": {
   "display_name": "Python 3",
   "language": "python",
   "name": "python3"
  },
  "language_info": {
   "codemirror_mode": {
    "name": "ipython",
    "version": 3
   },
   "file_extension": ".py",
   "mimetype": "text/x-python",
   "name": "python",
   "nbconvert_exporter": "python",
   "pygments_lexer": "ipython3",
   "version": "3.8.8"
  }
 },
 "nbformat": 4,
 "nbformat_minor": 5
}
