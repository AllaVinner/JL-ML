{
 "cells": [
  {
   "cell_type": "markdown",
   "id": "206861bf",
   "metadata": {},
   "source": [
    "# Variational autoencoder\n",
    "This notebook will investiga"
   ]
  },
  {
   "cell_type": "code",
   "execution_count": 1,
   "id": "af6332ef",
   "metadata": {},
   "outputs": [
    {
     "name": "stdout",
     "output_type": "stream",
     "text": [
      "Using matplotlib backend: Qt5Agg\n"
     ]
    }
   ],
   "source": [
    "%matplotlib\n",
    "import numpy as np\n",
    "import numpy.random as rnd\n",
    "import matplotlib.pyplot as plt\n",
    "import tensorflow as tf\n",
    "from tensorflow import keras\n",
    "from variational_autoencoder import VariationalAutoencoder\n",
    "from autoencoder import Autoencoder\n",
    "from cont_bern_loss import cont_bern_loss\n",
    "\n",
    "# For dimension reduction\n",
    "from sklearn.manifold import TSNE\n",
    "from sklearn.decomposition import PCA\n",
    "\n",
    "# for visualization and evaluation\n",
    "from latent_plane_mosaic import LatentPlaneMosaic\n",
    "from latent_interpolation_mosaic import LatentInterpolationMosaic\n",
    "from sample_scatter_gui import SampleScatterGUI"
   ]
  },
  {
   "cell_type": "code",
   "execution_count": 2,
   "id": "b5b37ed2",
   "metadata": {},
   "outputs": [],
   "source": [
    "# Global settings\n",
    "model_path_0 = \"model_ae\"\n",
    "model_path_1 = \"model_rf10\"\n",
    "model_path_2 = \"model_rf100\"\n",
    "model_path_3 = \"model_rf1000\"\n",
    "num_samples = 10000\n",
    "title_0 = \"AE\"\n",
    "title_0 = \"AE\"\n",
    "\n",
    "\n",
    "np.set_printoptions(precision=0)"
   ]
  },
  {
   "cell_type": "markdown",
   "id": "b164e02c",
   "metadata": {},
   "source": [
    "## Preprocess data\n"
   ]
  },
  {
   "cell_type": "code",
   "execution_count": 3,
   "id": "1e0a4b30",
   "metadata": {},
   "outputs": [],
   "source": [
    "(x_train, y_train), (x_test, y_test) = keras.datasets.mnist.load_data()\n",
    "mnist_digits = np.concatenate([x_train, x_test], axis=0)\n",
    "mnist_digits = np.expand_dims(mnist_digits, -1).astype(\"float32\") / 255\n",
    "mnist_labels = np.concatenate([y_train, y_test], axis=0)\n",
    "input_shape = mnist_digits.shape[1:]\n",
    "num_digits = len(mnist_labels)\n",
    "sample_index = rnd.randint(0, num_digits, size = (num_samples,))\n",
    "mnist_digits = mnist_digits[sample_index]\n",
    "mnist_labels = mnist_labels[sample_index]"
   ]
  },
  {
   "cell_type": "markdown",
   "id": "9e5ce89b",
   "metadata": {},
   "source": [
    "## Load Variational autoencoder"
   ]
  },
  {
   "cell_type": "code",
   "execution_count": 7,
   "id": "4d0b711d",
   "metadata": {},
   "outputs": [],
   "source": []
  },
  {
   "cell_type": "code",
   "execution_count": 4,
   "id": "fb36c478",
   "metadata": {},
   "outputs": [],
   "source": [
    "# Variational autoencoder\n",
    "model_0 = keras.models.load_model(model_path_0, \n",
    "                         custom_objects={\"Autoencoder\": Autoencoder})\n",
    "\n",
    "model_1 = keras.models.load_model(model_path_1, \n",
    "                         custom_objects={\"VariationalAutoencoder\": VariationalAutoencoder,\n",
    "                                         \"cont_bern_loss\":  cont_bern_loss})\n",
    "\n",
    "model_2 = keras.models.load_model(model_path_2, \n",
    "                         custom_objects={\"VariationalAutoencoder\": VariationalAutoencoder,\n",
    "                                         \"cont_bern_loss\":  cont_bern_loss})\n",
    "\n",
    "model_3 = keras.models.load_model(model_path_3, \n",
    "                         custom_objects={\"VariationalAutoencoder\": VariationalAutoencoder,\n",
    "                                         \"cont_bern_loss\":  cont_bern_loss})\n"
   ]
  },
  {
   "cell_type": "markdown",
   "id": "60f9fbbe",
   "metadata": {},
   "source": [
    "### Print setup details"
   ]
  },
  {
   "cell_type": "code",
   "execution_count": null,
   "id": "9a615180",
   "metadata": {},
   "outputs": [],
   "source": [
    "print(\"Input shape: \", input_shape)\n",
    "print(\"Latent dim: \",  model_0.latent_dim)\n",
    "print(\"Num parameters: \", model_0.count_params(),\n",
    "     model_1.count_params(),\n",
    "     model_2.count_params(),\n",
    "     model_3.count_params())\n",
    "latent_dim = model_0.latent_dim\n"
   ]
  },
  {
   "cell_type": "markdown",
   "id": "add049f4",
   "metadata": {},
   "source": []
  },
  {
   "cell_type": "markdown",
   "id": "2b8006d4",
   "metadata": {},
   "source": [
    "## Reconstruct and dimension reductions"
   ]
  },
  {
   "cell_type": "code",
   "execution_count": 5,
   "id": "bd8ae98d",
   "metadata": {},
   "outputs": [],
   "source": [
    "# Reconstructions\n",
    "mnist_encoded_0 = model_0.encoder(mnist_digits).numpy() \n",
    "\n",
    "mnist_distribution_1  = model_1.encoder(mnist_digits).numpy() \n",
    "mnist_encoded_1      = mnist_distribution_1[:,0,:]\n",
    "mnist_log_variance_1  = mnist_distribution_1[:,1,:]\n",
    "\n",
    "mnist_distribution_2 = model_2.encoder(mnist_digits).numpy() \n",
    "mnist_encoded_2      = mnist_distribution_2[:,0,:]\n",
    "mnist_log_variance_2  = mnist_distribution_2[:,1,:]\n",
    "\n",
    "mnist_distribution_3 = model_3.encoder(mnist_digits).numpy() \n",
    "mnist_encoded_3      = mnist_distribution_3[:,0,:]\n",
    "mnist_log_variance_3 = mnist_distribution_3[:,1,:]"
   ]
  },
  {
   "cell_type": "code",
   "execution_count": 12,
   "id": "9dffd5a7",
   "metadata": {},
   "outputs": [],
   "source": [
    "# t-SNE\n",
    "mnist_tsne2d_0 = TSNE(n_components = 2).fit_transform(mnist_encoded_0)\n",
    "mnist_tsne2d_1 = TSNE(n_components = 2).fit_transform(mnist_encoded_1)\n",
    "mnist_tsne2d_2 = TSNE(n_components = 2).fit_transform(mnist_encoded_2)\n",
    "mnist_tsne2d_3 = TSNE(n_components = 2).fit_transform(mnist_encoded_3)"
   ]
  },
  {
   "cell_type": "code",
   "execution_count": 8,
   "id": "3e7b3f4a",
   "metadata": {},
   "outputs": [],
   "source": [
    "#pca\n",
    "pca_0          = PCA().fit(mnist_encoded_0)\n",
    "mnist_pca_0    = pca_0.transform(mnist_encoded_0)\n",
    "latent_cov_0   = np.cov(mnist_pca_0.T)\n",
    "latent_std_0   = np.sqrt(pca_0.explained_variance_)\n",
    "latent_axes_0  = pca_0.components_\n",
    "latent_mean_0  = pca_0.mean_\n",
    "\n",
    "pca_1          = PCA().fit(mnist_encoded_1)\n",
    "mnist_pca_1    = pca_1.transform(mnist_encoded_1)\n",
    "latent_cov_1   = np.cov(mnist_pca_1.T)\n",
    "latent_std_1   = np.sqrt(pca_1.explained_variance_)\n",
    "latent_axes_1  = pca_1.components_\n",
    "latent_mean_1  = pca_1.mean_\n",
    "\n",
    "pca_2          = PCA().fit(mnist_encoded_2)\n",
    "mnist_pca_2    = pca_2.transform(mnist_encoded_2)\n",
    "latent_cov_2   = np.cov(mnist_pca_2.T)\n",
    "latent_std_2   = np.sqrt(pca_2.explained_variance_)\n",
    "latent_axes_2  = pca_2.components_\n",
    "latent_mean_2  = pca_2.mean_\n",
    "\n",
    "pca_3          = PCA().fit(mnist_encoded_3)\n",
    "mnist_pca_3    = pca_3.transform(mnist_encoded_3)\n",
    "latent_cov_3   = np.cov(mnist_pca_3.T)\n",
    "latent_std_3   = np.sqrt(pca_3.explained_variance_)\n",
    "latent_axes_3  = pca_3.components_\n",
    "latent_mean_3  = pca_3.mean_\n"
   ]
  },
  {
   "cell_type": "code",
   "execution_count": null,
   "id": "6c61f339",
   "metadata": {},
   "outputs": [],
   "source": [
    "\n"
   ]
  },
  {
   "cell_type": "markdown",
   "id": "8c8142ca",
   "metadata": {},
   "source": [
    "## Investigation"
   ]
  },
  {
   "cell_type": "markdown",
   "id": "9ba4df8a",
   "metadata": {},
   "source": [
    "### Show reconstructions"
   ]
  },
  {
   "cell_type": "code",
   "execution_count": 39,
   "id": "e796e6a4",
   "metadata": {},
   "outputs": [],
   "source": [
    "num_col = 2\n",
    "num_row = 3\n",
    "num_img = num_row*num_col\n",
    "rec_index = rnd.randint(num_samples,size =(num_row*num_col,) )"
   ]
  },
  {
   "cell_type": "code",
   "execution_count": 30,
   "id": "7e6dd264",
   "metadata": {},
   "outputs": [],
   "source": [
    "model = model_0\n",
    "title = \"Reconstruction with autoencoder\"\n",
    "fig, axs = plt.subplots(num_row, num_col)\n",
    "digits = mnist_digits[rec_index]\n",
    "reconstructions = model(digits)\n",
    "i = 0\n",
    "for col in range(num_col):\n",
    "    for row in range(num_row): \n",
    "        ax = axs[row, col]\n",
    "        im = np.concatenate((digits[i],\n",
    "                             reconstructions[i]),\n",
    "                             axis = 1)\n",
    "        ax.imshow(im)\n",
    "        ax.set_title(title)\n",
    "        i = i +1"
   ]
  },
  {
   "cell_type": "code",
   "execution_count": 31,
   "id": "c5cbf20b",
   "metadata": {},
   "outputs": [],
   "source": [
    "model = model_1\n",
    "title = \"Reconstruction with variational autoencoder 1\"\n",
    "fig, axs = plt.subplots(num_row, num_col)\n",
    "digits = mnist_digits[rec_index]\n",
    "reconstructions = model(digits)\n",
    "i = 0\n",
    "for col in range(num_col):\n",
    "    for row in range(num_row): \n",
    "        ax = axs[row, col]\n",
    "        im = np.concatenate((digits[i],\n",
    "                             reconstructions[i]),\n",
    "                             axis = 1)\n",
    "        ax.imshow(im)\n",
    "        ax.set_title(title)\n",
    "        i = i +1"
   ]
  },
  {
   "cell_type": "code",
   "execution_count": 32,
   "id": "d05cc102",
   "metadata": {},
   "outputs": [],
   "source": [
    "model = model_2\n",
    "title = \"Reconstruction with variational autoencoder 2\"\n",
    "fig, axs = plt.subplots(num_row, num_col)\n",
    "digits = mnist_digits[rec_index]\n",
    "reconstructions = model(digits)\n",
    "i = 0\n",
    "for col in range(num_col):\n",
    "    for row in range(num_row): \n",
    "        ax = axs[row, col]\n",
    "        im = np.concatenate((digits[i],\n",
    "                             reconstructions[i]),\n",
    "                             axis = 1)\n",
    "        ax.imshow(im)\n",
    "        ax.set_title(title)\n",
    "        i = i +1"
   ]
  },
  {
   "cell_type": "code",
   "execution_count": 33,
   "id": "b61699a8",
   "metadata": {},
   "outputs": [],
   "source": [
    "model = model_3\n",
    "title = \"Reconstruction with variational autoencoder 3\"\n",
    "fig, axs = plt.subplots(num_row, num_col)\n",
    "digits = mnist_digits[rec_index]\n",
    "reconstructions = model(digits)\n",
    "i = 0\n",
    "for col in range(num_col):\n",
    "    for row in range(num_row): \n",
    "        ax = axs[row, col]\n",
    "        im = np.concatenate((digits[i],\n",
    "                             reconstructions[i]),\n",
    "                             axis = 1)\n",
    "        ax.imshow(im)\n",
    "        ax.set_title(title)\n",
    "        i = i +1"
   ]
  },
  {
   "cell_type": "code",
   "execution_count": 46,
   "id": "b2ef13fe",
   "metadata": {},
   "outputs": [
    {
     "ename": "IndexError",
     "evalue": "index 6 is out of bounds for axis 0 with size 6",
     "output_type": "error",
     "traceback": [
      "\u001b[1;31m---------------------------------------------------------------------------\u001b[0m",
      "\u001b[1;31mIndexError\u001b[0m                                Traceback (most recent call last)",
      "\u001b[1;32m<ipython-input-46-6abf7d806764>\u001b[0m in \u001b[0;36m<module>\u001b[1;34m\u001b[0m\n\u001b[0;32m     11\u001b[0m     \u001b[1;32mfor\u001b[0m \u001b[0mrow\u001b[0m \u001b[1;32min\u001b[0m \u001b[0mrange\u001b[0m\u001b[1;33m(\u001b[0m\u001b[0mnum_row\u001b[0m\u001b[1;33m)\u001b[0m\u001b[1;33m:\u001b[0m\u001b[1;33m\u001b[0m\u001b[1;33m\u001b[0m\u001b[0m\n\u001b[0;32m     12\u001b[0m         \u001b[0max\u001b[0m \u001b[1;33m=\u001b[0m \u001b[0maxs\u001b[0m\u001b[1;33m[\u001b[0m\u001b[0mrow\u001b[0m\u001b[1;33m,\u001b[0m \u001b[0mcol\u001b[0m\u001b[1;33m]\u001b[0m\u001b[1;33m\u001b[0m\u001b[1;33m\u001b[0m\u001b[0m\n\u001b[1;32m---> 13\u001b[1;33m         im = np.concatenate((digits[i],\n\u001b[0m\u001b[0;32m     14\u001b[0m                              \u001b[0mrec0\u001b[0m\u001b[1;33m[\u001b[0m\u001b[0mi\u001b[0m\u001b[1;33m]\u001b[0m\u001b[1;33m,\u001b[0m\u001b[1;33m\u001b[0m\u001b[1;33m\u001b[0m\u001b[0m\n\u001b[0;32m     15\u001b[0m                              \u001b[0mrec1\u001b[0m\u001b[1;33m[\u001b[0m\u001b[0mi\u001b[0m\u001b[1;33m]\u001b[0m\u001b[1;33m,\u001b[0m\u001b[1;33m\u001b[0m\u001b[1;33m\u001b[0m\u001b[0m\n",
      "\u001b[1;31mIndexError\u001b[0m: index 6 is out of bounds for axis 0 with size 6"
     ]
    }
   ],
   "source": [
    "title = \"Progression of models (Org, AE, AE_cb, VAE100,VAE100_cb)\"\n",
    "fig, axs = plt.subplots(num_row, num_col)\n",
    "digits = mnist_digits[rec_index]\n",
    "rec0 = model_0(digits)\n",
    "rec1 = model_1(digits)\n",
    "rec2 = model_2(digits)\n",
    "rec3 = model_3(digits)\n",
    "\n",
    "i = 0\n",
    "for col in range(num_col):\n",
    "    for row in range(num_row): \n",
    "        ax = axs[row, col]\n",
    "        im = np.concatenate((digits[i],\n",
    "                             rec0[i],\n",
    "                             rec1[i],\n",
    "                             rec2[i],\n",
    "                             rec3[i]),\n",
    "                             axis = 1)\n",
    "        ax.imshow(im)\n",
    "        ax.set_title(title)\n",
    "        i = i +1"
   ]
  },
  {
   "cell_type": "markdown",
   "id": "48f36a17",
   "metadata": {},
   "source": [
    "### Latent"
   ]
  },
  {
   "cell_type": "code",
   "execution_count": 30,
   "id": "754dcaaa",
   "metadata": {},
   "outputs": [],
   "source": [
    "\n",
    "indeces = rnd.randint(num_samples,size = (3,))\n",
    "                      \n",
    "ul = mnist_digits[indeces[0]]\n",
    "ur = mnist_digits[indeces[1]]\n",
    "dl = mnist_digits[indeces[2]]\n",
    "z =  np.zeros(dl.shape)\n",
    "corner_image = np.concatenate( (np.concatenate((ul,ur),axis = 1),\n",
    "                                np.concatenate((dl,z ),axis = 1)), axis = 0)\n"
   ]
  },
  {
   "cell_type": "code",
   "execution_count": 31,
   "id": "4b8d0f48",
   "metadata": {},
   "outputs": [
    {
     "data": {
      "text/plain": [
       "Text(0.5, 1.0, 'Latent space using autoencoder')"
      ]
     },
     "execution_count": 31,
     "metadata": {},
     "output_type": "execute_result"
    }
   ],
   "source": [
    "model = model_0\n",
    "title = \"Latent space using autoencoder\"\n",
    "mosaic = LatentInterpolationMosaic(\n",
    "                          model.encode,\n",
    "                          model.decoder,\n",
    "                          mnist_digits,\n",
    "                          indeces,\n",
    "                          num_row = 15,\n",
    "                          num_col = 15).mosaic\n",
    "\n",
    "\n",
    "\n",
    "\n",
    "\n",
    "fig, axs = plt.subplots(1,2)\n",
    "axs[0].imshow(corner_image)\n",
    "axs[1].imshow(mosaic)\n",
    "axs[0].set_title(\"Original images beeing procesed\")\n",
    "axs[1].set_title(title)"
   ]
  },
  {
   "cell_type": "code",
   "execution_count": 49,
   "id": "1fb0790b",
   "metadata": {},
   "outputs": [
    {
     "data": {
      "text/plain": [
       "Text(0.5, 1.0, 'Latent space using variational autoencoder 1')"
      ]
     },
     "execution_count": 49,
     "metadata": {},
     "output_type": "execute_result"
    }
   ],
   "source": [
    "model = model_1\n",
    "title = \"Latent space using variational autoencoder 1\"\n",
    "mosaic = LatentInterpolationMosaic(\n",
    "                          model.encode,\n",
    "                          model.decoder,\n",
    "                          mnist_digits,\n",
    "                          indeces,\n",
    "                          num_row = 15,\n",
    "                          num_col = 15).mosaic\n",
    "\n",
    "\n",
    "\n",
    "\n",
    "\n",
    "fig, axs = plt.subplots(1,2)\n",
    "axs[0].imshow(corner_image)\n",
    "axs[1].imshow(mosaic)\n",
    "axs[0].set_title(\"Original images beeing procesed\")\n",
    "axs[1].set_title(title)"
   ]
  },
  {
   "cell_type": "code",
   "execution_count": 50,
   "id": "cff263fb",
   "metadata": {},
   "outputs": [
    {
     "data": {
      "text/plain": [
       "Text(0.5, 1.0, 'Latent space using variational autoencoder 2')"
      ]
     },
     "execution_count": 50,
     "metadata": {},
     "output_type": "execute_result"
    }
   ],
   "source": [
    "model = model_2\n",
    "title = \"Latent space using variational autoencoder 2\"\n",
    "mosaic = LatentInterpolationMosaic(\n",
    "                          model.encode,\n",
    "                          model.decoder,\n",
    "                          mnist_digits,\n",
    "                          indeces,\n",
    "                          num_row = 15,\n",
    "                          num_col = 15).mosaic\n",
    "\n",
    "\n",
    "\n",
    "\n",
    "\n",
    "fig, axs = plt.subplots(1,2)\n",
    "axs[0].imshow(corner_image)\n",
    "axs[1].imshow(mosaic)\n",
    "axs[0].set_title(\"Original images beeing procesed\")\n",
    "axs[1].set_title(title)"
   ]
  },
  {
   "cell_type": "code",
   "execution_count": 22,
   "id": "d18215db",
   "metadata": {},
   "outputs": [
    {
     "ename": "NameError",
     "evalue": "name 'indeces' is not defined",
     "output_type": "error",
     "traceback": [
      "\u001b[1;31m---------------------------------------------------------------------------\u001b[0m",
      "\u001b[1;31mNameError\u001b[0m                                 Traceback (most recent call last)",
      "\u001b[1;32m<ipython-input-22-7ad5a3e6fca7>\u001b[0m in \u001b[0;36m<module>\u001b[1;34m\u001b[0m\n\u001b[0;32m      5\u001b[0m                           \u001b[0mmodel\u001b[0m\u001b[1;33m.\u001b[0m\u001b[0mdecoder\u001b[0m\u001b[1;33m,\u001b[0m\u001b[1;33m\u001b[0m\u001b[1;33m\u001b[0m\u001b[0m\n\u001b[0;32m      6\u001b[0m                           \u001b[0mmnist_digits\u001b[0m\u001b[1;33m,\u001b[0m\u001b[1;33m\u001b[0m\u001b[1;33m\u001b[0m\u001b[0m\n\u001b[1;32m----> 7\u001b[1;33m                           \u001b[0mindeces\u001b[0m\u001b[1;33m,\u001b[0m\u001b[1;33m\u001b[0m\u001b[1;33m\u001b[0m\u001b[0m\n\u001b[0m\u001b[0;32m      8\u001b[0m                           \u001b[0mnum_row\u001b[0m \u001b[1;33m=\u001b[0m \u001b[1;36m15\u001b[0m\u001b[1;33m,\u001b[0m\u001b[1;33m\u001b[0m\u001b[1;33m\u001b[0m\u001b[0m\n\u001b[0;32m      9\u001b[0m                           num_col = 15).mosaic\n",
      "\u001b[1;31mNameError\u001b[0m: name 'indeces' is not defined"
     ]
    }
   ],
   "source": [
    "model = model_3\n",
    "title = \"Latent space using variational autoencoder 3\"\n",
    "mosaic = LatentInterpolationMosaic(\n",
    "                          model.encode,\n",
    "                          model.decoder,\n",
    "                          mnist_digits,\n",
    "                          indeces,\n",
    "                          num_row = 15,\n",
    "                          num_col = 15).mosaic\n",
    "\n",
    "\n",
    "\n",
    "\n",
    "\n",
    "fig, axs = plt.subplots(1,2)\n",
    "axs[0].imshow(corner_image)\n",
    "axs[1].imshow(mosaic)\n",
    "axs[0].set_title(\"Original images beeing procesed\")\n",
    "axs[1].set_title(title)"
   ]
  },
  {
   "cell_type": "markdown",
   "id": "a6ff05cf",
   "metadata": {},
   "source": [
    "### Scatter"
   ]
  },
  {
   "cell_type": "code",
   "execution_count": 52,
   "id": "ffef7aa0",
   "metadata": {},
   "outputs": [
    {
     "data": {
      "text/plain": [
       "<sample_scatter_gui.SampleScatterGUI at 0x2b20bcda310>"
      ]
     },
     "execution_count": 52,
     "metadata": {},
     "output_type": "execute_result"
    }
   ],
   "source": [
    "SampleScatterGUI(mnist_tsne2d_0, mnist_labels, mnist_digits)\n"
   ]
  },
  {
   "cell_type": "code",
   "execution_count": 53,
   "id": "5e4afb64",
   "metadata": {},
   "outputs": [
    {
     "data": {
      "text/plain": [
       "<sample_scatter_gui.SampleScatterGUI at 0x2b20610a520>"
      ]
     },
     "execution_count": 53,
     "metadata": {},
     "output_type": "execute_result"
    }
   ],
   "source": [
    "SampleScatterGUI(mnist_tsne2d_1, mnist_labels, mnist_digits)\n"
   ]
  },
  {
   "cell_type": "code",
   "execution_count": 54,
   "id": "1894acb7",
   "metadata": {},
   "outputs": [
    {
     "data": {
      "text/plain": [
       "<sample_scatter_gui.SampleScatterGUI at 0x2b21412aca0>"
      ]
     },
     "execution_count": 54,
     "metadata": {},
     "output_type": "execute_result"
    }
   ],
   "source": [
    "SampleScatterGUI(mnist_tsne2d_2, mnist_labels, mnist_digits)\n"
   ]
  },
  {
   "cell_type": "code",
   "execution_count": 55,
   "id": "9cb55768",
   "metadata": {},
   "outputs": [
    {
     "data": {
      "text/plain": [
       "<sample_scatter_gui.SampleScatterGUI at 0x2b2072046d0>"
      ]
     },
     "execution_count": 55,
     "metadata": {},
     "output_type": "execute_result"
    }
   ],
   "source": [
    "SampleScatterGUI(mnist_tsne2d_3, mnist_labels, mnist_digits)\n"
   ]
  },
  {
   "cell_type": "markdown",
   "id": "701d4959",
   "metadata": {},
   "source": [
    "### Spread"
   ]
  },
  {
   "cell_type": "code",
   "execution_count": 41,
   "id": "833c5958",
   "metadata": {},
   "outputs": [
    {
     "data": {
      "text/plain": [
       "<matplotlib.legend.Legend at 0x20162bfda60>"
      ]
     },
     "execution_count": 41,
     "metadata": {},
     "output_type": "execute_result"
    }
   ],
   "source": [
    "fig, ax = plt.subplots(1,1)\n",
    "ax.plot(latent_std_0, 'o--', label = \"AE\")\n",
    "ax.plot(latent_std_1, 'o--', label = \"VAE10\")\n",
    "ax.plot(latent_std_2, 'o--', label = \"VAE100\")\n",
    "ax.plot(latent_std_3, 'o--', label = \"VAE1000\")\n",
    "ax.set_yscale(\"log\")\n",
    "ax.set_xlabel(\"Principal axis index in decreasing order\")\n",
    "ax.set_ylabel(\"Principal variance for the corresponding axis\")\n",
    "ax.set_title(\"Principal variance of Discrete network\")\n",
    "ax.legend()"
   ]
  },
  {
   "cell_type": "code",
   "execution_count": 58,
   "id": "99bd0920",
   "metadata": {},
   "outputs": [
    {
     "name": "stdout",
     "output_type": "stream",
     "text": [
      "Max non-diagonal covariance  [3.727737568574447e-06, 6.387495073300541e-06, 4.0375225724609905e-07, 6.16906107454166e-07]\n"
     ]
    }
   ],
   "source": [
    "c = [np.max(np.abs(latent_cov_0-np.diag(np.diag(latent_cov_0)))),\n",
    "     np.max(np.abs(latent_cov_1-np.diag(np.diag(latent_cov_1)))),\n",
    "     np.max(np.abs(latent_cov_2-np.diag(np.diag(latent_cov_2)))),\n",
    "     np.max(np.abs(latent_cov_3-np.diag(np.diag(latent_cov_3))))]\n",
    "print(\"Max non-diagonal covariance \", c)"
   ]
  },
  {
   "cell_type": "markdown",
   "id": "7e77fa67",
   "metadata": {},
   "source": [
    "Here we have that the first 6 principal axises are almost one and the remaining 4 are almost zero (e-3). This is combination with that the cross covariance seem to be super much zero (e-15), indicates that we have a six dimesnioal sphere in this ten dimesional latent space. Interesting to see is also if you create a latent vector in the pca-vector space. Then comparing the latent value in each dimension times the spread in each dimension, gives you the importance of that dimension in that latent point. A low importance will not have an effect on the output (kind of like a low derivative...), while a hight value will give a big difference."
   ]
  },
  {
   "cell_type": "code",
   "execution_count": 34,
   "id": "fa4675c5",
   "metadata": {},
   "outputs": [],
   "source": [
    "axes_index = [0,-1]\n",
    "scaling_factors = np.array([5,5])"
   ]
  },
  {
   "cell_type": "code",
   "execution_count": 35,
   "id": "55542952",
   "metadata": {},
   "outputs": [
    {
     "data": {
      "text/plain": [
       "<matplotlib.image.AxesImage at 0x2015df0cdc0>"
      ]
     },
     "execution_count": 35,
     "metadata": {},
     "output_type": "execute_result"
    }
   ],
   "source": [
    "model = model_0\n",
    "latent_vectors = latent_axes_0[axes_index]\n",
    "latent_origin = latent_mean_0\n",
    "\n",
    "mosaic = LatentPlaneMosaic(model.decoder,\n",
    "                  latent_vectors = (scaling_factors*latent_vectors.T).T,\n",
    "                  latent_origin = latent_origin,\n",
    "                  num_row = 20,\n",
    "                  num_col = 20).mosaic\n",
    "\n",
    "fig,ax = plt.subplots(1,1)\n",
    "ax.imshow(mosaic)"
   ]
  },
  {
   "cell_type": "code",
   "execution_count": 62,
   "id": "eb49d716",
   "metadata": {},
   "outputs": [
    {
     "data": {
      "text/plain": [
       "<matplotlib.image.AxesImage at 0x2b20908fa30>"
      ]
     },
     "execution_count": 62,
     "metadata": {},
     "output_type": "execute_result"
    }
   ],
   "source": [
    "model = model_1\n",
    "latent_vectors = latent_axes_1[axes_index]\n",
    "latent_origin = latent_mean_1\n",
    "\n",
    "mosaic = LatentPlaneMosaic(model.decoder,\n",
    "                  latent_vectors = (scaling_factors*latent_vectors.T).T,\n",
    "                  latent_origin = latent_origin,\n",
    "                  num_row = 20,\n",
    "                  num_col = 20).mosaic\n",
    "\n",
    "fig,ax = plt.subplots(1,1)\n",
    "ax.imshow(mosaic)"
   ]
  },
  {
   "cell_type": "code",
   "execution_count": 36,
   "id": "50e0b424",
   "metadata": {},
   "outputs": [
    {
     "data": {
      "text/plain": [
       "<matplotlib.image.AxesImage at 0x2015df11250>"
      ]
     },
     "execution_count": 36,
     "metadata": {},
     "output_type": "execute_result"
    }
   ],
   "source": [
    "model = model_2\n",
    "latent_vectors = latent_axes_2[axes_index]\n",
    "latent_origin = latent_mean_2\n",
    "\n",
    "mosaic = LatentPlaneMosaic(model.decoder,\n",
    "                  latent_vectors = (scaling_factors*latent_vectors.T).T,\n",
    "                  latent_origin = latent_origin,\n",
    "                  num_row = 20,\n",
    "                  num_col = 20).mosaic\n",
    "\n",
    "fig,ax = plt.subplots(1,1)\n",
    "ax.imshow(mosaic)"
   ]
  },
  {
   "cell_type": "code",
   "execution_count": 99,
   "id": "3ddabbe3",
   "metadata": {},
   "outputs": [
    {
     "data": {
      "text/plain": [
       "<matplotlib.image.AxesImage at 0x2b21db9a0d0>"
      ]
     },
     "execution_count": 99,
     "metadata": {},
     "output_type": "execute_result"
    }
   ],
   "source": [
    "model = model_3\n",
    "latent_vectors = latent_axes_3[axes_index]\n",
    "latent_origin = latent_mean_3\n",
    "\n",
    "mosaic = LatentPlaneMosaic(model.decoder,\n",
    "                  latent_vectors = (scaling_factors*latent_vectors.T).T,\n",
    "                  latent_origin = latent_origin,\n",
    "                  num_row = 20,\n",
    "                  num_col = 20).mosaic\n",
    "\n",
    "fig,ax = plt.subplots(1,1)\n",
    "ax.imshow(mosaic)"
   ]
  },
  {
   "cell_type": "markdown",
   "id": "2adbb3ba",
   "metadata": {},
   "source": [
    "## Spred "
   ]
  },
  {
   "cell_type": "code",
   "execution_count": 42,
   "id": "38f6ed0a",
   "metadata": {},
   "outputs": [],
   "source": [
    "dist_0 = np.linalg.norm(mnist_encoded_0, axis = 1)\n",
    "val, bin_edges = np.histogram(dist_0, bins = nbins)\n",
    "density_x_0 = bin_edges[0:-1]+np.diff(bin_edges)/2\n",
    "density_0 = val/(density_x_0)**latent_dim\n",
    "\n",
    "dist_1 = np.linalg.norm(mnist_encoded_1, axis = 1)\n",
    "std_1 = np.sqrt(np.exp(mnist_log_variance_1.flatten()))\n",
    "val, bin_edges = np.histogram(dist_1, bins = nbins)\n",
    "density_x_1 = bin_edges[0:-1]+np.diff(bin_edges)/2\n",
    "density_1 = val/(density_x_1)**latent_dim\n",
    "\n",
    "dist_2 = np.linalg.norm(mnist_encoded_2, axis = 1)\n",
    "std_2 = np.sqrt(np.exp(mnist_log_variance_2.flatten()))\n",
    "val, bin_edges = np.histogram(dist_2, bins = nbins)\n",
    "density_x_2 = bin_edges[0:-1]+np.diff(bin_edges)/2\n",
    "density_2 = val/(density_x_2)**latent_dim\n",
    "\n",
    "dist_3 = np.linalg.norm(mnist_encoded_3, axis = 1)\n",
    "std_3 = np.sqrt(np.exp(mnist_log_variance_3.flatten()))\n",
    "val, bin_edges = np.histogram(dist_3, bins = nbins)\n",
    "density_x_3 = bin_edges[0:-1]+np.diff(bin_edges)/2\n",
    "density_3 = val/(density_x_3)**latent_dim"
   ]
  },
  {
   "cell_type": "code",
   "execution_count": 43,
   "id": "953f6b26",
   "metadata": {},
   "outputs": [
    {
     "data": {
      "text/plain": [
       "[<matplotlib.lines.Line2D at 0x2014e74d160>]"
      ]
     },
     "execution_count": 43,
     "metadata": {},
     "output_type": "execute_result"
    }
   ],
   "source": [
    "nbins = 100\n",
    "fig, axs = plt.subplots(3,4)\n",
    "axs[0,0].hist(dist_0, nbins, density = False)\n",
    "axs[2,0].plot(density_x_0, density_0)\n",
    "\n",
    "\n",
    "axs[0,1].hist(dist_1, nbins, density = False)\n",
    "axs[1,1].hist(std_1, nbins, density = True)\n",
    "axs[2,1].plot(density_x_1, density_1)\n",
    "\n",
    "axs[0,2].hist(dist_2, nbins, density = False)\n",
    "axs[1,2].hist(std_2, nbins, density = False)\n",
    "axs[2,2].plot(density_x_2, density_2)\n",
    "\n",
    "axs[0,3].hist(dist_3, nbins, density = False)\n",
    "axs[1,3].hist(std_3, nbins, density = False)\n",
    "axs[2,3].plot(density_x_3, density_3)"
   ]
  },
  {
   "cell_type": "code",
   "execution_count": 14,
   "id": "f66280b6",
   "metadata": {},
   "outputs": [],
   "source": [
    "latent_dim = 10"
   ]
  },
  {
   "cell_type": "markdown",
   "id": "30b96962",
   "metadata": {},
   "source": [
    "## Generative power"
   ]
  },
  {
   "cell_type": "code",
   "execution_count": 44,
   "id": "83927f5c",
   "metadata": {},
   "outputs": [],
   "source": [
    "mean = np.zeros(latent_dim)\n",
    "cov  = 1*np.eye(latent_dim)\n",
    "num_col = 4\n",
    "num_row = 4\n",
    "num_img = num_row*num_col\n",
    "latent_points = rnd.multivariate_normal(mean, cov, size = (num_img))\n",
    "\n"
   ]
  },
  {
   "cell_type": "code",
   "execution_count": 45,
   "id": "736b6983",
   "metadata": {},
   "outputs": [],
   "source": [
    "model = model_0\n",
    "title = \"Reconstruction with autoencoder\"\n",
    "fig, axs = plt.subplots(num_row, num_col)\n",
    "reconstructions = model.decoder(latent_points)\n",
    "i = 0\n",
    "for col in range(num_col):\n",
    "    for row in range(num_row): \n",
    "        ax = axs[row, col]\n",
    "        im = reconstructions[i]\n",
    "        ax.imshow(im)\n",
    "        ax.set_title(title)\n",
    "        i = i +1"
   ]
  },
  {
   "cell_type": "code",
   "execution_count": 27,
   "id": "56a9b089",
   "metadata": {},
   "outputs": [],
   "source": [
    "model = model_1\n",
    "title = \"Reconstruction with variational autoencoder 1\"\n",
    "fig, axs = plt.subplots(num_row, num_col)\n",
    "reconstructions = model.decoder(latent_points)\n",
    "i = 0\n",
    "for col in range(num_col):\n",
    "    for row in range(num_row): \n",
    "        ax = axs[row, col]\n",
    "        im = reconstructions[i]\n",
    "        ax.imshow(im)\n",
    "        ax.set_title(title)\n",
    "        i = i +1"
   ]
  },
  {
   "cell_type": "code",
   "execution_count": 29,
   "id": "4d97d1e0",
   "metadata": {},
   "outputs": [],
   "source": [
    "model = model_2\n",
    "title = \"Reconstruction with variational autoencoder 2\"\n",
    "fig, axs = plt.subplots(num_row, num_col)\n",
    "reconstructions = model.decoder(latent_points)\n",
    "i = 0\n",
    "for col in range(num_col):\n",
    "    for row in range(num_row): \n",
    "        ax = axs[row, col]\n",
    "        im = reconstructions[i]\n",
    "        ax.imshow(im)\n",
    "        ax.set_title(title)\n",
    "        i = i +1"
   ]
  },
  {
   "cell_type": "code",
   "execution_count": 28,
   "id": "54007bbe",
   "metadata": {},
   "outputs": [],
   "source": [
    "model = model_3\n",
    "title = \"Reconstruction with variational autoencoder 3\"\n",
    "fig, axs = plt.subplots(num_row, num_col)\n",
    "reconstructions = model.decoder(latent_points)\n",
    "i = 0\n",
    "for col in range(num_col):\n",
    "    for row in range(num_row): \n",
    "        ax = axs[row, col]\n",
    "        im = reconstructions[i]\n",
    "        ax.imshow(im)\n",
    "        ax.set_title(title)\n",
    "        i = i +1"
   ]
  },
  {
   "cell_type": "code",
   "execution_count": 105,
   "id": "86d9e9d0",
   "metadata": {},
   "outputs": [],
   "source": [
    "a = np.array([1,2,3,6])"
   ]
  },
  {
   "cell_type": "code",
   "execution_count": 106,
   "id": "28c61a97",
   "metadata": {},
   "outputs": [
    {
     "ename": "AttributeError",
     "evalue": "'numpy.ndarray' object has no attribute 'diff'",
     "output_type": "error",
     "traceback": [
      "\u001b[1;31m---------------------------------------------------------------------------\u001b[0m",
      "\u001b[1;31mAttributeError\u001b[0m                            Traceback (most recent call last)",
      "\u001b[1;32m<ipython-input-106-6024f2bdf557>\u001b[0m in \u001b[0;36m<module>\u001b[1;34m\u001b[0m\n\u001b[1;32m----> 1\u001b[1;33m \u001b[0ma\u001b[0m\u001b[1;33m.\u001b[0m\u001b[0mdiff\u001b[0m\u001b[1;33m(\u001b[0m\u001b[1;33m)\u001b[0m\u001b[1;33m\u001b[0m\u001b[1;33m\u001b[0m\u001b[0m\n\u001b[0m",
      "\u001b[1;31mAttributeError\u001b[0m: 'numpy.ndarray' object has no attribute 'diff'"
     ]
    }
   ],
   "source": [
    "a.diff()"
   ]
  },
  {
   "cell_type": "code",
   "execution_count": null,
   "id": "ba7097fd",
   "metadata": {},
   "outputs": [],
   "source": []
  }
 ],
 "metadata": {
  "kernelspec": {
   "display_name": "Python 3",
   "language": "python",
   "name": "python3"
  },
  "language_info": {
   "codemirror_mode": {
    "name": "ipython",
    "version": 3
   },
   "file_extension": ".py",
   "mimetype": "text/x-python",
   "name": "python",
   "nbconvert_exporter": "python",
   "pygments_lexer": "ipython3",
   "version": "3.8.8"
  }
 },
 "nbformat": 4,
 "nbformat_minor": 5
}
