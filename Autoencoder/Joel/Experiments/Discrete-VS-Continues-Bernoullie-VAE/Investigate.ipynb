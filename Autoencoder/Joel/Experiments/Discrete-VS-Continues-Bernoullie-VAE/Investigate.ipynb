{
 "cells": [
  {
   "cell_type": "markdown",
   "id": "206861bf",
   "metadata": {},
   "source": [
    "# Variational autoencoder\n",
    "This notebook will investiga"
   ]
  },
  {
   "cell_type": "code",
   "execution_count": 64,
   "id": "af6332ef",
   "metadata": {},
   "outputs": [
    {
     "name": "stdout",
     "output_type": "stream",
     "text": [
      "Using matplotlib backend: Qt5Agg\n"
     ]
    }
   ],
   "source": [
    "%matplotlib\n",
    "import numpy as np\n",
    "import numpy.random as rnd\n",
    "import matplotlib.pyplot as plt\n",
    "import tensorflow as tf\n",
    "from tensorflow import keras\n",
    "from variational_autoencoder import VariationalAutoencoder\n",
    "\n",
    "# For dimension reduction\n",
    "from sklearn.manifold import TSNE\n",
    "from sklearn.decomposition import PCA\n",
    "\n",
    "# for visualization and evaluation\n",
    "from latent_plane_mosaic import LatentPlaneMosaic\n",
    "from latent_interpolation_mosaic import LatentInterpolationMosaic\n",
    "from sample_scatter_gui import SampleScatterGUI"
   ]
  },
  {
   "cell_type": "code",
   "execution_count": 65,
   "id": "b5b37ed2",
   "metadata": {},
   "outputs": [],
   "source": [
    "# Global settings\n",
    "model_path = \"model_bc_rf_10_lf_1\"\n",
    "num_samples = 10000\n",
    "np.set_printoptions(precision=0)"
   ]
  },
  {
   "cell_type": "markdown",
   "id": "b164e02c",
   "metadata": {},
   "source": [
    "## Preprocess data\n"
   ]
  },
  {
   "cell_type": "code",
   "execution_count": 66,
   "id": "1e0a4b30",
   "metadata": {},
   "outputs": [],
   "source": [
    "(x_train, y_train), (x_test, y_test) = keras.datasets.mnist.load_data()\n",
    "mnist_digits = np.concatenate([x_train, x_test], axis=0)\n",
    "mnist_digits = np.expand_dims(mnist_digits, -1).astype(\"float32\") / 255\n",
    "mnist_labels = np.concatenate([y_train, y_test], axis=0)\n",
    "input_shape = mnist_digits.shape[1:]\n",
    "num_digits = len(mnist_labels)\n",
    "sample_index = rnd.randint(0, num_digits, size = (num_samples,))\n",
    "mnist_digits = mnist_digits[sample_index]\n",
    "mnist_labels = mnist_labels[sample_index]"
   ]
  },
  {
   "cell_type": "markdown",
   "id": "9e5ce89b",
   "metadata": {},
   "source": [
    "## Load Variational autoencoder"
   ]
  },
  {
   "cell_type": "code",
   "execution_count": null,
   "id": "4d0b711d",
   "metadata": {},
   "outputs": [],
   "source": []
  },
  {
   "cell_type": "code",
   "execution_count": 67,
   "id": "fb36c478",
   "metadata": {},
   "outputs": [],
   "source": [
    "# Variational autoencoder\n",
    "disc_model = keras.models.load_model(disc_path, \n",
    "                         custom_objects={\"VariationalAutoencoder\": VariationalAutoencoder})\n"
   ]
  },
  {
   "cell_type": "markdown",
   "id": "60f9fbbe",
   "metadata": {},
   "source": [
    "### Print setup details"
   ]
  },
  {
   "cell_type": "code",
   "execution_count": 50,
   "id": "9a615180",
   "metadata": {},
   "outputs": [
    {
     "name": "stdout",
     "output_type": "stream",
     "text": [
      "Input shape:  (28, 28, 1)\n",
      "Latent dim:  10 10\n",
      "Num parameters:  368407 368407\n"
     ]
    }
   ],
   "source": [
    "print(\"Input shape: \", input_shape)\n",
    "print(\"Latent dim: \",  disc_model.latent_dim, cont_model.latent_dim)\n",
    "print(\"Num parameters: \", disc_model.count_params(), cont_model.count_params())\n",
    "\n"
   ]
  },
  {
   "cell_type": "markdown",
   "id": "add049f4",
   "metadata": {},
   "source": []
  },
  {
   "cell_type": "markdown",
   "id": "2b8006d4",
   "metadata": {},
   "source": [
    "## Reconstruct and dimension reductions"
   ]
  },
  {
   "cell_type": "code",
   "execution_count": 51,
   "id": "3e7b3f4a",
   "metadata": {},
   "outputs": [],
   "source": [
    "# Reconstructions\n",
    "disc_mnist_distribution = disc_model.encoder(mnist_digits).numpy() \n",
    "disc_mnist_encoded = disc_mnist_distribution[:,0,:]\n",
    "disc_mnist_log_variance = disc_mnist_distribution[:,1,:]\n",
    "\n",
    "cont_mnist_distribution = cont_model.encoder(mnist_digits).numpy() \n",
    "cont_mnist_encoded = cont_mnist_distribution[:,0,:]\n",
    "cont_mnist_log_variance = cont_mnist_distribution[:,1,:]\n",
    "\n",
    "# t-SNE\n",
    "disc_mnist_tsne2d = TSNE(n_components = 2).fit_transform(disc_mnist_encoded)\n",
    "cont_mnist_tsne2d = TSNE(n_components = 2).fit_transform(cont_mnist_encoded)\n",
    "\n",
    "#pca\n",
    "disc_pca = PCA().fit(disc_mnist_encoded)\n",
    "disc_mnist_pca = disc_pca.transform(disc_mnist_encoded)\n",
    "disc_latent_cov = np.cov(disc_mnist_pca.T)\n",
    "disc_latent_std = np.sqrt(disc_pca.explained_variance_)\n",
    "disc_latent_axes = disc_pca.components_\n",
    "disc_latent_mean = disc_pca.mean_\n",
    "\n",
    "cont_pca = PCA().fit(cont_mnist_encoded)\n",
    "cont_mnist_pca = cont_pca.transform(cont_mnist_encoded)\n",
    "cont_latent_cov = np.cov(cont_mnist_pca.T)\n",
    "cont_latent_std = np.sqrt(cont_pca.explained_variance_)\n",
    "cont_latent_axes = cont_pca.components_\n",
    "cont_latent_mean = cont_pca.mean_\n"
   ]
  },
  {
   "cell_type": "code",
   "execution_count": 52,
   "id": "6c61f339",
   "metadata": {},
   "outputs": [
    {
     "data": {
      "text/plain": [
       "(10000, 10)"
      ]
     },
     "execution_count": 52,
     "metadata": {},
     "output_type": "execute_result"
    }
   ],
   "source": [
    "disc_mnist_encoded.shape\n"
   ]
  },
  {
   "cell_type": "markdown",
   "id": "8c8142ca",
   "metadata": {},
   "source": [
    "## Investigation"
   ]
  },
  {
   "cell_type": "markdown",
   "id": "9ba4df8a",
   "metadata": {},
   "source": [
    "### Show reconstructions"
   ]
  },
  {
   "cell_type": "code",
   "execution_count": 18,
   "id": "7e6dd264",
   "metadata": {},
   "outputs": [],
   "source": [
    "num_col = 4\n",
    "num_row = 4\n",
    "num_img = num_row*num_col\n",
    "fig, axs = plt.subplots(num_row, num_col)\n",
    "\n",
    "rec_index = rnd.randint(num_samples,size =(num_row*num_col,) )\n",
    "digits = mnist_digits[rec_index]\n",
    "reconstructions = disc_model(digits)\n",
    "i = 0\n",
    "for col in range(num_col):\n",
    "    for row in range(num_row): \n",
    "        ax = axs[row, col]\n",
    "        im = np.concatenate((digits[i],\n",
    "                             reconstructions[i]),\n",
    "                             axis = 1)\n",
    "        ax.imshow(im)\n",
    "        ax.set_title(\"Reconstruction\")\n",
    "        i = i +1"
   ]
  },
  {
   "cell_type": "code",
   "execution_count": 19,
   "id": "c5cbf20b",
   "metadata": {},
   "outputs": [],
   "source": [
    "num_col = 4\n",
    "num_row = 4\n",
    "num_img = num_row*num_col\n",
    "fig, axs = plt.subplots(num_row, num_col)\n",
    "\n",
    "#rec_index = rnd.randint(num_samples,size =(num_row*num_col,) )\n",
    "digits = mnist_digits[rec_index]\n",
    "reconstructions = cont_model(digits)\n",
    "i = 0\n",
    "for col in range(num_col):\n",
    "    for row in range(num_row): \n",
    "        ax = axs[row, col]\n",
    "        im = np.concatenate((digits[i],\n",
    "                             reconstructions[i]),\n",
    "                             axis = 1)\n",
    "        ax.imshow(im)\n",
    "        ax.set_title(\"Reconstruction\")\n",
    "        i = i +1"
   ]
  },
  {
   "cell_type": "markdown",
   "id": "48f36a17",
   "metadata": {},
   "source": [
    "### Latent"
   ]
  },
  {
   "cell_type": "code",
   "execution_count": 25,
   "id": "4b8d0f48",
   "metadata": {},
   "outputs": [
    {
     "data": {
      "text/plain": [
       "<matplotlib.image.AxesImage at 0x1c493bf0790>"
      ]
     },
     "execution_count": 25,
     "metadata": {},
     "output_type": "execute_result"
    }
   ],
   "source": [
    "indeces = rnd.randint(num_samples,size = (3,))\n",
    "\n",
    "ul = mnist_digits[indeces[0]]\n",
    "ur = mnist_digits[indeces[1]]\n",
    "dl = mnist_digits[indeces[2]]\n",
    "z =  np.zeros(dl.shape)\n",
    "corner_image = np.concatenate( (np.concatenate((ul,ur),axis = 1),\n",
    "                                np.concatenate((dl,z ),axis = 1)), axis = 0)\n",
    "\n",
    "mosaic = LatentInterpolationMosaic(\n",
    "                          disc_model.encode,\n",
    "                          disc_model.decoder,\n",
    "                          mnist_digits,\n",
    "                          indeces,\n",
    "                          num_row = 15,\n",
    "                          num_col = 15).mosaic\n",
    "\n",
    "\n",
    "\n",
    "\n",
    "\n",
    "fig, axs = plt.subplots(1,2)\n",
    "axs[0].imshow(corner_image)\n",
    "axs[1].imshow(mosaic)"
   ]
  },
  {
   "cell_type": "code",
   "execution_count": 27,
   "id": "1fb0790b",
   "metadata": {},
   "outputs": [
    {
     "data": {
      "text/plain": [
       "<matplotlib.image.AxesImage at 0x1c4879e5730>"
      ]
     },
     "execution_count": 27,
     "metadata": {},
     "output_type": "execute_result"
    }
   ],
   "source": [
    "indeces = rnd.randint(num_samples,size = (3,))\n",
    "\n",
    "ul = mnist_digits[indeces[0]]\n",
    "ur = mnist_digits[indeces[1]]\n",
    "dl = mnist_digits[indeces[2]]\n",
    "z =  np.zeros(dl.shape)\n",
    "corner_image = np.concatenate( (np.concatenate((ul,ur),axis = 1),\n",
    "                                np.concatenate((dl,z ),axis = 1)), axis = 0)\n",
    "\n",
    "mosaic = LatentInterpolationMosaic(\n",
    "                          cont_model.encode,\n",
    "                          cont_model.decoder,\n",
    "                          mnist_digits,\n",
    "                          indeces,\n",
    "                          num_row = 15,\n",
    "                          num_col = 15).mosaic\n",
    "\n",
    "\n",
    "\n",
    "\n",
    "\n",
    "fig, axs = plt.subplots(1,2)\n",
    "axs[0].imshow(corner_image)\n",
    "axs[1].imshow(mosaic)"
   ]
  },
  {
   "cell_type": "markdown",
   "id": "a6ff05cf",
   "metadata": {},
   "source": [
    "### Scatter"
   ]
  },
  {
   "cell_type": "code",
   "execution_count": 16,
   "id": "ffef7aa0",
   "metadata": {},
   "outputs": [
    {
     "data": {
      "text/plain": [
       "<sample_scatter_gui.SampleScatterGUI at 0x1bc56d9adf0>"
      ]
     },
     "execution_count": 16,
     "metadata": {},
     "output_type": "execute_result"
    }
   ],
   "source": [
    "SampleScatterGUI(disc_mnist_tsne2d, mnist_labels, mnist_digits)\n",
    "#if latent dim == 2\n",
    "#SampleScatterGUI(mnist_encoded, mnist_labels, mnist_digits)"
   ]
  },
  {
   "cell_type": "code",
   "execution_count": 17,
   "id": "5e4afb64",
   "metadata": {},
   "outputs": [
    {
     "data": {
      "text/plain": [
       "<sample_scatter_gui.SampleScatterGUI at 0x1bc6292a940>"
      ]
     },
     "execution_count": 17,
     "metadata": {},
     "output_type": "execute_result"
    }
   ],
   "source": [
    "SampleScatterGUI(cont_mnist_tsne2d, mnist_labels, mnist_digits)\n",
    "#if latent dim == 2\n",
    "#SampleScatterGUI(mnist_encoded, mnist_labels, mnist_digits)"
   ]
  },
  {
   "cell_type": "markdown",
   "id": "701d4959",
   "metadata": {},
   "source": [
    "### Spread"
   ]
  },
  {
   "cell_type": "code",
   "execution_count": 59,
   "id": "833c5958",
   "metadata": {},
   "outputs": [
    {
     "data": {
      "text/plain": [
       "Text(0.5, 1.0, 'Principal variance of Discrete network')"
      ]
     },
     "execution_count": 59,
     "metadata": {},
     "output_type": "execute_result"
    }
   ],
   "source": [
    "fig, ax = plt.subplots(1,1)\n",
    "ax.plot(disc_latent_std, 'o--')\n",
    "ax.set_yscale(\"log\")\n",
    "ax.set_xlabel(\"Principal axis index in decreasing order\")\n",
    "ax.set_ylabel(\"Principal variance for the corresponding axis\")\n",
    "ax.set_title(\"Principal variance of Discrete network\")"
   ]
  },
  {
   "cell_type": "code",
   "execution_count": 60,
   "id": "3e533a9d",
   "metadata": {},
   "outputs": [
    {
     "data": {
      "text/plain": [
       "Text(0.5, 1.0, 'Principal variance of continues network')"
      ]
     },
     "execution_count": 60,
     "metadata": {},
     "output_type": "execute_result"
    }
   ],
   "source": [
    "fig, ax = plt.subplots(1,1)\n",
    "ax.plot(cont_latent_std, 'o--')\n",
    "ax.set_yscale(\"log\")\n",
    "ax.set_xlabel(\"Principal axis index in decreasing order\")\n",
    "ax.set_ylabel(\"Principal variance for the corresponding axis\")\n",
    "ax.set_title(\"Principal variance of continues network\")"
   ]
  },
  {
   "cell_type": "code",
   "execution_count": 61,
   "id": "99bd0920",
   "metadata": {},
   "outputs": [
    {
     "name": "stdout",
     "output_type": "stream",
     "text": [
      "Max non-diagonal covariance  3.2063664843663787e-07\n"
     ]
    }
   ],
   "source": [
    "c = disc_latent_cov-np.diag(np.diag(disc_latent_cov))\n",
    "print(\"Max non-diagonal covariance \", np.max(np.abs(c)))"
   ]
  },
  {
   "cell_type": "code",
   "execution_count": 62,
   "id": "be22df2b",
   "metadata": {},
   "outputs": [
    {
     "name": "stdout",
     "output_type": "stream",
     "text": [
      "Max non-diagonal covariance  7.247497918139246e-07\n"
     ]
    }
   ],
   "source": [
    "c = cont_latent_cov-np.diag(np.diag(cont_latent_cov))\n",
    "print(\"Max non-diagonal covariance \", np.max(np.abs(c)))"
   ]
  },
  {
   "cell_type": "markdown",
   "id": "7e77fa67",
   "metadata": {},
   "source": [
    "Here we have that the first 6 principal axises are almost one and the remaining 4 are almost zero (e-3). This is combination with that the cross covariance seem to be super much zero (e-15), indicates that we have a six dimesnioal sphere in this ten dimesional latent space. Interesting to see is also if you create a latent vector in the pca-vector space. Then comparing the latent value in each dimension times the spread in each dimension, gives you the importance of that dimension in that latent point. A low importance will not have an effect on the output (kind of like a low derivative...), while a hight value will give a big difference."
   ]
  },
  {
   "cell_type": "code",
   "execution_count": 63,
   "id": "55542952",
   "metadata": {},
   "outputs": [
    {
     "data": {
      "text/plain": [
       "<matplotlib.image.AxesImage at 0x1c48d66cd90>"
      ]
     },
     "execution_count": 63,
     "metadata": {},
     "output_type": "execute_result"
    }
   ],
   "source": [
    "axes_index = [2,3]\n",
    "latent_vectors = disc_latent_axes[axes_index]\n",
    "latent_origin = disc_latent_mean\n",
    "scaling_factors = np.array([5,5])\n",
    "\n",
    "mosaic = LatentPlaneMosaic(disc_model.decoder,\n",
    "                  latent_vectors = (scaling_factors*latent_vectors.T).T,\n",
    "                  latent_origin = latent_origin,\n",
    "                  num_row = 20,\n",
    "                  num_col = 20).mosaic\n",
    "\n",
    "fig,ax = plt.subplots(1,1)\n",
    "ax.imshow(mosaic)\n"
   ]
  },
  {
   "cell_type": "code",
   "execution_count": 22,
   "id": "eb49d716",
   "metadata": {},
   "outputs": [
    {
     "data": {
      "text/plain": [
       "<matplotlib.image.AxesImage at 0x1bc5d7803a0>"
      ]
     },
     "execution_count": 22,
     "metadata": {},
     "output_type": "execute_result"
    }
   ],
   "source": [
    "axes_index = [2,3]\n",
    "latent_vectors = cont_latent_axes[axes_index]\n",
    "latent_origin = cont_latent_mean\n",
    "scaling_factors = np.array([5,5])\n",
    "\n",
    "mosaic = LatentPlaneMosaic(cont_model.decoder,\n",
    "                  latent_vectors = (scaling_factors*latent_vectors.T).T,\n",
    "                  latent_origin = latent_origin,\n",
    "                  num_row = 20,\n",
    "                  num_col = 20).mosaic\n",
    "\n",
    "fig,ax = plt.subplots(1,1)\n",
    "ax.imshow(mosaic)"
   ]
  },
  {
   "cell_type": "code",
   "execution_count": 21,
   "id": "50e0b424",
   "metadata": {},
   "outputs": [
    {
     "data": {
      "text/plain": [
       "array([ 0., -0., -0., -0.,  0.,  0., -0.,  0.,  0., -0.,  0.,  0., -0.,\n",
       "        0.,  0.,  0.], dtype=float32)"
      ]
     },
     "execution_count": 21,
     "metadata": {},
     "output_type": "execute_result"
    }
   ],
   "source": [
    "latent_origin"
   ]
  },
  {
   "cell_type": "markdown",
   "id": "6816706a",
   "metadata": {},
   "source": [
    "## Spred "
   ]
  },
  {
   "cell_type": "code",
   "execution_count": 53,
   "id": "38f6ed0a",
   "metadata": {},
   "outputs": [],
   "source": [
    "disc_dist = np.linalg.norm(disc_mnist_encoded, axis = 1)\n",
    "disc_std = np.exp(disc_mnist_log_variance.flatten())\n",
    "\n",
    "cont_dist = np.linalg.norm(cont_mnist_encoded, axis = 1)\n",
    "cont_std = np.exp(cont_mnist_log_variance.flatten())"
   ]
  },
  {
   "cell_type": "code",
   "execution_count": 58,
   "id": "953f6b26",
   "metadata": {},
   "outputs": [
    {
     "data": {
      "text/plain": [
       "(array([6.e+03, 1.e+04, 1.e+04, 1.e+04, 1.e+04, 7.e+03, 6.e+03, 5.e+03,\n",
       "        4.e+03, 3.e+03, 3.e+03, 2.e+03, 2.e+03, 2.e+03, 1.e+03, 1.e+03,\n",
       "        9.e+02, 8.e+02, 7.e+02, 5.e+02, 5.e+02, 4.e+02, 4.e+02, 3.e+02,\n",
       "        3.e+02, 2.e+02, 2.e+02, 2.e+02, 2.e+02, 2.e+02, 1.e+02, 1.e+02,\n",
       "        1.e+02, 1.e+02, 1.e+02, 1.e+02, 1.e+02, 1.e+02, 1.e+02, 9.e+01,\n",
       "        8.e+01, 6.e+01, 6.e+01, 6.e+01, 7.e+01, 5.e+01, 6.e+01, 5.e+01,\n",
       "        6.e+01, 5.e+01, 5.e+01, 4.e+01, 5.e+01, 4.e+01, 4.e+01, 4.e+01,\n",
       "        3.e+01, 3.e+01, 2.e+01, 3.e+01, 2.e+01, 2.e+01, 2.e+01, 2.e+01,\n",
       "        2.e+01, 1.e+01, 2.e+01, 1.e+01, 1.e+01, 2.e+01, 8.e+00, 7.e+00,\n",
       "        1.e+01, 1.e+01, 1.e+01, 2.e+01, 1.e+01, 1.e+01, 1.e+01, 7.e+00,\n",
       "        7.e+00, 9.e+00, 7.e+00, 4.e+00, 7.e+00, 4.e+00, 2.e+00, 4.e+00,\n",
       "        9.e+00, 2.e+00, 2.e+00, 4.e+00, 1.e+00, 2.e+00, 1.e+00, 1.e+00,\n",
       "        0.e+00, 0.e+00, 0.e+00, 2.e+00]),\n",
       " array([3.e-05, 2.e-04, 5.e-04, 7.e-04, 9.e-04, 1.e-03, 1.e-03, 2.e-03,\n",
       "        2.e-03, 2.e-03, 2.e-03, 2.e-03, 3.e-03, 3.e-03, 3.e-03, 3.e-03,\n",
       "        3.e-03, 4.e-03, 4.e-03, 4.e-03, 4.e-03, 4.e-03, 5.e-03, 5.e-03,\n",
       "        5.e-03, 5.e-03, 6.e-03, 6.e-03, 6.e-03, 6.e-03, 6.e-03, 7.e-03,\n",
       "        7.e-03, 7.e-03, 7.e-03, 7.e-03, 8.e-03, 8.e-03, 8.e-03, 8.e-03,\n",
       "        9.e-03, 9.e-03, 9.e-03, 9.e-03, 9.e-03, 1.e-02, 1.e-02, 1.e-02,\n",
       "        1.e-02, 1.e-02, 1.e-02, 1.e-02, 1.e-02, 1.e-02, 1.e-02, 1.e-02,\n",
       "        1.e-02, 1.e-02, 1.e-02, 1.e-02, 1.e-02, 1.e-02, 1.e-02, 1.e-02,\n",
       "        1.e-02, 1.e-02, 1.e-02, 1.e-02, 1.e-02, 1.e-02, 1.e-02, 2.e-02,\n",
       "        2.e-02, 2.e-02, 2.e-02, 2.e-02, 2.e-02, 2.e-02, 2.e-02, 2.e-02,\n",
       "        2.e-02, 2.e-02, 2.e-02, 2.e-02, 2.e-02, 2.e-02, 2.e-02, 2.e-02,\n",
       "        2.e-02, 2.e-02, 2.e-02, 2.e-02, 2.e-02, 2.e-02, 2.e-02, 2.e-02,\n",
       "        2.e-02, 2.e-02, 2.e-02, 2.e-02, 2.e-02], dtype=float32),\n",
       " <BarContainer object of 100 artists>)"
      ]
     },
     "execution_count": 58,
     "metadata": {},
     "output_type": "execute_result"
    }
   ],
   "source": [
    "nbins = 100\n",
    "fig, axs = plt.subplots(2,2)\n",
    "axs[0,0].hist(disc_dist, nbins)\n",
    "axs[0,1].hist(disc_std, nbins)\n",
    "axs[1,0].hist(cont_dist, nbins)\n",
    "axs[1,1].hist(cont_std, nbins)"
   ]
  },
  {
   "cell_type": "code",
   "execution_count": 65,
   "id": "7c69abd6",
   "metadata": {},
   "outputs": [
    {
     "name": "stdout",
     "output_type": "stream",
     "text": [
      "Model: \"variational_autoencoder_2\"\n",
      "_________________________________________________________________\n",
      "Layer (type)                 Output Shape              Param #   \n",
      "=================================================================\n",
      "Encoder (Sequential)         (None, 2, 8)              210580    \n",
      "_________________________________________________________________\n",
      "Decoder (Sequential)         (None, 28, 28, 1)         157017    \n",
      "_________________________________________________________________\n",
      "normal_sampling_layer_3 (Nor multiple                  0         \n",
      "=================================================================\n",
      "Total params: 367,605\n",
      "Trainable params: 367,597\n",
      "Non-trainable params: 8\n",
      "_________________________________________________________________\n"
     ]
    }
   ],
   "source": [
    "model.summary()"
   ]
  },
  {
   "cell_type": "code",
   "execution_count": 23,
   "id": "83927f5c",
   "metadata": {},
   "outputs": [
    {
     "name": "stdout",
     "output_type": "stream",
     "text": [
      "Model: \"variational_autoencoder_8\"\n",
      "_________________________________________________________________\n",
      "Layer (type)                 Output Shape              Param #   \n",
      "=================================================================\n",
      "Encoder (Sequential)         (None, 2, 10)             210984    \n",
      "_________________________________________________________________\n",
      "Decoder (Sequential)         (None, 28, 28, 1)         157417    \n",
      "_________________________________________________________________\n",
      "normal_sampling_layer (Norma multiple                  0         \n",
      "=================================================================\n",
      "Total params: 368,407\n",
      "Trainable params: 368,401\n",
      "Non-trainable params: 6\n",
      "_________________________________________________________________\n"
     ]
    }
   ],
   "source": [
    "disc_model.summary()\n",
    "\n"
   ]
  },
  {
   "cell_type": "code",
   "execution_count": null,
   "id": "736b6983",
   "metadata": {},
   "outputs": [],
   "source": []
  }
 ],
 "metadata": {
  "kernelspec": {
   "display_name": "Python 3",
   "language": "python",
   "name": "python3"
  },
  "language_info": {
   "codemirror_mode": {
    "name": "ipython",
    "version": 3
   },
   "file_extension": ".py",
   "mimetype": "text/x-python",
   "name": "python",
   "nbconvert_exporter": "python",
   "pygments_lexer": "ipython3",
   "version": "3.8.8"
  }
 },
 "nbformat": 4,
 "nbformat_minor": 5
}
