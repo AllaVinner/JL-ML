{
 "cells": [
  {
   "cell_type": "code",
   "execution_count": 1,
   "source": [
    "%matplotlib"
   ],
   "outputs": [
    {
     "output_type": "stream",
     "name": "stdout",
     "text": [
      "Using matplotlib backend: Qt5Agg\n"
     ]
    }
   ],
   "metadata": {}
  },
  {
   "cell_type": "code",
   "execution_count": 2,
   "source": [
    "import numpy as np\r\n",
    "import matplotlib.pyplot as plt\r\n",
    "import tensorflow as tf\r\n",
    "from tensorflow import keras\r\n",
    "from normalsamplinglayer import NormalSamplingLayer\r\n",
    "import numpy.random as rnd\r\n",
    "\r\n",
    "from variationalautoencoder import VariationalAutoencoder\r\n",
    "from joel_autoencoder import Autoencoder"
   ],
   "outputs": [
    {
     "output_type": "error",
     "ename": "ModuleNotFoundError",
     "evalue": "No module named 'autoencoder'",
     "traceback": [
      "\u001b[1;31m---------------------------------------------------------------------------\u001b[0m",
      "\u001b[1;31mModuleNotFoundError\u001b[0m                       Traceback (most recent call last)",
      "\u001b[1;32m<ipython-input-2-d54e8e969e17>\u001b[0m in \u001b[0;36m<module>\u001b[1;34m\u001b[0m\n\u001b[0;32m      7\u001b[0m \u001b[1;33m\u001b[0m\u001b[0m\n\u001b[0;32m      8\u001b[0m \u001b[1;32mfrom\u001b[0m \u001b[0mvariationalautoencoder\u001b[0m \u001b[1;32mimport\u001b[0m \u001b[0mVariationalAutoencoder\u001b[0m\u001b[1;33m\u001b[0m\u001b[1;33m\u001b[0m\u001b[0m\n\u001b[1;32m----> 9\u001b[1;33m \u001b[1;32mfrom\u001b[0m \u001b[0mautoencoder\u001b[0m \u001b[1;32mimport\u001b[0m \u001b[0mAutoencoder\u001b[0m\u001b[1;33m\u001b[0m\u001b[1;33m\u001b[0m\u001b[0m\n\u001b[0m",
      "\u001b[1;31mModuleNotFoundError\u001b[0m: No module named 'autoencoder'"
     ]
    }
   ],
   "metadata": {}
  },
  {
   "cell_type": "code",
   "execution_count": null,
   "source": [
    "# Global variables\r\n",
    "latent_dim = 4"
   ],
   "outputs": [],
   "metadata": {}
  },
  {
   "cell_type": "markdown",
   "source": [
    "## Setup data\n",
    "Load and preprocess data\n",
    "\n",
    "After this section we will have the two variables *mnist_digits* and *mnist_labels*. They are both numpy arrays"
   ],
   "metadata": {}
  },
  {
   "cell_type": "code",
   "execution_count": null,
   "source": [
    "(x_train, y_train), (x_test, y_test) = keras.datasets.mnist.load_data()\r\n",
    "mnist_digits = np.concatenate([x_train, x_test], axis=0)\r\n",
    "mnist_digits = np.expand_dims(mnist_digits, -1).astype(\"float32\") / 255\r\n",
    "mnist_labels = np.concatenate([y_train, y_test], axis=0)\r\n"
   ],
   "outputs": [],
   "metadata": {}
  },
  {
   "cell_type": "markdown",
   "source": [
    "## Setup autoencoders\n",
    "Define the encoder and decoder which are then the defining features of our variational encoder and decoder"
   ],
   "metadata": {}
  },
  {
   "cell_type": "markdown",
   "source": [
    "Define the encoders and decoders. The code is simply repeated for the autoencoder and the variational autoencoder. The only difference is that there is a parallell layer in the encoder for the variational autoencoder which defindes the variacnes."
   ],
   "metadata": {}
  },
  {
   "cell_type": "code",
   "execution_count": null,
   "source": [
    "# Autoencoder encoder\r\n",
    "encoder_input = keras.Input(shape = mnist_digits[0].shape)\r\n",
    "net = encoder_input\r\n",
    "net = keras.layers.Conv2D(32,3, activation = 'relu', strides = 2, padding = 'same')(net)\r\n",
    "net = keras.layers.Conv2D(64,3, activation = 'relu', strides = 2, padding = 'same')(net)\r\n",
    "net = keras.layers.Flatten()(net)\r\n",
    "net = keras.layers.Dense(16, activation = 'relu')(net)\r\n",
    "z = keras.layers.Dense(latent_dim, name = 'z_mean')(net)\r\n",
    "encoder_auto = keras.Model(encoder_input, z, name = 'encoder')\r\n",
    "\r\n",
    "# Variational autoencoder encoder\r\n",
    "encoder_input = keras.Input(shape = mnist_digits[0].shape)\r\n",
    "net = encoder_input\r\n",
    "net = keras.layers.Conv2D(32,3, activation = 'relu', strides = 2, padding = 'same')(net)\r\n",
    "net = keras.layers.Conv2D(64,3, activation = 'relu', strides = 2, padding = 'same')(net)\r\n",
    "net = keras.layers.Flatten()(net)\r\n",
    "net = keras.layers.Dense(16, activation = 'relu')(net)\r\n",
    "z_mean = keras.layers.Dense(latent_dim, name = 'z_mean')(net)\r\n",
    "z_log_var = keras.layers.Dense(latent_dim, name = 'z_log_var')(net)\r\n",
    "z = NormalSamplingLayer()([z_mean, z_log_var])\r\n",
    "encoder_var = keras.Model(encoder_input, [z_mean, z_log_var, z], name = 'encoder')\r\n",
    "\r\n",
    "# Autoencoder decoder\r\n",
    "decoder_input = keras.Input(shape = (latent_dim,))\r\n",
    "net = decoder_input\r\n",
    "net = keras.layers.Dense(7*7*64, activation = \"relu\")(net)\r\n",
    "net = keras.layers.Reshape((7,7,64))(net)\r\n",
    "net = keras.layers.Conv2DTranspose(64,3, activation = 'relu', strides = 2, padding = 'same')(net)\r\n",
    "net = keras.layers.Conv2DTranspose(32,3, activation = 'relu', strides = 2, padding = 'same')(net)\r\n",
    "net = keras.layers.Conv2DTranspose(1,3, activation = 'sigmoid', padding = 'same')(net)\r\n",
    "decoder_output = net\r\n",
    "decoder_auto = keras.Model(decoder_input, decoder_output, name = 'decoder')\r\n",
    "\r\n",
    "# Variational autoencoder decoder\r\n",
    "decoder_input = keras.Input(shape = (latent_dim,))\r\n",
    "net = decoder_input\r\n",
    "net = keras.layers.Dense(7*7*64, activation = \"relu\")(net)\r\n",
    "net = keras.layers.Reshape((7,7,64))(net)\r\n",
    "net = keras.layers.Conv2DTranspose(64,3, activation = 'relu', strides = 2, padding = 'same')(net)\r\n",
    "net = keras.layers.Conv2DTranspose(32,3, activation = 'relu', strides = 2, padding = 'same')(net)\r\n",
    "net = keras.layers.Conv2DTranspose(1,3, activation = 'sigmoid', padding = 'same')(net)\r\n",
    "decoder_output = net\r\n",
    "decoder_var = keras.Model(decoder_input, decoder_output, name = 'decoder')\r\n",
    "\r\n"
   ],
   "outputs": [],
   "metadata": {}
  },
  {
   "cell_type": "markdown",
   "source": [
    "## Set up the autoencoder instances"
   ],
   "metadata": {}
  },
  {
   "cell_type": "code",
   "execution_count": null,
   "source": [
    "ae = Autoencoder(encoder_auto, decoder_auto)\r\n",
    "va = VariationalAutoencoder(encoder_var, decoder_var)\r\n",
    "ae.compile(optimizer=keras.optimizers.Adam())\r\n",
    "va.compile(optimizer=keras.optimizers.Adam())"
   ],
   "outputs": [],
   "metadata": {}
  },
  {
   "cell_type": "code",
   "execution_count": null,
   "source": [
    "ae.fit(mnist_digits,\r\n",
    "      epochs = 20,\r\n",
    "      batch_size = 256)\r\n",
    "\r\n",
    "va.fit(mnist_digits,\r\n",
    "      epochs = 20,\r\n",
    "      batch_size = 256)"
   ],
   "outputs": [
    {
     "output_type": "stream",
     "name": "stdout",
     "text": [
      "Epoch 1/20\n",
      "274/274 [==============================] - 60s 213ms/step - Loss: 269.2907\n",
      "Epoch 2/20\n",
      "274/274 [==============================] - 67s 245ms/step - Loss: 141.2929\n",
      "Epoch 3/20\n",
      "274/274 [==============================] - 73s 268ms/step - Loss: 129.7478\n",
      "Epoch 4/20\n",
      "274/274 [==============================] - 67s 245ms/step - Loss: 125.5950\n",
      "Epoch 5/20\n",
      "274/274 [==============================] - 62s 226ms/step - Loss: 122.9442\n",
      "Epoch 6/20\n",
      "274/274 [==============================] - 67s 246ms/step - Loss: 121.6892\n",
      "Epoch 7/20\n",
      "274/274 [==============================] - 63s 230ms/step - Loss: 119.8369\n",
      "Epoch 8/20\n",
      "274/274 [==============================] - 64s 234ms/step - Loss: 118.8873\n",
      "Epoch 9/20\n",
      "274/274 [==============================] - 62s 225ms/step - Loss: 117.9139\n",
      "Epoch 10/20\n",
      "274/274 [==============================] - 68s 247ms/step - Loss: 117.1101\n",
      "Epoch 11/20\n",
      "274/274 [==============================] - 64s 232ms/step - Loss: 116.8547\n",
      "Epoch 12/20\n",
      "274/274 [==============================] - 63s 231ms/step - Loss: 116.0140\n",
      "Epoch 13/20\n",
      "274/274 [==============================] - 70s 257ms/step - Loss: 115.2773\n",
      "Epoch 14/20\n",
      "274/274 [==============================] - 62s 225ms/step - Loss: 115.0219\n",
      "Epoch 15/20\n",
      "274/274 [==============================] - 68s 248ms/step - Loss: 114.3186\n",
      "Epoch 16/20\n",
      "274/274 [==============================] - 62s 228ms/step - Loss: 114.4243\n",
      "Epoch 17/20\n",
      "274/274 [==============================] - 65s 236ms/step - Loss: 113.8808\n",
      "Epoch 18/20\n",
      "274/274 [==============================] - 67s 244ms/step - Loss: 113.6305\n",
      "Epoch 19/20\n",
      "274/274 [==============================] - 66s 242ms/step - Loss: 113.1963\n",
      "Epoch 20/20\n",
      "274/274 [==============================] - 61s 221ms/step - Loss: 113.0182\n",
      "Epoch 1/20\n",
      "274/274 [==============================] - 68s 241ms/step - loss: 293.1081 - reconstruction_loss: 227.7772 - kl_loss: 2.4904\n",
      "Epoch 2/20\n",
      "274/274 [==============================] - 63s 230ms/step - loss: 193.6513 - reconstruction_loss: 184.7759 - kl_loss: 4.2984\n",
      "Epoch 3/20\n",
      "274/274 [==============================] - 63s 232ms/step - loss: 176.9014 - reconstruction_loss: 168.7466 - kl_loss: 5.8419\n",
      "Epoch 4/20\n",
      "274/274 [==============================] - 59s 215ms/step - loss: 169.3343 - reconstruction_loss: 162.3221 - kl_loss: 6.1031\n",
      "Epoch 5/20\n",
      "274/274 [==============================] - 62s 227ms/step - loss: 165.8592 - reconstruction_loss: 158.6072 - kl_loss: 6.2941\n",
      "Epoch 6/20\n",
      "274/274 [==============================] - 70s 254ms/step - loss: 163.3430 - reconstruction_loss: 155.7934 - kl_loss: 6.4859\n",
      "Epoch 7/20\n",
      "274/274 [==============================] - 75s 275ms/step - loss: 160.6365 - reconstruction_loss: 153.8882 - kl_loss: 6.5423\n",
      "Epoch 8/20\n",
      "274/274 [==============================] - 70s 257ms/step - loss: 159.2295 - reconstruction_loss: 152.4824 - kl_loss: 6.6100\n",
      "Epoch 9/20\n",
      "274/274 [==============================] - 68s 248ms/step - loss: 158.2921 - reconstruction_loss: 151.4276 - kl_loss: 6.6533\n",
      "Epoch 10/20\n",
      "274/274 [==============================] - 66s 241ms/step - loss: 157.4869 - reconstruction_loss: 150.7014 - kl_loss: 6.6975\n",
      "Epoch 11/20\n",
      "274/274 [==============================] - 64s 233ms/step - loss: 156.5291 - reconstruction_loss: 149.9553 - kl_loss: 6.7235\n",
      "Epoch 12/20\n",
      "274/274 [==============================] - 66s 241ms/step - loss: 155.9315 - reconstruction_loss: 149.3257 - kl_loss: 6.7240\n",
      "Epoch 13/20\n",
      "274/274 [==============================] - 67s 244ms/step - loss: 155.5114 - reconstruction_loss: 148.8271 - kl_loss: 6.7621\n",
      "Epoch 14/20\n",
      "274/274 [==============================] - 70s 254ms/step - loss: 155.0165 - reconstruction_loss: 148.4635 - kl_loss: 6.7388\n",
      "Epoch 15/20\n",
      "274/274 [==============================] - 64s 234ms/step - loss: 154.9924 - reconstruction_loss: 148.0740 - kl_loss: 6.7537\n",
      "Epoch 16/20\n",
      "274/274 [==============================] - 74s 269ms/step - loss: 154.3415 - reconstruction_loss: 147.6915 - kl_loss: 6.7506\n",
      "Epoch 17/20\n",
      "274/274 [==============================] - 85s 312ms/step - loss: 154.2491 - reconstruction_loss: 147.4604 - kl_loss: 6.7695\n",
      "Epoch 18/20\n",
      "274/274 [==============================] - 83s 302ms/step - loss: 153.9415 - reconstruction_loss: 147.0991 - kl_loss: 6.7741\n",
      "Epoch 19/20\n",
      "274/274 [==============================] - 81s 296ms/step - loss: 153.8794 - reconstruction_loss: 146.8981 - kl_loss: 6.7577\n",
      "Epoch 20/20\n",
      "274/274 [==============================] - 77s 281ms/step - loss: 153.1300 - reconstruction_loss: 146.5656 - kl_loss: 6.7539\n"
     ]
    },
    {
     "output_type": "execute_result",
     "data": {
      "text/plain": [
       "<tensorflow.python.keras.callbacks.History at 0x1bb44706190>"
      ]
     },
     "metadata": {},
     "execution_count": 7
    }
   ],
   "metadata": {}
  },
  {
   "cell_type": "markdown",
   "source": [
    "## Investigate models\n"
   ],
   "metadata": {}
  },
  {
   "cell_type": "code",
   "execution_count": null,
   "source": [],
   "outputs": [],
   "metadata": {}
  },
  {
   "cell_type": "markdown",
   "source": [
    "### Project the latent space"
   ],
   "metadata": {}
  },
  {
   "cell_type": "code",
   "execution_count": null,
   "source": [
    "# import projection objects\r\n",
    "from sklearn.manifold import TSNE\r\n",
    "from sklearn.decomposition import PCA\r\n"
   ],
   "outputs": [],
   "metadata": {}
  },
  {
   "cell_type": "code",
   "execution_count": null,
   "source": [
    "# Predict the latent points for each input data\r\n",
    "ae_mean = ae.encoder.predict(mnist_digits)\r\n",
    "va_mean, z_var, va_z = va.encoder.predict(mnist_digits)"
   ],
   "outputs": [],
   "metadata": {}
  },
  {
   "cell_type": "code",
   "execution_count": null,
   "source": [
    "# Project the latent point according to the t-SNE algorithm\r\n",
    "ae_tsne = TSNE().fit_transform(ae_mean)\r\n",
    "va_tsne = TSNE().fit_transform(va_mean)"
   ],
   "outputs": [],
   "metadata": {}
  },
  {
   "cell_type": "code",
   "execution_count": null,
   "source": [
    "# Project the latent point according to PCA and caluclate the principal axes\r\n",
    "pca_ae = PCA(n_components = 2).fit(ae_mean)\r\n",
    "ae_pca = pca_ae.transform(ae_mean)\r\n",
    "ae_vectors = (pca_ae.components_.T *3*np.sqrt(pca_ae.explained_variance_)).T\r\n",
    "ae_origin = np.mean(ae_mean, axis = 0)\r\n",
    "\r\n",
    "pca_va = PCA(n_components = 2).fit(va_mean)\r\n",
    "va_pca = pca_va.transform(va_mean)\r\n",
    "va_vectors = (pca_va.components_.T *3*np.sqrt(pca_va.explained_variance_)).T\r\n",
    "va_origin = np.mean(va_mean, axis = 0)"
   ],
   "outputs": [],
   "metadata": {}
  },
  {
   "cell_type": "markdown",
   "source": [
    "### Run Gui:s"
   ],
   "metadata": {}
  },
  {
   "cell_type": "markdown",
   "source": [
    "### Sample scatter plot\n",
    "This visualization shows a 2D representation of the latent space and where each of the input point has been projected. This projection is done previously and is usually a PCA or t-SNE. Note that only one of the figures can work interactily at once."
   ],
   "metadata": {}
  },
  {
   "cell_type": "code",
   "execution_count": null,
   "source": [
    "from sampleScatterGUI import SampleScatterGUI\r\n",
    "from latentplanegui import LatentPlaneGUI\r\n",
    "from latentinterpolationmosaic import LatentInterpolationMosaic"
   ],
   "outputs": [],
   "metadata": {}
  },
  {
   "cell_type": "markdown",
   "source": [
    "### Sample Scatter GUI"
   ],
   "metadata": {}
  },
  {
   "cell_type": "code",
   "execution_count": null,
   "source": [
    "# PCA/t-SNE of the autoencoder\r\n",
    "#SampleScatterGUI(ae_pca, mnist_labels, mnist_digits)\r\n",
    "SampleScatterGUI(ae_tsne, mnist_labels, mnist_digits)\r\n"
   ],
   "outputs": [
    {
     "output_type": "execute_result",
     "data": {
      "text/plain": [
       "<samplescattergui.SampleScatterGUI at 0x1bb43226ee0>"
      ]
     },
     "metadata": {},
     "execution_count": 13
    }
   ],
   "metadata": {}
  },
  {
   "cell_type": "code",
   "execution_count": null,
   "source": [
    "# PCA/t-SNE of the Variational Autoencoder\r\n",
    "#SampleScatterGUI(va_pca, mnist_labels, mnist_digits)\r\n",
    "SampleScatterGUI(va_tsne, mnist_labels, mnist_digits)"
   ],
   "outputs": [
    {
     "output_type": "execute_result",
     "data": {
      "text/plain": [
       "<samplescattergui.SampleScatterGUI at 0x1bb48f1a2b0>"
      ]
     },
     "metadata": {},
     "execution_count": 14
    }
   ],
   "metadata": {}
  },
  {
   "cell_type": "markdown",
   "source": [
    "### Latent Plane GUI"
   ],
   "metadata": {}
  },
  {
   "cell_type": "code",
   "execution_count": null,
   "source": [
    "LatentPlaneGUI(ae.decoder,latent_vectors = ae_vectors, latent_origin = ae_origin)"
   ],
   "outputs": [
    {
     "output_type": "execute_result",
     "data": {
      "text/plain": [
       "<latentplanegui.LatentPlaneGUI at 0x1bb48faaf70>"
      ]
     },
     "metadata": {},
     "execution_count": 15
    }
   ],
   "metadata": {}
  },
  {
   "cell_type": "code",
   "execution_count": null,
   "source": [
    "LatentPlaneGUI(va.decoder,latent_vectors = va_vectors, latent_origin = va_origin)"
   ],
   "outputs": [
    {
     "output_type": "execute_result",
     "data": {
      "text/plain": [
       "<latentplanegui.LatentPlaneGUI at 0x2db31a76310>"
      ]
     },
     "metadata": {},
     "execution_count": 25
    }
   ],
   "metadata": {}
  },
  {
   "cell_type": "markdown",
   "source": [
    "### Latent Interpolation Mosaic"
   ],
   "metadata": {}
  },
  {
   "cell_type": "code",
   "execution_count": null,
   "source": [
    "indeces = [30,400,1203]\n",
    "LatentInterpolationMosaic(ae.encoder,\n",
    "                          ae.decoder,\n",
    "                          mnist_digits,\n",
    "                          indeces,\n",
    "                          num_row = 15,\n",
    "                          num_col = 15,\n",
    "                          variational = False)"
   ],
   "outputs": [
    {
     "output_type": "execute_result",
     "data": {
      "text/plain": [
       "<latentinterpolationmosaic.LatentInterpolationMosaic at 0x1bb4a8d0730>"
      ]
     },
     "metadata": {},
     "execution_count": 21
    }
   ],
   "metadata": {}
  },
  {
   "cell_type": "code",
   "execution_count": null,
   "source": [
    "LatentInterpolationMosaic(va.encoder,\n",
    "                          va.decoder,\n",
    "                          mnist_digits,\n",
    "                          indeces,\n",
    "                          num_row = 15,\n",
    "                          num_col = 15,\n",
    "                          variational = True)"
   ],
   "outputs": [
    {
     "output_type": "execute_result",
     "data": {
      "text/plain": [
       "<latentinterpolationmosaic.LatentInterpolationMosaic at 0x1bb4cbd47f0>"
      ]
     },
     "metadata": {},
     "execution_count": 22
    }
   ],
   "metadata": {}
  },
  {
   "cell_type": "code",
   "execution_count": null,
   "source": [],
   "outputs": [],
   "metadata": {}
  }
 ],
 "metadata": {
  "kernelspec": {
   "name": "python3",
   "display_name": "Python 3.8.10 64-bit ('JL-ML': conda)"
  },
  "language_info": {
   "codemirror_mode": {
    "name": "ipython",
    "version": 3
   },
   "file_extension": ".py",
   "mimetype": "text/x-python",
   "name": "python",
   "nbconvert_exporter": "python",
   "pygments_lexer": "ipython3",
   "version": "3.8.10"
  },
  "interpreter": {
   "hash": "dd593813f0e920a894f9bede9157c42ea32ce77eaa35990e17a2847ab973ef24"
  }
 },
 "nbformat": 4,
 "nbformat_minor": 4
}