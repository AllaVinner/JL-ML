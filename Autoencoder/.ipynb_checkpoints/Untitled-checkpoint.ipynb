{
 "cells": [
  {
   "cell_type": "code",
   "execution_count": null,
   "metadata": {},
   "outputs": [],
   "source": [
    "%matplotlib"
   ]
  },
  {
   "cell_type": "code",
   "execution_count": 1,
   "metadata": {},
   "outputs": [
    {
     "name": "stderr",
     "output_type": "stream",
     "text": [
      "C:\\Users\\Computer\\Anaconda3\\lib\\site-packages\\tensorflow\\python\\framework\\dtypes.py:519: FutureWarning: Passing (type, 1) or '1type' as a synonym of type is deprecated; in a future version of numpy, it will be understood as (type, (1,)) / '(1,)type'.\n",
      "  _np_qint8 = np.dtype([(\"qint8\", np.int8, 1)])\n",
      "C:\\Users\\Computer\\Anaconda3\\lib\\site-packages\\tensorflow\\python\\framework\\dtypes.py:520: FutureWarning: Passing (type, 1) or '1type' as a synonym of type is deprecated; in a future version of numpy, it will be understood as (type, (1,)) / '(1,)type'.\n",
      "  _np_quint8 = np.dtype([(\"quint8\", np.uint8, 1)])\n",
      "C:\\Users\\Computer\\Anaconda3\\lib\\site-packages\\tensorflow\\python\\framework\\dtypes.py:521: FutureWarning: Passing (type, 1) or '1type' as a synonym of type is deprecated; in a future version of numpy, it will be understood as (type, (1,)) / '(1,)type'.\n",
      "  _np_qint16 = np.dtype([(\"qint16\", np.int16, 1)])\n",
      "C:\\Users\\Computer\\Anaconda3\\lib\\site-packages\\tensorflow\\python\\framework\\dtypes.py:522: FutureWarning: Passing (type, 1) or '1type' as a synonym of type is deprecated; in a future version of numpy, it will be understood as (type, (1,)) / '(1,)type'.\n",
      "  _np_quint16 = np.dtype([(\"quint16\", np.uint16, 1)])\n",
      "C:\\Users\\Computer\\Anaconda3\\lib\\site-packages\\tensorflow\\python\\framework\\dtypes.py:523: FutureWarning: Passing (type, 1) or '1type' as a synonym of type is deprecated; in a future version of numpy, it will be understood as (type, (1,)) / '(1,)type'.\n",
      "  _np_qint32 = np.dtype([(\"qint32\", np.int32, 1)])\n",
      "C:\\Users\\Computer\\Anaconda3\\lib\\site-packages\\tensorflow\\python\\framework\\dtypes.py:528: FutureWarning: Passing (type, 1) or '1type' as a synonym of type is deprecated; in a future version of numpy, it will be understood as (type, (1,)) / '(1,)type'.\n",
      "  np_resource = np.dtype([(\"resource\", np.ubyte, 1)])\n"
     ]
    }
   ],
   "source": [
    "import numpy as np\n",
    "import matplotlib.pyplot as plt\n",
    "import tensorflow as tf\n",
    "from tensorflow import keras\n",
    "from normalsamplinglayer import NormalSamplingLayer\n",
    "\n",
    "from variationalautoencoder import VariationalAutoencoder\n",
    "from autoencoder import Autoencoder"
   ]
  },
  {
   "cell_type": "code",
   "execution_count": 2,
   "metadata": {},
   "outputs": [],
   "source": [
    "# Global data\n",
    "latent_dim = 4"
   ]
  },
  {
   "cell_type": "markdown",
   "metadata": {},
   "source": [
    "## Setup data\n",
    "Load and preprocess data\n",
    "\n",
    "After this section we will have the two variables *mnist_digits* and *mnist_labels*. They are both numpy arrays"
   ]
  },
  {
   "cell_type": "code",
   "execution_count": 3,
   "metadata": {},
   "outputs": [],
   "source": [
    "(x_train, y_train), (x_test, y_test) = keras.datasets.mnist.load_data()\n",
    "mnist_digits = np.concatenate([x_train, x_test], axis=0)\n",
    "mnist_digits = np.expand_dims(mnist_digits, -1).astype(\"float32\") / 255\n",
    "mnist_labels = np.concatenate([y_train, y_test], axis=0)\n"
   ]
  },
  {
   "cell_type": "markdown",
   "metadata": {},
   "source": [
    "## Setup autoencoders\n",
    "Define the encoder and decoder which are then the defining features of our variational encoder and decoder"
   ]
  },
  {
   "cell_type": "markdown",
   "metadata": {},
   "source": [
    "Define the encoders and decoders. The code is simply repeated for the autoencoder and the variational autoencoder. The only difference is that there is a parallell layer in the encoder for the variational autoencoder which defindes the variacnes."
   ]
  },
  {
   "cell_type": "code",
   "execution_count": 4,
   "metadata": {},
   "outputs": [],
   "source": [
    "# Autoencoder encoder\n",
    "encoder_input = keras.Input(shape = mnist_digits[0].shape)\n",
    "net = encoder_input\n",
    "net = keras.layers.Conv2D(32,3, activation = 'relu', strides = 2, padding = 'same')(net)\n",
    "net = keras.layers.Conv2D(64,3, activation = 'relu', strides = 2, padding = 'same')(net)\n",
    "net = keras.layers.Flatten()(net)\n",
    "net = keras.layers.Dense(16, activation = 'relu')(net)\n",
    "z = keras.layers.Dense(latent_dim, name = 'z_mean')(net)\n",
    "encoder_auto = keras.Model(encoder_input, z, name = 'encoder')\n",
    "\n",
    "# Variational autoencoder encoder\n",
    "encoder_input = keras.Input(shape = mnist_digits[0].shape)\n",
    "net = encoder_input\n",
    "net = keras.layers.Conv2D(32,3, activation = 'relu', strides = 2, padding = 'same')(net)\n",
    "net = keras.layers.Conv2D(64,3, activation = 'relu', strides = 2, padding = 'same')(net)\n",
    "net = keras.layers.Flatten()(net)\n",
    "net = keras.layers.Dense(16, activation = 'relu')(net)\n",
    "z_mean = keras.layers.Dense(latent_dim, name = 'z_mean')(net)\n",
    "z_log_var = keras.layers.Dense(latent_dim, name = 'z_log_var')(net)\n",
    "z = NormalSamplingLayer()([z_mean, z_log_var])\n",
    "encoder_var = keras.Model(encoder_input, [z_mean, z_log_var, z], name = 'encoder')\n",
    "\n",
    "# Autoencoder decoder\n",
    "decoder_input = keras.Input(shape = (latent_dim,))\n",
    "net = decoder_input\n",
    "net = keras.layers.Dense(7*7*64, activation = \"relu\")(net)\n",
    "net = keras.layers.Reshape((7,7,64))(net)\n",
    "net = keras.layers.Conv2DTranspose(64,3, activation = 'relu', strides = 2, padding = 'same')(net)\n",
    "net = keras.layers.Conv2DTranspose(32,3, activation = 'relu', strides = 2, padding = 'same')(net)\n",
    "net = keras.layers.Conv2DTranspose(1,3, activation = 'sigmoid', padding = 'same')(net)\n",
    "decoder_output = net\n",
    "decoder_auto = keras.Model(decoder_input, decoder_output, name = 'decoder')\n",
    "\n",
    "# Variational autoencoder decoder\n",
    "decoder_input = keras.Input(shape = (latent_dim,))\n",
    "net = decoder_input\n",
    "net = keras.layers.Dense(7*7*64, activation = \"relu\")(net)\n",
    "net = keras.layers.Reshape((7,7,64))(net)\n",
    "net = keras.layers.Conv2DTranspose(64,3, activation = 'relu', strides = 2, padding = 'same')(net)\n",
    "net = keras.layers.Conv2DTranspose(32,3, activation = 'relu', strides = 2, padding = 'same')(net)\n",
    "net = keras.layers.Conv2DTranspose(1,3, activation = 'sigmoid', padding = 'same')(net)\n",
    "decoder_output = net\n",
    "decoder_var = keras.Model(decoder_input, decoder_output, name = 'decoder')\n",
    "\n"
   ]
  },
  {
   "cell_type": "markdown",
   "metadata": {},
   "source": [
    "## Set up the autoencoder instances"
   ]
  },
  {
   "cell_type": "code",
   "execution_count": null,
   "metadata": {},
   "outputs": [],
   "source": []
  },
  {
   "cell_type": "code",
   "execution_count": 5,
   "metadata": {},
   "outputs": [
    {
     "ename": "AttributeError",
     "evalue": "module 'tensorflow.tools.api.generator.api.keras.metrics' has no attribute 'Mean'",
     "output_type": "error",
     "traceback": [
      "\u001b[1;31m---------------------------------------------------------------------------\u001b[0m",
      "\u001b[1;31mAttributeError\u001b[0m                            Traceback (most recent call last)",
      "\u001b[1;32m<ipython-input-5-4e028eda7c11>\u001b[0m in \u001b[0;36m<module>\u001b[1;34m\u001b[0m\n\u001b[1;32m----> 1\u001b[1;33m \u001b[0mae\u001b[0m \u001b[1;33m=\u001b[0m \u001b[0mAutoencoder\u001b[0m\u001b[1;33m(\u001b[0m\u001b[0mencoder_auto\u001b[0m\u001b[1;33m,\u001b[0m \u001b[0mdecoder_auto\u001b[0m\u001b[1;33m)\u001b[0m\u001b[1;33m\u001b[0m\u001b[0m\n\u001b[0m\u001b[0;32m      2\u001b[0m \u001b[0mva\u001b[0m \u001b[1;33m=\u001b[0m \u001b[0mVariationalAutoencoder\u001b[0m\u001b[1;33m(\u001b[0m\u001b[0mencoder_var\u001b[0m\u001b[1;33m,\u001b[0m \u001b[0mdecoder_var\u001b[0m\u001b[1;33m)\u001b[0m\u001b[1;33m\u001b[0m\u001b[0m\n",
      "\u001b[1;32m~\\Documents\\ZebraFishComboAnalysis\\Fungerande Appar\\delete\\JL-ML\\Autoencoder\\autoencoder.py\u001b[0m in \u001b[0;36m__init__\u001b[1;34m(self, encoder, decoder, **kwargs)\u001b[0m\n\u001b[0;32m     17\u001b[0m         \u001b[0mself\u001b[0m\u001b[1;33m.\u001b[0m\u001b[0mdecoder\u001b[0m \u001b[1;33m=\u001b[0m \u001b[0mdecoder\u001b[0m\u001b[1;33m\u001b[0m\u001b[0m\n\u001b[0;32m     18\u001b[0m \u001b[1;33m\u001b[0m\u001b[0m\n\u001b[1;32m---> 19\u001b[1;33m         \u001b[0mself\u001b[0m\u001b[1;33m.\u001b[0m\u001b[0mtotal_loss_tracker\u001b[0m \u001b[1;33m=\u001b[0m \u001b[0mkeras\u001b[0m\u001b[1;33m.\u001b[0m\u001b[0mmetrics\u001b[0m\u001b[1;33m.\u001b[0m\u001b[0mMean\u001b[0m\u001b[1;33m(\u001b[0m\u001b[0mname\u001b[0m \u001b[1;33m=\u001b[0m \u001b[1;34m'total_loss'\u001b[0m\u001b[1;33m)\u001b[0m\u001b[1;33m\u001b[0m\u001b[0m\n\u001b[0m\u001b[0;32m     20\u001b[0m \u001b[1;33m\u001b[0m\u001b[0m\n\u001b[0;32m     21\u001b[0m \u001b[1;33m\u001b[0m\u001b[0m\n",
      "\u001b[1;31mAttributeError\u001b[0m: module 'tensorflow.tools.api.generator.api.keras.metrics' has no attribute 'Mean'"
     ]
    }
   ],
   "source": [
    "ae = Autoencoder(encoder_auto, decoder_auto)\n",
    "va = VariationalAutoencoder(encoder_var, decoder_var)\n"
   ]
  },
  {
   "cell_type": "code",
   "execution_count": null,
   "metadata": {},
   "outputs": [],
   "source": []
  }
 ],
 "metadata": {
  "kernelspec": {
   "display_name": "Python 3",
   "language": "python",
   "name": "python3"
  },
  "language_info": {
   "codemirror_mode": {
    "name": "ipython",
    "version": 3
   },
   "file_extension": ".py",
   "mimetype": "text/x-python",
   "name": "python",
   "nbconvert_exporter": "python",
   "pygments_lexer": "ipython3",
   "version": "3.6.5"
  }
 },
 "nbformat": 4,
 "nbformat_minor": 4
}
