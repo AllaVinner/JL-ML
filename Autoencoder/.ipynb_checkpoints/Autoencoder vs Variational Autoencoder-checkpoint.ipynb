{
 "cells": [
  {
   "cell_type": "code",
   "execution_count": 1,
   "metadata": {},
   "outputs": [
    {
     "name": "stdout",
     "output_type": "stream",
     "text": [
      "Using matplotlib backend: Qt5Agg\n"
     ]
    }
   ],
   "source": [
    "%matplotlib"
   ]
  },
  {
   "cell_type": "code",
   "execution_count": 45,
   "metadata": {},
   "outputs": [],
   "source": [
    "import numpy as np\n",
    "import matplotlib.pyplot as plt\n",
    "import tensorflow as tf\n",
    "from tensorflow import keras\n",
    "from variational_autoencoder import VariationalAutoencoder\n",
    "import numpy.random as rnd\n",
    "from autoencoder import Autoencoder\n",
    "from mnist_encoder_decoder import MNISTVariationalEncoder, MNISTVariationalDecoder\n",
    "from normalsamplinglayer import NormalSamplingLayer"
   ]
  },
  {
   "cell_type": "code",
   "execution_count": 3,
   "metadata": {},
   "outputs": [],
   "source": [
    "# Global variables\n",
    "latent_dim = 4"
   ]
  },
  {
   "cell_type": "markdown",
   "metadata": {},
   "source": [
    "## Setup data\n",
    "Load and preprocess data\n",
    "\n",
    "After this section we will have the two variables *mnist_digits* and *mnist_labels*. They are both numpy arrays"
   ]
  },
  {
   "cell_type": "code",
   "execution_count": 4,
   "metadata": {},
   "outputs": [
    {
     "data": {
      "text/plain": [
       "(28, 28, 1)"
      ]
     },
     "execution_count": 4,
     "metadata": {},
     "output_type": "execute_result"
    }
   ],
   "source": [
    "(x_train, y_train), (x_test, y_test) = keras.datasets.mnist.load_data()\n",
    "mnist_digits = np.concatenate([x_train, x_test], axis=0)\n",
    "mnist_digits = np.expand_dims(mnist_digits, -1).astype(\"float32\") / 255\n",
    "mnist_labels = np.concatenate([y_train, y_test], axis=0)\n",
    "input_shape = mnist_digits.shape[1:]\n",
    "input_shape"
   ]
  },
  {
   "cell_type": "markdown",
   "metadata": {},
   "source": [
    "## Setup autoencoders\n",
    "Define the encoder and decoder which are then the defining features of our variational encoder and decoder"
   ]
  },
  {
   "cell_type": "markdown",
   "metadata": {},
   "source": [
    "Define the encoders and decoders. The code is simply repeated for the autoencoder and the variational autoencoder. The only difference is that there is a parallell layer in the encoder for the variational autoencoder which defindes the variacnes."
   ]
  },
  {
   "cell_type": "code",
   "execution_count": 65,
   "metadata": {},
   "outputs": [
    {
     "name": "stdout",
     "output_type": "stream",
     "text": [
      "Model: \"va_12\"\n",
      "_________________________________________________________________\n",
      "Layer (type)                 Output Shape              Param #   \n",
      "=================================================================\n",
      "Encoder (Sequential)         (None, 2, 4)              7784      \n",
      "_________________________________________________________________\n",
      "normal_sampling_layer_22 (No multiple                  0         \n",
      "_________________________________________________________________\n",
      "Decoder (Sequential)         (None, 28, 28, 1)         7473      \n",
      "=================================================================\n",
      "Total params: 15,257\n",
      "Trainable params: 15,257\n",
      "Non-trainable params: 0\n",
      "_________________________________________________________________\n",
      "Model: \"Decoder\"\n",
      "_________________________________________________________________\n",
      "Layer (type)                 Output Shape              Param #   \n",
      "=================================================================\n",
      "dense_31 (Dense)             (None, 784)               3920      \n",
      "_________________________________________________________________\n",
      "reshape_31 (Reshape)         (None, 7, 7, 16)          0         \n",
      "_________________________________________________________________\n",
      "conv2d_transpose_41 (Conv2DT (None, 7, 7, 16)          2320      \n",
      "_________________________________________________________________\n",
      "up_sampling2d_28 (UpSampling (None, 14, 14, 16)        0         \n",
      "_________________________________________________________________\n",
      "conv2d_transpose_42 (Conv2DT (None, 14, 14, 8)         1160      \n",
      "_________________________________________________________________\n",
      "up_sampling2d_29 (UpSampling (None, 28, 28, 8)         0         \n",
      "_________________________________________________________________\n",
      "conv2d_transpose_43 (Conv2DT (None, 28, 28, 1)         73        \n",
      "=================================================================\n",
      "Total params: 7,473\n",
      "Trainable params: 7,473\n",
      "Non-trainable params: 0\n",
      "_________________________________________________________________\n"
     ]
    },
    {
     "data": {
      "image/png": "[encoded data removed]",
      "text/plain": [
       "<IPython.core.display.Image object>"
      ]
     },
     "execution_count": 65,
     "metadata": {},
     "output_type": "execute_result"
    }
   ],
   "source": [
    "\n",
    "class VA(keras.Model):\n",
    "    \n",
    "    def __init__(self, encoder,decoder, latent_dim, **kwargs):\n",
    "        super(VA, self).__init__(**kwargs)\n",
    "        self.total_loss_tracker = keras.metrics.Mean(name=\"total_loss\")\n",
    "        self.reconstruction_loss_tracker = keras.metrics.Mean(\n",
    "            name=\"reconstruction_loss\"\n",
    "        )\n",
    "        self.encoder = encoder\n",
    "        self.sampler = NormalSamplingLayer()\n",
    "        self.decoder = decoder\n",
    "        \n",
    "    def call(self, inputs, training = True):\n",
    "        x = inputs\n",
    "        x = self.encoder(x)\n",
    "        if training:\n",
    "            x = self.sampler(x)\n",
    "        else:\n",
    "            x,_ = tf.unstack(x, axis = 1)\n",
    "        x = self.decoder(x)\n",
    "        return x\n",
    "    \n",
    "    def encode(self, inputs):\n",
    "        latent = self.encoder(inputs)\n",
    "        z_mean, z_log_var = tf.unstack(latent, axis = 1)\n",
    "        return z_mean\n",
    "    \n",
    " def train_step(self, inputs):\n",
    "        \"\"\"\n",
    "        Performs a single step of training on the data given. \n",
    "        \n",
    "        A self defined train_step function usually consists of the forward\n",
    "        pass, loss calculation, backpropagation, and metric updates.\n",
    "            \n",
    "        Parameters\n",
    "        ----------\n",
    "        data : array\n",
    "            Input data\n",
    "        \n",
    "        \"\"\"\n",
    "        with tf.GradientTape() as tape:\n",
    "            # Forward propagation\n",
    "            latent = self.encoder(inputs)\n",
    "            latent_sample = self.sampler(latent)\n",
    "            reconstruction = self.decoder(latent_sample)\n",
    "            z_mean, z_log_var = tf.unstack(latent, axis = 1)\n",
    "            # Calculate losses\n",
    "            reconstruction_loss = tf.reduce_mean(\n",
    "                tf.reduce_sum(\n",
    "                    keras.losses.binary_crossentropy(inputs, reconstruction), axis=(1, 2)\n",
    "                )\n",
    "            )\n",
    "            \n",
    "            kl_loss = -0.5 * (1 + z_log_var - tf.square(z_mean) - tf.exp(z_log_var))\n",
    "            kl_loss = tf.reduce_mean(tf.reduce_sum(kl_loss, axis=1))\n",
    "            total_loss = reconstruction_loss + kl_loss\n",
    "        # Calculate and apply gradient\n",
    "        grads = tape.gradient(total_loss, self.trainable_weights)\n",
    "        self.optimizer.apply_gradients(zip(grads, self.trainable_weights))\n",
    "        \n",
    "        # Update metrics\n",
    "        self.total_loss_tracker.update_state(total_loss)\n",
    "        self.reconstruction_loss_tracker.update_state(reconstruction_loss)\n",
    "        self.kl_loss_tracker.update_state(kl_loss)\n",
    "        \n",
    "        # Return training message\n",
    "        return {\n",
    "            \"loss\": self.total_loss_tracker.result(),\n",
    "            \"reconstruction_loss\": self.reconstruction_loss_tracker.result(),\n",
    "            \"kl_loss\": self.kl_loss_tracker.result(),\n",
    "        }\n",
    "    \n",
    "    \n",
    "\n",
    "va = VA(va_encoder,va_decoder, latent_dim)\n",
    "inputs = keras.Input(input_shape)\n",
    "va(inputs)\n",
    "va.summary()\n",
    "keras.utils.plot_model(va, expand_nested = True)"
   ]
  },
  {
   "cell_type": "code",
   "execution_count": 50,
   "metadata": {},
   "outputs": [
    {
     "data": {
      "image/png": "[encoded data removed]",
      "text/plain": [
       "<IPython.core.display.Image object>"
      ]
     },
     "execution_count": 50,
     "metadata": {},
     "output_type": "execute_result"
    }
   ],
   "source": [
    "# Variational autoencoder\n",
    "va_encoder = keras.Sequential([\n",
    "    keras.Input(input_shape),\n",
    "    keras.layers.Conv2D(4, (3,3), padding = \"same\", activation = \"relu\"),\n",
    "    keras.layers.MaxPool2D((2,2)),\n",
    "    keras.layers.Conv2D(8, (3,3), padding = \"same\", activation = \"relu\"),\n",
    "    keras.layers.MaxPool2D((2,2)),\n",
    "    keras.layers.Conv2D(16, (3,3), padding = \"same\", activation = \"relu\"),\n",
    "    keras.layers.Flatten(),\n",
    "    keras.layers.Dense(2*latent_dim),\n",
    "    keras.layers.Reshape((2,latent_dim)),\n",
    "], name = \"Encoder )\n",
    "\n",
    "va_decoder = keras.Sequential([\n",
    "            keras.Input((latent_dim,)),\n",
    "            keras.layers.Dense(16*7*7, activation = \"relu\"),\n",
    "            keras.layers.Reshape((7,7,16)),\n",
    "            keras.layers.Conv2DTranspose(16, (3,3), activation = \"relu\", padding = \"same\"),\n",
    "            keras.layers.UpSampling2D((2,2)),\n",
    "            keras.layers.Conv2DTranspose(8, (3,3), activation = \"relu\", padding = \"same\"),\n",
    "            keras.layers.UpSampling2D((2,2)),\n",
    "            keras.layers.Conv2DTranspose(1, (3,3), activation = \"sigmoid\", padding = \"same\"),\n",
    "], name = \"Decoder\")\n",
    "#va = VariationalAutoencoder(va_encoder, va_decoder)\n",
    "#va.summary()\n",
    "va = keras.Sequential([\n",
    "    keras.Input(input_shape),\n",
    "    va_encoder,\n",
    "    NormalSamplingLayer(name = \"Sampling\"),\n",
    "    va_decoder,\n",
    "])\n",
    "keras.utils.plot_model(va, expand_nested = True)"
   ]
  },
  {
   "cell_type": "markdown",
   "metadata": {},
   "source": [
    "## Set up the autoencoder instances"
   ]
  },
  {
   "cell_type": "code",
   "execution_count": 20,
   "metadata": {},
   "outputs": [],
   "source": [
    "#ae = Autoencoder(encoder_auto, decoder_auto)\n",
    "#ae.compile(optimizer=keras.optimizers.Adam(), loss = \"mse\")\n",
    "va.compile(optimizer=keras.optimizers.Adam())"
   ]
  },
  {
   "cell_type": "code",
   "execution_count": 22,
   "metadata": {},
   "outputs": [
    {
     "name": "stdout",
     "output_type": "stream",
     "text": [
      "Epoch 1/20\n",
      "274/274 [==============================] - 29s 101ms/step - loss: 331.1277 - reconstruction_loss: 233.1678 - kl_loss: 6.3318\n",
      "Epoch 2/20\n",
      "274/274 [==============================] - 26s 96ms/step - loss: 159.3577 - reconstruction_loss: 146.7048 - kl_loss: 8.5503 5s - loss: 160.2926 - reconstruction_loss: 148.1303 - kl_los - ETA: 4s - loss: 160.1395 -\n",
      "Epoch 3/20\n",
      "274/274 [==============================] - 27s 97ms/step - loss: 147.6882 - reconstruction_loss: 137.8280 - kl_loss: 8.8322\n",
      "Epoch 4/20\n",
      "274/274 [==============================] - 28s 101ms/step - loss: 143.7035 - reconstruction_loss: 133.9042 - kl_loss: 8.9315\n",
      "Epoch 5/20\n",
      "274/274 [==============================] - 29s 107ms/step - loss: 141.0559 - reconstruction_loss: 131.4668 - kl_loss: 9.05363s - loss: 141.1269 - reconstruction\n",
      "Epoch 6/20\n",
      "274/274 [==============================] - 28s 102ms/step - loss: 138.8424 - reconstruction_loss: 129.5231 - kl_loss: 9.1646\n",
      "Epoch 7/20\n",
      "274/274 [==============================] - 28s 101ms/step - loss: 137.7848 - reconstruction_loss: 128.1446 - kl_loss: 9.2526\n",
      "Epoch 8/20\n",
      "274/274 [==============================] - 29s 105ms/step - loss: 136.5385 - reconstruction_loss: 126.9650 - kl_loss: 9.3682\n",
      "Epoch 9/20\n",
      "274/274 [==============================] - 27s 99ms/step - loss: 136.0117 - reconstruction_loss: 126.1069 - kl_loss: 9.4180\n",
      "Epoch 10/20\n",
      "274/274 [==============================] - 27s 98ms/step - loss: 134.9051 - reconstruction_loss: 125.3678 - kl_loss: 9.4887\n",
      "Epoch 11/20\n",
      "274/274 [==============================] - 28s 104ms/step - loss: 134.2588 - reconstruction_loss: 124.6949 - kl_loss: 9.53401s - loss: 134.2576 - reconstruction_loss: 124.7782\n",
      "Epoch 12/20\n",
      "274/274 [==============================] - 29s 106ms/step - loss: 133.8448 - reconstruction_loss: 124.2094 - kl_loss: 9.58525s - loss: 1\n",
      "Epoch 13/20\n",
      "274/274 [==============================] - 30s 108ms/step - loss: 133.5673 - reconstruction_loss: 123.7510 - kl_loss: 9.63752s - loss: 133.5835 - reconstruction_loss: 12\n",
      "Epoch 14/20\n",
      "274/274 [==============================] - 27s 99ms/step - loss: 133.3058 - reconstruction_loss: 123.3633 - kl_loss: 9.6575- ETA: 6s\n",
      "Epoch 15/20\n",
      "274/274 [==============================] - 27s 98ms/step - loss: 132.8060 - reconstruction_loss: 123.0331 - kl_loss: 9.6793\n",
      "Epoch 16/20\n",
      "274/274 [==============================] - 28s 103ms/step - loss: 132.4525 - reconstruction_loss: 122.6361 - kl_loss: 9.73632s - loss: 132.4644 - reconstruction_loss: \n",
      "Epoch 17/20\n",
      "274/274 [==============================] - 29s 106ms/step - loss: 132.3164 - reconstruction_loss: 122.4142 - kl_loss: 9.7472\n",
      "Epoch 18/20\n",
      "274/274 [==============================] - 28s 102ms/step - loss: 131.8589 - reconstruction_loss: 122.1232 - kl_loss: 9.77211s - loss: 131.8578 - reconstruction_loss: 122.1400 - kl_lo\n",
      "Epoch 19/20\n",
      "274/274 [==============================] - 28s 102ms/step - loss: 131.7622 - reconstruction_loss: 121.9613 - kl_loss: 9.7803\n",
      "Epoch 20/20\n",
      "274/274 [==============================] - 28s 104ms/step - loss: 131.2463 - reconstruction_loss: 121.6467 - kl_loss: 9.8002\n"
     ]
    },
    {
     "data": {
      "text/plain": [
       "<tensorflow.python.keras.callbacks.History at 0x22ba4cce160>"
      ]
     },
     "execution_count": 22,
     "metadata": {},
     "output_type": "execute_result"
    }
   ],
   "source": [
    "\"\"\"\n",
    "ae.fit(mnist_digits,mnist_digits,\n",
    "      epochs = 20,\n",
    "      batch_size = 256)\n",
    "\"\"\"\n",
    "va.fit(mnist_digits,\n",
    "      epochs = 20,\n",
    "      batch_size = 256)"
   ]
  },
  {
   "cell_type": "markdown",
   "metadata": {},
   "source": [
    "## Investigate models\n"
   ]
  },
  {
   "cell_type": "code",
   "execution_count": 23,
   "metadata": {},
   "outputs": [],
   "source": [
    "#ae_reconstructions = ae(mnist_digits)\n",
    "va_reconstructions = va(mnist_digits)\n"
   ]
  },
  {
   "cell_type": "markdown",
   "metadata": {},
   "source": [
    "### Project the latent space"
   ]
  },
  {
   "cell_type": "code",
   "execution_count": 36,
   "metadata": {},
   "outputs": [
    {
     "name": "stderr",
     "output_type": "stream",
     "text": [
      "<ipython-input-36-3c0681151af4>:2: MatplotlibDeprecationWarning: Adding an axes using the same arguments as a previous axes currently reuses the earlier instance.  In a future version, a new instance will always be created and returned.  Meanwhile, this warning can be suppressed, and the future behavior ensured, by passing a unique label to each axes instance.\n",
      "  plt.subplot(1,2,1)\n",
      "<ipython-input-36-3c0681151af4>:4: MatplotlibDeprecationWarning: Adding an axes using the same arguments as a previous axes currently reuses the earlier instance.  In a future version, a new instance will always be created and returned.  Meanwhile, this warning can be suppressed, and the future behavior ensured, by passing a unique label to each axes instance.\n",
      "  plt.subplot(1,2,2)\n"
     ]
    },
    {
     "data": {
      "text/plain": [
       "2"
      ]
     },
     "execution_count": 36,
     "metadata": {},
     "output_type": "execute_result"
    }
   ],
   "source": [
    "i = 1213\n",
    "plt.subplot(1,2,1)\n",
    "plt.imshow(mnist_digits[i])\n",
    "plt.subplot(1,2,2)\n",
    "plt.imshow(va_reconstructions[i])\n",
    "mnist_labels[i]"
   ]
  },
  {
   "cell_type": "code",
   "execution_count": 37,
   "metadata": {},
   "outputs": [],
   "source": [
    "# import projection objects\n",
    "from sklearn.manifold import TSNE\n",
    "from sklearn.decomposition import PCA\n"
   ]
  },
  {
   "cell_type": "code",
   "execution_count": 38,
   "metadata": {},
   "outputs": [],
   "source": [
    "# Predict the latent points for each input data\n",
    "#ae_mean = ae.encoder.p(mnist_digits)\n",
    "va_mean= va.encode(mnist_digits)"
   ]
  },
  {
   "cell_type": "code",
   "execution_count": 10,
   "metadata": {},
   "outputs": [],
   "source": [
    "# Project the latent point according to the t-SNE algorithm\n",
    "#ae_tsne = TSNE().fit_transform(ae_mean)\n",
    "#va_tsne = TSNE().fit_transform(va_mean)"
   ]
  },
  {
   "cell_type": "code",
   "execution_count": 39,
   "metadata": {},
   "outputs": [],
   "source": [
    "# Project the latent point according to PCA and caluclate the principal axes\n",
    "#pca_ae = PCA(n_components = 2).fit(ae_mean)\n",
    "#ae_pca = pca_ae.transform(ae_mean)\n",
    "#ae_vectors = (pca_ae.components_.T *3*np.sqrt(pca_ae.explained_variance_)).T\n",
    "#ae_origin = np.mean(ae_mean, axis = 0)\n",
    "\n",
    "pca_va = PCA(n_components = 2).fit(va_mean)\n",
    "va_pca = pca_va.transform(va_mean)\n",
    "va_vectors = (pca_va.components_.T *3*np.sqrt(pca_va.explained_variance_)).T\n",
    "va_origin = np.mean(va_mean, axis = 0)"
   ]
  },
  {
   "cell_type": "markdown",
   "metadata": {},
   "source": [
    "### Run Gui:s"
   ]
  },
  {
   "cell_type": "markdown",
   "metadata": {},
   "source": [
    "### Sample scatter plot\n",
    "This visualization shows a 2D representation of the latent space and where each of the input point has been projected. This projection is done previously and is usually a PCA or t-SNE. Note that only one of the figures can work interactily at once."
   ]
  },
  {
   "cell_type": "code",
   "execution_count": 40,
   "metadata": {},
   "outputs": [],
   "source": [
    "#from samplescattergui import SampleScatterGUI\n",
    "from latent_plane_mosaic import LatentPlaneMosaic\n",
    "from latent_interpolation_mosaic import LatentInterpolationMosaic"
   ]
  },
  {
   "cell_type": "markdown",
   "metadata": {},
   "source": [
    "### Sample Scatter GUI"
   ]
  },
  {
   "cell_type": "code",
   "execution_count": 13,
   "metadata": {},
   "outputs": [],
   "source": [
    "# PCA/t-SNE of the autoencoder\n",
    "#SampleScatterGUI(ae_pca, mnist_labels, mnist_digits)\n",
    "#SampleScatterGUI(ae_tsne, mnist_labels, mnist_digits)\n"
   ]
  },
  {
   "cell_type": "code",
   "execution_count": 14,
   "metadata": {},
   "outputs": [],
   "source": [
    "# PCA/t-SNE of the Variational Autoencoder\n",
    "#SampleScatterGUI(va_pca, mnist_labels, mnist_digits)\n",
    "#SampleScatterGUI(va_tsne, mnist_labels, mnist_digits)"
   ]
  },
  {
   "cell_type": "markdown",
   "metadata": {},
   "source": [
    "### Latent Plane GUI"
   ]
  },
  {
   "cell_type": "code",
   "execution_count": 15,
   "metadata": {},
   "outputs": [],
   "source": [
    "#LatentPlaneMosaic(ae.decoder,latent_vectors = ae_vectors, latent_origin = ae_origin)"
   ]
  },
  {
   "cell_type": "code",
   "execution_count": 43,
   "metadata": {},
   "outputs": [],
   "source": [
    "LatentPlaneMosaic(va.decoder,latent_vectors = va_vectors, latent_origin = va_origin,\n",
    "                 num_row = 20, num_col = 20).show_mosaic()"
   ]
  },
  {
   "cell_type": "markdown",
   "metadata": {},
   "source": [
    "### Latent Interpolation Mosaic"
   ]
  },
  {
   "cell_type": "code",
   "execution_count": 21,
   "metadata": {},
   "outputs": [
    {
     "data": {
      "text/plain": [
       "<latentinterpolationmosaic.LatentInterpolationMosaic at 0x1bb4a8d0730>"
      ]
     },
     "execution_count": 21,
     "metadata": {},
     "output_type": "execute_result"
    }
   ],
   "source": [
    "indeces = [30,400,1203]\n",
    "LatentInterpolationMosaic(ae.encoder,\n",
    "                          ae.decoder,\n",
    "                          mnist_digits,\n",
    "                          indeces,\n",
    "                          num_row = 15,\n",
    "                          num_col = 15,\n",
    "                          variational = False)"
   ]
  },
  {
   "cell_type": "code",
   "execution_count": 41,
   "metadata": {},
   "outputs": [],
   "source": [
    "indeces = [30,400,1203]\n",
    "LatentInterpolationMosaic(va.encode,\n",
    "                          va.decoder,\n",
    "                          mnist_digits,\n",
    "                          indeces,\n",
    "                          num_row = 15,\n",
    "                          num_col = 15).show_mosaic()"
   ]
  },
  {
   "cell_type": "code",
   "execution_count": 24,
   "metadata": {},
   "outputs": [
    {
     "ename": "AttributeError",
     "evalue": "'Functional' object has no attribute 'Input'",
     "output_type": "error",
     "traceback": [
      "\u001b[1;31m---------------------------------------------------------------------------\u001b[0m",
      "\u001b[1;31mAttributeError\u001b[0m                            Traceback (most recent call last)",
      "\u001b[1;32m<ipython-input-24-cb6c816ed21b>\u001b[0m in \u001b[0;36m<module>\u001b[1;34m\u001b[0m\n\u001b[1;32m----> 1\u001b[1;33m \u001b[0mae\u001b[0m\u001b[1;33m.\u001b[0m\u001b[0mdecoder\u001b[0m\u001b[1;33m.\u001b[0m\u001b[0mInput\u001b[0m\u001b[1;33m\u001b[0m\u001b[1;33m\u001b[0m\u001b[0m\n\u001b[0m",
      "\u001b[1;31mAttributeError\u001b[0m: 'Functional' object has no attribute 'Input'"
     ]
    }
   ],
   "source": []
  },
  {
   "cell_type": "code",
   "execution_count": 5,
   "metadata": {},
   "outputs": [
    {
     "data": {
      "text/plain": [
       "(60000, 28, 28)"
      ]
     },
     "execution_count": 5,
     "metadata": {},
     "output_type": "execute_result"
    }
   ],
   "source": [
    "x_train.shape"
   ]
  },
  {
   "cell_type": "code",
   "execution_count": 6,
   "metadata": {},
   "outputs": [
    {
     "ename": "NameError",
     "evalue": "name 'ae' is not defined",
     "output_type": "error",
     "traceback": [
      "\u001b[1;31m---------------------------------------------------------------------------\u001b[0m",
      "\u001b[1;31mNameError\u001b[0m                                 Traceback (most recent call last)",
      "\u001b[1;32m<ipython-input-6-4a8d03fccb59>\u001b[0m in \u001b[0;36m<module>\u001b[1;34m\u001b[0m\n\u001b[1;32m----> 1\u001b[1;33m \u001b[0mae\u001b[0m\u001b[1;33m.\u001b[0m\u001b[0mpredict\u001b[0m\u001b[1;33m(\u001b[0m\u001b[0mmnist_digits\u001b[0m\u001b[1;33m)\u001b[0m\u001b[1;33m\u001b[0m\u001b[1;33m\u001b[0m\u001b[0m\n\u001b[0m",
      "\u001b[1;31mNameError\u001b[0m: name 'ae' is not defined"
     ]
    }
   ],
   "source": [
    "va.predict(mnist_digits)"
   ]
  },
  {
   "cell_type": "code",
   "execution_count": 32,
   "metadata": {},
   "outputs": [
    {
     "ename": "AttributeError",
     "evalue": "'DenseBlockLayer' object has no attribute '_is_graph_network'",
     "output_type": "error",
     "traceback": [
      "\u001b[1;31m---------------------------------------------------------------------------\u001b[0m",
      "\u001b[1;31mAttributeError\u001b[0m                            Traceback (most recent call last)",
      "\u001b[1;32m<ipython-input-32-3bad8e190651>\u001b[0m in \u001b[0;36m<module>\u001b[1;34m\u001b[0m\n\u001b[1;32m----> 1\u001b[1;33m \u001b[0mkeras\u001b[0m\u001b[1;33m.\u001b[0m\u001b[0mutils\u001b[0m\u001b[1;33m.\u001b[0m\u001b[0mplot_model\u001b[0m\u001b[1;33m(\u001b[0m\u001b[0mva\u001b[0m\u001b[1;33m.\u001b[0m\u001b[0mencoder\u001b[0m\u001b[1;33m,\u001b[0m \u001b[0mexpand_nested\u001b[0m \u001b[1;33m=\u001b[0m \u001b[1;32mTrue\u001b[0m\u001b[1;33m)\u001b[0m\u001b[1;33m\u001b[0m\u001b[1;33m\u001b[0m\u001b[0m\n\u001b[0m",
      "\u001b[1;32m~\\anaconda3\\lib\\site-packages\\tensorflow\\python\\keras\\utils\\vis_utils.py\u001b[0m in \u001b[0;36mplot_model\u001b[1;34m(model, to_file, show_shapes, show_dtype, show_layer_names, rankdir, expand_nested, dpi)\u001b[0m\n\u001b[0;32m    322\u001b[0m     \u001b[0mThis\u001b[0m \u001b[0menables\u001b[0m \u001b[1;32min\u001b[0m\u001b[1;33m-\u001b[0m\u001b[0mline\u001b[0m \u001b[0mdisplay\u001b[0m \u001b[0mof\u001b[0m \u001b[0mthe\u001b[0m \u001b[0mmodel\u001b[0m \u001b[0mplots\u001b[0m \u001b[1;32min\u001b[0m \u001b[0mnotebooks\u001b[0m\u001b[1;33m.\u001b[0m\u001b[1;33m\u001b[0m\u001b[1;33m\u001b[0m\u001b[0m\n\u001b[0;32m    323\u001b[0m   \"\"\"\n\u001b[1;32m--> 324\u001b[1;33m   dot = model_to_dot(\n\u001b[0m\u001b[0;32m    325\u001b[0m       \u001b[0mmodel\u001b[0m\u001b[1;33m,\u001b[0m\u001b[1;33m\u001b[0m\u001b[1;33m\u001b[0m\u001b[0m\n\u001b[0;32m    326\u001b[0m       \u001b[0mshow_shapes\u001b[0m\u001b[1;33m=\u001b[0m\u001b[0mshow_shapes\u001b[0m\u001b[1;33m,\u001b[0m\u001b[1;33m\u001b[0m\u001b[1;33m\u001b[0m\u001b[0m\n",
      "\u001b[1;32m~\\anaconda3\\lib\\site-packages\\tensorflow\\python\\keras\\utils\\vis_utils.py\u001b[0m in \u001b[0;36mmodel_to_dot\u001b[1;34m(model, show_shapes, show_dtype, show_layer_names, rankdir, expand_nested, dpi, subgraph)\u001b[0m\n\u001b[0;32m    133\u001b[0m \u001b[1;33m\u001b[0m\u001b[0m\n\u001b[0;32m    134\u001b[0m   \u001b[0mlayers\u001b[0m \u001b[1;33m=\u001b[0m \u001b[0mmodel\u001b[0m\u001b[1;33m.\u001b[0m\u001b[0mlayers\u001b[0m\u001b[1;33m\u001b[0m\u001b[1;33m\u001b[0m\u001b[0m\n\u001b[1;32m--> 135\u001b[1;33m   \u001b[1;32mif\u001b[0m \u001b[1;32mnot\u001b[0m \u001b[0mmodel\u001b[0m\u001b[1;33m.\u001b[0m\u001b[0m_is_graph_network\u001b[0m\u001b[1;33m:\u001b[0m\u001b[1;33m\u001b[0m\u001b[1;33m\u001b[0m\u001b[0m\n\u001b[0m\u001b[0;32m    136\u001b[0m     \u001b[0mnode\u001b[0m \u001b[1;33m=\u001b[0m \u001b[0mpydot\u001b[0m\u001b[1;33m.\u001b[0m\u001b[0mNode\u001b[0m\u001b[1;33m(\u001b[0m\u001b[0mstr\u001b[0m\u001b[1;33m(\u001b[0m\u001b[0mid\u001b[0m\u001b[1;33m(\u001b[0m\u001b[0mmodel\u001b[0m\u001b[1;33m)\u001b[0m\u001b[1;33m)\u001b[0m\u001b[1;33m,\u001b[0m \u001b[0mlabel\u001b[0m\u001b[1;33m=\u001b[0m\u001b[0mmodel\u001b[0m\u001b[1;33m.\u001b[0m\u001b[0mname\u001b[0m\u001b[1;33m)\u001b[0m\u001b[1;33m\u001b[0m\u001b[1;33m\u001b[0m\u001b[0m\n\u001b[0;32m    137\u001b[0m     \u001b[0mdot\u001b[0m\u001b[1;33m.\u001b[0m\u001b[0madd_node\u001b[0m\u001b[1;33m(\u001b[0m\u001b[0mnode\u001b[0m\u001b[1;33m)\u001b[0m\u001b[1;33m\u001b[0m\u001b[1;33m\u001b[0m\u001b[0m\n",
      "\u001b[1;31mAttributeError\u001b[0m: 'DenseBlockLayer' object has no attribute '_is_graph_network'"
     ]
    }
   ],
   "source": [
    "keras.utils.plot_model(va.encoder, expand_nested = True)"
   ]
  },
  {
   "cell_type": "code",
   "execution_count": 31,
   "metadata": {},
   "outputs": [
    {
     "data": {
      "text/plain": [
       "[<tf.Variable 'variational_autoencoder_1/dense_block_layer_2/dense_4/kernel:0' shape=(784, 10) dtype=float32, numpy=\n",
       " array([[-0.02771027, -0.00202511,  0.06125293, ...,  0.07441264,\n",
       "         -0.06808323, -0.05319108],\n",
       "        [-0.01940939, -0.0584645 ,  0.0557312 , ..., -0.07566355,\n",
       "         -0.0046882 ,  0.00118186],\n",
       "        [ 0.02232198, -0.06376348,  0.07441115, ...,  0.03707593,\n",
       "          0.02591281,  0.02884451],\n",
       "        ...,\n",
       "        [-0.00221512,  0.00118216, -0.03305642, ..., -0.07580428,\n",
       "          0.07315595, -0.00320139],\n",
       "        [-0.04254595, -0.02291542,  0.07915518, ..., -0.01051845,\n",
       "          0.06375469,  0.05086007],\n",
       "        [-0.05494902,  0.02680489,  0.06560836, ..., -0.02077612,\n",
       "          0.08011579, -0.01505313]], dtype=float32)>,\n",
       " <tf.Variable 'variational_autoencoder_1/dense_block_layer_2/dense_4/bias:0' shape=(10,) dtype=float32, numpy=\n",
       " array([-0.01288231, -0.64809793, -0.01950503,  2.456859  , -0.02103493,\n",
       "        -0.61141324,  2.1000855 ,  0.41000456,  1.8057554 , -1.4204465 ],\n",
       "       dtype=float32)>,\n",
       " <tf.Variable 'variational_autoencoder_1/dense_block_layer_2/dense_5/kernel:0' shape=(10, 10) dtype=float32, numpy=\n",
       " array([[ 0.00364881, -0.22576922, -0.31069374, -0.04265611, -0.42827857,\n",
       "         -0.18344662,  0.361573  , -0.4522729 ,  0.01465108, -0.47606513],\n",
       "        [-0.30644843, -0.03648063,  0.306709  , -0.16703127,  0.30758375,\n",
       "         -0.37895906, -0.5377535 ,  0.36530557,  0.8844631 ,  0.19106819],\n",
       "        [ 0.2752822 , -0.4116865 , -0.20682144,  0.5176761 , -0.03195364,\n",
       "         -0.45414442, -0.37183395,  0.11446566, -0.40112182, -0.55511004],\n",
       "        [-0.23738034,  0.5036734 , -0.09786376, -0.5146099 , -0.46262762,\n",
       "         -0.5172344 , -0.20968582,  0.03417839, -0.2868546 ,  0.87521195],\n",
       "        [ 0.36604005,  0.08550085, -0.40972942,  0.04523715, -0.5543561 ,\n",
       "         -0.07587719,  0.12575455, -0.32225198, -0.31108984,  0.45519844],\n",
       "        [-0.52314264,  0.40461978,  0.09091756,  0.35376891, -0.44549394,\n",
       "          0.0914051 , -0.08269487, -0.46251845,  0.977023  ,  0.11699121],\n",
       "        [ 0.45044386, -1.0444303 ,  0.5107117 ,  1.0142736 , -0.22599892,\n",
       "         -0.3171119 ,  0.45002407,  0.2875039 , -0.3610282 ,  0.8179286 ],\n",
       "        [-0.2638248 ,  0.8697126 ,  0.2704399 ,  0.42527458, -0.3788933 ,\n",
       "         -0.5001656 , -0.27405232,  0.20704319, -0.2987297 ,  0.26598242],\n",
       "        [ 0.40799913, -0.5211401 ,  0.30151945, -0.49786985, -0.3339199 ,\n",
       "         -0.38259673,  0.41118255,  0.5993073 , -0.30376077,  1.088022  ],\n",
       "        [ 0.13956532,  0.83879817, -0.17827643, -0.09974897,  0.02953937,\n",
       "         -0.4112388 , -0.28295922,  0.63330424,  0.6031739 , -0.6642394 ]],\n",
       "       dtype=float32)>,\n",
       " <tf.Variable 'variational_autoencoder_1/dense_block_layer_2/dense_5/bias:0' shape=(10,) dtype=float32, numpy=\n",
       " array([-0.02866523, -0.49665216,  0.21410061,  0.7547732 , -0.03435278,\n",
       "         0.00540867, -0.02107377, -0.46048278, -0.9144048 ,  2.0504358 ],\n",
       "       dtype=float32)>,\n",
       " <tf.Variable 'variational_autoencoder_1/dense_block_layer_2/dense_6/kernel:0' shape=(10, 8) dtype=float32, numpy=\n",
       " array([[ 0.31407753,  0.4600167 , -0.05961396, -0.40795374, -0.02573217,\n",
       "          0.06227165,  0.04606917, -0.10219371],\n",
       "        [ 0.18622948,  0.6720392 ,  0.8514269 ,  0.537281  ,  0.28453997,\n",
       "         -0.07510711, -0.17418212,  0.25286832],\n",
       "        [-0.18919775,  0.07294018, -0.0866399 ,  0.23331116,  0.20466043,\n",
       "         -0.30833858, -0.48172712, -0.58664566],\n",
       "        [ 0.35656086,  0.91200054, -0.85926485,  0.24508291,  0.27767813,\n",
       "          0.20159037, -0.3523673 ,  0.4003682 ],\n",
       "        [ 0.06592277,  0.43186003, -0.5433789 ,  0.13561936,  0.08885284,\n",
       "         -0.12132541,  0.04439242, -0.13805914],\n",
       "        [-0.35563022, -0.3013841 , -0.15136161,  0.15424281, -0.08313066,\n",
       "         -0.08608367,  0.1432505 ,  0.27062577],\n",
       "        [-0.26917502, -0.43717209, -0.03284615, -0.17615712, -0.5160466 ,\n",
       "         -0.3428924 ,  0.33757654, -0.5088165 ],\n",
       "        [-0.55846494, -0.59708667,  0.9443195 , -0.12424299, -0.18226336,\n",
       "         -0.49510467,  0.14946777, -0.00703666],\n",
       "        [ 0.5117948 , -0.8115678 ,  0.22832617,  0.30470097, -1.0068241 ,\n",
       "         -0.9911602 , -0.6832951 , -0.8579694 ],\n",
       "        [-0.6978768 ,  0.3989749 , -0.87012875, -1.0318772 ,  0.20401986,\n",
       "          0.53024226, -0.32570672,  0.40049827]], dtype=float32)>,\n",
       " <tf.Variable 'variational_autoencoder_1/dense_block_layer_2/dense_6/bias:0' shape=(8,) dtype=float32, numpy=\n",
       " array([-0.09660254,  0.60401213, -1.1284121 , -0.19014814,  0.6702276 ,\n",
       "         0.11056287, -0.16447508,  0.35031173], dtype=float32)>,\n",
       " <tf.Variable 'variational_autoencoder_1/dense_block_layer_3/dense_7/kernel:0' shape=(4, 10) dtype=float32, numpy=\n",
       " array([[ 0.05586813,  0.7090039 ,  0.25530794, -0.30751604, -0.29236257,\n",
       "         -0.7694969 ,  0.552491  , -0.05759942, -0.58610374,  0.4255806 ],\n",
       "        [-0.02138875, -0.13095109, -0.01647698, -0.4901987 ,  0.44146818,\n",
       "          0.70387834,  1.2107943 , -0.16759366,  0.02131351, -0.15583292],\n",
       "        [ 0.41394904,  0.16877319,  0.80924636,  0.09590407, -0.08187249,\n",
       "          0.10747916, -0.01797727, -0.5344875 ,  0.07289062,  0.14179625],\n",
       "        [ 0.07107331,  0.7742034 ,  0.32230335, -0.00186094, -0.1534867 ,\n",
       "         -0.6108284 ,  0.26085144,  0.0862613 ,  0.7529889 , -0.53300345]],\n",
       "       dtype=float32)>,\n",
       " <tf.Variable 'variational_autoencoder_1/dense_block_layer_3/dense_7/bias:0' shape=(10,) dtype=float32, numpy=\n",
       " array([0.9404188 , 0.6479956 , 0.677928  , 1.0066775 , 1.1688337 ,\n",
       "        0.16205934, 0.36900952, 1.3916218 , 0.62113786, 0.9087873 ],\n",
       "       dtype=float32)>,\n",
       " <tf.Variable 'variational_autoencoder_1/dense_block_layer_3/dense_8/kernel:0' shape=(10, 10) dtype=float32, numpy=\n",
       " array([[ 0.6066063 ,  0.11847316,  1.0610805 ,  0.09584068,  1.1702669 ,\n",
       "         -0.548004  , -0.19149539,  0.18789513, -0.23964877, -0.48061043],\n",
       "        [-0.05248094,  0.689573  ,  0.03181564,  0.26454422,  0.07674532,\n",
       "          0.3689145 ,  0.2883544 , -0.56046283,  0.14183816,  0.34079516],\n",
       "        [ 0.19049358,  0.4949973 ,  0.50361514, -0.3325282 ,  0.05899758,\n",
       "         -0.7271565 ,  0.06150449, -0.402654  ,  0.02722359,  0.3175836 ],\n",
       "        [ 0.5071434 , -0.21248564, -0.5164557 ,  0.3963541 ,  0.01679289,\n",
       "          0.46927258,  0.44387302,  0.898564  ,  0.34222335,  0.15844434],\n",
       "        [ 0.19229247, -0.24165292,  0.6641634 ,  0.83041704,  0.1418511 ,\n",
       "          0.27576822,  0.20660153,  0.7930619 ,  0.76152766,  0.26191083],\n",
       "        [ 0.53583944, -0.152     ,  0.34952742,  0.20983137, -0.42074588,\n",
       "         -0.00734595,  0.0153004 ,  0.324079  ,  0.00418088,  0.73208284],\n",
       "        [-0.18665057, -0.39039183,  0.3819934 ,  0.23388568, -0.21920289,\n",
       "          0.5421882 ,  0.56385607, -0.15629752,  0.6985611 , -0.09576036],\n",
       "        [-0.41006428,  0.6726257 , -0.04298197,  0.70995355,  1.2743831 ,\n",
       "          0.317791  , -0.19446968,  0.40402496, -0.01308585, -0.36876264],\n",
       "        [ 0.49650037, -0.5115094 , -0.24180382, -0.05601163, -0.11412711,\n",
       "          0.39554325,  0.58846897, -0.02132326,  0.520363  ,  0.42548656],\n",
       "        [ 0.6439412 ,  0.3565619 , -0.48119864,  0.24251768, -0.13264969,\n",
       "          0.47758546,  0.29257742,  0.6355023 ,  1.0250448 ,  0.30024108]],\n",
       "       dtype=float32)>,\n",
       " <tf.Variable 'variational_autoencoder_1/dense_block_layer_3/dense_8/bias:0' shape=(10,) dtype=float32, numpy=\n",
       " array([0.15053758, 0.31885284, 0.39562565, 0.26733407, 1.1144092 ,\n",
       "        0.07068101, 0.03526023, 0.52456146, 0.06289655, 0.01368301],\n",
       "       dtype=float32)>,\n",
       " <tf.Variable 'variational_autoencoder_1/dense_block_layer_3/dense_9/kernel:0' shape=(10, 784) dtype=float32, numpy=\n",
       " array([[-0.32811746, -0.27065206, -0.3343821 , ..., -0.30168638,\n",
       "         -0.3307823 , -0.24815154],\n",
       "        [-0.5005419 , -0.3873649 , -0.341336  , ..., -0.40412828,\n",
       "         -0.5171    , -0.36241806],\n",
       "        [-0.32937735, -0.23132817, -0.2324642 , ..., -0.35212073,\n",
       "         -0.36316758, -0.35273615],\n",
       "        ...,\n",
       "        [-0.6325352 , -0.6482672 , -0.6376483 , ..., -0.65438694,\n",
       "         -0.7586674 , -0.6733968 ],\n",
       "        [-0.2169984 , -0.33677742, -0.22417076, ..., -0.19900258,\n",
       "         -0.30271634, -0.29702115],\n",
       "        [-0.55738884, -0.46174955, -0.5331378 , ..., -0.43995914,\n",
       "         -0.49079153, -0.5500562 ]], dtype=float32)>,\n",
       " <tf.Variable 'variational_autoencoder_1/dense_block_layer_3/dense_9/bias:0' shape=(784,) dtype=float32, numpy=\n",
       " array([-0.17582075, -0.16842766, -0.18507032, -0.18104216, -0.18315777,\n",
       "        -0.17436306, -0.19182503, -0.17162386, -0.17846146, -0.17878848,\n",
       "        -0.17650653, -0.17100601, -0.17688976, -0.17057917, -0.17525998,\n",
       "        -0.18419936, -0.18907928, -0.1786543 , -0.19794081, -0.16637513,\n",
       "        -0.17838271, -0.16941604, -0.18755591, -0.17162947, -0.15773077,\n",
       "        -0.19433649, -0.16799538, -0.17352015, -0.17345944, -0.172943  ,\n",
       "        -0.15895537, -0.18753272, -0.1684005 , -0.1812086 , -0.184478  ,\n",
       "        -0.16511163, -0.1897844 , -0.18177293, -0.19584456, -0.19073892,\n",
       "        -0.19584383, -0.19712599, -0.19631316, -0.19430926, -0.1955067 ,\n",
       "        -0.20163672, -0.20389429, -0.19160177, -0.20167528, -0.20083998,\n",
       "        -0.18434845, -0.18398105, -0.20138377, -0.17217329, -0.17960292,\n",
       "        -0.17262463, -0.17831033, -0.17137295, -0.1635817 , -0.17474242,\n",
       "        -0.17758726, -0.17266914, -0.18189514, -0.1854777 , -0.19557746,\n",
       "        -0.2120961 , -0.22515173, -0.23620737, -0.25029436, -0.26036116,\n",
       "        -0.29697564, -0.27320507, -0.28636175, -0.2962671 , -0.3034401 ,\n",
       "        -0.27976146, -0.260703  , -0.23052998, -0.22081997, -0.20909306,\n",
       "        -0.19189206, -0.18875232, -0.18925816, -0.18473883, -0.18344456,\n",
       "        -0.1866327 , -0.18052135, -0.17170651, -0.17682718, -0.19494537,\n",
       "        -0.20892327, -0.23486942, -0.25898197, -0.2779172 , -0.29518047,\n",
       "        -0.29723534, -0.3119449 , -0.3281953 , -0.3048279 , -0.32936838,\n",
       "        -0.3442114 , -0.38930055, -0.3481216 , -0.33665386, -0.30765802,\n",
       "        -0.2807352 , -0.24261786, -0.23520894, -0.21374625, -0.20230904,\n",
       "        -0.18331242, -0.19028294, -0.21029451, -0.18016954, -0.18036015,\n",
       "        -0.17233755, -0.20122938, -0.21708383, -0.2585367 , -0.28740773,\n",
       "        -0.29081863, -0.3072438 , -0.32051268, -0.3392782 , -0.37675443,\n",
       "        -0.47506133, -0.51861554, -0.52937907, -0.53927284, -0.5321413 ,\n",
       "        -0.5361737 , -0.48823372, -0.43855608, -0.37478527, -0.31310162,\n",
       "        -0.2609616 , -0.22536767, -0.20965448, -0.17038532, -0.18105978,\n",
       "        -0.16818349, -0.18940409, -0.15691377, -0.18152492, -0.23519309,\n",
       "        -0.26058424, -0.27237913, -0.29992566, -0.29749697, -0.28414637,\n",
       "        -0.25517341, -0.24248523, -0.28126252, -0.3810369 , -0.3888582 ,\n",
       "        -0.4256072 , -0.44903094, -0.5034706 , -0.4523029 , -0.46592754,\n",
       "        -0.40019348, -0.36219996, -0.32422796, -0.28283465, -0.23671456,\n",
       "        -0.2164435 , -0.19380237, -0.16575287, -0.18017544, -0.18315995,\n",
       "        -0.18095574, -0.19832149, -0.23014653, -0.25961527, -0.29899862,\n",
       "        -0.3255676 , -0.28653058, -0.233277  , -0.14036442, -0.08348679,\n",
       "        -0.00677412, -0.04862181, -0.04191583, -0.11055091, -0.12500778,\n",
       "        -0.13355406, -0.15134723, -0.19302443, -0.2525198 , -0.22970119,\n",
       "        -0.28719044, -0.27730665, -0.19630685, -0.19936591, -0.18491653,\n",
       "        -0.17132881, -0.16300198, -0.16207272, -0.1815196 , -0.21215437,\n",
       "        -0.25027117, -0.2901125 , -0.2887834 , -0.27064678, -0.24810903,\n",
       "        -0.13680688, -0.01008248,  0.225208  ,  0.2580988 ,  0.20873678,\n",
       "         0.14150688, -0.053647  , -0.08123691,  0.01753744,  0.1009918 ,\n",
       "         0.07461867, -0.04676864, -0.17889099, -0.23932767, -0.23337221,\n",
       "        -0.23317477, -0.18636051, -0.17173252, -0.17408644, -0.17204231,\n",
       "        -0.16871156, -0.17098698, -0.20040435, -0.23467645, -0.2869531 ,\n",
       "        -0.27227098, -0.240768  , -0.16782242,  0.0145071 ,  0.23947601,\n",
       "         0.39831847,  0.45198846,  0.25274247, -0.10362025, -0.33952126,\n",
       "        -0.21549164,  0.07234554,  0.19974563,  0.2544058 ,  0.098672  ,\n",
       "        -0.120359  , -0.21734568, -0.2368344 , -0.2246231 , -0.18719651,\n",
       "        -0.19261195, -0.18915722, -0.16566251, -0.16598864, -0.1715661 ,\n",
       "        -0.2036767 , -0.24175541, -0.25221133, -0.28401542, -0.19450723,\n",
       "        -0.10883199,  0.11752944,  0.3635019 ,  0.43470454,  0.33932728,\n",
       "        -0.03138318, -0.5263181 , -0.6677419 , -0.543258  , -0.07233848,\n",
       "         0.23038056,  0.31846946,  0.09129949, -0.10948087, -0.2269613 ,\n",
       "        -0.2625583 , -0.25668982, -0.18953916, -0.191517  , -0.17094743,\n",
       "        -0.17370331, -0.17915863, -0.17090382, -0.20405231, -0.22036305,\n",
       "        -0.25968534, -0.26318443, -0.19777593,  0.00204261,  0.18539071,\n",
       "         0.35776955,  0.35544753,  0.09191968, -0.38733014, -0.8863977 ,\n",
       "        -1.0258687 , -0.6344311 , -0.07036719,  0.26966935,  0.28728828,\n",
       "         0.02356445, -0.15926486, -0.26446342, -0.2938481 , -0.26074618,\n",
       "        -0.2002197 , -0.20115724, -0.18049438, -0.16157477, -0.17851648,\n",
       "        -0.18001765, -0.19771026, -0.24323048, -0.27369666, -0.2396626 ,\n",
       "        -0.17156637, -0.00153124,  0.15017313,  0.28228343,  0.21192144,\n",
       "        -0.05341469, -0.5877586 , -1.106533  , -1.0644168 , -0.53667134,\n",
       "         0.12037192,  0.36741355,  0.28640035, -0.00526227, -0.1774487 ,\n",
       "        -0.22817382, -0.26960734, -0.27104893, -0.21619618, -0.19731215,\n",
       "        -0.19090068, -0.17153378, -0.15112236, -0.189417  , -0.20460251,\n",
       "        -0.24623856, -0.26858065, -0.23905277, -0.13661982, -0.00792818,\n",
       "         0.16742231,  0.26963565,  0.22664997, -0.07549855, -0.62668973,\n",
       "        -1.0763904 , -0.91949946, -0.21546786,  0.42649642,  0.43980443,\n",
       "         0.23523022, -0.08106337, -0.1448405 , -0.23509184, -0.25752643,\n",
       "        -0.2501505 , -0.20544767, -0.17269213, -0.1842798 , -0.18718463,\n",
       "        -0.1724243 , -0.17911318, -0.20801535, -0.2594058 , -0.2653404 ,\n",
       "        -0.23984984, -0.15870707,  0.07709794,  0.24950852,  0.28679737,\n",
       "         0.2143788 , -0.06000441, -0.6630394 , -0.85340106, -0.54336345,\n",
       "         0.30965218,  0.7319565 ,  0.5723618 ,  0.17413461, -0.02998477,\n",
       "        -0.11641369, -0.22420038, -0.23348223, -0.24047568, -0.20127964,\n",
       "        -0.17722414, -0.16704611, -0.17354822, -0.16291861, -0.17848334,\n",
       "        -0.1854821 , -0.22318958, -0.25098938, -0.23207276, -0.08347386,\n",
       "         0.02581859,  0.17745064,  0.28829443,  0.24771199,  0.04780632,\n",
       "        -0.48177347, -0.6069049 , -0.08155166,  0.60511994,  0.79336315,\n",
       "         0.5330959 ,  0.1825219 , -0.04371195, -0.1220163 , -0.24058385,\n",
       "        -0.23352082, -0.23834774, -0.20946555, -0.18726003, -0.17607574,\n",
       "        -0.17575192, -0.17362618, -0.17742431, -0.19230013, -0.24506372,\n",
       "        -0.25292918, -0.1800815 , -0.12284741,  0.03370255,  0.2026639 ,\n",
       "         0.2619463 ,  0.17043665, -0.03676055, -0.46068582, -0.47412208,\n",
       "         0.03478006,  0.63342613,  0.75193083,  0.43582475,  0.16998756,\n",
       "         0.00190696, -0.13134246, -0.20127645, -0.229125  , -0.23773858,\n",
       "        -0.22303407, -0.20025149, -0.17927866, -0.16490318, -0.18364309,\n",
       "        -0.20975193, -0.20789489, -0.2626448 , -0.2533221 , -0.17642665,\n",
       "        -0.11689577, -0.00515959,  0.1297239 ,  0.14532232,  0.01841029,\n",
       "        -0.25675568, -0.5795979 , -0.49646136, -0.02767154,  0.54757404,\n",
       "         0.6375905 ,  0.44055417,  0.17543456, -0.00558713, -0.10773373,\n",
       "        -0.1970553 , -0.23654221, -0.2378309 , -0.22185433, -0.19764732,\n",
       "        -0.17975867, -0.16772129, -0.16478208, -0.2054059 , -0.23139407,\n",
       "        -0.2511702 , -0.28078282, -0.1920397 , -0.07361598, -0.03512407,\n",
       "         0.01875954,  0.03556659, -0.18136743, -0.5185635 , -0.8061561 ,\n",
       "        -0.6216824 , -0.09521189,  0.43256354,  0.5452759 ,  0.3377287 ,\n",
       "         0.1339775 ,  0.00389767, -0.07686085, -0.18829346, -0.26069713,\n",
       "        -0.25201213, -0.2408052 , -0.21087275, -0.19362088, -0.1676163 ,\n",
       "        -0.17171688, -0.20319313, -0.2467998 , -0.2741499 , -0.26837468,\n",
       "        -0.1976797 , -0.09381453, -0.02940418, -0.04037343, -0.14774095,\n",
       "        -0.42284742, -0.691045  , -0.89775187, -0.5910697 , -0.06256285,\n",
       "         0.4041663 ,  0.4479992 ,  0.35188892,  0.16646096,  0.01861298,\n",
       "        -0.11695597, -0.20748329, -0.22084396, -0.2576816 , -0.26243103,\n",
       "        -0.21702093, -0.19366902, -0.18963422, -0.17671008, -0.22837265,\n",
       "        -0.2539763 , -0.2492328 , -0.23830202, -0.19999121, -0.03501069,\n",
       "        -0.01510971, -0.02774378, -0.19405544, -0.45491168, -0.6726919 ,\n",
       "        -0.68845916, -0.44625476,  0.05589694,  0.38113838,  0.41679427,\n",
       "         0.30541798,  0.12357812, -0.06737908, -0.19385022, -0.22731853,\n",
       "        -0.27791432, -0.2683622 , -0.25944307, -0.2083797 , -0.16971932,\n",
       "        -0.17033839, -0.17481773, -0.23482043, -0.24602373, -0.25698397,\n",
       "        -0.2669215 , -0.18407483, -0.08198503, -0.02707806, -0.08653145,\n",
       "        -0.21815169, -0.36619928, -0.42650265, -0.41160747, -0.14633052,\n",
       "         0.18152192,  0.38599202,  0.3948994 ,  0.21777923, -0.01462576,\n",
       "        -0.12140707, -0.21610157, -0.25467336, -0.26196823, -0.2591071 ,\n",
       "        -0.23977078, -0.19694684, -0.17369536, -0.15960628, -0.17277706,\n",
       "        -0.2245784 , -0.25906405, -0.28928837, -0.27077317, -0.209868  ,\n",
       "        -0.13843475, -0.07401976, -0.07930787, -0.1061956 , -0.1827883 ,\n",
       "        -0.20645313, -0.11108359,  0.0559573 ,  0.18438122,  0.22698402,\n",
       "         0.19188751, -0.00152704, -0.11396157, -0.23256467, -0.26434568,\n",
       "        -0.25978348, -0.27418232, -0.2524836 , -0.23086274, -0.1839627 ,\n",
       "        -0.16970901, -0.19842078, -0.17884456, -0.22056466, -0.25351274,\n",
       "        -0.27089283, -0.32439467, -0.301527  , -0.2658457 , -0.20506333,\n",
       "        -0.12358703, -0.12598   , -0.06041968, -0.08852408, -0.03682167,\n",
       "        -0.07846275,  0.00764965, -0.03956869, -0.11402812, -0.16404654,\n",
       "        -0.28523144, -0.25829232, -0.2755496 , -0.26215652, -0.25082004,\n",
       "        -0.23842065, -0.2050932 , -0.17724957, -0.18713772, -0.1841859 ,\n",
       "        -0.1707594 , -0.18515755, -0.22560257, -0.26755145, -0.30016991,\n",
       "        -0.33907083, -0.32162938, -0.28444302, -0.23374484, -0.25430083,\n",
       "        -0.16332282, -0.21103004, -0.24838412, -0.30717182, -0.33623222,\n",
       "        -0.29477927, -0.24172162, -0.27331045, -0.27202255, -0.26840562,\n",
       "        -0.25075623, -0.23297037, -0.20643078, -0.20455812, -0.19500557,\n",
       "        -0.17552394, -0.17848018, -0.18542598, -0.16279654, -0.17198238,\n",
       "        -0.1934265 , -0.21691404, -0.23511094, -0.25468057, -0.26653537,\n",
       "        -0.22055598, -0.22994167, -0.20566078, -0.1791431 , -0.17844081,\n",
       "        -0.2369732 , -0.2648238 , -0.23603383, -0.23451893, -0.2418499 ,\n",
       "        -0.2533503 , -0.24291152, -0.23123945, -0.21740636, -0.20755798,\n",
       "        -0.18690264, -0.18190649, -0.160634  , -0.16417281, -0.16915755,\n",
       "        -0.18529712, -0.16422825, -0.17034753, -0.1816114 , -0.19384223,\n",
       "        -0.1661379 , -0.16651396, -0.13954093, -0.11019285, -0.08700776,\n",
       "        -0.06467155, -0.08761667, -0.06877542, -0.11687505, -0.11383276,\n",
       "        -0.12695676, -0.1681521 , -0.20377833, -0.21165384, -0.231186  ,\n",
       "        -0.21495467, -0.20055565, -0.18887667, -0.1781539 , -0.1698818 ,\n",
       "        -0.18044633, -0.18586361, -0.17928103, -0.18173288, -0.18514748,\n",
       "        -0.18487233, -0.18314743, -0.16822307, -0.15992224, -0.14446613,\n",
       "        -0.11059958, -0.10156724, -0.08738722, -0.08159383, -0.09031253,\n",
       "        -0.09537239, -0.12890585, -0.12749957, -0.14390838, -0.17864625,\n",
       "        -0.19233266, -0.2030512 , -0.20389919, -0.19972815, -0.17973652,\n",
       "        -0.16597593, -0.17113668, -0.18567638, -0.17514934, -0.17344655,\n",
       "        -0.18769765, -0.18106726, -0.17457107, -0.19369963, -0.18278491,\n",
       "        -0.17081949, -0.17172931, -0.1661065 , -0.1650899 , -0.1549105 ,\n",
       "        -0.15409257, -0.15861571, -0.15275942, -0.1515364 , -0.1609612 ,\n",
       "        -0.16761732, -0.16443759, -0.18184842, -0.18138897, -0.18852127,\n",
       "        -0.16785307, -0.17901719, -0.17244835, -0.16717494, -0.17477688,\n",
       "        -0.1873586 , -0.18031491, -0.17727028, -0.16863726], dtype=float32)>]"
      ]
     },
     "execution_count": 31,
     "metadata": {},
     "output_type": "execute_result"
    }
   ],
   "source": []
  },
  {
   "cell_type": "code",
   "execution_count": null,
   "metadata": {},
   "outputs": [],
   "source": []
  }
 ],
 "metadata": {
  "kernelspec": {
   "display_name": "Python 3",
   "language": "python",
   "name": "python3"
  },
  "language_info": {
   "codemirror_mode": {
    "name": "ipython",
    "version": 3
   },
   "file_extension": ".py",
   "mimetype": "text/x-python",
   "name": "python",
   "nbconvert_exporter": "python",
   "pygments_lexer": "ipython3",
   "version": "3.8.8"
  }
 },
 "nbformat": 4,
 "nbformat_minor": 4
}
