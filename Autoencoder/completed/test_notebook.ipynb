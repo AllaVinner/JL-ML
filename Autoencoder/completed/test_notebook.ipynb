{
 "cells": [
  {
   "cell_type": "code",
   "execution_count": 4,
   "metadata": {},
   "outputs": [
    {
     "name": "stdout",
     "output_type": "stream",
     "text": [
      "57\n"
     ]
    }
   ],
   "source": [
    "import numpy as np\r\n",
    "import tensorflow as tf\r\n",
    "\r\n",
    "# a = tf.zeros((28, 28, 1))\r\n",
    "# print(a.shape)\r\n",
    "# print(tf.reshape(a, [-1]).shape)\r\n",
    "\r\n",
    "b = (28, 28, 1)\r\n",
    "print(tf.reduce_sum(b).numpy())"
   ]
  },
  {
   "cell_type": "code",
   "execution_count": 59,
   "metadata": {},
   "outputs": [
    {
     "name": "stdout",
     "output_type": "stream",
     "text": [
      "(10, 28, 28, 1)\n"
     ]
    }
   ],
   "source": [
    "import importlib\r\n",
    "import autoencoder\r\n",
    "importlib.reload(autoencoder)\r\n",
    "from autoencoder import Autoencoder\r\n",
    "\r\n",
    "model = Autoencoder((28, 28, 1), model_type='cnn')\r\n",
    "img = tf.zeros((10, 28, 28, 1))\r\n",
    "print(model(img).shape)\r\n",
    "\r\n",
    "# We have to send in an input with a batch dimension when using call?"
   ]
  },
  {
   "cell_type": "code",
   "execution_count": null,
   "metadata": {},
   "outputs": [],
   "source": []
  }
 ],
 "metadata": {
  "interpreter": {
   "hash": "dd593813f0e920a894f9bede9157c42ea32ce77eaa35990e17a2847ab973ef24"
  },
  "kernelspec": {
   "display_name": "Python 3.8.10 64-bit ('JL-ML': conda)",
   "name": "python3"
  },
  "language_info": {
   "codemirror_mode": {
    "name": "ipython",
    "version": 3
   },
   "file_extension": ".py",
   "mimetype": "text/x-python",
   "name": "python",
   "nbconvert_exporter": "python",
   "pygments_lexer": "ipython3",
   "version": "3.8.10"
  },
  "orig_nbformat": 4
 },
 "nbformat": 4,
 "nbformat_minor": 2
}