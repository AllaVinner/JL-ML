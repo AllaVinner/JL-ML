{
 "cells": [
  {
   "cell_type": "markdown",
   "source": [
    "CB Loss paper: https://papers.nips.cc/paper/2019/file/f82798ec8909d23e55679ee26bb26437-Paper.pdf \r\n",
    "w code: https://github.com/cunningham-lab/cb_and_cc/blob/master/cb/utils.py\r\n",
    "\r\n",
    "Ways to implement losses: as class, or objective function.\r\n",
    "See https://www.tensorflow.org/api_docs/python/tf/keras/Model#compile \r\n",
    "under \"loss\".\r\n",
    "\r\n",
    "Try to do obj f first?\r\n",
    "\r\n",
    "Loss repo: https://github.com/tensorflow/tensorflow/blob/v2.5.0/tensorflow/python/keras/losses.py#L175-L189 \r\n",
    "\r\n",
    "blog post about tensor shapes: \r\n",
    "https://blog.metaflow.fr/shapes-and-dynamic-dimensions-in-tensorflow-7b1fe79be363 \r\n",
    "\r\n",
    "maybe we should not have an extra dim in input? i.e (batch_size, 28, 28, 1)?\r\n",
    "\r\n",
    "TODO: create custom training step function in autoencoder class, where 'cb' can be input to specify the loss (cont. bern)\r\n",
    "\r\n",
    "https://stackoverflow.com/questions/58022713/tensorflow-2-0-custom-loss-function-with-multiple-inputs \r\n"
   ],
   "metadata": {}
  },
  {
   "cell_type": "code",
   "execution_count": 1,
   "source": [
    "import numpy as np\r\n",
    "import tensorflow as tf\r\n",
    "\r\n",
    "# a = tf.zeros((28, 28, 1))\r\n",
    "# print(a.shape)\r\n",
    "# print(tf.reshape(a, [-1]).shape)\r\n",
    "\r\n",
    "b = (28, 28, 1)\r\n",
    "print(tf.reduce_sum(b).numpy())"
   ],
   "outputs": [
    {
     "output_type": "stream",
     "name": "stdout",
     "text": [
      "57\n"
     ]
    }
   ],
   "metadata": {}
  },
  {
   "cell_type": "code",
   "execution_count": 2,
   "source": [
    "import importlib\r\n",
    "import autoencoder\r\n",
    "importlib.reload(autoencoder)\r\n",
    "from autoencoder import Autoencoder\r\n",
    "\r\n",
    "model = Autoencoder((28, 28, 1), latent_dim=32, model_type='cnn')\r\n",
    "img = tf.zeros((10, 28, 28, 1))\r\n",
    "print(model(img).shape)\r\n",
    "\r\n",
    "# We have to send in an input with a batch dimension when using call?"
   ],
   "outputs": [
    {
     "output_type": "error",
     "ename": "ImportError",
     "evalue": "cannot import name 'Autoencoder' from partially initialized module 'autoencoder' (most likely due to a circular import) (c:\\Users\\Lukas\\Desktop\\VSCode Project\\JL-ML\\JL-ML\\Autoencoder\\completed\\autoencoder.py)",
     "traceback": [
      "\u001b[1;31m---------------------------------------------------------------------------\u001b[0m",
      "\u001b[1;31mImportError\u001b[0m                               Traceback (most recent call last)",
      "\u001b[1;32m<ipython-input-2-dd0660cf3d8d>\u001b[0m in \u001b[0;36m<module>\u001b[1;34m\u001b[0m\n\u001b[0;32m      1\u001b[0m \u001b[1;32mimport\u001b[0m \u001b[0mimportlib\u001b[0m\u001b[1;33m\u001b[0m\u001b[1;33m\u001b[0m\u001b[0m\n\u001b[1;32m----> 2\u001b[1;33m \u001b[1;32mimport\u001b[0m \u001b[0mautoencoder\u001b[0m\u001b[1;33m\u001b[0m\u001b[1;33m\u001b[0m\u001b[0m\n\u001b[0m\u001b[0;32m      3\u001b[0m \u001b[0mimportlib\u001b[0m\u001b[1;33m.\u001b[0m\u001b[0mreload\u001b[0m\u001b[1;33m(\u001b[0m\u001b[0mautoencoder\u001b[0m\u001b[1;33m)\u001b[0m\u001b[1;33m\u001b[0m\u001b[1;33m\u001b[0m\u001b[0m\n\u001b[0;32m      4\u001b[0m \u001b[1;32mfrom\u001b[0m \u001b[0mautoencoder\u001b[0m \u001b[1;32mimport\u001b[0m \u001b[0mAutoencoder\u001b[0m\u001b[1;33m\u001b[0m\u001b[1;33m\u001b[0m\u001b[0m\n\u001b[0;32m      5\u001b[0m \u001b[1;33m\u001b[0m\u001b[0m\n",
      "\u001b[1;32mc:\\Users\\Lukas\\Desktop\\VSCode Project\\JL-ML\\JL-ML\\Autoencoder\\completed\\autoencoder.py\u001b[0m in \u001b[0;36m<module>\u001b[1;34m\u001b[0m\n\u001b[0;32m      7\u001b[0m \u001b[1;32mimport\u001b[0m \u001b[0mtensorflow\u001b[0m \u001b[1;32mas\u001b[0m \u001b[0mtf\u001b[0m\u001b[1;33m\u001b[0m\u001b[1;33m\u001b[0m\u001b[0m\n\u001b[0;32m      8\u001b[0m \u001b[1;32mfrom\u001b[0m \u001b[0mtensorflow\u001b[0m \u001b[1;32mimport\u001b[0m \u001b[0mkeras\u001b[0m\u001b[1;33m\u001b[0m\u001b[1;33m\u001b[0m\u001b[0m\n\u001b[1;32m----> 9\u001b[1;33m \u001b[1;32mimport\u001b[0m \u001b[0mautoencoder_models\u001b[0m \u001b[1;32mas\u001b[0m \u001b[0mae_models\u001b[0m\u001b[1;33m\u001b[0m\u001b[1;33m\u001b[0m\u001b[0m\n\u001b[0m\u001b[0;32m     10\u001b[0m \u001b[1;32mimport\u001b[0m \u001b[0mkeras\u001b[0m\u001b[1;33m\u001b[0m\u001b[1;33m\u001b[0m\u001b[0m\n\u001b[0;32m     11\u001b[0m \u001b[1;32mimport\u001b[0m \u001b[0mnumpy\u001b[0m \u001b[1;32mas\u001b[0m \u001b[0mnp\u001b[0m\u001b[1;33m\u001b[0m\u001b[1;33m\u001b[0m\u001b[0m\n",
      "\u001b[1;32mc:\\Users\\Lukas\\Desktop\\VSCode Project\\JL-ML\\JL-ML\\Autoencoder\\completed\\autoencoder_models.py\u001b[0m in \u001b[0;36m<module>\u001b[1;34m\u001b[0m\n\u001b[0;32m     15\u001b[0m \u001b[1;32mfrom\u001b[0m \u001b[0mtensorflow\u001b[0m \u001b[1;32mimport\u001b[0m \u001b[0mkeras\u001b[0m\u001b[1;33m\u001b[0m\u001b[1;33m\u001b[0m\u001b[0m\n\u001b[0;32m     16\u001b[0m \u001b[1;32mimport\u001b[0m \u001b[0mnumpy\u001b[0m \u001b[1;32mas\u001b[0m \u001b[0mnp\u001b[0m\u001b[1;33m\u001b[0m\u001b[1;33m\u001b[0m\u001b[0m\n\u001b[1;32m---> 17\u001b[1;33m \u001b[1;32mfrom\u001b[0m \u001b[0mautoencoder\u001b[0m \u001b[1;32mimport\u001b[0m \u001b[0mAutoencoder\u001b[0m\u001b[1;33m\u001b[0m\u001b[1;33m\u001b[0m\u001b[0m\n\u001b[0m\u001b[0;32m     18\u001b[0m \u001b[1;33m\u001b[0m\u001b[0m\n\u001b[0;32m     19\u001b[0m \u001b[1;31m# variational_autoencoder_utils\u001b[0m\u001b[1;33m\u001b[0m\u001b[1;33m\u001b[0m\u001b[1;33m\u001b[0m\u001b[0m\n",
      "\u001b[1;31mImportError\u001b[0m: cannot import name 'Autoencoder' from partially initialized module 'autoencoder' (most likely due to a circular import) (c:\\Users\\Lukas\\Desktop\\VSCode Project\\JL-ML\\JL-ML\\Autoencoder\\completed\\autoencoder.py)"
     ]
    }
   ],
   "metadata": {}
  },
  {
   "cell_type": "code",
   "execution_count": null,
   "source": [
    "from tensorflow.keras import losses\r\n",
    "import cb_loss as cb\r\n",
    "importlib.reload(cb)\r\n",
    "\r\n",
    "# Necessary for specifying optimizer, loss, etc.\r\n",
    "# model.compile(optimizer='adam', loss = losses.BinaryCrossentropy())\r\n",
    "loss_f = cb.cb_autoencoder_loss\r\n",
    "model.compile(optimizer='adam', loss = loss_f)\r\n"
   ],
   "outputs": [],
   "metadata": {}
  },
  {
   "cell_type": "code",
   "execution_count": 3,
   "source": [
    "from tensorflow.keras.datasets import mnist\r\n",
    "\r\n",
    "(x_train, y_train), (x_test, y_test) = mnist.load_data()\r\n",
    "\r\n",
    "x_train = x_train.astype('float32') / 255.\r\n",
    "x_test = x_test.astype('float32') / 255.\r\n",
    "\r\n",
    "print(x_train.shape)\r\n",
    "\r\n",
    "# Adding extra batch dimension?\r\n",
    "x_train = tf.expand_dims(x_train, -1)\r\n",
    "x_test = tf.expand_dims(x_test, -1)\r\n",
    "\r\n",
    "print(x_train.shape)\r\n",
    "print(x_test.shape)"
   ],
   "outputs": [
    {
     "output_type": "stream",
     "name": "stdout",
     "text": [
      "(60000, 28, 28)\n",
      "(60000, 28, 28, 1)\n",
      "(10000, 28, 28, 1)\n"
     ]
    }
   ],
   "metadata": {}
  },
  {
   "cell_type": "code",
   "execution_count": 19,
   "source": [
    "print(x_test.shape)\r\n",
    "rank = tf.rank(x_test).numpy()\r\n",
    "axes_to_reduce = [dim for dim in range(1, tf.rank(x_test))]\r\n",
    "x_test_reduced = tf.reduce_sum(x_test, axis=axes_to_reduce)\r\n",
    "\r\n",
    "print(x_test_reduced.shape)"
   ],
   "outputs": [
    {
     "output_type": "stream",
     "name": "stdout",
     "text": [
      "(10000, 28, 28, 1)\n",
      "(10000,)\n"
     ]
    }
   ],
   "metadata": {}
  },
  {
   "cell_type": "code",
   "execution_count": 86,
   "source": [
    "history = model.fit(x_train, x_train,\r\n",
    "                epochs=5,\r\n",
    "                batch_size=64,\r\n",
    "                shuffle=False,\r\n",
    "                validation_data=(x_test, x_test))"
   ],
   "outputs": [
    {
     "output_type": "stream",
     "name": "stdout",
     "text": [
      "Epoch 1/5\n",
      "938/938 [==============================] - 44s 45ms/step - loss: -1329.2646 - val_loss: -1528.2133\n",
      "Epoch 2/5\n",
      "938/938 [==============================] - 44s 47ms/step - loss: -1546.7241 - val_loss: -1553.9951\n",
      "Epoch 3/5\n",
      "938/938 [==============================] - 44s 47ms/step - loss: -1559.8589 - val_loss: -1561.4255\n",
      "Epoch 4/5\n",
      "938/938 [==============================] - 44s 47ms/step - loss: -1564.8799 - val_loss: -1564.3606\n",
      "Epoch 5/5\n",
      "938/938 [==============================] - 44s 47ms/step - loss: -1567.7605 - val_loss: -1566.9915\n"
     ]
    }
   ],
   "metadata": {}
  },
  {
   "cell_type": "code",
   "execution_count": 87,
   "source": [
    "import matplotlib.pyplot as plt\r\n",
    "\r\n",
    "encoded_imgs = model.encoder(x_test).numpy()\r\n",
    "decoded_imgs = model.decoder(encoded_imgs).numpy()\r\n",
    "\r\n",
    "n = 10\r\n",
    "plt.figure(figsize=(20, 4)) # Specifies window width / height\r\n",
    "for i in range(n):\r\n",
    "    # original\r\n",
    "    ax = plt.subplot(2, n, i + 1)\r\n",
    "    plt.imshow(x_test[i+10])\r\n",
    "    plt.title(\"original\")\r\n",
    "    # plt.gray()\r\n",
    "    ax.get_xaxis().set_visible(False)\r\n",
    "    ax.get_yaxis().set_visible(False)\r\n",
    "\r\n",
    "    # reconstructed\r\n",
    "    ax = plt.subplot(2, n, i + 1 + n)\r\n",
    "    plt.imshow(decoded_imgs[i+10])\r\n",
    "    plt.title(\"reconstructed\")\r\n",
    "    # plt.gray()\r\n",
    "    ax.get_xaxis().set_visible(False)\r\n",
    "    ax.get_yaxis().set_visible(False)"
   ],
   "outputs": [
    {
     "output_type": "display_data",
     "data": {
      "text/plain": [
       "<Figure size 1440x288 with 20 Axes>"
      ],
      "image/png": "[encoded data removed]"
     },
     "metadata": {
      "needs_background": "light"
     }
    }
   ],
   "metadata": {}
  }
 ],
 "metadata": {
  "interpreter": {
   "hash": "10c6c8cad202d7ee51bc7961bfc37945821ae3549d3f348bb253c9e77d2d1763"
  },
  "kernelspec": {
   "name": "python3",
   "display_name": "Python 3.8.10 64-bit ('JL-ML': conda)"
  },
  "language_info": {
   "codemirror_mode": {
    "name": "ipython",
    "version": 3
   },
   "file_extension": ".py",
   "mimetype": "text/x-python",
   "name": "python",
   "nbconvert_exporter": "python",
   "pygments_lexer": "ipython3",
   "version": "3.8.10"
  },
  "orig_nbformat": 4
 },
 "nbformat": 4,
 "nbformat_minor": 2
}