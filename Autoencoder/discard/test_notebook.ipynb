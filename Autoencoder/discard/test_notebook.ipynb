{
 "cells": [
  {
   "cell_type": "markdown",
   "source": [
    "CB Loss paper: https://papers.nips.cc/paper/2019/file/f82798ec8909d23e55679ee26bb26437-Paper.pdf \r\n",
    "w code: https://github.com/cunningham-lab/cb_and_cc/blob/master/cb/utils.py\r\n",
    "\r\n",
    "Ways to implement losses: as class, or objective function.\r\n",
    "See https://www.tensorflow.org/api_docs/python/tf/keras/Model#compile \r\n",
    "under \"loss\".\r\n",
    "\r\n",
    "Try to do obj f first?\r\n",
    "\r\n",
    "Loss repo: https://github.com/tensorflow/tensorflow/blob/v2.5.0/tensorflow/python/keras/losses.py#L175-L189 \r\n",
    "\r\n",
    "blog post about tensor shapes: \r\n",
    "https://blog.metaflow.fr/shapes-and-dynamic-dimensions-in-tensorflow-7b1fe79be363 \r\n",
    "\r\n",
    "maybe we should not have an extra dim in input? i.e (batch_size, 28, 28, 1)?\r\n",
    "\r\n",
    "TODO: create custom training step function in autoencoder class, where 'cb' can be input to specify the loss (cont. bern)\r\n",
    "\r\n",
    "https://stackoverflow.com/questions/58022713/tensorflow-2-0-custom-loss-function-with-multiple-inputs \r\n"
   ],
   "metadata": {}
  },
  {
   "cell_type": "code",
   "execution_count": 1,
   "source": [
    "import numpy as np\r\n",
    "import tensorflow as tf\r\n",
    "\r\n",
    "# a = tf.zeros((28, 28, 1))\r\n",
    "# print(a.shape)\r\n",
    "# print(tf.reshape(a, [-1]).shape)\r\n",
    "\r\n",
    "b = (28, 28, 1)\r\n",
    "print(tf.reduce_sum(b).numpy())"
   ],
   "outputs": [
    {
     "output_type": "stream",
     "name": "stdout",
     "text": [
      "57\n"
     ]
    }
   ],
   "metadata": {}
  },
  {
   "cell_type": "code",
   "execution_count": null,
   "source": [
    "import importlib\r\n",
    "import autoencoder\r\n",
    "importlib.reload(autoencoder)\r\n",
    "from autoencoder import Autoencoder\r\n",
    "\r\n",
    "model = Autoencoder((28, 28, 1), latent_dim=32, model_type='cnn')\r\n",
    "img = tf.zeros((10, 28, 28, 1))\r\n",
    "print(model(img).shape)\r\n",
    "\r\n",
    "# We have to send in an input with a batch dimension when using call?"
   ],
   "outputs": [],
   "metadata": {}
  },
  {
   "cell_type": "code",
   "execution_count": null,
   "source": [
    "from tensorflow.keras import losses\r\n",
    "import cb_loss as cb\r\n",
    "importlib.reload(cb)\r\n",
    "\r\n",
    "# Necessary for specifying optimizer, loss, etc.\r\n",
    "# model.compile(optimizer='adam', loss = losses.BinaryCrossentropy())\r\n",
    "loss_f = cb.cb_autoencoder_loss\r\n",
    "model.compile(optimizer='adam', loss = loss_f)\r\n"
   ],
   "outputs": [],
   "metadata": {}
  },
  {
   "cell_type": "code",
   "execution_count": 2,
   "source": [
    "from tensorflow.keras.datasets import mnist\r\n",
    "\r\n",
    "(x_train, y_train), (x_test, y_test) = mnist.load_data()\r\n",
    "\r\n",
    "x_train = x_train.astype('float32') / 255.\r\n",
    "x_test = x_test.astype('float32') / 255.\r\n",
    "\r\n",
    "print(x_train.shape)\r\n",
    "\r\n",
    "# Adding extra batch dimension?\r\n",
    "x_train = tf.expand_dims(x_train, -1)\r\n",
    "x_test = tf.expand_dims(x_test, -1)\r\n",
    "\r\n",
    "print(x_train.shape)\r\n",
    "print(x_test.shape)"
   ],
   "outputs": [
    {
     "output_type": "stream",
     "name": "stdout",
     "text": [
      "(60000, 28, 28)\n",
      "(60000, 28, 28, 1)\n",
      "(10000, 28, 28, 1)\n"
     ]
    }
   ],
   "metadata": {}
  },
  {
   "cell_type": "code",
   "execution_count": 9,
   "source": [
    "import importlib\r\n",
    "import cb_loss\r\n",
    "importlib.reload(cb_loss)\r\n",
    "\r\n",
    "# cb_loss.cb_autoencoder_loss(x_test, x_test)\r\n",
    "\r\n",
    "cb_loss.reconstruction_loss(x_test[0], x_train[0])"
   ],
   "outputs": [
    {
     "output_type": "execute_result",
     "data": {
      "text/plain": [
       "<tf.Tensor: shape=(), dtype=float32, numpy=nan>"
      ]
     },
     "metadata": {},
     "execution_count": 9
    }
   ],
   "metadata": {}
  },
  {
   "cell_type": "code",
   "execution_count": null,
   "source": [
    "history = model.fit(x_train, x_train,\r\n",
    "                epochs=5,\r\n",
    "                batch_size=64,\r\n",
    "                shuffle=False,\r\n",
    "                validation_data=(x_test, x_test))"
   ],
   "outputs": [],
   "metadata": {}
  },
  {
   "cell_type": "code",
   "execution_count": null,
   "source": [
    "import matplotlib.pyplot as plt\r\n",
    "\r\n",
    "encoded_imgs = model.encoder(x_test).numpy()\r\n",
    "decoded_imgs = model.decoder(encoded_imgs).numpy()\r\n",
    "\r\n",
    "n = 10\r\n",
    "plt.figure(figsize=(20, 4)) # Specifies window width / height\r\n",
    "for i in range(n):\r\n",
    "    # original\r\n",
    "    ax = plt.subplot(2, n, i + 1)\r\n",
    "    plt.imshow(x_test[i+10])\r\n",
    "    plt.title(\"original\")\r\n",
    "    # plt.gray()\r\n",
    "    ax.get_xaxis().set_visible(False)\r\n",
    "    ax.get_yaxis().set_visible(False)\r\n",
    "\r\n",
    "    # reconstructed\r\n",
    "    ax = plt.subplot(2, n, i + 1 + n)\r\n",
    "    plt.imshow(decoded_imgs[i+10])\r\n",
    "    plt.title(\"reconstructed\")\r\n",
    "    # plt.gray()\r\n",
    "    ax.get_xaxis().set_visible(False)\r\n",
    "    ax.get_yaxis().set_visible(False)"
   ],
   "outputs": [],
   "metadata": {}
  }
 ],
 "metadata": {
  "interpreter": {
   "hash": "10c6c8cad202d7ee51bc7961bfc37945821ae3549d3f348bb253c9e77d2d1763"
  },
  "kernelspec": {
   "name": "python3",
   "display_name": "Python 3.8.10 64-bit ('JL-ML': conda)"
  },
  "language_info": {
   "codemirror_mode": {
    "name": "ipython",
    "version": 3
   },
   "file_extension": ".py",
   "mimetype": "text/x-python",
   "name": "python",
   "nbconvert_exporter": "python",
   "pygments_lexer": "ipython3",
   "version": "3.8.10"
  },
  "orig_nbformat": 4
 },
 "nbformat": 4,
 "nbformat_minor": 2
}