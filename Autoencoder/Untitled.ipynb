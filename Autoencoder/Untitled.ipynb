{
 "cells": [
  {
   "cell_type": "code",
   "execution_count": 1,
   "id": "4c42b85c",
   "metadata": {},
   "outputs": [
    {
     "name": "stdout",
     "output_type": "stream",
     "text": [
      "Using matplotlib backend: Qt5Agg\n"
     ]
    }
   ],
   "source": [
    "%matplotlib\n",
    "import tensorflow as tf\n",
    "from tensorflow import keras\n",
    "import numpy as np\n",
    "import matplotlib.pyplot as plt\n",
    "import tensorflow.keras.datasets.mnist as mnist\n",
    "from autoencoders import init_linear_autoencoder, init_dense_autoencoder\n",
    "from numpy import random as rnd"
   ]
  },
  {
   "cell_type": "code",
   "execution_count": 12,
   "id": "fc403939",
   "metadata": {},
   "outputs": [],
   "source": [
    "(x_train, y_train),(x_test, y_test) = mnist.load_data()\n",
    "x_train = x_train /255.\n",
    "x_test  = x_test /255.\n",
    "input_shape = x_train.shape[1:]\n",
    "num_train  = x_train.shape[0]\n",
    "num_test   = x_test.shape[0]\n",
    "img_width  = x_train.shape[1]\n",
    "img_height = x_train.shape[2]\n",
    "\n",
    "latent_shape = (32,)"
   ]
  },
  {
   "cell_type": "code",
   "execution_count": 13,
   "id": "9e43d912",
   "metadata": {
    "scrolled": true
   },
   "outputs": [
    {
     "name": "stdout",
     "output_type": "stream",
     "text": [
      "Model: \"model_6\"\n",
      "_________________________________________________________________\n",
      "Layer (type)                 Output Shape              Param #   \n",
      "=================================================================\n",
      "input_5 (InputLayer)         [(None, 28, 28)]          0         \n",
      "_________________________________________________________________\n",
      "flatten_4 (Flatten)          (None, 784)               0         \n",
      "_________________________________________________________________\n",
      "dense_4 (Dense)              (None, 32)                25120     \n",
      "_________________________________________________________________\n",
      "reshape_4 (Reshape)          (None, 32)                0         \n",
      "=================================================================\n",
      "Total params: 25,120\n",
      "Trainable params: 25,120\n",
      "Non-trainable params: 0\n",
      "_________________________________________________________________\n",
      "Model: \"model_7\"\n",
      "_________________________________________________________________\n",
      "Layer (type)                 Output Shape              Param #   \n",
      "=================================================================\n",
      "input_6 (InputLayer)         [(None, 32)]              0         \n",
      "_________________________________________________________________\n",
      "flatten_5 (Flatten)          (None, 32)                0         \n",
      "_________________________________________________________________\n",
      "dense_5 (Dense)              (None, 784)               25872     \n",
      "_________________________________________________________________\n",
      "reshape_5 (Reshape)          (None, 28, 28)            0         \n",
      "=================================================================\n",
      "Total params: 25,872\n",
      "Trainable params: 25,872\n",
      "Non-trainable params: 0\n",
      "_________________________________________________________________\n",
      "Model: \"model_9\"\n",
      "_________________________________________________________________\n",
      "Layer (type)                 Output Shape              Param #   \n",
      "=================================================================\n",
      "input_7 (InputLayer)         [(None, 28, 28)]          0         \n",
      "_________________________________________________________________\n",
      "flatten_6 (Flatten)          (None, 784)               0         \n",
      "_________________________________________________________________\n",
      "dense_6 (Dense)              (None, 32)                25120     \n",
      "_________________________________________________________________\n",
      "reshape_6 (Reshape)          (None, 32)                0         \n",
      "=================================================================\n",
      "Total params: 25,120\n",
      "Trainable params: 25,120\n",
      "Non-trainable params: 0\n",
      "_________________________________________________________________\n",
      "Model: \"model_10\"\n",
      "_________________________________________________________________\n",
      "Layer (type)                 Output Shape              Param #   \n",
      "=================================================================\n",
      "input_8 (InputLayer)         [(None, 32)]              0         \n",
      "_________________________________________________________________\n",
      "flatten_7 (Flatten)          (None, 32)                0         \n",
      "_________________________________________________________________\n",
      "dense_7 (Dense)              (None, 784)               25872     \n",
      "_________________________________________________________________\n",
      "reshape_7 (Reshape)          (None, 28, 28)            0         \n",
      "=================================================================\n",
      "Total params: 25,872\n",
      "Trainable params: 25,872\n",
      "Non-trainable params: 0\n",
      "_________________________________________________________________\n"
     ]
    }
   ],
   "source": [
    "lin_auto, lin_enco, lin_deco = init_linear_autoencoder(latent_shape, input_shape)\n",
    "dens_auto, dens_enco, dens_deco = init_dense_autoencoder(latent_shape, input_shape)\n"
   ]
  },
  {
   "cell_type": "code",
   "execution_count": 14,
   "id": "dba0cb64",
   "metadata": {},
   "outputs": [],
   "source": [
    "lin_auto.compile(optimizer = 'adam', loss = 'binary_crossentropy')\n",
    "dens_auto.compile(optimizer = 'adam', loss = 'MSE')"
   ]
  },
  {
   "cell_type": "code",
   "execution_count": null,
   "id": "d75db610",
   "metadata": {},
   "outputs": [
    {
     "name": "stdout",
     "output_type": "stream",
     "text": [
      "Epoch 1/10\n",
      "235/235 [==============================] - 4s 12ms/step - loss: 0.0944 - val_loss: 0.0709\n",
      "Epoch 2/10\n",
      "235/235 [==============================] - 3s 11ms/step - loss: 0.0702 - val_loss: 0.0675\n",
      "Epoch 3/10\n",
      "235/235 [==============================] - 2s 10ms/step - loss: 0.0674 - val_loss: 0.0659\n",
      "Epoch 4/10\n",
      "235/235 [==============================] - 3s 11ms/step - loss: 0.0659 - val_loss: 0.0662\n",
      "Epoch 5/10\n",
      "235/235 [==============================] - 3s 12ms/step - loss: 0.0656 - val_loss: 0.0642\n",
      "Epoch 6/10\n",
      " 62/235 [======>.......................] - ETA: 1s - loss: 0.0644"
     ]
    }
   ],
   "source": [
    "lin_hist = lin_auto.fit(x_train, x_train, epochs = 10, batch_size = 256, validation_data = (x_test,x_test), shuffle = True)"
   ]
  },
  {
   "cell_type": "code",
   "execution_count": 15,
   "id": "1c347fa7",
   "metadata": {},
   "outputs": [
    {
     "name": "stdout",
     "output_type": "stream",
     "text": [
      "Epoch 1/50\n",
      "235/235 [==============================] - 3s 10ms/step - loss: 0.1078 - val_loss: 0.0422\n",
      "Epoch 2/50\n",
      "235/235 [==============================] - 2s 7ms/step - loss: 0.0389 - val_loss: 0.0295\n",
      "Epoch 3/50\n",
      "235/235 [==============================] - 2s 7ms/step - loss: 0.0279 - val_loss: 0.0229\n",
      "Epoch 4/50\n",
      "235/235 [==============================] - 2s 7ms/step - loss: 0.0223 - val_loss: 0.0192\n",
      "Epoch 5/50\n",
      "235/235 [==============================] - 2s 7ms/step - loss: 0.0189 - val_loss: 0.0166\n",
      "Epoch 6/50\n",
      "235/235 [==============================] - 2s 7ms/step - loss: 0.0166 - val_loss: 0.0148\n",
      "Epoch 7/50\n",
      "235/235 [==============================] - 2s 7ms/step - loss: 0.0148 - val_loss: 0.0135\n",
      "Epoch 8/50\n",
      "235/235 [==============================] - 2s 7ms/step - loss: 0.0137 - val_loss: 0.0126\n",
      "Epoch 9/50\n",
      "235/235 [==============================] - 2s 7ms/step - loss: 0.0127 - val_loss: 0.0119\n",
      "Epoch 10/50\n",
      "235/235 [==============================] - 2s 7ms/step - loss: 0.0121 - val_loss: 0.0114\n",
      "Epoch 11/50\n",
      "235/235 [==============================] - 2s 7ms/step - loss: 0.0117 - val_loss: 0.0111\n",
      "Epoch 12/50\n",
      "235/235 [==============================] - 2s 7ms/step - loss: 0.0114 - val_loss: 0.0109\n",
      "Epoch 13/50\n",
      "235/235 [==============================] - 2s 7ms/step - loss: 0.0112 - val_loss: 0.0107\n",
      "Epoch 14/50\n",
      "235/235 [==============================] - 2s 7ms/step - loss: 0.0111 - val_loss: 0.0106\n",
      "Epoch 15/50\n",
      "235/235 [==============================] - 2s 7ms/step - loss: 0.0110 - val_loss: 0.0105\n",
      "Epoch 16/50\n",
      "235/235 [==============================] - 2s 7ms/step - loss: 0.0109 - val_loss: 0.0105\n",
      "Epoch 17/50\n",
      "235/235 [==============================] - 1s 6ms/step - loss: 0.0108 - val_loss: 0.0104\n",
      "Epoch 18/50\n",
      "235/235 [==============================] - 2s 7ms/step - loss: 0.0108 - val_loss: 0.0104\n",
      "Epoch 19/50\n",
      "235/235 [==============================] - 2s 7ms/step - loss: 0.0107 - val_loss: 0.0103\n",
      "Epoch 20/50\n",
      "235/235 [==============================] - 1s 6ms/step - loss: 0.0107 - val_loss: 0.0103\n",
      "Epoch 21/50\n",
      "235/235 [==============================] - 2s 7ms/step - loss: 0.0107 - val_loss: 0.0103\n",
      "Epoch 22/50\n",
      "235/235 [==============================] - 2s 7ms/step - loss: 0.0107 - val_loss: 0.0102\n",
      "Epoch 23/50\n",
      "235/235 [==============================] - 2s 7ms/step - loss: 0.0106 - val_loss: 0.0102\n",
      "Epoch 24/50\n",
      "235/235 [==============================] - 1s 6ms/step - loss: 0.0106 - val_loss: 0.0102\n",
      "Epoch 25/50\n",
      "235/235 [==============================] - 1s 6ms/step - loss: 0.0106 - val_loss: 0.0102\n",
      "Epoch 26/50\n",
      "235/235 [==============================] - 1s 6ms/step - loss: 0.0105 - val_loss: 0.0102\n",
      "Epoch 27/50\n",
      "235/235 [==============================] - 2s 9ms/step - loss: 0.0105 - val_loss: 0.0102\n",
      "Epoch 28/50\n",
      "235/235 [==============================] - 2s 8ms/step - loss: 0.0105 - val_loss: 0.0101\n",
      "Epoch 29/50\n",
      "235/235 [==============================] - 2s 8ms/step - loss: 0.0105 - val_loss: 0.0101\n",
      "Epoch 30/50\n",
      "235/235 [==============================] - 2s 8ms/step - loss: 0.0104 - val_loss: 0.0101\n",
      "Epoch 31/50\n",
      "235/235 [==============================] - 2s 8ms/step - loss: 0.0104 - val_loss: 0.0101\n",
      "Epoch 32/50\n",
      "235/235 [==============================] - 2s 8ms/step - loss: 0.0104 - val_loss: 0.0101\n",
      "Epoch 33/50\n",
      "235/235 [==============================] - 2s 9ms/step - loss: 0.0104 - val_loss: 0.0101\n",
      "Epoch 34/50\n",
      "235/235 [==============================] - 2s 7ms/step - loss: 0.0104 - val_loss: 0.0101\n",
      "Epoch 35/50\n",
      "235/235 [==============================] - 1s 6ms/step - loss: 0.0104 - val_loss: 0.0100\n",
      "Epoch 36/50\n",
      "235/235 [==============================] - 1s 6ms/step - loss: 0.0104 - val_loss: 0.0101\n",
      "Epoch 37/50\n",
      "235/235 [==============================] - 1s 6ms/step - loss: 0.0104 - val_loss: 0.0100\n",
      "Epoch 38/50\n",
      "235/235 [==============================] - 1s 6ms/step - loss: 0.0104 - val_loss: 0.0101\n",
      "Epoch 39/50\n",
      "235/235 [==============================] - 1s 6ms/step - loss: 0.0103 - val_loss: 0.0100\n",
      "Epoch 40/50\n",
      "235/235 [==============================] - 2s 7ms/step - loss: 0.0103 - val_loss: 0.0100\n",
      "Epoch 41/50\n",
      "235/235 [==============================] - 2s 7ms/step - loss: 0.0103 - val_loss: 0.0100\n",
      "Epoch 42/50\n",
      "235/235 [==============================] - 2s 7ms/step - loss: 0.0104 - val_loss: 0.0100\n",
      "Epoch 43/50\n",
      "235/235 [==============================] - 1s 6ms/step - loss: 0.0103 - val_loss: 0.0100\n",
      "Epoch 44/50\n",
      "235/235 [==============================] - 2s 7ms/step - loss: 0.0103 - val_loss: 0.0100\n",
      "Epoch 45/50\n",
      "235/235 [==============================] - 2s 7ms/step - loss: 0.0102 - val_loss: 0.0100\n",
      "Epoch 46/50\n",
      "235/235 [==============================] - 2s 9ms/step - loss: 0.0103 - val_loss: 0.0100\n",
      "Epoch 47/50\n",
      "235/235 [==============================] - 2s 8ms/step - loss: 0.0103 - val_loss: 0.0100\n",
      "Epoch 48/50\n",
      "235/235 [==============================] - 2s 7ms/step - loss: 0.0103 - val_loss: 0.0100\n",
      "Epoch 49/50\n",
      "235/235 [==============================] - 2s 7ms/step - loss: 0.0103 - val_loss: 0.0100\n",
      "Epoch 50/50\n",
      "235/235 [==============================] - 2s 7ms/step - loss: 0.0102 - val_loss: 0.0100\n"
     ]
    }
   ],
   "source": [
    "dens_hist = dens_auto.fit(x_train, x_train, epochs = 50, batch_size = 256, validation_data = (x_test,x_test), shuffle = True)"
   ]
  },
  {
   "cell_type": "code",
   "execution_count": 16,
   "id": "afb8a2db",
   "metadata": {},
   "outputs": [],
   "source": [
    "lin_x = lin_auto.predict(x_train)\n",
    "dens_x = dens_auto.predict(x_train)"
   ]
  },
  {
   "cell_type": "code",
   "execution_count": 7,
   "id": "89485c6f",
   "metadata": {},
   "outputs": [],
   "source": [
    "\"\"\" Display linear results \"\"\"\n",
    "N = 4\n",
    "rnd_i = rnd.permutation(x_train.shape[0])[0:N]\n",
    "fig, axs = plt.subplots(2, N)\n",
    "for i in range(N):\n",
    "    axs[0,i].imshow(lin_x[rnd_i[i]],vmin = 0, vmax = 1.0)\n",
    "    axs[0,i].set_title(\"Number is \" + str(y_train[rnd_i[i]]))\n",
    "    axs[1,i].imshow(x_train[rnd_i[i]],vmin = 0, vmax = 1.0)\n",
    "    axs[1,i].set_title(\"Number is \" + str(y_train[rnd_i[i]]))"
   ]
  },
  {
   "cell_type": "code",
   "execution_count": 17,
   "id": "f022a30b",
   "metadata": {},
   "outputs": [],
   "source": [
    "\"\"\" Display dense results \"\"\"\n",
    "N = 4\n",
    "rnd_i = rnd.permutation(x_train.shape[0])[0:N]\n",
    "fig, axs = plt.subplots(2, N)\n",
    "for i in range(N):\n",
    "    axs[0,i].imshow(dens_x[rnd_i[i]],vmin = 0, vmax = 1.0)\n",
    "    axs[0,i].set_title(\"Number is \" + str(y_train[rnd_i[i]]))\n",
    "    axs[1,i].imshow(x_train[rnd_i[i]],vmin = 0, vmax = 1.0)\n",
    "    axs[1,i].set_title(\"Number is \" + str(y_train[rnd_i[i]]))"
   ]
  },
  {
   "cell_type": "code",
   "execution_count": 28,
   "id": "b8d94089",
   "metadata": {},
   "outputs": [],
   "source": [
    "lin_latent = lin_enco.predict(x_train)\n",
    "dens_latent = dens_enco.predict(x_train[y_train ==4])"
   ]
  },
  {
   "cell_type": "code",
   "execution_count": 29,
   "id": "d5d15c0e",
   "metadata": {},
   "outputs": [],
   "source": [
    "from sklearn.decomposition import PCA\n",
    "from sklearn.preprocessing import normalize"
   ]
  },
  {
   "cell_type": "code",
   "execution_count": 30,
   "id": "3285b8f3",
   "metadata": {},
   "outputs": [
    {
     "data": {
      "text/plain": [
       "(5842, 32)"
      ]
     },
     "execution_count": 30,
     "metadata": {},
     "output_type": "execute_result"
    }
   ],
   "source": [
    "dens_latent.shape\n"
   ]
  },
  {
   "cell_type": "code",
   "execution_count": 31,
   "id": "299c3104",
   "metadata": {},
   "outputs": [
    {
     "data": {
      "text/plain": [
       "(32,)"
      ]
     },
     "execution_count": 31,
     "metadata": {},
     "output_type": "execute_result"
    }
   ],
   "source": [
    "vv = normalize(PCA(2).fit_transform(dens_latent.T), axis = 0)\n",
    "dens_mean = np.mean(dens_latent, axis = 0)\n",
    "dens_mean.shape"
   ]
  },
  {
   "cell_type": "code",
   "execution_count": 16,
   "id": "906a4000",
   "metadata": {},
   "outputs": [],
   "source": [
    "plt.imshow(dens_latent,aspect='auto')\n",
    "plt.colorbar()\n",
    "plt.ion()"
   ]
  },
  {
   "cell_type": "code",
   "execution_count": 11,
   "id": "2bb0acea",
   "metadata": {},
   "outputs": [
    {
     "data": {
      "text/plain": [
       "0.19105611215508309"
      ]
     },
     "execution_count": 11,
     "metadata": {},
     "output_type": "execute_result"
    }
   ],
   "source": [
    "np.max(x_train[rnd_i[i]])"
   ]
  },
  {
   "cell_type": "code",
   "execution_count": 32,
   "id": "44a52c1d",
   "metadata": {},
   "outputs": [],
   "source": [
    "class LatentDigit:\n",
    "    def __init__(self, model, fig,\n",
    "                              latent_boundary = (-1., 1., -1., 1.),\n",
    "                              latent_shape = (2,),\n",
    "                              latent_vectors = np.array([[1,0],[0,1]]),\n",
    "                              original_point = np.nan):\n",
    "        \n",
    "        self.original_point = np.zeros(latent_shape) if np.any(np.isnan(original_point)) else original_point\n",
    "        self.latent_point = self.original_point\n",
    "        self.component_point = np.zeros((2,))\n",
    "        self.latent_shape = latent_shape\n",
    "        self.latent_vectors = latent_vectors\n",
    "        self.model = model\n",
    "        self.image = self.model.predict(np.array([self.latent_point]))[0]\n",
    "        \n",
    "        self.fig = fig\n",
    "        self.fig.subplots(1,2)\n",
    "        self.latent_boundary = latent_boundary\n",
    "        self.setup_latent_space()\n",
    "        \n",
    "        self.click_tol = 0.05\n",
    "        self.draw()\n",
    "        self.fig.canvas.mpl_connect('button_press_event'  , self.button_press_callback)\n",
    "        self.fig.canvas.mpl_connect('motion_notify_event' ,self.motion_notify_callback)\n",
    "        self.fig.canvas.mpl_connect('button_release_event', self.button_release_callback)\n",
    "        self.fig.canvas.mpl_connect('key_press_event', self.key_press_callback)\n",
    "        self.point_selected = False        \n",
    "    \n",
    "    def setup_latent_space(self):\n",
    "        self.fig.axes[0].set_xlim(self.latent_boundary[0], self.latent_boundary[1])\n",
    "        self.fig.axes[0].set_ylim(self.latent_boundary[2], self.latent_boundary[3])       \n",
    "        \n",
    "    \n",
    "    def draw(self):\n",
    "        self.fig.axes[0].cla()\n",
    "        self.setup_latent_space()\n",
    "        self.fig.axes[0].scatter(self.component_point[0], self.component_point[1])\n",
    "        self.fig.axes[1].imshow(self.image,vmin = 0, vmax = 1.0)\n",
    "        self.fig.canvas.draw_idle()\n",
    "    \n",
    "    def button_press_callback(self, event):\n",
    "        self.update_point_select(event)\n",
    "    \n",
    "    def update_point_select(self, event):\n",
    "        click_point = np.array([event.xdata, event.ydata])\n",
    "        dist = np.linalg.norm(click_point-self.component_point)\n",
    "        self.point_selected =  dist < self.click_tol\n",
    "    \n",
    "    def motion_notify_callback(self, event):\n",
    "        if not self.point_selected: return\n",
    "        self.update_point(event)\n",
    "        self.update_digit()\n",
    "        self.draw()\n",
    "    \n",
    "    def button_release_callback(self, event):\n",
    "        self.point_selected = False\n",
    "    \n",
    "    def update_point(self, event):\n",
    "        self.component_point = np.array([event.xdata, event.ydata])\n",
    "\n",
    "    def update_digit(self):\n",
    "        self.latent_point = self.original_point+ self.latent_vectors@self.component_point\n",
    "        self.image = self.model.predict(np.array([self.latent_point]))[0]\n",
    "    def key_press_callback(self, event):\n",
    "        if not event.key == \" \": return\n",
    "        self.update_point(event)\n",
    "        self.update_digit()\n",
    "        self.draw()\n",
    "\n"
   ]
  },
  {
   "cell_type": "code",
   "execution_count": 34,
   "id": "66afa027",
   "metadata": {},
   "outputs": [],
   "source": [
    "ld = LatentDigit(dens_deco, plt.figure(), latent_shape = latent_shape,latent_boundary = (-10., 10., -10., 10.),  latent_vectors = vv, original_point = dens_mean)"
   ]
  },
  {
   "cell_type": "code",
   "execution_count": 71,
   "id": "c535065b",
   "metadata": {},
   "outputs": [
    {
     "data": {
      "text/plain": [
       "array([0.19989485, 0.08612621, 0.20631026, 0.1652254 , 0.1744605 ,\n",
       "       0.14679769, 0.62257195, 0.10897823, 0.35317123, 0.18604484],\n",
       "      dtype=float32)"
      ]
     },
     "execution_count": 71,
     "metadata": {},
     "output_type": "execute_result"
    }
   ],
   "source": [
    "dens_latent[0]"
   ]
  },
  {
   "cell_type": "code",
   "execution_count": null,
   "id": "361ffe76",
   "metadata": {},
   "outputs": [],
   "source": []
  },
  {
   "cell_type": "code",
   "execution_count": null,
   "id": "a2da9ae3",
   "metadata": {},
   "outputs": [],
   "source": []
  },
  {
   "cell_type": "code",
   "execution_count": null,
   "id": "4573d664",
   "metadata": {},
   "outputs": [],
   "source": []
  }
 ],
 "metadata": {
  "kernelspec": {
   "display_name": "Python 3",
   "language": "python",
   "name": "python3"
  },
  "language_info": {
   "codemirror_mode": {
    "name": "ipython",
    "version": 3
   },
   "file_extension": ".py",
   "mimetype": "text/x-python",
   "name": "python",
   "nbconvert_exporter": "python",
   "pygments_lexer": "ipython3",
   "version": "3.8.8"
  }
 },
 "nbformat": 4,
 "nbformat_minor": 5
}
